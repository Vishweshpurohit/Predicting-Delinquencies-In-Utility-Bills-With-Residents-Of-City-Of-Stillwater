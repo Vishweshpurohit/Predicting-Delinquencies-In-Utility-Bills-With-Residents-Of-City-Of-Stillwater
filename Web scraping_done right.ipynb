{
 "cells": [
  {
   "cell_type": "code",
   "execution_count": 127,
   "metadata": {
    "scrolled": true
   },
   "outputs": [
    {
     "data": {
      "text/html": [
       "<div>\n",
       "<style scoped>\n",
       "    .dataframe tbody tr th:only-of-type {\n",
       "        vertical-align: middle;\n",
       "    }\n",
       "\n",
       "    .dataframe tbody tr th {\n",
       "        vertical-align: top;\n",
       "    }\n",
       "\n",
       "    .dataframe thead th {\n",
       "        text-align: right;\n",
       "    }\n",
       "</style>\n",
       "<table border=\"1\" class=\"dataframe\">\n",
       "  <thead>\n",
       "    <tr style=\"text-align: right;\">\n",
       "      <th></th>\n",
       "      <th>full_address</th>\n",
       "    </tr>\n",
       "  </thead>\n",
       "  <tbody>\n",
       "    <tr>\n",
       "      <th>0</th>\n",
       "      <td>2409 POSSE TRAIL Stillwater OK 74074</td>\n",
       "    </tr>\n",
       "    <tr>\n",
       "      <th>1</th>\n",
       "      <td>2410 N NORTH STAR DR Stillwater OK 74074</td>\n",
       "    </tr>\n",
       "    <tr>\n",
       "      <th>2</th>\n",
       "      <td>2410 N PARK DR Stillwater OK 74074</td>\n",
       "    </tr>\n",
       "    <tr>\n",
       "      <th>3</th>\n",
       "      <td>2410 S TEAL ST Stillwater OK 74074</td>\n",
       "    </tr>\n",
       "    <tr>\n",
       "      <th>4</th>\n",
       "      <td>2411 N GLENWOOD DR Stillwater OK 74075</td>\n",
       "    </tr>\n",
       "    <tr>\n",
       "      <th>...</th>\n",
       "      <td>...</td>\n",
       "    </tr>\n",
       "    <tr>\n",
       "      <th>994</th>\n",
       "      <td>5 SUNNY LN Stillwater OK 74075</td>\n",
       "    </tr>\n",
       "    <tr>\n",
       "      <th>995</th>\n",
       "      <td>500 N SANGRE BEND Stillwater OK 74075</td>\n",
       "    </tr>\n",
       "    <tr>\n",
       "      <th>996</th>\n",
       "      <td>500 S BLAKELEY ST Stillwater OK 74074</td>\n",
       "    </tr>\n",
       "    <tr>\n",
       "      <th>997</th>\n",
       "      <td>5000 N NANCY LEE DR Stillwater OK 74075</td>\n",
       "    </tr>\n",
       "    <tr>\n",
       "      <th>998</th>\n",
       "      <td>5001 N NANCY LEE DR Stillwater OK 74075</td>\n",
       "    </tr>\n",
       "  </tbody>\n",
       "</table>\n",
       "<p>999 rows × 1 columns</p>\n",
       "</div>"
      ],
      "text/plain": [
       "                                 full_address\n",
       "0        2409 POSSE TRAIL Stillwater OK 74074\n",
       "1    2410 N NORTH STAR DR Stillwater OK 74074\n",
       "2          2410 N PARK DR Stillwater OK 74074\n",
       "3          2410 S TEAL ST Stillwater OK 74074\n",
       "4      2411 N GLENWOOD DR Stillwater OK 74075\n",
       "..                                        ...\n",
       "994            5 SUNNY LN Stillwater OK 74075\n",
       "995     500 N SANGRE BEND Stillwater OK 74075\n",
       "996     500 S BLAKELEY ST Stillwater OK 74074\n",
       "997   5000 N NANCY LEE DR Stillwater OK 74075\n",
       "998   5001 N NANCY LEE DR Stillwater OK 74075\n",
       "\n",
       "[999 rows x 1 columns]"
      ]
     },
     "execution_count": 127,
     "metadata": {},
     "output_type": "execute_result"
    }
   ],
   "source": [
    "import pandas as pd\n",
    "df = pd.read_excel('/Users/shreyandattachakraborty/Documents/College Application/Application for Masters/OSU/Study Materials/2nd Semester/BAN 5560/Company Project/Final Data/All_unique_addresses_Shreyan.xlsx')\n",
    "df"
   ]
  },
  {
   "cell_type": "code",
   "execution_count": 128,
   "metadata": {},
   "outputs": [
    {
     "data": {
      "text/plain": [
       "array(['2409 POSSE TRAIL Stillwater OK 74074',\n",
       "       '2410 N NORTH STAR DR Stillwater OK 74074',\n",
       "       '2410 N PARK DR Stillwater OK 74074',\n",
       "       '2410 S TEAL ST Stillwater OK 74074',\n",
       "       '2411 N GLENWOOD DR Stillwater OK 74075',\n",
       "       '2411 N HUSBAND PL Stillwater OK 74074',\n",
       "       '2411 N JEFFERSON ST Stillwater OK 74075',\n",
       "       '2411 N KELLER DR Stillwater OK 74074',\n",
       "       '2411 N NORTH STAR DR Stillwater OK 74074',\n",
       "       '2411 N PARK DR Stillwater OK 74074',\n",
       "       '2412 POSSE TRAIL Stillwater OK 74074',\n",
       "       '2412 S TEAL ST Stillwater OK 74074',\n",
       "       '2413 W 22ND AVE Stillwater OK 74074',\n",
       "       '2414 N GLENWOOD DR Stillwater OK 74075',\n",
       "       '2414 N HUSBAND PL Stillwater OK 74074',\n",
       "       '2414 N WASHINGTON ST Stillwater OK 74075',\n",
       "       '2415 N MONROE ST Stillwater OK 74075',\n",
       "       '2415 N NORTH STAR DR Stillwater OK 74074',\n",
       "       '2415 N PARK DR Stillwater OK 74074',\n",
       "       '2415 POSSE TRAIL Stillwater OK 74074',\n",
       "       '2415 S MELISSA LN Stillwater OK 74074',\n",
       "       '2415 W 40TH AVE Stillwater OK 74074',\n",
       "       '2416 N GLENWOOD DR Stillwater OK 74075',\n",
       "       '2416 N NORTH STAR DR Stillwater OK 74074',\n",
       "       '2416 S TEAL ST Stillwater OK 74074',\n",
       "       '2416 W 22ND AVE Stillwater OK 74074',\n",
       "       '2416 W 26TH AVE Stillwater OK 74074',\n",
       "       '2417 N GLENWOOD DR Stillwater OK 74075',\n",
       "       '2417 W 22ND AVE Stillwater OK 74074',\n",
       "       '2419 N HUSBAND PL Stillwater OK 74074',\n",
       "       '2419 N KELLER DR Stillwater OK 74074',\n",
       "       '2419 N NORTH STAR DR Stillwater OK 74074',\n",
       "       '2419 S BLUESTONE ST Stillwater OK 74074',\n",
       "       '2419 W LAKEVIEW RD Stillwater OK 74074',\n",
       "       '2420 E 7TH AVE Stillwater OK 74074',\n",
       "       '2420 N GLENWOOD DR Stillwater OK 74075',\n",
       "       '2420 N HUSBAND PL Stillwater OK 74074',\n",
       "       '2420 N NORTH STAR DR Stillwater OK 74074',\n",
       "       '2420 N WASHINGTON ST Stillwater OK 74075',\n",
       "       '2421 N GLENWOOD DR Stillwater OK 74075',\n",
       "       '2421 N HUSBAND PL Stillwater OK 74074',\n",
       "       '2421 N PARK DR Stillwater OK 74074',\n",
       "       '2421 POSSE TRAIL Stillwater OK 74074',\n",
       "       '2421 S WESTERN RD Stillwater OK 74074',\n",
       "       '2421 W 22ND AVE Stillwater OK 74074',\n",
       "       '2422 E 6TH AVE Stillwater OK 74074',\n",
       "       '2422 E 7TH AVE Stillwater OK 74074',\n",
       "       '2422 N GLENWOOD DR Stillwater OK 74075',\n",
       "       '2422 N PARK DR Stillwater OK 74074',\n",
       "       '2422 S TEAL ST Stillwater OK 74074',\n",
       "       '2423 N HUSBAND PL Stillwater OK 74074',\n",
       "       '2423 N JEFFERSON ST Stillwater OK 74075',\n",
       "       '2423 N NORTH STAR DR Stillwater OK 74074',\n",
       "       '2423 S BLACK OAK DR Stillwater OK 74074',\n",
       "       '2424 N HUSBAND PL Stillwater OK 74074',\n",
       "       '2424 N KELLER DR Stillwater OK 74074',\n",
       "       '2424 N NORTH STAR DR Stillwater OK 74074',\n",
       "       '2424 POSSE TRAIL Stillwater OK 74074',\n",
       "       '2424 S TEAL ST Stillwater OK 74074',\n",
       "       '2425 S BLUESTONE ST Stillwater OK 74074',\n",
       "       '2425 W 22ND AVE Stillwater OK 74074',\n",
       "       '2425 W LAKEVIEW RD Stillwater OK 74074',\n",
       "       '2425 W LAKEVIEW RD Stillwater OK 74075',\n",
       "       '2426 N HUSBAND PL Stillwater OK 74074',\n",
       "       '2426 N KELLER DR Stillwater OK 74074',\n",
       "       '25 ELMWOOD CIR Stillwater OK 74074',\n",
       "       '25 LIBERTY CIR Stillwater OK 74074',\n",
       "       '2501 N KELLER DR Stillwater OK 74074',\n",
       "       '2502 N GLENWOOD DR Stillwater OK 74075',\n",
       "       '2502 W CAMBRIDGE CT Stillwater OK 74074',\n",
       "       '2503 N KELLER DR Stillwater OK 74074',\n",
       "       '2503 W 22ND AVE Stillwater OK 74074',\n",
       "       '2504 N GLENWOOD DR Stillwater OK 74075',\n",
       "       '2505 N GLENWOOD DR Stillwater OK 74075',\n",
       "       '2505 S DURHAM CT Stillwater OK 74074',\n",
       "       '2506 N GLENWOOD DR Stillwater OK 74075',\n",
       "       '2506 N LINCOLN ST Stillwater OK 74074',\n",
       "       '2506 W 22ND AVE Stillwater OK 74074',\n",
       "       '2507 N GLENWOOD DR Stillwater OK 74075',\n",
       "       '2507 N KELLER DR Stillwater OK 74074',\n",
       "       '2508 N GLENWOOD DR Stillwater OK 74075',\n",
       "       '2509 N KELLER DR Stillwater OK 74074',\n",
       "       '2509 N NORTH STAR DR Stillwater OK 74074',\n",
       "       '251 W MILLER AVE Stillwater OK 74075',\n",
       "       '2511 N GLENWOOD DR Stillwater OK 74075',\n",
       "       '2512 N KELLER CT Stillwater OK 74074',\n",
       "       '2512 N PARK DR Stillwater OK 74074',\n",
       "       '2512 KIMBER LN Stillwater OK 74074',\n",
       "       '2512 TROPHY LN Stillwater OK 74074',\n",
       "       '2513 N GLENWOOD DR Stillwater OK 74075',\n",
       "       '2514 N GLENWOOD DR Stillwater OK 74075',\n",
       "       '2514 W 22ND AVE Stillwater OK 74074',\n",
       "       '2515 E 7TH AVE Stillwater OK 74074',\n",
       "       '2515 N GLENWOOD DR Stillwater OK 74075',\n",
       "       '2515 N KELLER DR Stillwater OK 74074',\n",
       "       '2516 N KELLER CT Stillwater OK 74074',\n",
       "       '2516 N SANGRE RD Stillwater OK 74075',\n",
       "       '2516 KIMBER LN Stillwater OK 74074',\n",
       "       '2517 N GLENWOOD DR Stillwater OK 74075',\n",
       "       '2517 N NORTH STAR DR Stillwater OK 74075',\n",
       "       '2518 N KELLER CT Stillwater OK 74074',\n",
       "       '2518 N LINCOLN ST Stillwater OK 74074',\n",
       "       '2518 N NORTH STAR DR Stillwater OK 74075',\n",
       "       '2518 N PARK DR Stillwater OK 74074',\n",
       "       '2518 W 22ND AVE Stillwater OK 74074',\n",
       "       '2519 N KELLER DR Stillwater OK 74074',\n",
       "       '2520 E 7TH AVE Stillwater OK 74074',\n",
       "       '2520 N GLENWOOD DR Stillwater OK 74075',\n",
       "       '2520 N TAYLOR LN Stillwater OK 74075',\n",
       "       '2520 KIMBER LN Stillwater OK 74074',\n",
       "       '2521 N GLENWOOD DR Stillwater OK 74075',\n",
       "       '2521 N KELLER DR Stillwater OK 74074',\n",
       "       '2522 E 7TH AVE Stillwater OK 74074',\n",
       "       '2522 N COYOTE RUN Stillwater OK 74075',\n",
       "       '2522 N PARK DR Stillwater OK 74074',\n",
       "       '2522 S WALNUT ST Stillwater OK 74074',\n",
       "       '2523 N GLENWOOD DR Stillwater OK 74075',\n",
       "       '2523 N PARK DR Stillwater OK 74074',\n",
       "       '2523 W 22ND AVE Stillwater OK 74074',\n",
       "       '2524 N GLENWOOD DR Stillwater OK 74075',\n",
       "       '2524 N KELLER CT Stillwater OK 74074',\n",
       "       '2524 N KELLER DR Stillwater OK 74074',\n",
       "       '2524 KIMBER LN Stillwater OK 74074',\n",
       "       '2525 N GLENWOOD DR Stillwater OK 74075',\n",
       "       '2525 N KELLER DR Stillwater OK 74074',\n",
       "       '2526 N KELLER CT Stillwater OK 74074',\n",
       "       '2526 N LINCOLN ST Stillwater OK 74074',\n",
       "       '2526 N SANGRE RD Stillwater OK 74075',\n",
       "       '2526 W 22ND AVE Stillwater OK 74074',\n",
       "       '2527 N KELLER DR Stillwater OK 74074',\n",
       "       '2527 W 22ND AVE Stillwater OK 74074',\n",
       "       '2530 W 22ND AVE Stillwater OK 74074',\n",
       "       '2531 N KELLER DR Stillwater OK 74074',\n",
       "       '2533 N KELLER DR Stillwater OK 74074',\n",
       "       '2535 W 22ND AVE Stillwater OK 74074',\n",
       "       '2537 N KELLER DR Stillwater OK 74074',\n",
       "       '2539 N KELLER DR Stillwater OK 74074',\n",
       "       '2542 N KELLER DR Stillwater OK 74075',\n",
       "       '26 WALNUT CIR Stillwater OK 74074',\n",
       "       '2600 N COUNTRY CLUB RD Stillwater OK 74074',\n",
       "       '2601 E WILL ROGERS DR Stillwater OK 74075',\n",
       "       '2601 N IVY CT Stillwater OK 74074',\n",
       "       '2602 N COUNTRY CLUB RD Stillwater OK 74075',\n",
       "       '2602 N MONROE ST Stillwater OK 74075',\n",
       "       '2603 N PARK CIR Stillwater OK 74074',\n",
       "       '2606 N COUNTRY CLUB RD Stillwater OK 74075',\n",
       "       '2606 N KELLER DR Stillwater OK 74074',\n",
       "       '2606 S CAMBRIDGE DR Stillwater OK 74074',\n",
       "       '2608 N PARK CIR Stillwater OK 74074',\n",
       "       '2608 N PARK DR Stillwater OK 74074',\n",
       "       '2608 S OXFORD DR Stillwater OK 74074',\n",
       "       '2609 N PARK CIR Stillwater OK 74074',\n",
       "       '2609 N PARK DR Stillwater OK 74074',\n",
       "       '2610 E 12TH AVE Stillwater OK 74074',\n",
       "       '2610 KIMBER LN Stillwater OK 74074',\n",
       "       '2610 S LYNDSEY CT Stillwater OK 74074',\n",
       "       '2611 N PARK CIR Stillwater OK 74074',\n",
       "       '2611 N PARK DR Stillwater OK 74074',\n",
       "       '2611 S OXFORD DR Stillwater OK 74074',\n",
       "       '2612 N SANGRE RD Stillwater OK 74075',\n",
       "       '2614 N PARK CIR Stillwater OK 74074',\n",
       "       '2615 N PARK DR Stillwater OK 74074',\n",
       "       '2615 S CAMBRIDGE DR Stillwater OK 74074',\n",
       "       '2618 N PARK DR Stillwater OK 74074',\n",
       "       '2619 W 22ND AVE Stillwater OK 74074',\n",
       "       '2621 N PARK CIR Stillwater OK 74074',\n",
       "       '2622 KIMBER LN Stillwater OK 74074',\n",
       "       '2623 N MONROE ST Stillwater OK 74075',\n",
       "       '2623 N PARK DR Stillwater OK 74074',\n",
       "       '2624 W 44TH AVE Stillwater OK 74074',\n",
       "       '2625 N PARK DR Stillwater OK 74074',\n",
       "       '2625 S CAMBRIDGE DR Stillwater OK 74074',\n",
       "       '27 UNIVERSITY CIR Stillwater OK 74074',\n",
       "       '2701 N RUNNING BEAR ST Stillwater OK 74075',\n",
       "       '2702 N PARK DR Stillwater OK 74074',\n",
       "       '2702 S FOX LEDGE DR Stillwater OK 74074',\n",
       "       '2705 N PARK DR Stillwater OK 74074',\n",
       "       '27051 COUNTY ROAD 190 Stillwater OK 74075',\n",
       "       '2706 N PARK DR Stillwater OK 74074',\n",
       "       '2706 W 44TH AVE Stillwater OK 74074',\n",
       "       '2707 N RUNNING BEAR ST Stillwater OK 74075',\n",
       "       '2708 N COYOTE RUN Stillwater OK 74075',\n",
       "       '2708 N LORI CIR Stillwater OK 74075',\n",
       "       '2709 N PARK CIR Stillwater OK 74074',\n",
       "       '2709 N PARK DR Stillwater OK 74074',\n",
       "       '2710 N LORI CIR Stillwater OK 74075',\n",
       "       '2710 N PARK CIR Stillwater OK 74074',\n",
       "       '2710 N RUNNING BEAR ST Stillwater OK 74075',\n",
       "       '2710 S WASHINGTON ST Stillwater OK 74074',\n",
       "       '2710 W 44TH AVE Stillwater OK 74074',\n",
       "       '2711 N PARK CIR Stillwater OK 74074',\n",
       "       '2712 N PARK DR Stillwater OK 74074',\n",
       "       '2712 KIMBER LN Stillwater OK 74074',\n",
       "       '2712 S MAR VISTA ST Stillwater OK 74074',\n",
       "       '2714 N LORI CIR Stillwater OK 74075',\n",
       "       '2714 N PARK DR Stillwater OK 74074',\n",
       "       '2715 N PARK DR Stillwater OK 74074',\n",
       "       '2715 S QUAIL RIDGE ST Stillwater OK 74074',\n",
       "       '2716 N RUNNING BEAR ST Stillwater OK 74075',\n",
       "       '2716 KIMBER LN Stillwater OK 74074',\n",
       "       '2717 W 20TH AVE Stillwater OK 74074',\n",
       "       '2719 N PARK CIR Stillwater OK 74074',\n",
       "       '2719 N RUNNING BEAR ST Stillwater OK 74075',\n",
       "       '2720 W 27TH AVE Stillwater OK 74074',\n",
       "       '2721 N LORI CIR Stillwater OK 74075',\n",
       "       '2722 N KELLER DR Stillwater OK 74074',\n",
       "       '2722 N LORI CIR Stillwater OK 74075',\n",
       "       '2722 N RUNNING BEAR ST Stillwater OK 74075',\n",
       "       '2722 S SADDLE ROCK ST Stillwater OK 74074',\n",
       "       '2723 N RUNNING BEAR ST Stillwater OK 74075',\n",
       "       '2724 N PARK DR Stillwater OK 74074',\n",
       "       '2724 S SADDLE ROCK ST Stillwater OK 74074',\n",
       "       '2725 KIMBER LN Stillwater OK 74074',\n",
       "       '2726 N RUNNING BEAR ST Stillwater OK 74075',\n",
       "       '2726 W 20TH AVE Stillwater OK 74074',\n",
       "       '2728 N RUNNING BEAR ST Stillwater OK 74075',\n",
       "       '2729 N LORI CIR Stillwater OK 74075',\n",
       "       '2730 N LORI CIR Stillwater OK 74075',\n",
       "       '2732 N LORI CIR Stillwater OK 74075',\n",
       "       '28 YELLOW BRICK DR Stillwater OK 74074',\n",
       "       '2800 S HUSBAND ST Stillwater OK 74074',\n",
       "       '2801 N RUNNING BEAR ST Stillwater OK 74075',\n",
       "       '2802 MARK CIR Stillwater OK 74075',\n",
       "       '2803 N LISA CIR Stillwater OK 74075',\n",
       "       '2803 N RUNNING BEAR ST Stillwater OK 74075',\n",
       "       '2804 N LISA CIR Stillwater OK 74075',\n",
       "       '2804 N RUNNING BEAR ST Stillwater OK 74075',\n",
       "       '2805 MARK CIR Stillwater OK 74075',\n",
       "       '2806 MARK CIR Stillwater OK 74075',\n",
       "       '2807 N RUNNING BEAR ST Stillwater OK 74075',\n",
       "       '2807 KIMBER LN Stillwater OK 74074',\n",
       "       '2807 W 18TH AVE Stillwater OK 74074',\n",
       "       '2808 N RUNNING BEAR ST Stillwater OK 74075',\n",
       "       '2808 MARK CIR Stillwater OK 74075',\n",
       "       '2808 W MCMURTRY RD Stillwater OK 74075',\n",
       "       '2809 N LISA CIR Stillwater OK 74075',\n",
       "       '2809 N RUNNING BEAR ST Stillwater OK 74075',\n",
       "       '2810 E RAINTREE DR Stillwater OK 74074',\n",
       "       '2810 KIMBER LN Stillwater OK 74074',\n",
       "       '2810 MARK CIR Stillwater OK 74075',\n",
       "       '2810 W MCMURTRY RD Stillwater OK 74074',\n",
       "       '2811 MARK CIR Stillwater OK 74075',\n",
       "       '2813 N RUNNING BEAR ST Stillwater OK 74075',\n",
       "       '2814 E RAINTREE DR Stillwater OK 74074',\n",
       "       '2814 N LISA CIR Stillwater OK 74075',\n",
       "       '2814 KIMBER LN Stillwater OK 74074',\n",
       "       '2815 N RUNNING BEAR ST Stillwater OK 74075',\n",
       "       '2815 MARK CIR Stillwater OK 74075',\n",
       "       '2815 W 28TH AVE Stillwater OK 74074',\n",
       "       '2816 N LISA CIR Stillwater OK 74075',\n",
       "       '2816 N RUNNING BEAR ST Stillwater OK 74075',\n",
       "       '2817 E RAINTREE DR Stillwater OK 74074',\n",
       "       '2817 N LISA CIR Stillwater OK 74075',\n",
       "       '2817 MARK CIR Stillwater OK 74075',\n",
       "       '2817 W 17TH AVE Stillwater OK 74074',\n",
       "       '2818 E RAINTREE DR Stillwater OK 74074',\n",
       "       '2818 KIMBER LN Stillwater OK 74074',\n",
       "       '2819 N RUNNING BEAR ST Stillwater OK 74075',\n",
       "       '2820 N RUNNING BEAR ST Stillwater OK 74075',\n",
       "       '2822 N LISA CIR Stillwater OK 74075',\n",
       "       '2822 N RUNNING BEAR ST Stillwater OK 74075',\n",
       "       '2822 MARK CIR Stillwater OK 74075',\n",
       "       '2823 N COYOTE RUN Stillwater OK 74075',\n",
       "       '2823 N LISA CIR Stillwater OK 74075',\n",
       "       '2823 MARK CIR Stillwater OK 74075',\n",
       "       '2823 W MCMURTRY RD Stillwater OK 74075',\n",
       "       '2824 E RAINTREE DR Stillwater OK 74074',\n",
       "       '2824 N LISA CIR Stillwater OK 74075',\n",
       "       '2825 N KELLER DR Stillwater OK 74074',\n",
       "       '2826 N LISA CIR Stillwater OK 74075',\n",
       "       '2826 N RUNNING BEAR ST Stillwater OK 74075',\n",
       "       '2826 MARK CIR Stillwater OK 74075',\n",
       "       '2827 E RAINTREE DR Stillwater OK 74074',\n",
       "       '2830 MARK CIR Stillwater OK 74075',\n",
       "       '2831 E RAINTREE DR Stillwater OK 74074',\n",
       "       '2832 MARK CIR Stillwater OK 74075',\n",
       "       '2833 MARK CIR Stillwater OK 74075',\n",
       "       '2836 E RAINTREE DR Stillwater OK 74074',\n",
       "       '2840 MARK CIR Stillwater OK 74075',\n",
       "       '2841 MARK CIR Stillwater OK 74075',\n",
       "       '2844 MARK CIR Stillwater OK 74075',\n",
       "       '2847 MARK CIR Stillwater OK 74075',\n",
       "       '2849 MARK CIR Stillwater OK 74075',\n",
       "       '2850 MARK CIR Stillwater OK 74075',\n",
       "       '2852 MARK CIR Stillwater OK 74075',\n",
       "       '2853 MARK CIR Stillwater OK 74075',\n",
       "       '2855 MARK CIR Stillwater OK 74075',\n",
       "       '2858 MARK CIR Stillwater OK 74075',\n",
       "       '2862 MARK CIR Stillwater OK 74075',\n",
       "       '2864 MARK CIR Stillwater OK 74075',\n",
       "       '2866 MARK CIR Stillwater OK 74075',\n",
       "       '2868 MARK CIR Stillwater OK 74075',\n",
       "       '2869 MARK CIR Stillwater OK 74075',\n",
       "       '2870 MARK CIR Stillwater OK 74075',\n",
       "       '2872 MARK CIR Stillwater OK 74075',\n",
       "       '2873 MARK CIR Stillwater OK 74075',\n",
       "       '2875 MARK CIR Stillwater OK 74075',\n",
       "       '2881 MARK CIR Stillwater OK 74075',\n",
       "       '2883 MARK CIR Stillwater OK 74075',\n",
       "       '29 PRESTON CIR Stillwater OK 74075',\n",
       "       '2900 E 6TH AVE Stillwater OK 74074',\n",
       "       '2900 E RAINTREE DR Stillwater OK 74074',\n",
       "       '29001 COUNTY ROAD 180 Stillwater OK 74075',\n",
       "       '2901 N RUNNING BEAR ST Stillwater OK 74075',\n",
       "       '2902 N MONROE ST Stillwater OK 74075',\n",
       "       '2902 N RUNNING BEAR ST Stillwater OK 74075',\n",
       "       '2903 N KELLER DR Stillwater OK 74074',\n",
       "       '2903 N PERKINS RD Stillwater OK 74075',\n",
       "       '2904 N COYOTE RUN Stillwater OK 74075',\n",
       "       '2904 N RUNNING BEAR ST Stillwater OK 74075',\n",
       "       '2904 KIMBER LN Stillwater OK 74074',\n",
       "       '2905 E RAINTREE DR Stillwater OK 74074',\n",
       "       '2907 N COYOTE RUN Stillwater OK 74075',\n",
       "       '2907 N RUNNING BEAR ST Stillwater OK 74075',\n",
       "       '2908 E RAINTREE DR Stillwater OK 74074',\n",
       "       '2908 KIMBER LN Stillwater OK 74074',\n",
       "       '2909 E RAINTREE DR Stillwater OK 74074',\n",
       "       '2909 N RUNNING BEAR ST Stillwater OK 74075',\n",
       "       '2909 S ROCKY RIDGE ST Stillwater OK 74074',\n",
       "       '2909 S WASHINGTON ST Stillwater OK 74074',\n",
       "       '2909 W 32ND AVE Stillwater OK 74074',\n",
       "       '2910 N COYOTE RUN Stillwater OK 74075',\n",
       "       '2910 N RUNNING BEAR ST Stillwater OK 74075',\n",
       "       '2912 E RAINTREE DR Stillwater OK 74074',\n",
       "       '2915 S PERKINS RD Stillwater OK 74074',\n",
       "       '2915 S ROCKY RIDGE ST Stillwater OK 74074',\n",
       "       '2915 W 44TH AVE Stillwater OK 74074',\n",
       "       '2919 S EAGLE SUMMIT DR Stillwater OK 74074',\n",
       "       '2920 E RAINTREE DR Stillwater OK 74074',\n",
       "       '2920 N COUNTRY CLUB RD Stillwater OK 74075',\n",
       "       '2921 E RAINTREE DR Stillwater OK 74074',\n",
       "       '2923 N MONROE ST Stillwater OK 74075',\n",
       "       '2923 S BLACK OAK DR Stillwater OK 74074',\n",
       "       '2923 W 18TH AVE Stillwater OK 74074',\n",
       "       '29250 DEER CREEK RD Stillwater OK 74075',\n",
       "       '2926 S ROCKY RIDGE ST Stillwater OK 74074',\n",
       "       '29271 COUNTY ROAD 180 Stillwater OK 74075',\n",
       "       '29350 DOE RUN Stillwater OK 74075',\n",
       "       '29401 DEER CREEK RD Stillwater OK 74075',\n",
       "       '29451 DOE RUN Stillwater OK 74075',\n",
       "       '29700 COUNTY ROAD 180 Stillwater OK 74075',\n",
       "       '3 SUMMIT CIR Stillwater OK 74075',\n",
       "       '3002 E RAINTREE DR Stillwater OK 74074',\n",
       "       '3002 N LINCOLN ST Stillwater OK 74074',\n",
       "       '3003 E 4TH AVE Stillwater OK 74074',\n",
       "       '3004 W WELLINGTON DR Stillwater OK 74074',\n",
       "       '3006 S EAGLE SUMMIT DR Stillwater OK 74074',\n",
       "       '3007 E 3RD AVE Stillwater OK 74074',\n",
       "       '3007 S CHAPEL HILL RD Stillwater OK 74074',\n",
       "       '3008 E 2ND AVE Stillwater OK 74074',\n",
       "       '3009 N COTTONWOOD RD Stillwater OK 74075',\n",
       "       '301 E AUDENE DR Stillwater OK 74074',\n",
       "       '301 N DUNCAN ST Stillwater OK 74075',\n",
       "       '301 N YOUNG ST Stillwater OK 74075',\n",
       "       '301 S BERRY ST Stillwater OK 74074',\n",
       "       '301 S DUNCAN ST Stillwater OK 74074',\n",
       "       '301 S JEFFERSON ST Stillwater OK 74074',\n",
       "       '3013 E 2ND AVE Stillwater OK 74074',\n",
       "       '3013 N COUNTRY CLUB RD Stillwater OK 74075',\n",
       "       '3014 E 2ND AVE Stillwater OK 74074',\n",
       "       '3016 E 4TH AVE Stillwater OK 74074',\n",
       "       '3016 W 33RD AVE Stillwater OK 74074',\n",
       "       '3017 E 2ND AVE Stillwater OK 74074',\n",
       "       '3018 E 2ND AVE Stillwater OK 74074',\n",
       "       '302 E TOPAZ AVE Stillwater OK 74075',\n",
       "       '302 N DUNCAN ST Stillwater OK 74074',\n",
       "       '302 S DUNCAN ST Stillwater OK 74074',\n",
       "       '302 S HUSBAND ST Stillwater OK 74074',\n",
       "       '302 S JARDOT RD Stillwater OK 74074',\n",
       "       '302 S KNOBLOCK ST Stillwater OK 74074',\n",
       "       '302 S PAYNE ST Stillwater OK 74074',\n",
       "       '302 S PLEASANT OAKS ST Stillwater OK 74074',\n",
       "       '302 S WALNUT ST Stillwater OK 74074',\n",
       "       '302 W CANTWELL AVE Stillwater OK 74074',\n",
       "       '302 W MAPLE AVE Stillwater OK 74074',\n",
       "       '3020 E 6TH AVE Stillwater OK 74074',\n",
       "       '3020 W 44TH AVE Stillwater OK 74074',\n",
       "       '3021 E 2ND AVE Stillwater OK 74074',\n",
       "       '3022 E 4TH AVE Stillwater OK 74074',\n",
       "       '30222 COUNTY ROAD 180 Stillwater OK 74075',\n",
       "       '3023 E 3RD AVE Stillwater OK 74074',\n",
       "       '3023 N LINCOLN ST Stillwater OK 74074',\n",
       "       '3023 N MONROE ST Stillwater OK 74075',\n",
       "       '3023 W CYPRESS MILL AVE Stillwater OK 74074',\n",
       "       '3024 E 3RD AVE Stillwater OK 74074',\n",
       "       '3024 W LOMA VERDE LN Stillwater OK 74074',\n",
       "       '3025 E 2ND AVE Stillwater OK 74074',\n",
       "       '3027 E 3RD AVE Stillwater OK 74074',\n",
       "       '3027 W SHILOH CREEK AVE Stillwater OK 74074',\n",
       "       '3028 E 3RD AVE Stillwater OK 74074',\n",
       "       '303 N DUCK ST Stillwater OK 74075',\n",
       "       '303 S WALNUT ST Stillwater OK 74074',\n",
       "       '3030 W SHILOH CREEK AVE Stillwater OK 74074',\n",
       "       '3039 W SHILOH CREEK AVE Stillwater OK 74074',\n",
       "       '304 N DUNCAN ST Stillwater OK 74074',\n",
       "       '304 N DUNCAN ST Stillwater OK 74075',\n",
       "       '304 S CHARLES DR Stillwater OK 74074',\n",
       "       '304 S JEFFERSON ST Stillwater OK 74074',\n",
       "       '3040 E PEACH TREE AVE Stillwater OK 74074',\n",
       "       '3043 W SHILOH CREEK AVE Stillwater OK 74074',\n",
       "       '305 E 17TH AVE Stillwater OK 74074',\n",
       "       '305 E 18TH PL Stillwater OK 74074',\n",
       "       '305 S COTTONWOOD RD Stillwater OK 74074',\n",
       "       '305 S DUNCAN ST Stillwater OK 74074',\n",
       "       '306 E 18TH PL Stillwater OK 74074',\n",
       "       '306 S RAMSEY ST Stillwater OK 74074',\n",
       "       '307 E 17TH AVE Stillwater OK 74074',\n",
       "       '307 E COPPER CANYON AVE Stillwater OK 74075',\n",
       "       '307 N DUNCAN ST Stillwater OK 74075',\n",
       "       '307 N WEDGEWOOD DR Stillwater OK 74075',\n",
       "       '308 E ROGERS DR Stillwater OK 74074',\n",
       "       '308 N DUNCAN ST Stillwater OK 74075',\n",
       "       '308 N HUSBAND ST Stillwater OK 74075',\n",
       "       '308 S JEFFERSON ST Stillwater OK 74074',\n",
       "       '308 W 4TH AVE Stillwater OK 74074',\n",
       "       '308 W MAPLE AVE Stillwater OK 74074',\n",
       "       '309 E 16TH AVE Stillwater OK 74074',\n",
       "       '309 E 17TH AVE Stillwater OK 74074',\n",
       "       '309 E 18TH AVE Stillwater OK 74074',\n",
       "       '309 E 32ND AVE Stillwater OK 74074',\n",
       "       '309 N DUCK ST Stillwater OK 74074',\n",
       "       '309 N DUCK ST Stillwater OK 74075',\n",
       "       '309 S WEST ST Stillwater OK 74074',\n",
       "       '310 E AUDENE DR Stillwater OK 74074',\n",
       "       '310 S DUNCAN ST Stillwater OK 74074',\n",
       "       '310 S KNOBLOCK ST Stillwater OK 74074',\n",
       "       '310 S REDLANDS RD Stillwater OK 74074',\n",
       "       '3100 E 4TH AVE Stillwater OK 74074',\n",
       "       '3100 N MADISON CT Stillwater OK 74074',\n",
       "       '3101 S FOX LEDGE DR Stillwater OK 74074',\n",
       "       '3102 E 3RD AVE Stillwater OK 74074',\n",
       "       '3102 E 4TH AVE Stillwater OK 74074',\n",
       "       '3102 E RAINTREE DR Stillwater OK 74074',\n",
       "       '3102 S MAIN ST Stillwater OK 74074',\n",
       "       '3103 E 2ND AVE Stillwater OK 74074',\n",
       "       '3103 N COUNTRY CLUB RD Stillwater OK 74075',\n",
       "       '3104 W TIMBERLAKE DR Stillwater OK 74074',\n",
       "       '3105 E RAINTREE DR Stillwater OK 74074',\n",
       "       '3105 N MADISON CT Stillwater OK 74074',\n",
       "       '3106 E 4TH AVE Stillwater OK 74074',\n",
       "       '3106 S SADDLE ROCK ST Stillwater OK 74074',\n",
       "       '3107 E 2ND AVE Stillwater OK 74074',\n",
       "       '3108 E 2ND AVE Stillwater OK 74074',\n",
       "       '3108 E 4TH AVE Stillwater OK 74074',\n",
       "       '311 E 32ND AVE Stillwater OK 74074',\n",
       "       '311 N DUCK ST Stillwater OK 74075',\n",
       "       '311 N KYLE CT Stillwater OK 74075',\n",
       "       '311 S DUNCAN ST Stillwater OK 74074',\n",
       "       '311 S LOWRY ST Stillwater OK 74074',\n",
       "       '311 S ORCHARD ST Stillwater OK 74074',\n",
       "       '311 S WEST ST Stillwater OK 74074',\n",
       "       '311 W 4TH AVE Stillwater OK 74074',\n",
       "       '3112 E 4TH AVE Stillwater OK 74074',\n",
       "       '3112 W 44TH AVE Stillwater OK 74074',\n",
       "       '3114 N MADISON CT Stillwater OK 74074',\n",
       "       '3115 E 4TH AVE Stillwater OK 74074',\n",
       "       '3116 E PEACH TREE AVE Stillwater OK 74074',\n",
       "       '3117 E RAINTREE DR Stillwater OK 74074',\n",
       "       '312 E 16TH AVE Stillwater OK 74074',\n",
       "       '312 N STALLARD ST Stillwater OK 74074',\n",
       "       '312 S DUNCAN ST Stillwater OK 74074',\n",
       "       '312 S JEFFERSON ST Stillwater OK 74074',\n",
       "       '312 W 3RD AVE Stillwater OK 74074',\n",
       "       '312 W MAPLE AVE Stillwater OK 74074',\n",
       "       '312 W WILD HORSE DR Stillwater OK 74075',\n",
       "       '3120 W 31ST CT Stillwater OK 74074',\n",
       "       '3122 E PEACH TREE AVE Stillwater OK 74074',\n",
       "       '3124 E 2ND AVE Stillwater OK 74074',\n",
       "       '3124 N MONROE ST Stillwater OK 74075',\n",
       "       '3125 E 4TH AVE Stillwater OK 74074',\n",
       "       '3129 E PEACH TREE AVE Stillwater OK 74074',\n",
       "       '313 E 16TH AVE Stillwater OK 74074',\n",
       "       '313 E 17TH AVE Stillwater OK 74074',\n",
       "       '313 E 18TH PL Stillwater OK 74074',\n",
       "       '313 N WEDGEWOOD DR Stillwater OK 74075',\n",
       "       '313 S DOTY ST Stillwater OK 74074',\n",
       "       '313 S KEATS DR Stillwater OK 74074',\n",
       "       '313 S LOWRY ST Stillwater OK 74074',\n",
       "       '3133 E RAINTREE DR Stillwater OK 74074',\n",
       "       '3134 E RAINTREE DR Stillwater OK 74074',\n",
       "       '3137 E PEACH TREE AVE Stillwater OK 74074',\n",
       "       '3137 E RAINTREE DR Stillwater OK 74074',\n",
       "       '314 E MARIE DR Stillwater OK 74074',\n",
       "       '314 E TOPAZ AVE Stillwater OK 74075',\n",
       "       '314 N DUNCAN ST Stillwater OK 74074',\n",
       "       '314 N DUNCAN ST Stillwater OK 74075',\n",
       "       '314 N HUSBAND ST Stillwater OK 74075',\n",
       "       '314 W 4TH AVE Stillwater OK 74074',\n",
       "       '314 W 5TH AVE Stillwater OK 74074',\n",
       "       '314 W MAPLE AVE Stillwater OK 74074',\n",
       "       '315 E 11TH AVE Stillwater OK 74074',\n",
       "       '315 E 18TH PL Stillwater OK 74074',\n",
       "       '315 N DUNCAN ST Stillwater OK 74074',\n",
       "       '315 S DUCK ST Stillwater OK 74074',\n",
       "       '315 S RIDGE DR Stillwater OK 74074',\n",
       "       '315 W WILD HORSE DR Stillwater OK 74074',\n",
       "       '316 E 18TH AVE Stillwater OK 74074',\n",
       "       '316 N STALLARD ST Stillwater OK 74074',\n",
       "       '316 S KNOBLOCK ST Stillwater OK 74074',\n",
       "       '316 S RAMSEY ST Stillwater OK 74074',\n",
       "       '317 E 16TH AVE Stillwater OK 74074',\n",
       "       '317 E MARIE DR Stillwater OK 74074',\n",
       "       '317 N DUNCAN ST Stillwater OK 74074',\n",
       "       '317 N DUNCAN ST Stillwater OK 74075',\n",
       "       '317 S DUCK ST Stillwater OK 74074',\n",
       "       '317 S DUNCAN ST Stillwater OK 74074',\n",
       "       '317 S WALNUT ST Stillwater OK 74074',\n",
       "       '317 W 13TH AVE Stillwater OK 74074',\n",
       "       '317 W MATHEWS AVE Stillwater OK 74074',\n",
       "       '318 E 17TH AVE Stillwater OK 74074',\n",
       "       '318 E 18TH AVE Stillwater OK 74074',\n",
       "       '318 S DUNCAN ST Stillwater OK 74074',\n",
       "       '318 S KNOBLOCK ST Stillwater OK 74074',\n",
       "       '319 N DUNCAN ST Stillwater OK 74075',\n",
       "       '319 S WEST ST Stillwater OK 74074',\n",
       "       '319 W WILD HORSE DR Stillwater OK 74074',\n",
       "       '32 UNIVERSITY CIR Stillwater OK 74074',\n",
       "       '320 E 16TH AVE Stillwater OK 74074',\n",
       "       '320 E MARIE DR Stillwater OK 74074',\n",
       "       '320 E MCELROY RD Stillwater OK 74075',\n",
       "       '320 S WALNUT ST Stillwater OK 74074',\n",
       "       '320 W ELM AVE Stillwater OK 74074',\n",
       "       '320 W WILD HORSE DR Stillwater OK 74075',\n",
       "       '3200 N COUNTRY CLUB RD Stillwater OK 74075',\n",
       "       '3202 S SADDLE ROCK ST Stillwater OK 74074',\n",
       "       '3204 E STONEGATE AVE Stillwater OK 74074',\n",
       "       '3206 S HILL LN Stillwater OK 74074',\n",
       "       '3209 S HILL LN Stillwater OK 74074',\n",
       "       '321 N DUNCAN ST Stillwater OK 74075',\n",
       "       '3210 S HILL LN Stillwater OK 74074',\n",
       "       '3210 W LAKEVIEW RD Stillwater OK 74074',\n",
       "       '3211 S HILL LN Stillwater OK 74074',\n",
       "       '3211 W 32ND AVE Stillwater OK 74074',\n",
       "       '3212 E 4TH AVE Stillwater OK 74074',\n",
       "       '3214 S BLACK OAK DR Stillwater OK 74074',\n",
       "       '3214 W 30TH AVE Stillwater OK 74074',\n",
       "       '3217 E 2ND AVE Stillwater OK 74074',\n",
       "       '3217 S SADDLE ROCK ST Stillwater OK 74074',\n",
       "       '3217 W CYPRESS MILL AVE Stillwater OK 74074',\n",
       "       '3219 E PEACH TREE AVE Stillwater OK 74074',\n",
       "       '322 E 17TH AVE Stillwater OK 74074',\n",
       "       '322 E 18TH AVE Stillwater OK 74074',\n",
       "       '322 N WILDWOOD ACRES CIR Stillwater OK 74074',\n",
       "       '322 S COLBY LANCE ST Stillwater OK 74074',\n",
       "       '322 W MATHEWS AVE Stillwater OK 74074',\n",
       "       '3221 S JAVA ST Stillwater OK 74074',\n",
       "       '3222 E PEACH TREE AVE Stillwater OK 74074',\n",
       "       '3222 S SADDLE ROCK ST Stillwater OK 74074',\n",
       "       '3223 E RAINTREE DR Stillwater OK 74074',\n",
       "       '3223 S JAVA ST Stillwater OK 74074',\n",
       "       '3224 S JAVA ST Stillwater OK 74074',\n",
       "       '3227 E RAINTREE DR Stillwater OK 74074',\n",
       "       '3227 S PIONEER ST Stillwater OK 74074',\n",
       "       '323 S DUCK ST Stillwater OK 74074',\n",
       "       '323 S WEST ST Stillwater OK 74074',\n",
       "       '323 S WILLIS ST Stillwater OK 74074',\n",
       "       '323 W CANTWELL AVE Stillwater OK 74074',\n",
       "       '323 W MILLER AVE Stillwater OK 74074',\n",
       "       '3230 E STONEGATE AVE Stillwater OK 74074',\n",
       "       '3235 E RAINTREE DR Stillwater OK 74074',\n",
       "       '324 N MANNING ST Stillwater OK 74074',\n",
       "       '324 S CLEVELAND ST Stillwater OK 74074',\n",
       "       '324 S DUNCAN ST Stillwater OK 74074',\n",
       "       '324 S ORCHARD ST Stillwater OK 74074',\n",
       "       '324 S WALNUT ST Stillwater OK 74074',\n",
       "       '324 S WEST ST Stillwater OK 74074',\n",
       "       '324 W ELM AVE Stillwater OK 74074',\n",
       "       '324 W MATHEWS AVE Stillwater OK 74074',\n",
       "       '325 S MOCKINGBIRD LN Stillwater OK 74074',\n",
       "       '326 E TOPAZ AVE Stillwater OK 74075',\n",
       "       '3268 S COUNTRY CLUB RD Stillwater OK 74074',\n",
       "       '327 E COPPER CANYON AVE Stillwater OK 74075',\n",
       "       '328 N DUNCAN ST Stillwater OK 74074',\n",
       "       '33 LIBERTY CIR Stillwater OK 74074',\n",
       "       '33 PINEWOOD CIR Stillwater OK 74074',\n",
       "       '3301 S GREEN VALLEY DR Stillwater OK 74074',\n",
       "       '3303 E 4TH AVE Stillwater OK 74074',\n",
       "       '3303 W AIRPORT RD Stillwater OK 74074',\n",
       "       '3304 S BLACK OAK DR Stillwater OK 74074',\n",
       "       '3304 S COUNTRY CLUB RD Stillwater OK 74074',\n",
       "       '3306 E MCELROY RD Stillwater OK 74075',\n",
       "       '3309 S WEST ST Stillwater OK 74074',\n",
       "       '3309 W CYPRESS MILL AVE Stillwater OK 74074',\n",
       "       '3310 E 4TH AVE Stillwater OK 74074',\n",
       "       '3313 N RANGE RD Stillwater OK 74075',\n",
       "       '3315 S HUSBAND ST Stillwater OK 74074',\n",
       "       '3315 W MCMURTRY RD Stillwater OK 74074',\n",
       "       '3317 W YOST RD Stillwater OK 74075',\n",
       "       '3323 S HUSBAND ST Stillwater OK 74074',\n",
       "       '3398 E 6TH AVE Stillwater OK 74074',\n",
       "       '34 CINDY LN Stillwater OK 74074',\n",
       "       '3413 S CANOPY LN Stillwater OK 74074',\n",
       "       '3417 N COTTONWOOD RD Stillwater OK 74075',\n",
       "       '3418 W 29TH AVE Stillwater OK 74074',\n",
       "       '3425 W LAPOINT CT Stillwater OK 74074',\n",
       "       '35 LIBERTY CIR Stillwater OK 74074',\n",
       "       '3500 S JAVA ST Stillwater OK 74074',\n",
       "       '3508 N RAMSEY ST Stillwater OK 74074',\n",
       "       '3508 S WESTERN RD Stillwater OK 74074',\n",
       "       '3523 W WILLOW PARK CIR Stillwater OK 74074',\n",
       "       '36 CINDY LN Stillwater OK 74074',\n",
       "       '36 YELLOW BRICK DR Stillwater OK 74074',\n",
       "       '3602 N WASHINGTON ST Stillwater OK 74075',\n",
       "       '3603 W 15TH AVE Stillwater OK 74074',\n",
       "       '3605 W FOUNTAIN VIEW CT Stillwater OK 74074',\n",
       "       '3607 N SANGRE RD Stillwater OK 74074',\n",
       "       '3608 S FOUNTAIN VIEW DR Stillwater OK 74074',\n",
       "       '3608 W AIRPORT RD Stillwater OK 74075',\n",
       "       '3609 W 15TH AVE Stillwater OK 74074',\n",
       "       '3611 E ANDY KAY LN Stillwater OK 74074',\n",
       "       '3612 S SCISSORTAIL DR Stillwater OK 74074',\n",
       "       '3616 S FOUNTAIN VIEW DR Stillwater OK 74074',\n",
       "       '3620 W AIRPORT RD Stillwater OK 74075',\n",
       "       '3621 W BRISTOL AVE Stillwater OK 74074',\n",
       "       '3626 W AIRPORT RD Stillwater OK 74075',\n",
       "       '37 CINDY LN Stillwater OK 74074',\n",
       "       '3701 N AIRPORT LN Stillwater OK 74075',\n",
       "       '3701 S SCISSORTAIL DR Stillwater OK 74074',\n",
       "       '3702 W 44TH AVE Stillwater OK 74074',\n",
       "       '3704 W 15TH AVE Stillwater OK 74074',\n",
       "       '3704 W AIRPORT RD Stillwater OK 74075',\n",
       "       '3706 S FOUNTAIN VIEW DR Stillwater OK 74074',\n",
       "       '3707 N WASHINGTON ST Stillwater OK 74075',\n",
       "       '3707 W BRISTOL AVE Stillwater OK 74074',\n",
       "       '3708 W LAKEVIEW RD Stillwater OK 74075',\n",
       "       \"3708 W OWEN'S CT Stillwater OK 74074\",\n",
       "       '3709 W 15TH AVE Stillwater OK 74074',\n",
       "       \"3709 W OWEN'S CT Stillwater OK 74074\",\n",
       "       \"3710 W OWEN'S CT Stillwater OK 74074\",\n",
       "       \"3711 W OWEN'S CT Stillwater OK 74074\",\n",
       "       '3713 W BRISTOL AVE Stillwater OK 74074',\n",
       "       '3716 W 15TH AVE Stillwater OK 74074',\n",
       "       \"3716 W OWEN'S CT Stillwater OK 74074\",\n",
       "       '3717 N MONROE ST Stillwater OK 74075',\n",
       "       \"3717 W OWEN'S CT Stillwater OK 74074\",\n",
       "       '3718 N MONROE ST Stillwater OK 74075',\n",
       "       '3719 N MONROE ST Stillwater OK 74075',\n",
       "       '3720 N MONROE ST Stillwater OK 74075',\n",
       "       '3720 W BRISTOL AVE Stillwater OK 74074',\n",
       "       \"3720 W OWEN'S CT Stillwater OK 74074\",\n",
       "       '3721 N MONROE ST Stillwater OK 74075',\n",
       "       '3721 W 15TH AVE Stillwater OK 74074',\n",
       "       \"3721 W OWEN'S CT Stillwater OK 74074\",\n",
       "       '3722 N MONROE ST Stillwater OK 74075',\n",
       "       '3722 W 15TH AVE Stillwater OK 74074',\n",
       "       '3723 N MONROE ST Stillwater OK 74075',\n",
       "       '3723 N WASHINGTON ST Stillwater OK 74075',\n",
       "       '3723 W 15TH AVE Stillwater OK 74074',\n",
       "       \"3723 W OWEN'S CT Stillwater OK 74074\",\n",
       "       '3724 N AIRPORT LN Stillwater OK 74075',\n",
       "       '3724 N MONROE ST Stillwater OK 74075',\n",
       "       '38 WINDSOR CIR Stillwater OK 74074',\n",
       "       '3801 N AIRPORT LN Stillwater OK 74075',\n",
       "       '3801 N MONROE ST Stillwater OK 74075',\n",
       "       '3802 N AIRPORT LN Stillwater OK 74075',\n",
       "       '3802 N MONROE ST Stillwater OK 74075',\n",
       "       '3802 W 15TH AVE Stillwater OK 74074',\n",
       "       '3802 W AIRPORT RD Stillwater OK 74075',\n",
       "       '3802 W EAGLE CREEK AVE Stillwater OK 74074',\n",
       "       '3803 W BRISTOL AVE Stillwater OK 74074',\n",
       "       '3804 W BRISTOL AVE Stillwater OK 74074',\n",
       "       \"3805 E JUDY'S DR Stillwater OK 74074\",\n",
       "       '3806 W 15TH AVE Stillwater OK 74074',\n",
       "       '3806 W EAGLE CREEK AVE Stillwater OK 74074',\n",
       "       '3807 W EAGLE CREEK AVE Stillwater OK 74074',\n",
       "       '3810 N AIRPORT LN Stillwater OK 74075',\n",
       "       '3810 W AIRPORT RD Stillwater OK 74075',\n",
       "       '3810 W GLENCOE RD Stillwater OK 74074',\n",
       "       '3811 N MONROE ST Stillwater OK 74075',\n",
       "       '3813 N MONROE ST Stillwater OK 74075',\n",
       "       '3814 N MONROE ST Stillwater OK 74075',\n",
       "       '3814 W 15TH AVE Stillwater OK 74074',\n",
       "       '3815 N AIRPORT LN Stillwater OK 74075',\n",
       "       '3816 N SANGRE RD Stillwater OK 74075',\n",
       "       '3817 N MONROE ST Stillwater OK 74075',\n",
       "       '3818 E 6TH AVE Stillwater OK 74074',\n",
       "       '3820 N AIRPORT LN Stillwater OK 74075',\n",
       "       '3820 S HENDERSON ST Stillwater OK 74074',\n",
       "       '3820 S QUAIL CREEK FARMS RD Stillwater OK 74074',\n",
       "       '3820 W 15TH AVE Stillwater OK 74074',\n",
       "       '3822 N MONROE ST Stillwater OK 74075',\n",
       "       '3822 N SANGRE RD Stillwater OK 74075',\n",
       "       '3823 N MONROE ST Stillwater OK 74075',\n",
       "       '3823 N WASHINGTON ST Stillwater OK 74075',\n",
       "       '3824 N MONROE ST Stillwater OK 74075',\n",
       "       '3901 W YORKSHIRE DR Stillwater OK 74074',\n",
       "       '3903 E MCELROY RD Stillwater OK 74075',\n",
       "       '3911 W RUTLEDGE DR Stillwater OK 74075',\n",
       "       '3914 W AIRPORT RD Stillwater OK 74075',\n",
       "       '3915 W 15TH AVE Stillwater OK 74074',\n",
       "       '3915 W WESTBROOK DR Stillwater OK 74074',\n",
       "       '3916 S TIMBERLINE DR Stillwater OK 74074',\n",
       "       '4 CANYON RIM DR Stillwater OK 74074',\n",
       "       '4 SUMMIT CIR Stillwater OK 74075',\n",
       "       '400 S SQUIRES LANDING BLVD Stillwater OK 74074',\n",
       "       '4001 E 19TH AVE Stillwater OK 74074',\n",
       "       '4001 W GLENCOE RD Stillwater OK 74075',\n",
       "       '4002 W HALL OF FAME AVE Stillwater OK 74075',\n",
       "       '4002 W YORKSHIRE DR Stillwater OK 74074',\n",
       "       '4008 W YORKSHIRE DR Stillwater OK 74074',\n",
       "       '4009 W WESTBROOK DR Stillwater OK 74074',\n",
       "       '401 S DUNCAN ST Stillwater OK 74074',\n",
       "       '4015 W YORKSHIRE DR Stillwater OK 74074',\n",
       "       '402 S DUNCAN ST Stillwater OK 74074',\n",
       "       '402 S JEFFERSON ST Stillwater OK 74074',\n",
       "       '402 S WEST ST Stillwater OK 74074',\n",
       "       '402 W 9TH AVE Stillwater OK 74074',\n",
       "       '4020 W WESTBROOK DR Stillwater OK 74074',\n",
       "       '403 E MCELROY RD Stillwater OK 74074',\n",
       "       '404 E TOPAZ AVE Stillwater OK 74075',\n",
       "       '404 S DEBRA CT Stillwater OK 74074',\n",
       "       '404 S OAK KNOLL CT Stillwater OK 74074',\n",
       "       '405 N HUSBAND ST Stillwater OK 74075',\n",
       "       '405 S BLAKELEY ST Stillwater OK 74074',\n",
       "       '405 S DUNCAN ST Stillwater OK 74074',\n",
       "       '405 S HESTER ST Stillwater OK 74074',\n",
       "       '405 S HUSBAND ST Stillwater OK 74074',\n",
       "       '405 S LISA CT Stillwater OK 74074',\n",
       "       '405 S WEST ST Stillwater OK 74074',\n",
       "       '405 W 9TH AVE Stillwater OK 74074',\n",
       "       '406 N DUNCAN ST Stillwater OK 74074',\n",
       "       '406 N DUNCAN ST Stillwater OK 74075',\n",
       "       '406 N HUSBAND ST Stillwater OK 74075',\n",
       "       '406 W 9TH AVE Stillwater OK 74074',\n",
       "       '407 S DEBRA CT Stillwater OK 74074',\n",
       "       '407 S KNOBLOCK ST Stillwater OK 74074',\n",
       "       '408 N DUNCAN ST Stillwater OK 74075',\n",
       "       '408 S BLAKELEY ST Stillwater OK 74074',\n",
       "       '408 S DEBRA CT Stillwater OK 74074',\n",
       "       '408 S DUNCAN ST Stillwater OK 74074',\n",
       "       '408 S KNOBLOCK ST Stillwater OK 74074',\n",
       "       '408 S LISA CT Stillwater OK 74074',\n",
       "       '409 E BRITTON CT Stillwater OK 74074',\n",
       "       '409 S DEBRA CT Stillwater OK 74074',\n",
       "       '409 S DUNCAN ST Stillwater OK 74074',\n",
       "       '409 S HESTER ST Stillwater OK 74074',\n",
       "       '409 S LISA CT Stillwater OK 74074',\n",
       "       '409 S OAKDALE DR Stillwater OK 74074',\n",
       "       '409 S RIDGEWOOD RD Stillwater OK 74074',\n",
       "       '409 S STANLEY ST Stillwater OK 74074',\n",
       "       '409 S WEST ST Stillwater OK 74074',\n",
       "       '409 W 9TH AVE Stillwater OK 74074',\n",
       "       '410 E ROGERS DR Stillwater OK 74074',\n",
       "       '410 S LINCOLN ST Stillwater OK 74074',\n",
       "       '4100 W 19TH AVE Stillwater OK 74074',\n",
       "       '4101 W WESTBROOK DR Stillwater OK 74074',\n",
       "       '4103 W GLENCOE RD Stillwater OK 74075',\n",
       "       '4104 E 19TH AVE Stillwater OK 74074',\n",
       "       '4107 E SIERRA LN Stillwater OK 74074',\n",
       "       '4107 W WESTBROOK DR Stillwater OK 74074',\n",
       "       '411 S OAKDALE DR Stillwater OK 74074',\n",
       "       '4111 W 18TH AVE Stillwater OK 74074',\n",
       "       '4112 E 19TH AVE Stillwater OK 74074',\n",
       "       '4116 E 19TH AVE Stillwater OK 74074',\n",
       "       '412 E 13TH AVE Stillwater OK 74074',\n",
       "       '412 E 58TH AVE Stillwater OK 74074',\n",
       "       '412 S DUCK ST Stillwater OK 74074',\n",
       "       '412 S LISA CT Stillwater OK 74074',\n",
       "       '412 W 5TH AVE Stillwater OK 74074',\n",
       "       '4124 E SIERRA LN Stillwater OK 74074',\n",
       "       '4124 N WASHINGTON ST Stillwater OK 74075',\n",
       "       '413 E 32ND AVE Stillwater OK 74074',\n",
       "       '413 E COPPER CANYON AVE Stillwater OK 74075',\n",
       "       '413 S KNOBLOCK ST Stillwater OK 74074',\n",
       "       '413 S LISA CT Stillwater OK 74074',\n",
       "       '413 S OAKDALE DR Stillwater OK 74074',\n",
       "       '413 W MAPLE AVE Stillwater OK 74074',\n",
       "       '4134 W 18TH AVE Stillwater OK 74074',\n",
       "       '414 E BRITTON CT Stillwater OK 74074',\n",
       "       '414 E COPPER CANYON AVE Stillwater OK 74075',\n",
       "       '414 S DEBRA CT Stillwater OK 74074',\n",
       "       '414 W 3RD AVE Stillwater OK 74074',\n",
       "       '414 W 5TH AVE Stillwater OK 74074',\n",
       "       '415 E BRITTON CT Stillwater OK 74075',\n",
       "       '415 E LIBERTY AVE Stillwater OK 74074',\n",
       "       '415 N WILDWOOD ACRES CIR Stillwater OK 74074',\n",
       "       '415 S COLLINS CT Stillwater OK 74074',\n",
       "       '415 S DUNCAN ST Stillwater OK 74074',\n",
       "       '415 S HUSBAND ST Stillwater OK 74074',\n",
       "       '415 W 11TH AVE Stillwater OK 74074',\n",
       "       '415 W 5TH AVE Stillwater OK 74074',\n",
       "       '415 W 8TH AVE Stillwater OK 74074',\n",
       "       '415 W 9TH AVE Stillwater OK 74074',\n",
       "       '415 W BURRIS RD Stillwater OK 74074',\n",
       "       '416 E BRITTON CT Stillwater OK 74074',\n",
       "       '416 E LIBERTY AVE Stillwater OK 74074',\n",
       "       '416 S DUCK ST Stillwater OK 74074',\n",
       "       '416 S DUNCAN ST Stillwater OK 74074',\n",
       "       '416 S HUSBAND ST Stillwater OK 74074',\n",
       "       '416 W 4TH AVE Stillwater OK 74074',\n",
       "       '417 E LIBERTY AVE Stillwater OK 74074',\n",
       "       '417 S BURDICK ST Stillwater OK 74074',\n",
       "       '417 S DUNCAN ST Stillwater OK 74074',\n",
       "       '417 S HESTER ST Stillwater OK 74074',\n",
       "       '417 S HUSBAND ST Stillwater OK 74074',\n",
       "       '417 S KNOBLOCK ST Stillwater OK 74074',\n",
       "       '417 S PAYNE ST Stillwater OK 74074',\n",
       "       '417 W 4TH AVE Stillwater OK 74074',\n",
       "       '418 N MANNING ST Stillwater OK 74074',\n",
       "       '418 DOBBS LN Stillwater OK 74075',\n",
       "       '418 S GRAY ST Stillwater OK 74074',\n",
       "       '418 S HUSBAND ST Stillwater OK 74074',\n",
       "       '418 S WEST ST Stillwater OK 74074',\n",
       "       '419 E BRITTON CT Stillwater OK 74075',\n",
       "       '419 S DUNCAN ST Stillwater OK 74074',\n",
       "       '419 S HESTER ST Stillwater OK 74074',\n",
       "       '419 S LEWIS ST Stillwater OK 74074',\n",
       "       '419 S OAKDALE DR Stillwater OK 74074',\n",
       "       '419 S STANLEY ST Stillwater OK 74074',\n",
       "       '419 W 5TH AVE Stillwater OK 74074',\n",
       "       '42 YELLOW BRICK DR Stillwater OK 74074',\n",
       "       '420 E BRITTON CT Stillwater OK 74075',\n",
       "       '420 E TOPAZ AVE Stillwater OK 74075',\n",
       "       '420 S LINCOLN ST Stillwater OK 74074',\n",
       "       '420 S WALNUT ST Stillwater OK 74074',\n",
       "       '4203 S WESTERN RD Stillwater OK 74074',\n",
       "       '4208 W PRESCOT DR Stillwater OK 74074',\n",
       "       '421 E BRITTON CT Stillwater OK 74075',\n",
       "       '421 E RICHMOND RD Stillwater OK 74074',\n",
       "       '421 W 12TH AVE Stillwater OK 74074',\n",
       "       '421 W 3RD AVE Stillwater OK 74074',\n",
       "       '421 W 5TH AVE Stillwater OK 74074',\n",
       "       '4210 W AGGIE DR Stillwater OK 74074',\n",
       "       '4215 N WASHINGTON ST Stillwater OK 74075',\n",
       "       '4216 W PRESCOT DR Stillwater OK 74074',\n",
       "       '4218 W AGGIE DR Stillwater OK 74074',\n",
       "       '4224 W COUNTRY CLUB DR Stillwater OK 74074',\n",
       "       '4226 W COUNTRY CLUB DR Stillwater OK 74074',\n",
       "       '423 E BRITTON CT Stillwater OK 74075',\n",
       "       '423 E LIBERTY AVE Stillwater OK 74074',\n",
       "       '423 S DUCK ST Stillwater OK 74074',\n",
       "       '423 S DUNCAN ST Stillwater OK 74074',\n",
       "       '423 S GRAY ST Stillwater OK 74074',\n",
       "       '423 S HESTER ST Stillwater OK 74074',\n",
       "       '423 S KNOBLOCK ST Stillwater OK 74074',\n",
       "       '423 S ORCHARD ST Stillwater OK 74074',\n",
       "       '424 E ROGERS DR Stillwater OK 74074',\n",
       "       '424 N HUSBAND ST Stillwater OK 74075',\n",
       "       '424 S GRAY ST Stillwater OK 74074',\n",
       "       '424 S WEST ST Stillwater OK 74074',\n",
       "       '424 W 3RD AVE Stillwater OK 74074',\n",
       "       '424 W 5TH AVE Stillwater OK 74074',\n",
       "       '425 N JARDOT RD Stillwater OK 74074',\n",
       "       '426 S WEST ST Stillwater OK 74074',\n",
       "       '43 PINEWOOD CIR Stillwater OK 74074',\n",
       "       '43 WINDSOR CIR Stillwater OK 74074',\n",
       "       '4300 W AGGIE DR Stillwater OK 74074',\n",
       "       '4303 W COUNTRY CLUB DR Stillwater OK 74074',\n",
       "       '4304 W 44TH AVE Stillwater OK 74074',\n",
       "       '4305 W AGGIE DR Stillwater OK 74074',\n",
       "       '4307 W PRESCOT DR Stillwater OK 74074',\n",
       "       '4308 E SIERRA LN Stillwater OK 74074',\n",
       "       '4308 W PRESCOT DR Stillwater OK 74074',\n",
       "       '4308 W WILLOW RUN Stillwater OK 74074',\n",
       "       '4309 W AGGIE DR Stillwater OK 74074',\n",
       "       '4312 W WILLOW RUN Stillwater OK 74074',\n",
       "       '4313 W WILLOW RUN Stillwater OK 74074',\n",
       "       '4316 E JENNA LN Stillwater OK 74074',\n",
       "       '4316 W WILLOW RUN Stillwater OK 74074',\n",
       "       '4317 W WILLOW RUN Stillwater OK 74074',\n",
       "       '4319 W AGGIE DR Stillwater OK 74074',\n",
       "       '4319 W COUNTRY CLUB DR Stillwater OK 74074',\n",
       "       '4320 E BRAXTON LN Stillwater OK 74074',\n",
       "       '4320 E ZACHARY LN Stillwater OK 74074',\n",
       "       '4320 S NIGHTFALL LN Stillwater OK 74074',\n",
       "       '4320 W WILLOW RUN Stillwater OK 74074',\n",
       "       '4322 W COUNTRY CLUB DR Stillwater OK 74074',\n",
       "       '4323 W COUNTRY CLUB DR Stillwater OK 74074',\n",
       "       '4324 W PRESCOT DR Stillwater OK 74074',\n",
       "       '4338 N WASHINGTON ST Stillwater OK 74075',\n",
       "       '44 YELLOW BRICK DR Stillwater OK 74074',\n",
       "       '4400 E ZACHARY LN Stillwater OK 74074',\n",
       "       '4401 W PRESCOT DR Stillwater OK 74074',\n",
       "       '4401 W WILLOW RUN Stillwater OK 74074',\n",
       "       '4402 N PARKVIEW CT Stillwater OK 74074',\n",
       "       '4402 W PRESCOT DR Stillwater OK 74074',\n",
       "       '4404 E SIERRA LN Stillwater OK 74074',\n",
       "       '4405 N WASHINGTON ST Stillwater OK 74075',\n",
       "       '4408 E ZACHARY LN Stillwater OK 74074',\n",
       "       '4409 W COUNTRY CLUB DR Stillwater OK 74074',\n",
       "       '4412 E SIERRA LN Stillwater OK 74074',\n",
       "       '4413 N PARKVIEW CT Stillwater OK 74074',\n",
       "       '4414 W MCELROY RD Stillwater OK 74075',\n",
       "       '4414 W PRESCOT DR Stillwater OK 74074',\n",
       "       '4415 N WASHINGTON ST Stillwater OK 74075',\n",
       "       '4420 W PRESCOT DR Stillwater OK 74074',\n",
       "       '4421 W MCMURTRY RD Stillwater OK 74075',\n",
       "       '4423 W AGGIE DR Stillwater OK 74074',\n",
       "       '4425 N WASHINGTON ST Stillwater OK 74075',\n",
       "       '4425 W PRESCOT DR Stillwater OK 74074',\n",
       "       '4429 W PRESCOT DR Stillwater OK 74074',\n",
       "       '4500 W AGGIE DR Stillwater OK 74074',\n",
       "       '4500 W FURMAN DR Stillwater OK 74075',\n",
       "       '4500 W YOST RD Stillwater OK 74075',\n",
       "       '4501 W FURMAN DR Stillwater OK 74075',\n",
       "       '4502 N DAVIS CT Stillwater OK 74074',\n",
       "       '4502 W PRESCOT DR Stillwater OK 74074',\n",
       "       '4504 W AGGIE DR Stillwater OK 74074',\n",
       "       '4505 W TERRITORY LN Stillwater OK 74075',\n",
       "       '4507 N WASHINGTON ST Stillwater OK 74075',\n",
       "       '4508 S BRUSH CREEK RD Stillwater OK 74074',\n",
       "       '4510 N GREENVALE CIR Stillwater OK 74074',\n",
       "       '4511 N GREENVALE CIR Stillwater OK 74074',\n",
       "       '4512 W AGGIE DR Stillwater OK 74074',\n",
       "       '4514 W FURMAN DR Stillwater OK 74075',\n",
       "       '4514 W PRESCOT DR Stillwater OK 74074',\n",
       "       '4515 S HUSBAND ST Stillwater OK 74074',\n",
       "       '4517 N WASHINGTON ST Stillwater OK 74075',\n",
       "       '4519 W AGGIE DR Stillwater OK 74074',\n",
       "       '4520 W AGGIE DR Stillwater OK 74074',\n",
       "       '4526 N DAVIS CT Stillwater OK 74074',\n",
       "       '4527 N WASHINGTON ST Stillwater OK 74075',\n",
       "       '4599 N WASHINGTON ST Stillwater OK 74075',\n",
       "       '46 ARBOR CIR Stillwater OK 74074',\n",
       "       '4603 N WASHINGTON ST Stillwater OK 74075',\n",
       "       '4603 W COUNTRY CLUB DR Stillwater OK 74074',\n",
       "       '4604 W FURMAN DR Stillwater OK 74075',\n",
       "       '4605 N WILLIAM CT Stillwater OK 74074',\n",
       "       '4606 E PINTO DR Stillwater OK 74074',\n",
       "       '4606 N BRITTON DR Stillwater OK 74074',\n",
       "       '4607 E 19TH AVE Stillwater OK 74074',\n",
       "       '4609 E 19TH AVE Stillwater OK 74074',\n",
       "       '4611 N EVERGREEN ST Stillwater OK 74074',\n",
       "       '4611 N WILLIAM CT Stillwater OK 74074',\n",
       "       '4616 N WASHINGTON ST Stillwater OK 74075',\n",
       "       '4617 N WASHINGTON ST Stillwater OK 74075',\n",
       "       '4618 N WILLIAM CT Stillwater OK 74074',\n",
       "       '4621 E HALEY LN Stillwater OK 74074',\n",
       "       '4623 N WASHINGTON ST Stillwater OK 74075',\n",
       "       '4624 W 18TH AVE Stillwater OK 74074',\n",
       "       '4701 N WASHINGTON ST Stillwater OK 74075',\n",
       "       '4701 W 18TH AVE Stillwater OK 74074',\n",
       "       '4702 S COYLE RD Stillwater OK 74074',\n",
       "       '4705 S ALOYSIUS CIR Stillwater OK 74074',\n",
       "       '4705 W 18TH AVE Stillwater OK 74074',\n",
       "       '4706 E PINTO DR Stillwater OK 74074',\n",
       "       '4707 E 19TH AVE Stillwater OK 74074',\n",
       "       '4709 N BRITTON DR Stillwater OK 74074',\n",
       "       '4710 W 56TH AVE Stillwater OK 74074',\n",
       "       '4710 W FURMAN DR Stillwater OK 74075',\n",
       "       '4711 W 18TH AVE Stillwater OK 74074',\n",
       "       '4713 W 18TH AVE Stillwater OK 74074',\n",
       "       '4717 E WHITE OAK DR Stillwater OK 74074',\n",
       "       '4717 N COUNTRY CLUB RD Stillwater OK 74075',\n",
       "       '4719 N WASHINGTON ST Stillwater OK 74075',\n",
       "       '4721 S WESTERN RD Stillwater OK 74074',\n",
       "       '4721 W 18TH AVE Stillwater OK 74074',\n",
       "       '4722 W SANTA FE CT Stillwater OK 74074',\n",
       "       '4801 E PINTO DR Stillwater OK 74074',\n",
       "       '4802 N BRITTON DR Stillwater OK 74074',\n",
       "       '4802 W OAK CREST RD Stillwater OK 74075',\n",
       "       '4804 W OAK CREST RD Stillwater OK 74075',\n",
       "       '4806 N BRITTON DR Stillwater OK 74074',\n",
       "       '4807 N BRITTON DR Stillwater OK 74074',\n",
       "       '4809 N BRITTON DR Stillwater OK 74074',\n",
       "       '4811 N BRITTON DR Stillwater OK 74074',\n",
       "       '4811 W BRIARCREEK DR Stillwater OK 74074',\n",
       "       '4812 S RANGE RD Stillwater OK 74074',\n",
       "       '4813 N BRITTON DR Stillwater OK 74074',\n",
       "       '4815 N BRITTON DR Stillwater OK 74074',\n",
       "       '4817 N WASHINGTON ST Stillwater OK 74075',\n",
       "       '4817 S ALOYSIUS CIR Stillwater OK 74074',\n",
       "       '4820 S COUNTRY CLUB RD Stillwater OK 74074',\n",
       "       '4821 W OAK CREST RD Stillwater OK 74075',\n",
       "       '4821 W REESE LANDING Stillwater OK 74075',\n",
       "       '4823 N BRITTON DR Stillwater OK 74074',\n",
       "       '4823 W CRESTVIEW AVE Stillwater OK 74074',\n",
       "       '4824 W CRESTVIEW AVE Stillwater OK 74074',\n",
       "       '4825 N BRITTON DR Stillwater OK 74074',\n",
       "       '4904 W REESE LANDING Stillwater OK 74075',\n",
       "       '4904 W WINDMILL LN Stillwater OK 74074',\n",
       "       '4905 S DEERFIELD DR Stillwater OK 74074',\n",
       "       '4906 W VENA LN Stillwater OK 74074',\n",
       "       '4907 W VENA LN Stillwater OK 74074',\n",
       "       '4908 N BRITTON DR Stillwater OK 74074',\n",
       "       '4910 N BARRETT CT Stillwater OK 74075',\n",
       "       '4910 W JA LINDA LOU CT Stillwater OK 74074',\n",
       "       '4911 W REESE LANDING Stillwater OK 74075',\n",
       "       '4913 W WINDMILL LN Stillwater OK 74074',\n",
       "       '4916 W VENA LN Stillwater OK 74075',\n",
       "       '4916 W WINDMILL LN Stillwater OK 74074',\n",
       "       '4917 N BARRETT CT Stillwater OK 74075',\n",
       "       '4917 W WINDMILL LN Stillwater OK 74074',\n",
       "       '4918 E HALEY LN Stillwater OK 74075',\n",
       "       '4918 W MERCEDES LN Stillwater OK 74075',\n",
       "       '4919 N BRITTON DR Stillwater OK 74074',\n",
       "       '4920 E KARA DR Stillwater OK 74074',\n",
       "       '4922 N BARRETT CT Stillwater OK 74075',\n",
       "       '4922 W OAK CREST RD Stillwater OK 74075',\n",
       "       '4927 N BRITTON DR Stillwater OK 74074',\n",
       "       '4931 N BRITTON DR Stillwater OK 74074',\n",
       "       '4933 N BRITTON DR Stillwater OK 74075',\n",
       "       '498 E VIRGINIA AVE Stillwater OK 74075',\n",
       "       '5 ROKA RIDGE RD Stillwater OK 74075',\n",
       "       '5 SUNNY LN Stillwater OK 74075',\n",
       "       '500 N SANGRE BEND Stillwater OK 74075',\n",
       "       '500 S BLAKELEY ST Stillwater OK 74074',\n",
       "       '5000 N NANCY LEE DR Stillwater OK 74075',\n",
       "       '5001 N NANCY LEE DR Stillwater OK 74075'], dtype=object)"
      ]
     },
     "execution_count": 128,
     "metadata": {},
     "output_type": "execute_result"
    }
   ],
   "source": [
    "unique_address = df['full_address'].unique()\n",
    "unique_address"
   ]
  },
  {
   "cell_type": "code",
   "execution_count": 129,
   "metadata": {},
   "outputs": [
    {
     "data": {
      "text/plain": [
       "999"
      ]
     },
     "execution_count": 129,
     "metadata": {},
     "output_type": "execute_result"
    }
   ],
   "source": [
    "len(unique_address)"
   ]
  },
  {
   "cell_type": "code",
   "execution_count": 130,
   "metadata": {},
   "outputs": [],
   "source": [
    "from selenium import webdriver\n",
    "from selenium.webdriver.common.by import By\n",
    "from selenium.webdriver.common.keys import Keys\n",
    "from selenium.webdriver.support.ui import WebDriverWait\n",
    "from selenium.webdriver.support import expected_conditions as EC\n",
    "import time"
   ]
  },
  {
   "cell_type": "code",
   "execution_count": 131,
   "metadata": {},
   "outputs": [],
   "source": [
    "driver = webdriver.Firefox(executable_path=r'/Users/shreyandattachakraborty/Desktop/geckodriver')"
   ]
  },
  {
   "cell_type": "code",
   "execution_count": 132,
   "metadata": {},
   "outputs": [],
   "source": [
    "# web_url = 'https://geomap.ffiec.gov/ffiecgeomap/'\n",
    "# driver.get(web_url)\n",
    "\n",
    "# WebDriverWait(driver, timeout=10).until(lambda d: d.find_element_by_xpath('//*[@id=\"searchDiv-input\"]'))\n",
    "# address_search = driver.find_element_by_xpath('//*[@id=\"searchDiv-input\"]')\n",
    "# address_search.send_keys(unique_address[1] + Keys.ENTER)\n",
    "# WebDriverWait(driver, timeout=20)\n",
    "# tract_code = driver.find_element_by_xpath('//*[@id=\"TractCode\"]')\n",
    "# tc_text = tract_code.text\n",
    "# tc_text"
   ]
  },
  {
   "cell_type": "code",
   "execution_count": 133,
   "metadata": {},
   "outputs": [
    {
     "data": {
      "text/html": [
       "<div>\n",
       "<style scoped>\n",
       "    .dataframe tbody tr th:only-of-type {\n",
       "        vertical-align: middle;\n",
       "    }\n",
       "\n",
       "    .dataframe tbody tr th {\n",
       "        vertical-align: top;\n",
       "    }\n",
       "\n",
       "    .dataframe thead th {\n",
       "        text-align: right;\n",
       "    }\n",
       "</style>\n",
       "<table border=\"1\" class=\"dataframe\">\n",
       "  <thead>\n",
       "    <tr style=\"text-align: right;\">\n",
       "      <th></th>\n",
       "      <th>Address</th>\n",
       "      <th>Census_Tract</th>\n",
       "    </tr>\n",
       "  </thead>\n",
       "  <tbody>\n",
       "  </tbody>\n",
       "</table>\n",
       "</div>"
      ],
      "text/plain": [
       "Empty DataFrame\n",
       "Columns: [Address, Census_Tract]\n",
       "Index: []"
      ]
     },
     "execution_count": 133,
     "metadata": {},
     "output_type": "execute_result"
    }
   ],
   "source": [
    "df_address_census_tract = pd.DataFrame(columns = ['Address', 'Census_Tract'])\n",
    "df_address_census_tract"
   ]
  },
  {
   "cell_type": "code",
   "execution_count": 134,
   "metadata": {},
   "outputs": [
    {
     "data": {
      "text/plain": [
       "<selenium.webdriver.firefox.webelement.FirefoxWebElement (session=\"db9efa95-0c07-44a8-840e-e31fdd133369\", element=\"d1faedb2-ae25-4b68-ac01-ca57b5b18ffb\")>"
      ]
     },
     "execution_count": 134,
     "metadata": {},
     "output_type": "execute_result"
    }
   ],
   "source": [
    "web_url = 'https://geomap.ffiec.gov/ffiecgeomap/'\n",
    "driver.get(web_url)\n",
    "\n",
    "WebDriverWait(driver, timeout=10).until(lambda d: d.find_element_by_xpath('//*[@id=\"searchDiv-input\"]'))"
   ]
  },
  {
   "cell_type": "code",
   "execution_count": 135,
   "metadata": {
    "scrolled": true
   },
   "outputs": [
    {
     "name": "stdout",
     "output_type": "stream",
     "text": [
      "2409 POSSE TRAIL Stillwater OK 74074 \n"
     ]
    },
    {
     "name": "stderr",
     "output_type": "stream",
     "text": [
      "<ipython-input-135-c99a2411e0a3>:8: FutureWarning: The frame.append method is deprecated and will be removed from pandas in a future version. Use pandas.concat instead.\n",
      "  df_address_census_tract = df_address_census_tract.append({'Address':i,'Census_Tract':tc_text},ignore_index=True)\n"
     ]
    },
    {
     "name": "stdout",
     "output_type": "stream",
     "text": [
      "2410 N NORTH STAR DR Stillwater OK 74074 \n"
     ]
    },
    {
     "name": "stderr",
     "output_type": "stream",
     "text": [
      "<ipython-input-135-c99a2411e0a3>:8: FutureWarning: The frame.append method is deprecated and will be removed from pandas in a future version. Use pandas.concat instead.\n",
      "  df_address_census_tract = df_address_census_tract.append({'Address':i,'Census_Tract':tc_text},ignore_index=True)\n"
     ]
    },
    {
     "name": "stdout",
     "output_type": "stream",
     "text": [
      "2410 N PARK DR Stillwater OK 74074 0101.01\n"
     ]
    },
    {
     "name": "stderr",
     "output_type": "stream",
     "text": [
      "<ipython-input-135-c99a2411e0a3>:8: FutureWarning: The frame.append method is deprecated and will be removed from pandas in a future version. Use pandas.concat instead.\n",
      "  df_address_census_tract = df_address_census_tract.append({'Address':i,'Census_Tract':tc_text},ignore_index=True)\n"
     ]
    },
    {
     "name": "stdout",
     "output_type": "stream",
     "text": [
      "2410 S TEAL ST Stillwater OK 74074 0109.02\n"
     ]
    },
    {
     "name": "stderr",
     "output_type": "stream",
     "text": [
      "<ipython-input-135-c99a2411e0a3>:8: FutureWarning: The frame.append method is deprecated and will be removed from pandas in a future version. Use pandas.concat instead.\n",
      "  df_address_census_tract = df_address_census_tract.append({'Address':i,'Census_Tract':tc_text},ignore_index=True)\n"
     ]
    },
    {
     "name": "stdout",
     "output_type": "stream",
     "text": [
      "2411 N GLENWOOD DR Stillwater OK 74075 0101.01\n"
     ]
    },
    {
     "name": "stderr",
     "output_type": "stream",
     "text": [
      "<ipython-input-135-c99a2411e0a3>:8: FutureWarning: The frame.append method is deprecated and will be removed from pandas in a future version. Use pandas.concat instead.\n",
      "  df_address_census_tract = df_address_census_tract.append({'Address':i,'Census_Tract':tc_text},ignore_index=True)\n"
     ]
    },
    {
     "name": "stdout",
     "output_type": "stream",
     "text": [
      "2411 N HUSBAND PL Stillwater OK 74074 0101.01\n"
     ]
    },
    {
     "name": "stderr",
     "output_type": "stream",
     "text": [
      "<ipython-input-135-c99a2411e0a3>:8: FutureWarning: The frame.append method is deprecated and will be removed from pandas in a future version. Use pandas.concat instead.\n",
      "  df_address_census_tract = df_address_census_tract.append({'Address':i,'Census_Tract':tc_text},ignore_index=True)\n"
     ]
    },
    {
     "name": "stdout",
     "output_type": "stream",
     "text": [
      "2411 N JEFFERSON ST Stillwater OK 74075 0102.01\n"
     ]
    },
    {
     "name": "stderr",
     "output_type": "stream",
     "text": [
      "<ipython-input-135-c99a2411e0a3>:8: FutureWarning: The frame.append method is deprecated and will be removed from pandas in a future version. Use pandas.concat instead.\n",
      "  df_address_census_tract = df_address_census_tract.append({'Address':i,'Census_Tract':tc_text},ignore_index=True)\n"
     ]
    },
    {
     "name": "stdout",
     "output_type": "stream",
     "text": [
      "2411 N KELLER DR Stillwater OK 74074 0101.01\n"
     ]
    },
    {
     "name": "stderr",
     "output_type": "stream",
     "text": [
      "<ipython-input-135-c99a2411e0a3>:8: FutureWarning: The frame.append method is deprecated and will be removed from pandas in a future version. Use pandas.concat instead.\n",
      "  df_address_census_tract = df_address_census_tract.append({'Address':i,'Census_Tract':tc_text},ignore_index=True)\n"
     ]
    },
    {
     "name": "stdout",
     "output_type": "stream",
     "text": [
      "2411 N NORTH STAR DR Stillwater OK 74074 \n"
     ]
    },
    {
     "name": "stderr",
     "output_type": "stream",
     "text": [
      "<ipython-input-135-c99a2411e0a3>:8: FutureWarning: The frame.append method is deprecated and will be removed from pandas in a future version. Use pandas.concat instead.\n",
      "  df_address_census_tract = df_address_census_tract.append({'Address':i,'Census_Tract':tc_text},ignore_index=True)\n"
     ]
    },
    {
     "name": "stdout",
     "output_type": "stream",
     "text": [
      "2411 N PARK DR Stillwater OK 74074 0101.01\n"
     ]
    },
    {
     "name": "stderr",
     "output_type": "stream",
     "text": [
      "<ipython-input-135-c99a2411e0a3>:8: FutureWarning: The frame.append method is deprecated and will be removed from pandas in a future version. Use pandas.concat instead.\n",
      "  df_address_census_tract = df_address_census_tract.append({'Address':i,'Census_Tract':tc_text},ignore_index=True)\n"
     ]
    },
    {
     "name": "stdout",
     "output_type": "stream",
     "text": [
      "2412 POSSE TRAIL Stillwater OK 74074 \n"
     ]
    },
    {
     "name": "stderr",
     "output_type": "stream",
     "text": [
      "<ipython-input-135-c99a2411e0a3>:8: FutureWarning: The frame.append method is deprecated and will be removed from pandas in a future version. Use pandas.concat instead.\n",
      "  df_address_census_tract = df_address_census_tract.append({'Address':i,'Census_Tract':tc_text},ignore_index=True)\n"
     ]
    },
    {
     "name": "stdout",
     "output_type": "stream",
     "text": [
      "2412 S TEAL ST Stillwater OK 74074 0109.02\n"
     ]
    },
    {
     "name": "stderr",
     "output_type": "stream",
     "text": [
      "<ipython-input-135-c99a2411e0a3>:8: FutureWarning: The frame.append method is deprecated and will be removed from pandas in a future version. Use pandas.concat instead.\n",
      "  df_address_census_tract = df_address_census_tract.append({'Address':i,'Census_Tract':tc_text},ignore_index=True)\n"
     ]
    },
    {
     "name": "stdout",
     "output_type": "stream",
     "text": [
      "2413 W 22ND AVE Stillwater OK 74074 0109.02\n"
     ]
    },
    {
     "name": "stderr",
     "output_type": "stream",
     "text": [
      "<ipython-input-135-c99a2411e0a3>:8: FutureWarning: The frame.append method is deprecated and will be removed from pandas in a future version. Use pandas.concat instead.\n",
      "  df_address_census_tract = df_address_census_tract.append({'Address':i,'Census_Tract':tc_text},ignore_index=True)\n"
     ]
    },
    {
     "name": "stdout",
     "output_type": "stream",
     "text": [
      "2414 N GLENWOOD DR Stillwater OK 74075 0101.01\n"
     ]
    },
    {
     "name": "stderr",
     "output_type": "stream",
     "text": [
      "<ipython-input-135-c99a2411e0a3>:8: FutureWarning: The frame.append method is deprecated and will be removed from pandas in a future version. Use pandas.concat instead.\n",
      "  df_address_census_tract = df_address_census_tract.append({'Address':i,'Census_Tract':tc_text},ignore_index=True)\n"
     ]
    },
    {
     "name": "stdout",
     "output_type": "stream",
     "text": [
      "2414 N HUSBAND PL Stillwater OK 74074 0101.01\n"
     ]
    },
    {
     "name": "stderr",
     "output_type": "stream",
     "text": [
      "<ipython-input-135-c99a2411e0a3>:8: FutureWarning: The frame.append method is deprecated and will be removed from pandas in a future version. Use pandas.concat instead.\n",
      "  df_address_census_tract = df_address_census_tract.append({'Address':i,'Census_Tract':tc_text},ignore_index=True)\n"
     ]
    },
    {
     "name": "stdout",
     "output_type": "stream",
     "text": [
      "2414 N WASHINGTON ST Stillwater OK 74075 0102.01\n"
     ]
    },
    {
     "name": "stderr",
     "output_type": "stream",
     "text": [
      "<ipython-input-135-c99a2411e0a3>:8: FutureWarning: The frame.append method is deprecated and will be removed from pandas in a future version. Use pandas.concat instead.\n",
      "  df_address_census_tract = df_address_census_tract.append({'Address':i,'Census_Tract':tc_text},ignore_index=True)\n"
     ]
    },
    {
     "name": "stdout",
     "output_type": "stream",
     "text": [
      "2415 N MONROE ST Stillwater OK 74075 0102.01\n"
     ]
    },
    {
     "name": "stderr",
     "output_type": "stream",
     "text": [
      "<ipython-input-135-c99a2411e0a3>:8: FutureWarning: The frame.append method is deprecated and will be removed from pandas in a future version. Use pandas.concat instead.\n",
      "  df_address_census_tract = df_address_census_tract.append({'Address':i,'Census_Tract':tc_text},ignore_index=True)\n"
     ]
    },
    {
     "name": "stdout",
     "output_type": "stream",
     "text": [
      "2415 N NORTH STAR DR Stillwater OK 74074 \n"
     ]
    },
    {
     "name": "stderr",
     "output_type": "stream",
     "text": [
      "<ipython-input-135-c99a2411e0a3>:8: FutureWarning: The frame.append method is deprecated and will be removed from pandas in a future version. Use pandas.concat instead.\n",
      "  df_address_census_tract = df_address_census_tract.append({'Address':i,'Census_Tract':tc_text},ignore_index=True)\n"
     ]
    },
    {
     "name": "stdout",
     "output_type": "stream",
     "text": [
      "2415 N PARK DR Stillwater OK 74074 0101.01\n"
     ]
    },
    {
     "name": "stderr",
     "output_type": "stream",
     "text": [
      "<ipython-input-135-c99a2411e0a3>:8: FutureWarning: The frame.append method is deprecated and will be removed from pandas in a future version. Use pandas.concat instead.\n",
      "  df_address_census_tract = df_address_census_tract.append({'Address':i,'Census_Tract':tc_text},ignore_index=True)\n"
     ]
    },
    {
     "name": "stdout",
     "output_type": "stream",
     "text": [
      "2415 POSSE TRAIL Stillwater OK 74074 \n"
     ]
    },
    {
     "name": "stderr",
     "output_type": "stream",
     "text": [
      "<ipython-input-135-c99a2411e0a3>:8: FutureWarning: The frame.append method is deprecated and will be removed from pandas in a future version. Use pandas.concat instead.\n",
      "  df_address_census_tract = df_address_census_tract.append({'Address':i,'Census_Tract':tc_text},ignore_index=True)\n"
     ]
    },
    {
     "name": "stdout",
     "output_type": "stream",
     "text": [
      "2415 S MELISSA LN Stillwater OK 74074 0111.01\n"
     ]
    },
    {
     "name": "stderr",
     "output_type": "stream",
     "text": [
      "<ipython-input-135-c99a2411e0a3>:8: FutureWarning: The frame.append method is deprecated and will be removed from pandas in a future version. Use pandas.concat instead.\n",
      "  df_address_census_tract = df_address_census_tract.append({'Address':i,'Census_Tract':tc_text},ignore_index=True)\n"
     ]
    },
    {
     "name": "stdout",
     "output_type": "stream",
     "text": [
      "2415 W 40TH AVE Stillwater OK 74074 0110.02\n"
     ]
    },
    {
     "name": "stderr",
     "output_type": "stream",
     "text": [
      "<ipython-input-135-c99a2411e0a3>:8: FutureWarning: The frame.append method is deprecated and will be removed from pandas in a future version. Use pandas.concat instead.\n",
      "  df_address_census_tract = df_address_census_tract.append({'Address':i,'Census_Tract':tc_text},ignore_index=True)\n"
     ]
    },
    {
     "name": "stdout",
     "output_type": "stream",
     "text": [
      "2416 N GLENWOOD DR Stillwater OK 74075 0101.01\n"
     ]
    },
    {
     "name": "stderr",
     "output_type": "stream",
     "text": [
      "<ipython-input-135-c99a2411e0a3>:8: FutureWarning: The frame.append method is deprecated and will be removed from pandas in a future version. Use pandas.concat instead.\n",
      "  df_address_census_tract = df_address_census_tract.append({'Address':i,'Census_Tract':tc_text},ignore_index=True)\n"
     ]
    },
    {
     "name": "stdout",
     "output_type": "stream",
     "text": [
      "2416 N NORTH STAR DR Stillwater OK 74074 \n"
     ]
    },
    {
     "name": "stderr",
     "output_type": "stream",
     "text": [
      "<ipython-input-135-c99a2411e0a3>:8: FutureWarning: The frame.append method is deprecated and will be removed from pandas in a future version. Use pandas.concat instead.\n",
      "  df_address_census_tract = df_address_census_tract.append({'Address':i,'Census_Tract':tc_text},ignore_index=True)\n"
     ]
    },
    {
     "name": "stdout",
     "output_type": "stream",
     "text": [
      "2416 S TEAL ST Stillwater OK 74074 0109.02\n"
     ]
    },
    {
     "name": "stderr",
     "output_type": "stream",
     "text": [
      "<ipython-input-135-c99a2411e0a3>:8: FutureWarning: The frame.append method is deprecated and will be removed from pandas in a future version. Use pandas.concat instead.\n",
      "  df_address_census_tract = df_address_census_tract.append({'Address':i,'Census_Tract':tc_text},ignore_index=True)\n"
     ]
    },
    {
     "name": "stdout",
     "output_type": "stream",
     "text": [
      "2416 W 22ND AVE Stillwater OK 74074 0109.02\n"
     ]
    },
    {
     "name": "stderr",
     "output_type": "stream",
     "text": [
      "<ipython-input-135-c99a2411e0a3>:8: FutureWarning: The frame.append method is deprecated and will be removed from pandas in a future version. Use pandas.concat instead.\n",
      "  df_address_census_tract = df_address_census_tract.append({'Address':i,'Census_Tract':tc_text},ignore_index=True)\n"
     ]
    },
    {
     "name": "stdout",
     "output_type": "stream",
     "text": [
      "2416 W 26TH AVE Stillwater OK 74074 0109.02\n"
     ]
    },
    {
     "name": "stderr",
     "output_type": "stream",
     "text": [
      "<ipython-input-135-c99a2411e0a3>:8: FutureWarning: The frame.append method is deprecated and will be removed from pandas in a future version. Use pandas.concat instead.\n",
      "  df_address_census_tract = df_address_census_tract.append({'Address':i,'Census_Tract':tc_text},ignore_index=True)\n"
     ]
    },
    {
     "name": "stdout",
     "output_type": "stream",
     "text": [
      "2417 N GLENWOOD DR Stillwater OK 74075 0101.01\n"
     ]
    },
    {
     "name": "stderr",
     "output_type": "stream",
     "text": [
      "<ipython-input-135-c99a2411e0a3>:8: FutureWarning: The frame.append method is deprecated and will be removed from pandas in a future version. Use pandas.concat instead.\n",
      "  df_address_census_tract = df_address_census_tract.append({'Address':i,'Census_Tract':tc_text},ignore_index=True)\n"
     ]
    },
    {
     "name": "stdout",
     "output_type": "stream",
     "text": [
      "2417 W 22ND AVE Stillwater OK 74074 0109.02\n"
     ]
    },
    {
     "name": "stderr",
     "output_type": "stream",
     "text": [
      "<ipython-input-135-c99a2411e0a3>:8: FutureWarning: The frame.append method is deprecated and will be removed from pandas in a future version. Use pandas.concat instead.\n",
      "  df_address_census_tract = df_address_census_tract.append({'Address':i,'Census_Tract':tc_text},ignore_index=True)\n"
     ]
    },
    {
     "name": "stdout",
     "output_type": "stream",
     "text": [
      "2419 N HUSBAND PL Stillwater OK 74074 0101.01\n"
     ]
    },
    {
     "name": "stderr",
     "output_type": "stream",
     "text": [
      "<ipython-input-135-c99a2411e0a3>:8: FutureWarning: The frame.append method is deprecated and will be removed from pandas in a future version. Use pandas.concat instead.\n",
      "  df_address_census_tract = df_address_census_tract.append({'Address':i,'Census_Tract':tc_text},ignore_index=True)\n"
     ]
    },
    {
     "name": "stdout",
     "output_type": "stream",
     "text": [
      "2419 N KELLER DR Stillwater OK 74074 0101.01\n"
     ]
    },
    {
     "name": "stderr",
     "output_type": "stream",
     "text": [
      "<ipython-input-135-c99a2411e0a3>:8: FutureWarning: The frame.append method is deprecated and will be removed from pandas in a future version. Use pandas.concat instead.\n",
      "  df_address_census_tract = df_address_census_tract.append({'Address':i,'Census_Tract':tc_text},ignore_index=True)\n"
     ]
    },
    {
     "name": "stdout",
     "output_type": "stream",
     "text": [
      "2419 N NORTH STAR DR Stillwater OK 74074 \n"
     ]
    },
    {
     "name": "stderr",
     "output_type": "stream",
     "text": [
      "<ipython-input-135-c99a2411e0a3>:8: FutureWarning: The frame.append method is deprecated and will be removed from pandas in a future version. Use pandas.concat instead.\n",
      "  df_address_census_tract = df_address_census_tract.append({'Address':i,'Census_Tract':tc_text},ignore_index=True)\n"
     ]
    },
    {
     "name": "stdout",
     "output_type": "stream",
     "text": [
      "2419 S BLUESTONE ST Stillwater OK 74074 0109.02\n"
     ]
    },
    {
     "name": "stderr",
     "output_type": "stream",
     "text": [
      "<ipython-input-135-c99a2411e0a3>:8: FutureWarning: The frame.append method is deprecated and will be removed from pandas in a future version. Use pandas.concat instead.\n",
      "  df_address_census_tract = df_address_census_tract.append({'Address':i,'Census_Tract':tc_text},ignore_index=True)\n"
     ]
    },
    {
     "name": "stdout",
     "output_type": "stream",
     "text": [
      "2419 W LAKEVIEW RD Stillwater OK 74074 0102.02\n"
     ]
    },
    {
     "name": "stderr",
     "output_type": "stream",
     "text": [
      "<ipython-input-135-c99a2411e0a3>:8: FutureWarning: The frame.append method is deprecated and will be removed from pandas in a future version. Use pandas.concat instead.\n",
      "  df_address_census_tract = df_address_census_tract.append({'Address':i,'Census_Tract':tc_text},ignore_index=True)\n"
     ]
    },
    {
     "name": "stdout",
     "output_type": "stream",
     "text": [
      "2420 E 7TH AVE Stillwater OK 74074 0106.00\n"
     ]
    },
    {
     "name": "stderr",
     "output_type": "stream",
     "text": [
      "<ipython-input-135-c99a2411e0a3>:8: FutureWarning: The frame.append method is deprecated and will be removed from pandas in a future version. Use pandas.concat instead.\n",
      "  df_address_census_tract = df_address_census_tract.append({'Address':i,'Census_Tract':tc_text},ignore_index=True)\n"
     ]
    },
    {
     "name": "stdout",
     "output_type": "stream",
     "text": [
      "2420 N GLENWOOD DR Stillwater OK 74075 0101.01\n"
     ]
    },
    {
     "name": "stderr",
     "output_type": "stream",
     "text": [
      "<ipython-input-135-c99a2411e0a3>:8: FutureWarning: The frame.append method is deprecated and will be removed from pandas in a future version. Use pandas.concat instead.\n",
      "  df_address_census_tract = df_address_census_tract.append({'Address':i,'Census_Tract':tc_text},ignore_index=True)\n"
     ]
    },
    {
     "name": "stdout",
     "output_type": "stream",
     "text": [
      "2420 N HUSBAND PL Stillwater OK 74074 0101.01\n"
     ]
    },
    {
     "name": "stderr",
     "output_type": "stream",
     "text": [
      "<ipython-input-135-c99a2411e0a3>:8: FutureWarning: The frame.append method is deprecated and will be removed from pandas in a future version. Use pandas.concat instead.\n",
      "  df_address_census_tract = df_address_census_tract.append({'Address':i,'Census_Tract':tc_text},ignore_index=True)\n"
     ]
    },
    {
     "name": "stdout",
     "output_type": "stream",
     "text": [
      "2420 N NORTH STAR DR Stillwater OK 74074 \n"
     ]
    },
    {
     "name": "stderr",
     "output_type": "stream",
     "text": [
      "<ipython-input-135-c99a2411e0a3>:8: FutureWarning: The frame.append method is deprecated and will be removed from pandas in a future version. Use pandas.concat instead.\n",
      "  df_address_census_tract = df_address_census_tract.append({'Address':i,'Census_Tract':tc_text},ignore_index=True)\n"
     ]
    },
    {
     "name": "stdout",
     "output_type": "stream",
     "text": [
      "2420 N WASHINGTON ST Stillwater OK 74075 0102.01\n"
     ]
    },
    {
     "name": "stderr",
     "output_type": "stream",
     "text": [
      "<ipython-input-135-c99a2411e0a3>:8: FutureWarning: The frame.append method is deprecated and will be removed from pandas in a future version. Use pandas.concat instead.\n",
      "  df_address_census_tract = df_address_census_tract.append({'Address':i,'Census_Tract':tc_text},ignore_index=True)\n"
     ]
    },
    {
     "name": "stdout",
     "output_type": "stream",
     "text": [
      "2421 N GLENWOOD DR Stillwater OK 74075 0101.01\n"
     ]
    },
    {
     "name": "stderr",
     "output_type": "stream",
     "text": [
      "<ipython-input-135-c99a2411e0a3>:8: FutureWarning: The frame.append method is deprecated and will be removed from pandas in a future version. Use pandas.concat instead.\n",
      "  df_address_census_tract = df_address_census_tract.append({'Address':i,'Census_Tract':tc_text},ignore_index=True)\n"
     ]
    },
    {
     "name": "stdout",
     "output_type": "stream",
     "text": [
      "2421 N HUSBAND PL Stillwater OK 74074 0101.01\n"
     ]
    },
    {
     "name": "stderr",
     "output_type": "stream",
     "text": [
      "<ipython-input-135-c99a2411e0a3>:8: FutureWarning: The frame.append method is deprecated and will be removed from pandas in a future version. Use pandas.concat instead.\n",
      "  df_address_census_tract = df_address_census_tract.append({'Address':i,'Census_Tract':tc_text},ignore_index=True)\n"
     ]
    },
    {
     "name": "stdout",
     "output_type": "stream",
     "text": [
      "2421 N PARK DR Stillwater OK 74074 0101.01\n"
     ]
    },
    {
     "name": "stderr",
     "output_type": "stream",
     "text": [
      "<ipython-input-135-c99a2411e0a3>:8: FutureWarning: The frame.append method is deprecated and will be removed from pandas in a future version. Use pandas.concat instead.\n",
      "  df_address_census_tract = df_address_census_tract.append({'Address':i,'Census_Tract':tc_text},ignore_index=True)\n"
     ]
    },
    {
     "name": "stdout",
     "output_type": "stream",
     "text": [
      "2421 POSSE TRAIL Stillwater OK 74074 \n"
     ]
    },
    {
     "name": "stderr",
     "output_type": "stream",
     "text": [
      "<ipython-input-135-c99a2411e0a3>:8: FutureWarning: The frame.append method is deprecated and will be removed from pandas in a future version. Use pandas.concat instead.\n",
      "  df_address_census_tract = df_address_census_tract.append({'Address':i,'Census_Tract':tc_text},ignore_index=True)\n"
     ]
    },
    {
     "name": "stdout",
     "output_type": "stream",
     "text": [
      "2421 S WESTERN RD Stillwater OK 74074 0109.02\n"
     ]
    },
    {
     "name": "stderr",
     "output_type": "stream",
     "text": [
      "<ipython-input-135-c99a2411e0a3>:8: FutureWarning: The frame.append method is deprecated and will be removed from pandas in a future version. Use pandas.concat instead.\n",
      "  df_address_census_tract = df_address_census_tract.append({'Address':i,'Census_Tract':tc_text},ignore_index=True)\n"
     ]
    },
    {
     "name": "stdout",
     "output_type": "stream",
     "text": [
      "2421 W 22ND AVE Stillwater OK 74074 0109.02\n"
     ]
    },
    {
     "name": "stderr",
     "output_type": "stream",
     "text": [
      "<ipython-input-135-c99a2411e0a3>:8: FutureWarning: The frame.append method is deprecated and will be removed from pandas in a future version. Use pandas.concat instead.\n",
      "  df_address_census_tract = df_address_census_tract.append({'Address':i,'Census_Tract':tc_text},ignore_index=True)\n"
     ]
    },
    {
     "name": "stdout",
     "output_type": "stream",
     "text": [
      "2422 E 6TH AVE Stillwater OK 74074 0106.00\n"
     ]
    },
    {
     "name": "stderr",
     "output_type": "stream",
     "text": [
      "<ipython-input-135-c99a2411e0a3>:8: FutureWarning: The frame.append method is deprecated and will be removed from pandas in a future version. Use pandas.concat instead.\n",
      "  df_address_census_tract = df_address_census_tract.append({'Address':i,'Census_Tract':tc_text},ignore_index=True)\n"
     ]
    },
    {
     "name": "stdout",
     "output_type": "stream",
     "text": [
      "2422 E 7TH AVE Stillwater OK 74074 0106.00\n"
     ]
    },
    {
     "name": "stderr",
     "output_type": "stream",
     "text": [
      "<ipython-input-135-c99a2411e0a3>:8: FutureWarning: The frame.append method is deprecated and will be removed from pandas in a future version. Use pandas.concat instead.\n",
      "  df_address_census_tract = df_address_census_tract.append({'Address':i,'Census_Tract':tc_text},ignore_index=True)\n"
     ]
    },
    {
     "name": "stdout",
     "output_type": "stream",
     "text": [
      "2422 N GLENWOOD DR Stillwater OK 74075 0101.01\n"
     ]
    },
    {
     "name": "stderr",
     "output_type": "stream",
     "text": [
      "<ipython-input-135-c99a2411e0a3>:8: FutureWarning: The frame.append method is deprecated and will be removed from pandas in a future version. Use pandas.concat instead.\n",
      "  df_address_census_tract = df_address_census_tract.append({'Address':i,'Census_Tract':tc_text},ignore_index=True)\n"
     ]
    },
    {
     "name": "stdout",
     "output_type": "stream",
     "text": [
      "2422 N PARK DR Stillwater OK 74074 0101.01\n"
     ]
    },
    {
     "name": "stderr",
     "output_type": "stream",
     "text": [
      "<ipython-input-135-c99a2411e0a3>:8: FutureWarning: The frame.append method is deprecated and will be removed from pandas in a future version. Use pandas.concat instead.\n",
      "  df_address_census_tract = df_address_census_tract.append({'Address':i,'Census_Tract':tc_text},ignore_index=True)\n"
     ]
    },
    {
     "name": "stdout",
     "output_type": "stream",
     "text": [
      "2422 S TEAL ST Stillwater OK 74074 0109.02\n"
     ]
    },
    {
     "name": "stderr",
     "output_type": "stream",
     "text": [
      "<ipython-input-135-c99a2411e0a3>:8: FutureWarning: The frame.append method is deprecated and will be removed from pandas in a future version. Use pandas.concat instead.\n",
      "  df_address_census_tract = df_address_census_tract.append({'Address':i,'Census_Tract':tc_text},ignore_index=True)\n"
     ]
    },
    {
     "name": "stdout",
     "output_type": "stream",
     "text": [
      "2423 N HUSBAND PL Stillwater OK 74074 0101.01\n"
     ]
    },
    {
     "name": "stderr",
     "output_type": "stream",
     "text": [
      "<ipython-input-135-c99a2411e0a3>:8: FutureWarning: The frame.append method is deprecated and will be removed from pandas in a future version. Use pandas.concat instead.\n",
      "  df_address_census_tract = df_address_census_tract.append({'Address':i,'Census_Tract':tc_text},ignore_index=True)\n"
     ]
    },
    {
     "name": "stdout",
     "output_type": "stream",
     "text": [
      "2423 N JEFFERSON ST Stillwater OK 74075 0102.01\n"
     ]
    },
    {
     "name": "stderr",
     "output_type": "stream",
     "text": [
      "<ipython-input-135-c99a2411e0a3>:8: FutureWarning: The frame.append method is deprecated and will be removed from pandas in a future version. Use pandas.concat instead.\n",
      "  df_address_census_tract = df_address_census_tract.append({'Address':i,'Census_Tract':tc_text},ignore_index=True)\n"
     ]
    },
    {
     "name": "stdout",
     "output_type": "stream",
     "text": [
      "2423 N NORTH STAR DR Stillwater OK 74074 \n"
     ]
    },
    {
     "name": "stderr",
     "output_type": "stream",
     "text": [
      "<ipython-input-135-c99a2411e0a3>:8: FutureWarning: The frame.append method is deprecated and will be removed from pandas in a future version. Use pandas.concat instead.\n",
      "  df_address_census_tract = df_address_census_tract.append({'Address':i,'Census_Tract':tc_text},ignore_index=True)\n"
     ]
    },
    {
     "name": "stdout",
     "output_type": "stream",
     "text": [
      "2423 S BLACK OAK DR Stillwater OK 74074 0109.02\n"
     ]
    },
    {
     "name": "stderr",
     "output_type": "stream",
     "text": [
      "<ipython-input-135-c99a2411e0a3>:8: FutureWarning: The frame.append method is deprecated and will be removed from pandas in a future version. Use pandas.concat instead.\n",
      "  df_address_census_tract = df_address_census_tract.append({'Address':i,'Census_Tract':tc_text},ignore_index=True)\n"
     ]
    },
    {
     "name": "stdout",
     "output_type": "stream",
     "text": [
      "2424 N HUSBAND PL Stillwater OK 74074 0101.01\n"
     ]
    },
    {
     "name": "stderr",
     "output_type": "stream",
     "text": [
      "<ipython-input-135-c99a2411e0a3>:8: FutureWarning: The frame.append method is deprecated and will be removed from pandas in a future version. Use pandas.concat instead.\n",
      "  df_address_census_tract = df_address_census_tract.append({'Address':i,'Census_Tract':tc_text},ignore_index=True)\n"
     ]
    },
    {
     "name": "stdout",
     "output_type": "stream",
     "text": [
      "2424 N KELLER DR Stillwater OK 74074 0101.01\n"
     ]
    },
    {
     "name": "stderr",
     "output_type": "stream",
     "text": [
      "<ipython-input-135-c99a2411e0a3>:8: FutureWarning: The frame.append method is deprecated and will be removed from pandas in a future version. Use pandas.concat instead.\n",
      "  df_address_census_tract = df_address_census_tract.append({'Address':i,'Census_Tract':tc_text},ignore_index=True)\n"
     ]
    },
    {
     "name": "stdout",
     "output_type": "stream",
     "text": [
      "2424 N NORTH STAR DR Stillwater OK 74074 \n"
     ]
    },
    {
     "name": "stderr",
     "output_type": "stream",
     "text": [
      "<ipython-input-135-c99a2411e0a3>:8: FutureWarning: The frame.append method is deprecated and will be removed from pandas in a future version. Use pandas.concat instead.\n",
      "  df_address_census_tract = df_address_census_tract.append({'Address':i,'Census_Tract':tc_text},ignore_index=True)\n"
     ]
    },
    {
     "name": "stdout",
     "output_type": "stream",
     "text": [
      "2424 POSSE TRAIL Stillwater OK 74074 \n"
     ]
    },
    {
     "name": "stderr",
     "output_type": "stream",
     "text": [
      "<ipython-input-135-c99a2411e0a3>:8: FutureWarning: The frame.append method is deprecated and will be removed from pandas in a future version. Use pandas.concat instead.\n",
      "  df_address_census_tract = df_address_census_tract.append({'Address':i,'Census_Tract':tc_text},ignore_index=True)\n"
     ]
    },
    {
     "name": "stdout",
     "output_type": "stream",
     "text": [
      "2424 S TEAL ST Stillwater OK 74074 0109.02\n"
     ]
    },
    {
     "name": "stderr",
     "output_type": "stream",
     "text": [
      "<ipython-input-135-c99a2411e0a3>:8: FutureWarning: The frame.append method is deprecated and will be removed from pandas in a future version. Use pandas.concat instead.\n",
      "  df_address_census_tract = df_address_census_tract.append({'Address':i,'Census_Tract':tc_text},ignore_index=True)\n"
     ]
    },
    {
     "name": "stdout",
     "output_type": "stream",
     "text": [
      "2425 S BLUESTONE ST Stillwater OK 74074 0109.02\n"
     ]
    },
    {
     "name": "stderr",
     "output_type": "stream",
     "text": [
      "<ipython-input-135-c99a2411e0a3>:8: FutureWarning: The frame.append method is deprecated and will be removed from pandas in a future version. Use pandas.concat instead.\n",
      "  df_address_census_tract = df_address_census_tract.append({'Address':i,'Census_Tract':tc_text},ignore_index=True)\n"
     ]
    },
    {
     "name": "stdout",
     "output_type": "stream",
     "text": [
      "2425 W 22ND AVE Stillwater OK 74074 0109.02\n"
     ]
    },
    {
     "name": "stderr",
     "output_type": "stream",
     "text": [
      "<ipython-input-135-c99a2411e0a3>:8: FutureWarning: The frame.append method is deprecated and will be removed from pandas in a future version. Use pandas.concat instead.\n",
      "  df_address_census_tract = df_address_census_tract.append({'Address':i,'Census_Tract':tc_text},ignore_index=True)\n"
     ]
    },
    {
     "name": "stdout",
     "output_type": "stream",
     "text": [
      "2425 W LAKEVIEW RD Stillwater OK 74074 0102.02\n"
     ]
    },
    {
     "name": "stderr",
     "output_type": "stream",
     "text": [
      "<ipython-input-135-c99a2411e0a3>:8: FutureWarning: The frame.append method is deprecated and will be removed from pandas in a future version. Use pandas.concat instead.\n",
      "  df_address_census_tract = df_address_census_tract.append({'Address':i,'Census_Tract':tc_text},ignore_index=True)\n"
     ]
    },
    {
     "name": "stdout",
     "output_type": "stream",
     "text": [
      "2425 W LAKEVIEW RD Stillwater OK 74075 0102.02\n"
     ]
    },
    {
     "name": "stderr",
     "output_type": "stream",
     "text": [
      "<ipython-input-135-c99a2411e0a3>:8: FutureWarning: The frame.append method is deprecated and will be removed from pandas in a future version. Use pandas.concat instead.\n",
      "  df_address_census_tract = df_address_census_tract.append({'Address':i,'Census_Tract':tc_text},ignore_index=True)\n"
     ]
    },
    {
     "name": "stdout",
     "output_type": "stream",
     "text": [
      "2426 N HUSBAND PL Stillwater OK 74074 0101.01\n"
     ]
    },
    {
     "name": "stderr",
     "output_type": "stream",
     "text": [
      "<ipython-input-135-c99a2411e0a3>:8: FutureWarning: The frame.append method is deprecated and will be removed from pandas in a future version. Use pandas.concat instead.\n",
      "  df_address_census_tract = df_address_census_tract.append({'Address':i,'Census_Tract':tc_text},ignore_index=True)\n"
     ]
    },
    {
     "name": "stdout",
     "output_type": "stream",
     "text": [
      "2426 N KELLER DR Stillwater OK 74074 0101.01\n"
     ]
    },
    {
     "name": "stderr",
     "output_type": "stream",
     "text": [
      "<ipython-input-135-c99a2411e0a3>:8: FutureWarning: The frame.append method is deprecated and will be removed from pandas in a future version. Use pandas.concat instead.\n",
      "  df_address_census_tract = df_address_census_tract.append({'Address':i,'Census_Tract':tc_text},ignore_index=True)\n"
     ]
    },
    {
     "name": "stdout",
     "output_type": "stream",
     "text": [
      "25 ELMWOOD CIR Stillwater OK 74074 0105.01\n"
     ]
    },
    {
     "name": "stderr",
     "output_type": "stream",
     "text": [
      "<ipython-input-135-c99a2411e0a3>:8: FutureWarning: The frame.append method is deprecated and will be removed from pandas in a future version. Use pandas.concat instead.\n",
      "  df_address_census_tract = df_address_census_tract.append({'Address':i,'Census_Tract':tc_text},ignore_index=True)\n"
     ]
    },
    {
     "name": "stdout",
     "output_type": "stream",
     "text": [
      "25 LIBERTY CIR Stillwater OK 74074 0102.01\n"
     ]
    },
    {
     "name": "stderr",
     "output_type": "stream",
     "text": [
      "<ipython-input-135-c99a2411e0a3>:8: FutureWarning: The frame.append method is deprecated and will be removed from pandas in a future version. Use pandas.concat instead.\n",
      "  df_address_census_tract = df_address_census_tract.append({'Address':i,'Census_Tract':tc_text},ignore_index=True)\n"
     ]
    },
    {
     "name": "stdout",
     "output_type": "stream",
     "text": [
      "2501 N KELLER DR Stillwater OK 74074 0101.01\n"
     ]
    },
    {
     "name": "stderr",
     "output_type": "stream",
     "text": [
      "<ipython-input-135-c99a2411e0a3>:8: FutureWarning: The frame.append method is deprecated and will be removed from pandas in a future version. Use pandas.concat instead.\n",
      "  df_address_census_tract = df_address_census_tract.append({'Address':i,'Census_Tract':tc_text},ignore_index=True)\n"
     ]
    },
    {
     "name": "stdout",
     "output_type": "stream",
     "text": [
      "2502 N GLENWOOD DR Stillwater OK 74075 0101.01\n"
     ]
    },
    {
     "name": "stderr",
     "output_type": "stream",
     "text": [
      "<ipython-input-135-c99a2411e0a3>:8: FutureWarning: The frame.append method is deprecated and will be removed from pandas in a future version. Use pandas.concat instead.\n",
      "  df_address_census_tract = df_address_census_tract.append({'Address':i,'Census_Tract':tc_text},ignore_index=True)\n"
     ]
    },
    {
     "name": "stdout",
     "output_type": "stream",
     "text": [
      "2502 W CAMBRIDGE CT Stillwater OK 74074 0109.02\n"
     ]
    },
    {
     "name": "stderr",
     "output_type": "stream",
     "text": [
      "<ipython-input-135-c99a2411e0a3>:8: FutureWarning: The frame.append method is deprecated and will be removed from pandas in a future version. Use pandas.concat instead.\n",
      "  df_address_census_tract = df_address_census_tract.append({'Address':i,'Census_Tract':tc_text},ignore_index=True)\n"
     ]
    },
    {
     "name": "stdout",
     "output_type": "stream",
     "text": [
      "2503 N KELLER DR Stillwater OK 74074 0101.01\n"
     ]
    },
    {
     "name": "stderr",
     "output_type": "stream",
     "text": [
      "<ipython-input-135-c99a2411e0a3>:8: FutureWarning: The frame.append method is deprecated and will be removed from pandas in a future version. Use pandas.concat instead.\n",
      "  df_address_census_tract = df_address_census_tract.append({'Address':i,'Census_Tract':tc_text},ignore_index=True)\n"
     ]
    },
    {
     "name": "stdout",
     "output_type": "stream",
     "text": [
      "2503 W 22ND AVE Stillwater OK 74074 0109.02\n"
     ]
    },
    {
     "name": "stderr",
     "output_type": "stream",
     "text": [
      "<ipython-input-135-c99a2411e0a3>:8: FutureWarning: The frame.append method is deprecated and will be removed from pandas in a future version. Use pandas.concat instead.\n",
      "  df_address_census_tract = df_address_census_tract.append({'Address':i,'Census_Tract':tc_text},ignore_index=True)\n"
     ]
    },
    {
     "name": "stdout",
     "output_type": "stream",
     "text": [
      "2504 N GLENWOOD DR Stillwater OK 74075 0101.01\n"
     ]
    },
    {
     "name": "stderr",
     "output_type": "stream",
     "text": [
      "<ipython-input-135-c99a2411e0a3>:8: FutureWarning: The frame.append method is deprecated and will be removed from pandas in a future version. Use pandas.concat instead.\n",
      "  df_address_census_tract = df_address_census_tract.append({'Address':i,'Census_Tract':tc_text},ignore_index=True)\n"
     ]
    },
    {
     "name": "stdout",
     "output_type": "stream",
     "text": [
      "2505 N GLENWOOD DR Stillwater OK 74075 0101.01\n"
     ]
    },
    {
     "name": "stderr",
     "output_type": "stream",
     "text": [
      "<ipython-input-135-c99a2411e0a3>:8: FutureWarning: The frame.append method is deprecated and will be removed from pandas in a future version. Use pandas.concat instead.\n",
      "  df_address_census_tract = df_address_census_tract.append({'Address':i,'Census_Tract':tc_text},ignore_index=True)\n"
     ]
    },
    {
     "name": "stdout",
     "output_type": "stream",
     "text": [
      "2505 S DURHAM CT Stillwater OK 74074 0110.01\n"
     ]
    },
    {
     "name": "stderr",
     "output_type": "stream",
     "text": [
      "<ipython-input-135-c99a2411e0a3>:8: FutureWarning: The frame.append method is deprecated and will be removed from pandas in a future version. Use pandas.concat instead.\n",
      "  df_address_census_tract = df_address_census_tract.append({'Address':i,'Census_Tract':tc_text},ignore_index=True)\n"
     ]
    },
    {
     "name": "stdout",
     "output_type": "stream",
     "text": [
      "2506 N GLENWOOD DR Stillwater OK 74075 0101.01\n"
     ]
    },
    {
     "name": "stderr",
     "output_type": "stream",
     "text": [
      "<ipython-input-135-c99a2411e0a3>:8: FutureWarning: The frame.append method is deprecated and will be removed from pandas in a future version. Use pandas.concat instead.\n",
      "  df_address_census_tract = df_address_census_tract.append({'Address':i,'Census_Tract':tc_text},ignore_index=True)\n"
     ]
    },
    {
     "name": "stdout",
     "output_type": "stream",
     "text": [
      "2506 N LINCOLN ST Stillwater OK 74074 0102.01\n"
     ]
    },
    {
     "name": "stderr",
     "output_type": "stream",
     "text": [
      "<ipython-input-135-c99a2411e0a3>:8: FutureWarning: The frame.append method is deprecated and will be removed from pandas in a future version. Use pandas.concat instead.\n",
      "  df_address_census_tract = df_address_census_tract.append({'Address':i,'Census_Tract':tc_text},ignore_index=True)\n"
     ]
    },
    {
     "name": "stdout",
     "output_type": "stream",
     "text": [
      "2506 W 22ND AVE Stillwater OK 74074 0109.02\n"
     ]
    },
    {
     "name": "stderr",
     "output_type": "stream",
     "text": [
      "<ipython-input-135-c99a2411e0a3>:8: FutureWarning: The frame.append method is deprecated and will be removed from pandas in a future version. Use pandas.concat instead.\n",
      "  df_address_census_tract = df_address_census_tract.append({'Address':i,'Census_Tract':tc_text},ignore_index=True)\n"
     ]
    },
    {
     "name": "stdout",
     "output_type": "stream",
     "text": [
      "2507 N GLENWOOD DR Stillwater OK 74075 0101.01\n"
     ]
    },
    {
     "name": "stderr",
     "output_type": "stream",
     "text": [
      "<ipython-input-135-c99a2411e0a3>:8: FutureWarning: The frame.append method is deprecated and will be removed from pandas in a future version. Use pandas.concat instead.\n",
      "  df_address_census_tract = df_address_census_tract.append({'Address':i,'Census_Tract':tc_text},ignore_index=True)\n"
     ]
    },
    {
     "name": "stdout",
     "output_type": "stream",
     "text": [
      "2507 N KELLER DR Stillwater OK 74074 0101.01\n"
     ]
    },
    {
     "name": "stderr",
     "output_type": "stream",
     "text": [
      "<ipython-input-135-c99a2411e0a3>:8: FutureWarning: The frame.append method is deprecated and will be removed from pandas in a future version. Use pandas.concat instead.\n",
      "  df_address_census_tract = df_address_census_tract.append({'Address':i,'Census_Tract':tc_text},ignore_index=True)\n"
     ]
    },
    {
     "name": "stdout",
     "output_type": "stream",
     "text": [
      "2508 N GLENWOOD DR Stillwater OK 74075 0101.01\n"
     ]
    },
    {
     "name": "stderr",
     "output_type": "stream",
     "text": [
      "<ipython-input-135-c99a2411e0a3>:8: FutureWarning: The frame.append method is deprecated and will be removed from pandas in a future version. Use pandas.concat instead.\n",
      "  df_address_census_tract = df_address_census_tract.append({'Address':i,'Census_Tract':tc_text},ignore_index=True)\n"
     ]
    },
    {
     "name": "stdout",
     "output_type": "stream",
     "text": [
      "2509 N KELLER DR Stillwater OK 74074 0101.01\n"
     ]
    },
    {
     "name": "stderr",
     "output_type": "stream",
     "text": [
      "<ipython-input-135-c99a2411e0a3>:8: FutureWarning: The frame.append method is deprecated and will be removed from pandas in a future version. Use pandas.concat instead.\n",
      "  df_address_census_tract = df_address_census_tract.append({'Address':i,'Census_Tract':tc_text},ignore_index=True)\n"
     ]
    },
    {
     "name": "stdout",
     "output_type": "stream",
     "text": [
      "2509 N NORTH STAR DR Stillwater OK 74074 \n"
     ]
    },
    {
     "name": "stderr",
     "output_type": "stream",
     "text": [
      "<ipython-input-135-c99a2411e0a3>:8: FutureWarning: The frame.append method is deprecated and will be removed from pandas in a future version. Use pandas.concat instead.\n",
      "  df_address_census_tract = df_address_census_tract.append({'Address':i,'Census_Tract':tc_text},ignore_index=True)\n"
     ]
    },
    {
     "name": "stdout",
     "output_type": "stream",
     "text": [
      "251 W MILLER AVE Stillwater OK 74075 0105.02\n"
     ]
    },
    {
     "name": "stderr",
     "output_type": "stream",
     "text": [
      "<ipython-input-135-c99a2411e0a3>:8: FutureWarning: The frame.append method is deprecated and will be removed from pandas in a future version. Use pandas.concat instead.\n",
      "  df_address_census_tract = df_address_census_tract.append({'Address':i,'Census_Tract':tc_text},ignore_index=True)\n"
     ]
    },
    {
     "name": "stdout",
     "output_type": "stream",
     "text": [
      "2511 N GLENWOOD DR Stillwater OK 74075 0101.01\n"
     ]
    },
    {
     "name": "stderr",
     "output_type": "stream",
     "text": [
      "<ipython-input-135-c99a2411e0a3>:8: FutureWarning: The frame.append method is deprecated and will be removed from pandas in a future version. Use pandas.concat instead.\n",
      "  df_address_census_tract = df_address_census_tract.append({'Address':i,'Census_Tract':tc_text},ignore_index=True)\n"
     ]
    },
    {
     "name": "stdout",
     "output_type": "stream",
     "text": [
      "2512 N KELLER CT Stillwater OK 74074 0101.01\n"
     ]
    },
    {
     "name": "stderr",
     "output_type": "stream",
     "text": [
      "<ipython-input-135-c99a2411e0a3>:8: FutureWarning: The frame.append method is deprecated and will be removed from pandas in a future version. Use pandas.concat instead.\n",
      "  df_address_census_tract = df_address_census_tract.append({'Address':i,'Census_Tract':tc_text},ignore_index=True)\n"
     ]
    },
    {
     "name": "stdout",
     "output_type": "stream",
     "text": [
      "2512 N PARK DR Stillwater OK 74074 0101.01\n"
     ]
    },
    {
     "name": "stderr",
     "output_type": "stream",
     "text": [
      "<ipython-input-135-c99a2411e0a3>:8: FutureWarning: The frame.append method is deprecated and will be removed from pandas in a future version. Use pandas.concat instead.\n",
      "  df_address_census_tract = df_address_census_tract.append({'Address':i,'Census_Tract':tc_text},ignore_index=True)\n"
     ]
    },
    {
     "name": "stdout",
     "output_type": "stream",
     "text": [
      "2512 KIMBER LN Stillwater OK 74074 \n"
     ]
    },
    {
     "name": "stderr",
     "output_type": "stream",
     "text": [
      "<ipython-input-135-c99a2411e0a3>:8: FutureWarning: The frame.append method is deprecated and will be removed from pandas in a future version. Use pandas.concat instead.\n",
      "  df_address_census_tract = df_address_census_tract.append({'Address':i,'Census_Tract':tc_text},ignore_index=True)\n"
     ]
    },
    {
     "name": "stdout",
     "output_type": "stream",
     "text": [
      "2512 TROPHY LN Stillwater OK 74074 0110.01\n"
     ]
    },
    {
     "name": "stderr",
     "output_type": "stream",
     "text": [
      "<ipython-input-135-c99a2411e0a3>:8: FutureWarning: The frame.append method is deprecated and will be removed from pandas in a future version. Use pandas.concat instead.\n",
      "  df_address_census_tract = df_address_census_tract.append({'Address':i,'Census_Tract':tc_text},ignore_index=True)\n"
     ]
    },
    {
     "name": "stdout",
     "output_type": "stream",
     "text": [
      "2513 N GLENWOOD DR Stillwater OK 74075 0101.01\n"
     ]
    },
    {
     "name": "stderr",
     "output_type": "stream",
     "text": [
      "<ipython-input-135-c99a2411e0a3>:8: FutureWarning: The frame.append method is deprecated and will be removed from pandas in a future version. Use pandas.concat instead.\n",
      "  df_address_census_tract = df_address_census_tract.append({'Address':i,'Census_Tract':tc_text},ignore_index=True)\n"
     ]
    },
    {
     "name": "stdout",
     "output_type": "stream",
     "text": [
      "2514 N GLENWOOD DR Stillwater OK 74075 0101.01\n"
     ]
    },
    {
     "name": "stderr",
     "output_type": "stream",
     "text": [
      "<ipython-input-135-c99a2411e0a3>:8: FutureWarning: The frame.append method is deprecated and will be removed from pandas in a future version. Use pandas.concat instead.\n",
      "  df_address_census_tract = df_address_census_tract.append({'Address':i,'Census_Tract':tc_text},ignore_index=True)\n"
     ]
    },
    {
     "name": "stdout",
     "output_type": "stream",
     "text": [
      "2514 W 22ND AVE Stillwater OK 74074 0109.02\n"
     ]
    },
    {
     "name": "stderr",
     "output_type": "stream",
     "text": [
      "<ipython-input-135-c99a2411e0a3>:8: FutureWarning: The frame.append method is deprecated and will be removed from pandas in a future version. Use pandas.concat instead.\n",
      "  df_address_census_tract = df_address_census_tract.append({'Address':i,'Census_Tract':tc_text},ignore_index=True)\n"
     ]
    },
    {
     "name": "stdout",
     "output_type": "stream",
     "text": [
      "2515 E 7TH AVE Stillwater OK 74074 0106.00\n"
     ]
    },
    {
     "name": "stderr",
     "output_type": "stream",
     "text": [
      "<ipython-input-135-c99a2411e0a3>:8: FutureWarning: The frame.append method is deprecated and will be removed from pandas in a future version. Use pandas.concat instead.\n",
      "  df_address_census_tract = df_address_census_tract.append({'Address':i,'Census_Tract':tc_text},ignore_index=True)\n"
     ]
    },
    {
     "name": "stdout",
     "output_type": "stream",
     "text": [
      "2515 N GLENWOOD DR Stillwater OK 74075 0101.01\n"
     ]
    },
    {
     "name": "stderr",
     "output_type": "stream",
     "text": [
      "<ipython-input-135-c99a2411e0a3>:8: FutureWarning: The frame.append method is deprecated and will be removed from pandas in a future version. Use pandas.concat instead.\n",
      "  df_address_census_tract = df_address_census_tract.append({'Address':i,'Census_Tract':tc_text},ignore_index=True)\n"
     ]
    },
    {
     "name": "stdout",
     "output_type": "stream",
     "text": [
      "2515 N KELLER DR Stillwater OK 74074 0101.01\n"
     ]
    },
    {
     "name": "stderr",
     "output_type": "stream",
     "text": [
      "<ipython-input-135-c99a2411e0a3>:8: FutureWarning: The frame.append method is deprecated and will be removed from pandas in a future version. Use pandas.concat instead.\n",
      "  df_address_census_tract = df_address_census_tract.append({'Address':i,'Census_Tract':tc_text},ignore_index=True)\n"
     ]
    },
    {
     "name": "stdout",
     "output_type": "stream",
     "text": [
      "2516 N KELLER CT Stillwater OK 74074 0101.01\n"
     ]
    },
    {
     "name": "stderr",
     "output_type": "stream",
     "text": [
      "<ipython-input-135-c99a2411e0a3>:8: FutureWarning: The frame.append method is deprecated and will be removed from pandas in a future version. Use pandas.concat instead.\n",
      "  df_address_census_tract = df_address_census_tract.append({'Address':i,'Census_Tract':tc_text},ignore_index=True)\n"
     ]
    },
    {
     "name": "stdout",
     "output_type": "stream",
     "text": [
      "2516 N SANGRE RD Stillwater OK 74075 0110.01\n"
     ]
    },
    {
     "name": "stderr",
     "output_type": "stream",
     "text": [
      "<ipython-input-135-c99a2411e0a3>:8: FutureWarning: The frame.append method is deprecated and will be removed from pandas in a future version. Use pandas.concat instead.\n",
      "  df_address_census_tract = df_address_census_tract.append({'Address':i,'Census_Tract':tc_text},ignore_index=True)\n"
     ]
    },
    {
     "name": "stdout",
     "output_type": "stream",
     "text": [
      "2516 KIMBER LN Stillwater OK 74074 \n"
     ]
    },
    {
     "name": "stderr",
     "output_type": "stream",
     "text": [
      "<ipython-input-135-c99a2411e0a3>:8: FutureWarning: The frame.append method is deprecated and will be removed from pandas in a future version. Use pandas.concat instead.\n",
      "  df_address_census_tract = df_address_census_tract.append({'Address':i,'Census_Tract':tc_text},ignore_index=True)\n"
     ]
    },
    {
     "name": "stdout",
     "output_type": "stream",
     "text": [
      "2517 N GLENWOOD DR Stillwater OK 74075 0101.01\n"
     ]
    },
    {
     "name": "stderr",
     "output_type": "stream",
     "text": [
      "<ipython-input-135-c99a2411e0a3>:8: FutureWarning: The frame.append method is deprecated and will be removed from pandas in a future version. Use pandas.concat instead.\n",
      "  df_address_census_tract = df_address_census_tract.append({'Address':i,'Census_Tract':tc_text},ignore_index=True)\n"
     ]
    },
    {
     "name": "stdout",
     "output_type": "stream",
     "text": [
      "2517 N NORTH STAR DR Stillwater OK 74075 0101.01\n"
     ]
    },
    {
     "name": "stderr",
     "output_type": "stream",
     "text": [
      "<ipython-input-135-c99a2411e0a3>:8: FutureWarning: The frame.append method is deprecated and will be removed from pandas in a future version. Use pandas.concat instead.\n",
      "  df_address_census_tract = df_address_census_tract.append({'Address':i,'Census_Tract':tc_text},ignore_index=True)\n"
     ]
    },
    {
     "name": "stdout",
     "output_type": "stream",
     "text": [
      "2518 N KELLER CT Stillwater OK 74074 0101.01\n"
     ]
    },
    {
     "name": "stderr",
     "output_type": "stream",
     "text": [
      "<ipython-input-135-c99a2411e0a3>:8: FutureWarning: The frame.append method is deprecated and will be removed from pandas in a future version. Use pandas.concat instead.\n",
      "  df_address_census_tract = df_address_census_tract.append({'Address':i,'Census_Tract':tc_text},ignore_index=True)\n"
     ]
    },
    {
     "name": "stdout",
     "output_type": "stream",
     "text": [
      "2518 N LINCOLN ST Stillwater OK 74074 0102.01\n"
     ]
    },
    {
     "name": "stderr",
     "output_type": "stream",
     "text": [
      "<ipython-input-135-c99a2411e0a3>:8: FutureWarning: The frame.append method is deprecated and will be removed from pandas in a future version. Use pandas.concat instead.\n",
      "  df_address_census_tract = df_address_census_tract.append({'Address':i,'Census_Tract':tc_text},ignore_index=True)\n"
     ]
    },
    {
     "name": "stdout",
     "output_type": "stream",
     "text": [
      "2518 N NORTH STAR DR Stillwater OK 74075 0101.01\n"
     ]
    },
    {
     "name": "stderr",
     "output_type": "stream",
     "text": [
      "<ipython-input-135-c99a2411e0a3>:8: FutureWarning: The frame.append method is deprecated and will be removed from pandas in a future version. Use pandas.concat instead.\n",
      "  df_address_census_tract = df_address_census_tract.append({'Address':i,'Census_Tract':tc_text},ignore_index=True)\n"
     ]
    },
    {
     "name": "stdout",
     "output_type": "stream",
     "text": [
      "2518 N PARK DR Stillwater OK 74074 0101.01\n"
     ]
    },
    {
     "name": "stderr",
     "output_type": "stream",
     "text": [
      "<ipython-input-135-c99a2411e0a3>:8: FutureWarning: The frame.append method is deprecated and will be removed from pandas in a future version. Use pandas.concat instead.\n",
      "  df_address_census_tract = df_address_census_tract.append({'Address':i,'Census_Tract':tc_text},ignore_index=True)\n"
     ]
    },
    {
     "name": "stdout",
     "output_type": "stream",
     "text": [
      "2518 W 22ND AVE Stillwater OK 74074 0109.02\n"
     ]
    },
    {
     "name": "stderr",
     "output_type": "stream",
     "text": [
      "<ipython-input-135-c99a2411e0a3>:8: FutureWarning: The frame.append method is deprecated and will be removed from pandas in a future version. Use pandas.concat instead.\n",
      "  df_address_census_tract = df_address_census_tract.append({'Address':i,'Census_Tract':tc_text},ignore_index=True)\n"
     ]
    },
    {
     "name": "stdout",
     "output_type": "stream",
     "text": [
      "2519 N KELLER DR Stillwater OK 74074 0101.01\n"
     ]
    },
    {
     "name": "stderr",
     "output_type": "stream",
     "text": [
      "<ipython-input-135-c99a2411e0a3>:8: FutureWarning: The frame.append method is deprecated and will be removed from pandas in a future version. Use pandas.concat instead.\n",
      "  df_address_census_tract = df_address_census_tract.append({'Address':i,'Census_Tract':tc_text},ignore_index=True)\n"
     ]
    },
    {
     "name": "stdout",
     "output_type": "stream",
     "text": [
      "2520 E 7TH AVE Stillwater OK 74074 0106.00\n"
     ]
    },
    {
     "name": "stderr",
     "output_type": "stream",
     "text": [
      "<ipython-input-135-c99a2411e0a3>:8: FutureWarning: The frame.append method is deprecated and will be removed from pandas in a future version. Use pandas.concat instead.\n",
      "  df_address_census_tract = df_address_census_tract.append({'Address':i,'Census_Tract':tc_text},ignore_index=True)\n"
     ]
    },
    {
     "name": "stdout",
     "output_type": "stream",
     "text": [
      "2520 N GLENWOOD DR Stillwater OK 74075 0101.01\n"
     ]
    },
    {
     "name": "stderr",
     "output_type": "stream",
     "text": [
      "<ipython-input-135-c99a2411e0a3>:8: FutureWarning: The frame.append method is deprecated and will be removed from pandas in a future version. Use pandas.concat instead.\n",
      "  df_address_census_tract = df_address_census_tract.append({'Address':i,'Census_Tract':tc_text},ignore_index=True)\n"
     ]
    },
    {
     "name": "stdout",
     "output_type": "stream",
     "text": [
      "2520 N TAYLOR LN Stillwater OK 74075 0110.01\n"
     ]
    },
    {
     "name": "stderr",
     "output_type": "stream",
     "text": [
      "<ipython-input-135-c99a2411e0a3>:8: FutureWarning: The frame.append method is deprecated and will be removed from pandas in a future version. Use pandas.concat instead.\n",
      "  df_address_census_tract = df_address_census_tract.append({'Address':i,'Census_Tract':tc_text},ignore_index=True)\n"
     ]
    },
    {
     "name": "stdout",
     "output_type": "stream",
     "text": [
      "2520 KIMBER LN Stillwater OK 74074 \n"
     ]
    },
    {
     "name": "stderr",
     "output_type": "stream",
     "text": [
      "<ipython-input-135-c99a2411e0a3>:8: FutureWarning: The frame.append method is deprecated and will be removed from pandas in a future version. Use pandas.concat instead.\n",
      "  df_address_census_tract = df_address_census_tract.append({'Address':i,'Census_Tract':tc_text},ignore_index=True)\n"
     ]
    },
    {
     "name": "stdout",
     "output_type": "stream",
     "text": [
      "2521 N GLENWOOD DR Stillwater OK 74075 0101.01\n"
     ]
    },
    {
     "name": "stderr",
     "output_type": "stream",
     "text": [
      "<ipython-input-135-c99a2411e0a3>:8: FutureWarning: The frame.append method is deprecated and will be removed from pandas in a future version. Use pandas.concat instead.\n",
      "  df_address_census_tract = df_address_census_tract.append({'Address':i,'Census_Tract':tc_text},ignore_index=True)\n"
     ]
    },
    {
     "name": "stdout",
     "output_type": "stream",
     "text": [
      "2521 N KELLER DR Stillwater OK 74074 0101.01\n"
     ]
    },
    {
     "name": "stderr",
     "output_type": "stream",
     "text": [
      "<ipython-input-135-c99a2411e0a3>:8: FutureWarning: The frame.append method is deprecated and will be removed from pandas in a future version. Use pandas.concat instead.\n",
      "  df_address_census_tract = df_address_census_tract.append({'Address':i,'Census_Tract':tc_text},ignore_index=True)\n"
     ]
    },
    {
     "name": "stdout",
     "output_type": "stream",
     "text": [
      "2522 E 7TH AVE Stillwater OK 74074 0106.00\n"
     ]
    },
    {
     "name": "stderr",
     "output_type": "stream",
     "text": [
      "<ipython-input-135-c99a2411e0a3>:8: FutureWarning: The frame.append method is deprecated and will be removed from pandas in a future version. Use pandas.concat instead.\n",
      "  df_address_census_tract = df_address_census_tract.append({'Address':i,'Census_Tract':tc_text},ignore_index=True)\n"
     ]
    },
    {
     "name": "stdout",
     "output_type": "stream",
     "text": [
      "2522 N COYOTE RUN Stillwater OK 74075 0110.01\n"
     ]
    },
    {
     "name": "stderr",
     "output_type": "stream",
     "text": [
      "<ipython-input-135-c99a2411e0a3>:8: FutureWarning: The frame.append method is deprecated and will be removed from pandas in a future version. Use pandas.concat instead.\n",
      "  df_address_census_tract = df_address_census_tract.append({'Address':i,'Census_Tract':tc_text},ignore_index=True)\n"
     ]
    },
    {
     "name": "stdout",
     "output_type": "stream",
     "text": [
      "2522 N PARK DR Stillwater OK 74074 0101.01\n"
     ]
    },
    {
     "name": "stderr",
     "output_type": "stream",
     "text": [
      "<ipython-input-135-c99a2411e0a3>:8: FutureWarning: The frame.append method is deprecated and will be removed from pandas in a future version. Use pandas.concat instead.\n",
      "  df_address_census_tract = df_address_census_tract.append({'Address':i,'Census_Tract':tc_text},ignore_index=True)\n"
     ]
    },
    {
     "name": "stdout",
     "output_type": "stream",
     "text": [
      "2522 S WALNUT ST Stillwater OK 74074 \n"
     ]
    },
    {
     "name": "stderr",
     "output_type": "stream",
     "text": [
      "<ipython-input-135-c99a2411e0a3>:8: FutureWarning: The frame.append method is deprecated and will be removed from pandas in a future version. Use pandas.concat instead.\n",
      "  df_address_census_tract = df_address_census_tract.append({'Address':i,'Census_Tract':tc_text},ignore_index=True)\n"
     ]
    },
    {
     "name": "stdout",
     "output_type": "stream",
     "text": [
      "2523 N GLENWOOD DR Stillwater OK 74075 0101.01\n"
     ]
    },
    {
     "name": "stderr",
     "output_type": "stream",
     "text": [
      "<ipython-input-135-c99a2411e0a3>:8: FutureWarning: The frame.append method is deprecated and will be removed from pandas in a future version. Use pandas.concat instead.\n",
      "  df_address_census_tract = df_address_census_tract.append({'Address':i,'Census_Tract':tc_text},ignore_index=True)\n"
     ]
    },
    {
     "name": "stdout",
     "output_type": "stream",
     "text": [
      "2523 N PARK DR Stillwater OK 74074 0101.01\n"
     ]
    },
    {
     "name": "stderr",
     "output_type": "stream",
     "text": [
      "<ipython-input-135-c99a2411e0a3>:8: FutureWarning: The frame.append method is deprecated and will be removed from pandas in a future version. Use pandas.concat instead.\n",
      "  df_address_census_tract = df_address_census_tract.append({'Address':i,'Census_Tract':tc_text},ignore_index=True)\n"
     ]
    },
    {
     "name": "stdout",
     "output_type": "stream",
     "text": [
      "2523 W 22ND AVE Stillwater OK 74074 0109.02\n"
     ]
    },
    {
     "name": "stderr",
     "output_type": "stream",
     "text": [
      "<ipython-input-135-c99a2411e0a3>:8: FutureWarning: The frame.append method is deprecated and will be removed from pandas in a future version. Use pandas.concat instead.\n",
      "  df_address_census_tract = df_address_census_tract.append({'Address':i,'Census_Tract':tc_text},ignore_index=True)\n"
     ]
    },
    {
     "name": "stdout",
     "output_type": "stream",
     "text": [
      "2524 N GLENWOOD DR Stillwater OK 74075 0101.01\n"
     ]
    },
    {
     "name": "stderr",
     "output_type": "stream",
     "text": [
      "<ipython-input-135-c99a2411e0a3>:8: FutureWarning: The frame.append method is deprecated and will be removed from pandas in a future version. Use pandas.concat instead.\n",
      "  df_address_census_tract = df_address_census_tract.append({'Address':i,'Census_Tract':tc_text},ignore_index=True)\n"
     ]
    },
    {
     "name": "stdout",
     "output_type": "stream",
     "text": [
      "2524 N KELLER CT Stillwater OK 74074 0101.01\n"
     ]
    },
    {
     "name": "stderr",
     "output_type": "stream",
     "text": [
      "<ipython-input-135-c99a2411e0a3>:8: FutureWarning: The frame.append method is deprecated and will be removed from pandas in a future version. Use pandas.concat instead.\n",
      "  df_address_census_tract = df_address_census_tract.append({'Address':i,'Census_Tract':tc_text},ignore_index=True)\n"
     ]
    },
    {
     "name": "stdout",
     "output_type": "stream",
     "text": [
      "2524 N KELLER DR Stillwater OK 74074 0101.01\n"
     ]
    },
    {
     "name": "stderr",
     "output_type": "stream",
     "text": [
      "<ipython-input-135-c99a2411e0a3>:8: FutureWarning: The frame.append method is deprecated and will be removed from pandas in a future version. Use pandas.concat instead.\n",
      "  df_address_census_tract = df_address_census_tract.append({'Address':i,'Census_Tract':tc_text},ignore_index=True)\n"
     ]
    },
    {
     "name": "stdout",
     "output_type": "stream",
     "text": [
      "2524 KIMBER LN Stillwater OK 74074 \n"
     ]
    },
    {
     "name": "stderr",
     "output_type": "stream",
     "text": [
      "<ipython-input-135-c99a2411e0a3>:8: FutureWarning: The frame.append method is deprecated and will be removed from pandas in a future version. Use pandas.concat instead.\n",
      "  df_address_census_tract = df_address_census_tract.append({'Address':i,'Census_Tract':tc_text},ignore_index=True)\n"
     ]
    },
    {
     "name": "stdout",
     "output_type": "stream",
     "text": [
      "2525 N GLENWOOD DR Stillwater OK 74075 0101.01\n"
     ]
    },
    {
     "name": "stderr",
     "output_type": "stream",
     "text": [
      "<ipython-input-135-c99a2411e0a3>:8: FutureWarning: The frame.append method is deprecated and will be removed from pandas in a future version. Use pandas.concat instead.\n",
      "  df_address_census_tract = df_address_census_tract.append({'Address':i,'Census_Tract':tc_text},ignore_index=True)\n"
     ]
    },
    {
     "name": "stdout",
     "output_type": "stream",
     "text": [
      "2525 N KELLER DR Stillwater OK 74074 0101.01\n"
     ]
    },
    {
     "name": "stderr",
     "output_type": "stream",
     "text": [
      "<ipython-input-135-c99a2411e0a3>:8: FutureWarning: The frame.append method is deprecated and will be removed from pandas in a future version. Use pandas.concat instead.\n",
      "  df_address_census_tract = df_address_census_tract.append({'Address':i,'Census_Tract':tc_text},ignore_index=True)\n"
     ]
    },
    {
     "name": "stdout",
     "output_type": "stream",
     "text": [
      "2526 N KELLER CT Stillwater OK 74074 \n"
     ]
    },
    {
     "name": "stderr",
     "output_type": "stream",
     "text": [
      "<ipython-input-135-c99a2411e0a3>:8: FutureWarning: The frame.append method is deprecated and will be removed from pandas in a future version. Use pandas.concat instead.\n",
      "  df_address_census_tract = df_address_census_tract.append({'Address':i,'Census_Tract':tc_text},ignore_index=True)\n"
     ]
    },
    {
     "name": "stdout",
     "output_type": "stream",
     "text": [
      "2526 N LINCOLN ST Stillwater OK 74074 0102.01\n"
     ]
    },
    {
     "name": "stderr",
     "output_type": "stream",
     "text": [
      "<ipython-input-135-c99a2411e0a3>:8: FutureWarning: The frame.append method is deprecated and will be removed from pandas in a future version. Use pandas.concat instead.\n",
      "  df_address_census_tract = df_address_census_tract.append({'Address':i,'Census_Tract':tc_text},ignore_index=True)\n"
     ]
    },
    {
     "name": "stdout",
     "output_type": "stream",
     "text": [
      "2526 N SANGRE RD Stillwater OK 74075 0110.01\n"
     ]
    },
    {
     "name": "stderr",
     "output_type": "stream",
     "text": [
      "<ipython-input-135-c99a2411e0a3>:8: FutureWarning: The frame.append method is deprecated and will be removed from pandas in a future version. Use pandas.concat instead.\n",
      "  df_address_census_tract = df_address_census_tract.append({'Address':i,'Census_Tract':tc_text},ignore_index=True)\n"
     ]
    },
    {
     "name": "stdout",
     "output_type": "stream",
     "text": [
      "2526 W 22ND AVE Stillwater OK 74074 0109.02\n"
     ]
    },
    {
     "name": "stderr",
     "output_type": "stream",
     "text": [
      "<ipython-input-135-c99a2411e0a3>:8: FutureWarning: The frame.append method is deprecated and will be removed from pandas in a future version. Use pandas.concat instead.\n",
      "  df_address_census_tract = df_address_census_tract.append({'Address':i,'Census_Tract':tc_text},ignore_index=True)\n"
     ]
    },
    {
     "name": "stdout",
     "output_type": "stream",
     "text": [
      "2527 N KELLER DR Stillwater OK 74074 0101.01\n"
     ]
    },
    {
     "name": "stderr",
     "output_type": "stream",
     "text": [
      "<ipython-input-135-c99a2411e0a3>:8: FutureWarning: The frame.append method is deprecated and will be removed from pandas in a future version. Use pandas.concat instead.\n",
      "  df_address_census_tract = df_address_census_tract.append({'Address':i,'Census_Tract':tc_text},ignore_index=True)\n"
     ]
    },
    {
     "name": "stdout",
     "output_type": "stream",
     "text": [
      "2527 W 22ND AVE Stillwater OK 74074 0109.02\n"
     ]
    },
    {
     "name": "stderr",
     "output_type": "stream",
     "text": [
      "<ipython-input-135-c99a2411e0a3>:8: FutureWarning: The frame.append method is deprecated and will be removed from pandas in a future version. Use pandas.concat instead.\n",
      "  df_address_census_tract = df_address_census_tract.append({'Address':i,'Census_Tract':tc_text},ignore_index=True)\n"
     ]
    },
    {
     "name": "stdout",
     "output_type": "stream",
     "text": [
      "2530 W 22ND AVE Stillwater OK 74074 0109.02\n"
     ]
    },
    {
     "name": "stderr",
     "output_type": "stream",
     "text": [
      "<ipython-input-135-c99a2411e0a3>:8: FutureWarning: The frame.append method is deprecated and will be removed from pandas in a future version. Use pandas.concat instead.\n",
      "  df_address_census_tract = df_address_census_tract.append({'Address':i,'Census_Tract':tc_text},ignore_index=True)\n"
     ]
    },
    {
     "name": "stdout",
     "output_type": "stream",
     "text": [
      "2531 N KELLER DR Stillwater OK 74074 0101.01\n"
     ]
    },
    {
     "name": "stderr",
     "output_type": "stream",
     "text": [
      "<ipython-input-135-c99a2411e0a3>:8: FutureWarning: The frame.append method is deprecated and will be removed from pandas in a future version. Use pandas.concat instead.\n",
      "  df_address_census_tract = df_address_census_tract.append({'Address':i,'Census_Tract':tc_text},ignore_index=True)\n"
     ]
    },
    {
     "name": "stdout",
     "output_type": "stream",
     "text": [
      "2533 N KELLER DR Stillwater OK 74074 0101.01\n"
     ]
    },
    {
     "name": "stderr",
     "output_type": "stream",
     "text": [
      "<ipython-input-135-c99a2411e0a3>:8: FutureWarning: The frame.append method is deprecated and will be removed from pandas in a future version. Use pandas.concat instead.\n",
      "  df_address_census_tract = df_address_census_tract.append({'Address':i,'Census_Tract':tc_text},ignore_index=True)\n"
     ]
    },
    {
     "name": "stdout",
     "output_type": "stream",
     "text": [
      "2535 W 22ND AVE Stillwater OK 74074 0109.02\n"
     ]
    },
    {
     "name": "stderr",
     "output_type": "stream",
     "text": [
      "<ipython-input-135-c99a2411e0a3>:8: FutureWarning: The frame.append method is deprecated and will be removed from pandas in a future version. Use pandas.concat instead.\n",
      "  df_address_census_tract = df_address_census_tract.append({'Address':i,'Census_Tract':tc_text},ignore_index=True)\n"
     ]
    },
    {
     "name": "stdout",
     "output_type": "stream",
     "text": [
      "2537 N KELLER DR Stillwater OK 74074 0101.01\n"
     ]
    },
    {
     "name": "stderr",
     "output_type": "stream",
     "text": [
      "<ipython-input-135-c99a2411e0a3>:8: FutureWarning: The frame.append method is deprecated and will be removed from pandas in a future version. Use pandas.concat instead.\n",
      "  df_address_census_tract = df_address_census_tract.append({'Address':i,'Census_Tract':tc_text},ignore_index=True)\n"
     ]
    },
    {
     "name": "stdout",
     "output_type": "stream",
     "text": [
      "2539 N KELLER DR Stillwater OK 74074 0101.01\n"
     ]
    },
    {
     "name": "stderr",
     "output_type": "stream",
     "text": [
      "<ipython-input-135-c99a2411e0a3>:8: FutureWarning: The frame.append method is deprecated and will be removed from pandas in a future version. Use pandas.concat instead.\n",
      "  df_address_census_tract = df_address_census_tract.append({'Address':i,'Census_Tract':tc_text},ignore_index=True)\n"
     ]
    },
    {
     "name": "stdout",
     "output_type": "stream",
     "text": [
      "2542 N KELLER DR Stillwater OK 74075 0101.01\n"
     ]
    },
    {
     "name": "stderr",
     "output_type": "stream",
     "text": [
      "<ipython-input-135-c99a2411e0a3>:8: FutureWarning: The frame.append method is deprecated and will be removed from pandas in a future version. Use pandas.concat instead.\n",
      "  df_address_census_tract = df_address_census_tract.append({'Address':i,'Census_Tract':tc_text},ignore_index=True)\n"
     ]
    },
    {
     "name": "stdout",
     "output_type": "stream",
     "text": [
      "26 WALNUT CIR Stillwater OK 74074 0108.00\n"
     ]
    },
    {
     "name": "stderr",
     "output_type": "stream",
     "text": [
      "<ipython-input-135-c99a2411e0a3>:8: FutureWarning: The frame.append method is deprecated and will be removed from pandas in a future version. Use pandas.concat instead.\n",
      "  df_address_census_tract = df_address_census_tract.append({'Address':i,'Census_Tract':tc_text},ignore_index=True)\n"
     ]
    },
    {
     "name": "stdout",
     "output_type": "stream",
     "text": [
      "2600 N COUNTRY CLUB RD Stillwater OK 74074 0110.01\n"
     ]
    },
    {
     "name": "stderr",
     "output_type": "stream",
     "text": [
      "<ipython-input-135-c99a2411e0a3>:8: FutureWarning: The frame.append method is deprecated and will be removed from pandas in a future version. Use pandas.concat instead.\n",
      "  df_address_census_tract = df_address_census_tract.append({'Address':i,'Census_Tract':tc_text},ignore_index=True)\n"
     ]
    },
    {
     "name": "stdout",
     "output_type": "stream",
     "text": [
      "2601 E WILL ROGERS DR Stillwater OK 74075 0101.01\n"
     ]
    },
    {
     "name": "stderr",
     "output_type": "stream",
     "text": [
      "<ipython-input-135-c99a2411e0a3>:8: FutureWarning: The frame.append method is deprecated and will be removed from pandas in a future version. Use pandas.concat instead.\n",
      "  df_address_census_tract = df_address_census_tract.append({'Address':i,'Census_Tract':tc_text},ignore_index=True)\n"
     ]
    },
    {
     "name": "stdout",
     "output_type": "stream",
     "text": [
      "2601 N IVY CT Stillwater OK 74074 \n"
     ]
    },
    {
     "name": "stderr",
     "output_type": "stream",
     "text": [
      "<ipython-input-135-c99a2411e0a3>:8: FutureWarning: The frame.append method is deprecated and will be removed from pandas in a future version. Use pandas.concat instead.\n",
      "  df_address_census_tract = df_address_census_tract.append({'Address':i,'Census_Tract':tc_text},ignore_index=True)\n"
     ]
    },
    {
     "name": "stdout",
     "output_type": "stream",
     "text": [
      "2602 N COUNTRY CLUB RD Stillwater OK 74075 0110.01\n"
     ]
    },
    {
     "name": "stderr",
     "output_type": "stream",
     "text": [
      "<ipython-input-135-c99a2411e0a3>:8: FutureWarning: The frame.append method is deprecated and will be removed from pandas in a future version. Use pandas.concat instead.\n",
      "  df_address_census_tract = df_address_census_tract.append({'Address':i,'Census_Tract':tc_text},ignore_index=True)\n"
     ]
    },
    {
     "name": "stdout",
     "output_type": "stream",
     "text": [
      "2602 N MONROE ST Stillwater OK 74075 0102.01\n"
     ]
    },
    {
     "name": "stderr",
     "output_type": "stream",
     "text": [
      "<ipython-input-135-c99a2411e0a3>:8: FutureWarning: The frame.append method is deprecated and will be removed from pandas in a future version. Use pandas.concat instead.\n",
      "  df_address_census_tract = df_address_census_tract.append({'Address':i,'Census_Tract':tc_text},ignore_index=True)\n"
     ]
    },
    {
     "name": "stdout",
     "output_type": "stream",
     "text": [
      "2603 N PARK CIR Stillwater OK 74074 0101.01\n"
     ]
    },
    {
     "name": "stderr",
     "output_type": "stream",
     "text": [
      "<ipython-input-135-c99a2411e0a3>:8: FutureWarning: The frame.append method is deprecated and will be removed from pandas in a future version. Use pandas.concat instead.\n",
      "  df_address_census_tract = df_address_census_tract.append({'Address':i,'Census_Tract':tc_text},ignore_index=True)\n"
     ]
    },
    {
     "name": "stdout",
     "output_type": "stream",
     "text": [
      "2606 N COUNTRY CLUB RD Stillwater OK 74075 0110.01\n"
     ]
    },
    {
     "name": "stderr",
     "output_type": "stream",
     "text": [
      "<ipython-input-135-c99a2411e0a3>:8: FutureWarning: The frame.append method is deprecated and will be removed from pandas in a future version. Use pandas.concat instead.\n",
      "  df_address_census_tract = df_address_census_tract.append({'Address':i,'Census_Tract':tc_text},ignore_index=True)\n"
     ]
    },
    {
     "name": "stdout",
     "output_type": "stream",
     "text": [
      "2606 N KELLER DR Stillwater OK 74074 0101.01\n"
     ]
    },
    {
     "name": "stderr",
     "output_type": "stream",
     "text": [
      "<ipython-input-135-c99a2411e0a3>:8: FutureWarning: The frame.append method is deprecated and will be removed from pandas in a future version. Use pandas.concat instead.\n",
      "  df_address_census_tract = df_address_census_tract.append({'Address':i,'Census_Tract':tc_text},ignore_index=True)\n"
     ]
    },
    {
     "name": "stdout",
     "output_type": "stream",
     "text": [
      "2606 S CAMBRIDGE DR Stillwater OK 74074 0109.02\n"
     ]
    },
    {
     "name": "stderr",
     "output_type": "stream",
     "text": [
      "<ipython-input-135-c99a2411e0a3>:8: FutureWarning: The frame.append method is deprecated and will be removed from pandas in a future version. Use pandas.concat instead.\n",
      "  df_address_census_tract = df_address_census_tract.append({'Address':i,'Census_Tract':tc_text},ignore_index=True)\n"
     ]
    },
    {
     "name": "stdout",
     "output_type": "stream",
     "text": [
      "2608 N PARK CIR Stillwater OK 74074 0101.01\n"
     ]
    },
    {
     "name": "stderr",
     "output_type": "stream",
     "text": [
      "<ipython-input-135-c99a2411e0a3>:8: FutureWarning: The frame.append method is deprecated and will be removed from pandas in a future version. Use pandas.concat instead.\n",
      "  df_address_census_tract = df_address_census_tract.append({'Address':i,'Census_Tract':tc_text},ignore_index=True)\n"
     ]
    },
    {
     "name": "stdout",
     "output_type": "stream",
     "text": [
      "2608 N PARK DR Stillwater OK 74074 0101.01\n"
     ]
    },
    {
     "name": "stderr",
     "output_type": "stream",
     "text": [
      "<ipython-input-135-c99a2411e0a3>:8: FutureWarning: The frame.append method is deprecated and will be removed from pandas in a future version. Use pandas.concat instead.\n",
      "  df_address_census_tract = df_address_census_tract.append({'Address':i,'Census_Tract':tc_text},ignore_index=True)\n"
     ]
    },
    {
     "name": "stdout",
     "output_type": "stream",
     "text": [
      "2608 S OXFORD DR Stillwater OK 74074 0109.02\n"
     ]
    },
    {
     "name": "stderr",
     "output_type": "stream",
     "text": [
      "<ipython-input-135-c99a2411e0a3>:8: FutureWarning: The frame.append method is deprecated and will be removed from pandas in a future version. Use pandas.concat instead.\n",
      "  df_address_census_tract = df_address_census_tract.append({'Address':i,'Census_Tract':tc_text},ignore_index=True)\n"
     ]
    },
    {
     "name": "stdout",
     "output_type": "stream",
     "text": [
      "2609 N PARK CIR Stillwater OK 74074 0101.01\n"
     ]
    },
    {
     "name": "stderr",
     "output_type": "stream",
     "text": [
      "<ipython-input-135-c99a2411e0a3>:8: FutureWarning: The frame.append method is deprecated and will be removed from pandas in a future version. Use pandas.concat instead.\n",
      "  df_address_census_tract = df_address_census_tract.append({'Address':i,'Census_Tract':tc_text},ignore_index=True)\n"
     ]
    },
    {
     "name": "stdout",
     "output_type": "stream",
     "text": [
      "2609 N PARK DR Stillwater OK 74074 0101.01\n"
     ]
    },
    {
     "name": "stderr",
     "output_type": "stream",
     "text": [
      "<ipython-input-135-c99a2411e0a3>:8: FutureWarning: The frame.append method is deprecated and will be removed from pandas in a future version. Use pandas.concat instead.\n",
      "  df_address_census_tract = df_address_census_tract.append({'Address':i,'Census_Tract':tc_text},ignore_index=True)\n"
     ]
    },
    {
     "name": "stdout",
     "output_type": "stream",
     "text": [
      "2610 E 12TH AVE Stillwater OK 74074 0106.00\n"
     ]
    },
    {
     "name": "stderr",
     "output_type": "stream",
     "text": [
      "<ipython-input-135-c99a2411e0a3>:8: FutureWarning: The frame.append method is deprecated and will be removed from pandas in a future version. Use pandas.concat instead.\n",
      "  df_address_census_tract = df_address_census_tract.append({'Address':i,'Census_Tract':tc_text},ignore_index=True)\n"
     ]
    },
    {
     "name": "stdout",
     "output_type": "stream",
     "text": [
      "2610 KIMBER LN Stillwater OK 74074 \n"
     ]
    },
    {
     "name": "stderr",
     "output_type": "stream",
     "text": [
      "<ipython-input-135-c99a2411e0a3>:8: FutureWarning: The frame.append method is deprecated and will be removed from pandas in a future version. Use pandas.concat instead.\n",
      "  df_address_census_tract = df_address_census_tract.append({'Address':i,'Census_Tract':tc_text},ignore_index=True)\n"
     ]
    },
    {
     "name": "stdout",
     "output_type": "stream",
     "text": [
      "2610 S LYNDSEY CT Stillwater OK 74074 0109.01\n"
     ]
    },
    {
     "name": "stderr",
     "output_type": "stream",
     "text": [
      "<ipython-input-135-c99a2411e0a3>:8: FutureWarning: The frame.append method is deprecated and will be removed from pandas in a future version. Use pandas.concat instead.\n",
      "  df_address_census_tract = df_address_census_tract.append({'Address':i,'Census_Tract':tc_text},ignore_index=True)\n"
     ]
    },
    {
     "name": "stdout",
     "output_type": "stream",
     "text": [
      "2611 N PARK CIR Stillwater OK 74074 0101.01\n"
     ]
    },
    {
     "name": "stderr",
     "output_type": "stream",
     "text": [
      "<ipython-input-135-c99a2411e0a3>:8: FutureWarning: The frame.append method is deprecated and will be removed from pandas in a future version. Use pandas.concat instead.\n",
      "  df_address_census_tract = df_address_census_tract.append({'Address':i,'Census_Tract':tc_text},ignore_index=True)\n"
     ]
    },
    {
     "name": "stdout",
     "output_type": "stream",
     "text": [
      "2611 N PARK DR Stillwater OK 74074 0101.01\n"
     ]
    },
    {
     "name": "stderr",
     "output_type": "stream",
     "text": [
      "<ipython-input-135-c99a2411e0a3>:8: FutureWarning: The frame.append method is deprecated and will be removed from pandas in a future version. Use pandas.concat instead.\n",
      "  df_address_census_tract = df_address_census_tract.append({'Address':i,'Census_Tract':tc_text},ignore_index=True)\n"
     ]
    },
    {
     "name": "stdout",
     "output_type": "stream",
     "text": [
      "2611 S OXFORD DR Stillwater OK 74074 0109.02\n"
     ]
    },
    {
     "name": "stderr",
     "output_type": "stream",
     "text": [
      "<ipython-input-135-c99a2411e0a3>:8: FutureWarning: The frame.append method is deprecated and will be removed from pandas in a future version. Use pandas.concat instead.\n",
      "  df_address_census_tract = df_address_census_tract.append({'Address':i,'Census_Tract':tc_text},ignore_index=True)\n"
     ]
    },
    {
     "name": "stdout",
     "output_type": "stream",
     "text": [
      "2612 N SANGRE RD Stillwater OK 74075 0110.01\n"
     ]
    },
    {
     "name": "stderr",
     "output_type": "stream",
     "text": [
      "<ipython-input-135-c99a2411e0a3>:8: FutureWarning: The frame.append method is deprecated and will be removed from pandas in a future version. Use pandas.concat instead.\n",
      "  df_address_census_tract = df_address_census_tract.append({'Address':i,'Census_Tract':tc_text},ignore_index=True)\n"
     ]
    },
    {
     "name": "stdout",
     "output_type": "stream",
     "text": [
      "2614 N PARK CIR Stillwater OK 74074 0101.01\n"
     ]
    },
    {
     "name": "stderr",
     "output_type": "stream",
     "text": [
      "<ipython-input-135-c99a2411e0a3>:8: FutureWarning: The frame.append method is deprecated and will be removed from pandas in a future version. Use pandas.concat instead.\n",
      "  df_address_census_tract = df_address_census_tract.append({'Address':i,'Census_Tract':tc_text},ignore_index=True)\n"
     ]
    },
    {
     "name": "stdout",
     "output_type": "stream",
     "text": [
      "2615 N PARK DR Stillwater OK 74074 0101.01\n"
     ]
    },
    {
     "name": "stderr",
     "output_type": "stream",
     "text": [
      "<ipython-input-135-c99a2411e0a3>:8: FutureWarning: The frame.append method is deprecated and will be removed from pandas in a future version. Use pandas.concat instead.\n",
      "  df_address_census_tract = df_address_census_tract.append({'Address':i,'Census_Tract':tc_text},ignore_index=True)\n"
     ]
    },
    {
     "name": "stdout",
     "output_type": "stream",
     "text": [
      "2615 S CAMBRIDGE DR Stillwater OK 74074 0109.02\n"
     ]
    },
    {
     "name": "stderr",
     "output_type": "stream",
     "text": [
      "<ipython-input-135-c99a2411e0a3>:8: FutureWarning: The frame.append method is deprecated and will be removed from pandas in a future version. Use pandas.concat instead.\n",
      "  df_address_census_tract = df_address_census_tract.append({'Address':i,'Census_Tract':tc_text},ignore_index=True)\n"
     ]
    },
    {
     "name": "stdout",
     "output_type": "stream",
     "text": [
      "2618 N PARK DR Stillwater OK 74074 0101.01\n"
     ]
    },
    {
     "name": "stderr",
     "output_type": "stream",
     "text": [
      "<ipython-input-135-c99a2411e0a3>:8: FutureWarning: The frame.append method is deprecated and will be removed from pandas in a future version. Use pandas.concat instead.\n",
      "  df_address_census_tract = df_address_census_tract.append({'Address':i,'Census_Tract':tc_text},ignore_index=True)\n"
     ]
    },
    {
     "name": "stdout",
     "output_type": "stream",
     "text": [
      "2619 W 22ND AVE Stillwater OK 74074 0109.02\n"
     ]
    },
    {
     "name": "stderr",
     "output_type": "stream",
     "text": [
      "<ipython-input-135-c99a2411e0a3>:8: FutureWarning: The frame.append method is deprecated and will be removed from pandas in a future version. Use pandas.concat instead.\n",
      "  df_address_census_tract = df_address_census_tract.append({'Address':i,'Census_Tract':tc_text},ignore_index=True)\n"
     ]
    },
    {
     "name": "stdout",
     "output_type": "stream",
     "text": [
      "2621 N PARK CIR Stillwater OK 74074 0101.01\n"
     ]
    },
    {
     "name": "stderr",
     "output_type": "stream",
     "text": [
      "<ipython-input-135-c99a2411e0a3>:8: FutureWarning: The frame.append method is deprecated and will be removed from pandas in a future version. Use pandas.concat instead.\n",
      "  df_address_census_tract = df_address_census_tract.append({'Address':i,'Census_Tract':tc_text},ignore_index=True)\n"
     ]
    },
    {
     "name": "stdout",
     "output_type": "stream",
     "text": [
      "2622 KIMBER LN Stillwater OK 74074 \n"
     ]
    },
    {
     "name": "stderr",
     "output_type": "stream",
     "text": [
      "<ipython-input-135-c99a2411e0a3>:8: FutureWarning: The frame.append method is deprecated and will be removed from pandas in a future version. Use pandas.concat instead.\n",
      "  df_address_census_tract = df_address_census_tract.append({'Address':i,'Census_Tract':tc_text},ignore_index=True)\n"
     ]
    },
    {
     "name": "stdout",
     "output_type": "stream",
     "text": [
      "2623 N MONROE ST Stillwater OK 74075 0102.01\n"
     ]
    },
    {
     "name": "stderr",
     "output_type": "stream",
     "text": [
      "<ipython-input-135-c99a2411e0a3>:8: FutureWarning: The frame.append method is deprecated and will be removed from pandas in a future version. Use pandas.concat instead.\n",
      "  df_address_census_tract = df_address_census_tract.append({'Address':i,'Census_Tract':tc_text},ignore_index=True)\n"
     ]
    },
    {
     "name": "stdout",
     "output_type": "stream",
     "text": [
      "2623 N PARK DR Stillwater OK 74074 0101.01\n"
     ]
    },
    {
     "name": "stderr",
     "output_type": "stream",
     "text": [
      "<ipython-input-135-c99a2411e0a3>:8: FutureWarning: The frame.append method is deprecated and will be removed from pandas in a future version. Use pandas.concat instead.\n",
      "  df_address_census_tract = df_address_census_tract.append({'Address':i,'Census_Tract':tc_text},ignore_index=True)\n"
     ]
    },
    {
     "name": "stdout",
     "output_type": "stream",
     "text": [
      "2624 W 44TH AVE Stillwater OK 74074 0110.02\n"
     ]
    },
    {
     "name": "stderr",
     "output_type": "stream",
     "text": [
      "<ipython-input-135-c99a2411e0a3>:8: FutureWarning: The frame.append method is deprecated and will be removed from pandas in a future version. Use pandas.concat instead.\n",
      "  df_address_census_tract = df_address_census_tract.append({'Address':i,'Census_Tract':tc_text},ignore_index=True)\n"
     ]
    },
    {
     "name": "stdout",
     "output_type": "stream",
     "text": [
      "2625 N PARK DR Stillwater OK 74074 0101.01\n"
     ]
    },
    {
     "name": "stderr",
     "output_type": "stream",
     "text": [
      "<ipython-input-135-c99a2411e0a3>:8: FutureWarning: The frame.append method is deprecated and will be removed from pandas in a future version. Use pandas.concat instead.\n",
      "  df_address_census_tract = df_address_census_tract.append({'Address':i,'Census_Tract':tc_text},ignore_index=True)\n"
     ]
    },
    {
     "name": "stdout",
     "output_type": "stream",
     "text": [
      "2625 S CAMBRIDGE DR Stillwater OK 74074 0109.02\n"
     ]
    },
    {
     "name": "stderr",
     "output_type": "stream",
     "text": [
      "<ipython-input-135-c99a2411e0a3>:8: FutureWarning: The frame.append method is deprecated and will be removed from pandas in a future version. Use pandas.concat instead.\n",
      "  df_address_census_tract = df_address_census_tract.append({'Address':i,'Census_Tract':tc_text},ignore_index=True)\n"
     ]
    },
    {
     "name": "stdout",
     "output_type": "stream",
     "text": [
      "27 UNIVERSITY CIR Stillwater OK 74074 0103.00\n"
     ]
    },
    {
     "name": "stderr",
     "output_type": "stream",
     "text": [
      "<ipython-input-135-c99a2411e0a3>:8: FutureWarning: The frame.append method is deprecated and will be removed from pandas in a future version. Use pandas.concat instead.\n",
      "  df_address_census_tract = df_address_census_tract.append({'Address':i,'Census_Tract':tc_text},ignore_index=True)\n"
     ]
    },
    {
     "name": "stdout",
     "output_type": "stream",
     "text": [
      "2701 N RUNNING BEAR ST Stillwater OK 74075 0101.01\n"
     ]
    },
    {
     "name": "stderr",
     "output_type": "stream",
     "text": [
      "<ipython-input-135-c99a2411e0a3>:8: FutureWarning: The frame.append method is deprecated and will be removed from pandas in a future version. Use pandas.concat instead.\n",
      "  df_address_census_tract = df_address_census_tract.append({'Address':i,'Census_Tract':tc_text},ignore_index=True)\n"
     ]
    },
    {
     "name": "stdout",
     "output_type": "stream",
     "text": [
      "2702 N PARK DR Stillwater OK 74074 0101.01\n"
     ]
    },
    {
     "name": "stderr",
     "output_type": "stream",
     "text": [
      "<ipython-input-135-c99a2411e0a3>:8: FutureWarning: The frame.append method is deprecated and will be removed from pandas in a future version. Use pandas.concat instead.\n",
      "  df_address_census_tract = df_address_census_tract.append({'Address':i,'Census_Tract':tc_text},ignore_index=True)\n"
     ]
    },
    {
     "name": "stdout",
     "output_type": "stream",
     "text": [
      "2702 S FOX LEDGE DR Stillwater OK 74074 0109.02\n"
     ]
    },
    {
     "name": "stderr",
     "output_type": "stream",
     "text": [
      "<ipython-input-135-c99a2411e0a3>:8: FutureWarning: The frame.append method is deprecated and will be removed from pandas in a future version. Use pandas.concat instead.\n",
      "  df_address_census_tract = df_address_census_tract.append({'Address':i,'Census_Tract':tc_text},ignore_index=True)\n"
     ]
    },
    {
     "name": "stdout",
     "output_type": "stream",
     "text": [
      "2705 N PARK DR Stillwater OK 74074 0101.01\n"
     ]
    },
    {
     "name": "stderr",
     "output_type": "stream",
     "text": [
      "<ipython-input-135-c99a2411e0a3>:8: FutureWarning: The frame.append method is deprecated and will be removed from pandas in a future version. Use pandas.concat instead.\n",
      "  df_address_census_tract = df_address_census_tract.append({'Address':i,'Census_Tract':tc_text},ignore_index=True)\n"
     ]
    },
    {
     "name": "stdout",
     "output_type": "stream",
     "text": [
      "27051 COUNTY ROAD 190 Stillwater OK 74075 9571.00\n"
     ]
    },
    {
     "name": "stderr",
     "output_type": "stream",
     "text": [
      "<ipython-input-135-c99a2411e0a3>:8: FutureWarning: The frame.append method is deprecated and will be removed from pandas in a future version. Use pandas.concat instead.\n",
      "  df_address_census_tract = df_address_census_tract.append({'Address':i,'Census_Tract':tc_text},ignore_index=True)\n"
     ]
    },
    {
     "name": "stdout",
     "output_type": "stream",
     "text": [
      "2706 N PARK DR Stillwater OK 74074 0101.01\n"
     ]
    },
    {
     "name": "stderr",
     "output_type": "stream",
     "text": [
      "<ipython-input-135-c99a2411e0a3>:8: FutureWarning: The frame.append method is deprecated and will be removed from pandas in a future version. Use pandas.concat instead.\n",
      "  df_address_census_tract = df_address_census_tract.append({'Address':i,'Census_Tract':tc_text},ignore_index=True)\n"
     ]
    },
    {
     "name": "stdout",
     "output_type": "stream",
     "text": [
      "2706 W 44TH AVE Stillwater OK 74074 0110.02\n"
     ]
    },
    {
     "name": "stderr",
     "output_type": "stream",
     "text": [
      "<ipython-input-135-c99a2411e0a3>:8: FutureWarning: The frame.append method is deprecated and will be removed from pandas in a future version. Use pandas.concat instead.\n",
      "  df_address_census_tract = df_address_census_tract.append({'Address':i,'Census_Tract':tc_text},ignore_index=True)\n"
     ]
    },
    {
     "name": "stdout",
     "output_type": "stream",
     "text": [
      "2707 N RUNNING BEAR ST Stillwater OK 74075 0101.01\n"
     ]
    },
    {
     "name": "stderr",
     "output_type": "stream",
     "text": [
      "<ipython-input-135-c99a2411e0a3>:8: FutureWarning: The frame.append method is deprecated and will be removed from pandas in a future version. Use pandas.concat instead.\n",
      "  df_address_census_tract = df_address_census_tract.append({'Address':i,'Census_Tract':tc_text},ignore_index=True)\n"
     ]
    },
    {
     "name": "stdout",
     "output_type": "stream",
     "text": [
      "2708 N COYOTE RUN Stillwater OK 74075 0110.01\n"
     ]
    },
    {
     "name": "stderr",
     "output_type": "stream",
     "text": [
      "<ipython-input-135-c99a2411e0a3>:8: FutureWarning: The frame.append method is deprecated and will be removed from pandas in a future version. Use pandas.concat instead.\n",
      "  df_address_census_tract = df_address_census_tract.append({'Address':i,'Census_Tract':tc_text},ignore_index=True)\n"
     ]
    },
    {
     "name": "stdout",
     "output_type": "stream",
     "text": [
      "2708 N LORI CIR Stillwater OK 74075 0102.02\n"
     ]
    },
    {
     "name": "stderr",
     "output_type": "stream",
     "text": [
      "<ipython-input-135-c99a2411e0a3>:8: FutureWarning: The frame.append method is deprecated and will be removed from pandas in a future version. Use pandas.concat instead.\n",
      "  df_address_census_tract = df_address_census_tract.append({'Address':i,'Census_Tract':tc_text},ignore_index=True)\n"
     ]
    },
    {
     "name": "stdout",
     "output_type": "stream",
     "text": [
      "2709 N PARK CIR Stillwater OK 74074 0101.01\n"
     ]
    },
    {
     "name": "stderr",
     "output_type": "stream",
     "text": [
      "<ipython-input-135-c99a2411e0a3>:8: FutureWarning: The frame.append method is deprecated and will be removed from pandas in a future version. Use pandas.concat instead.\n",
      "  df_address_census_tract = df_address_census_tract.append({'Address':i,'Census_Tract':tc_text},ignore_index=True)\n"
     ]
    },
    {
     "name": "stdout",
     "output_type": "stream",
     "text": [
      "2709 N PARK DR Stillwater OK 74074 0101.01\n"
     ]
    },
    {
     "name": "stderr",
     "output_type": "stream",
     "text": [
      "<ipython-input-135-c99a2411e0a3>:8: FutureWarning: The frame.append method is deprecated and will be removed from pandas in a future version. Use pandas.concat instead.\n",
      "  df_address_census_tract = df_address_census_tract.append({'Address':i,'Census_Tract':tc_text},ignore_index=True)\n"
     ]
    },
    {
     "name": "stdout",
     "output_type": "stream",
     "text": [
      "2710 N LORI CIR Stillwater OK 74075 0102.02\n"
     ]
    },
    {
     "name": "stderr",
     "output_type": "stream",
     "text": [
      "<ipython-input-135-c99a2411e0a3>:8: FutureWarning: The frame.append method is deprecated and will be removed from pandas in a future version. Use pandas.concat instead.\n",
      "  df_address_census_tract = df_address_census_tract.append({'Address':i,'Census_Tract':tc_text},ignore_index=True)\n"
     ]
    },
    {
     "name": "stdout",
     "output_type": "stream",
     "text": [
      "2710 N PARK CIR Stillwater OK 74074 0101.01\n"
     ]
    },
    {
     "name": "stderr",
     "output_type": "stream",
     "text": [
      "<ipython-input-135-c99a2411e0a3>:8: FutureWarning: The frame.append method is deprecated and will be removed from pandas in a future version. Use pandas.concat instead.\n",
      "  df_address_census_tract = df_address_census_tract.append({'Address':i,'Census_Tract':tc_text},ignore_index=True)\n"
     ]
    },
    {
     "name": "stdout",
     "output_type": "stream",
     "text": [
      "2710 N RUNNING BEAR ST Stillwater OK 74075 0101.01\n"
     ]
    },
    {
     "name": "stderr",
     "output_type": "stream",
     "text": [
      "<ipython-input-135-c99a2411e0a3>:8: FutureWarning: The frame.append method is deprecated and will be removed from pandas in a future version. Use pandas.concat instead.\n",
      "  df_address_census_tract = df_address_census_tract.append({'Address':i,'Census_Tract':tc_text},ignore_index=True)\n"
     ]
    },
    {
     "name": "stdout",
     "output_type": "stream",
     "text": [
      "2710 S WASHINGTON ST Stillwater OK 74074 0109.02\n"
     ]
    },
    {
     "name": "stderr",
     "output_type": "stream",
     "text": [
      "<ipython-input-135-c99a2411e0a3>:8: FutureWarning: The frame.append method is deprecated and will be removed from pandas in a future version. Use pandas.concat instead.\n",
      "  df_address_census_tract = df_address_census_tract.append({'Address':i,'Census_Tract':tc_text},ignore_index=True)\n"
     ]
    },
    {
     "name": "stdout",
     "output_type": "stream",
     "text": [
      "2710 W 44TH AVE Stillwater OK 74074 0110.02\n"
     ]
    },
    {
     "name": "stderr",
     "output_type": "stream",
     "text": [
      "<ipython-input-135-c99a2411e0a3>:8: FutureWarning: The frame.append method is deprecated and will be removed from pandas in a future version. Use pandas.concat instead.\n",
      "  df_address_census_tract = df_address_census_tract.append({'Address':i,'Census_Tract':tc_text},ignore_index=True)\n"
     ]
    },
    {
     "name": "stdout",
     "output_type": "stream",
     "text": [
      "2711 N PARK CIR Stillwater OK 74074 0101.01\n"
     ]
    },
    {
     "name": "stderr",
     "output_type": "stream",
     "text": [
      "<ipython-input-135-c99a2411e0a3>:8: FutureWarning: The frame.append method is deprecated and will be removed from pandas in a future version. Use pandas.concat instead.\n",
      "  df_address_census_tract = df_address_census_tract.append({'Address':i,'Census_Tract':tc_text},ignore_index=True)\n"
     ]
    },
    {
     "name": "stdout",
     "output_type": "stream",
     "text": [
      "2712 N PARK DR Stillwater OK 74074 0101.01\n"
     ]
    },
    {
     "name": "stderr",
     "output_type": "stream",
     "text": [
      "<ipython-input-135-c99a2411e0a3>:8: FutureWarning: The frame.append method is deprecated and will be removed from pandas in a future version. Use pandas.concat instead.\n",
      "  df_address_census_tract = df_address_census_tract.append({'Address':i,'Census_Tract':tc_text},ignore_index=True)\n"
     ]
    },
    {
     "name": "stdout",
     "output_type": "stream",
     "text": [
      "2712 KIMBER LN Stillwater OK 74074 \n"
     ]
    },
    {
     "name": "stderr",
     "output_type": "stream",
     "text": [
      "<ipython-input-135-c99a2411e0a3>:8: FutureWarning: The frame.append method is deprecated and will be removed from pandas in a future version. Use pandas.concat instead.\n",
      "  df_address_census_tract = df_address_census_tract.append({'Address':i,'Census_Tract':tc_text},ignore_index=True)\n"
     ]
    },
    {
     "name": "stdout",
     "output_type": "stream",
     "text": [
      "2712 S MAR VISTA ST Stillwater OK 74074 0109.02\n"
     ]
    },
    {
     "name": "stderr",
     "output_type": "stream",
     "text": [
      "<ipython-input-135-c99a2411e0a3>:8: FutureWarning: The frame.append method is deprecated and will be removed from pandas in a future version. Use pandas.concat instead.\n",
      "  df_address_census_tract = df_address_census_tract.append({'Address':i,'Census_Tract':tc_text},ignore_index=True)\n"
     ]
    },
    {
     "name": "stdout",
     "output_type": "stream",
     "text": [
      "2714 N LORI CIR Stillwater OK 74075 0102.02\n"
     ]
    },
    {
     "name": "stderr",
     "output_type": "stream",
     "text": [
      "<ipython-input-135-c99a2411e0a3>:8: FutureWarning: The frame.append method is deprecated and will be removed from pandas in a future version. Use pandas.concat instead.\n",
      "  df_address_census_tract = df_address_census_tract.append({'Address':i,'Census_Tract':tc_text},ignore_index=True)\n"
     ]
    },
    {
     "name": "stdout",
     "output_type": "stream",
     "text": [
      "2714 N PARK DR Stillwater OK 74074 0101.01\n"
     ]
    },
    {
     "name": "stderr",
     "output_type": "stream",
     "text": [
      "<ipython-input-135-c99a2411e0a3>:8: FutureWarning: The frame.append method is deprecated and will be removed from pandas in a future version. Use pandas.concat instead.\n",
      "  df_address_census_tract = df_address_census_tract.append({'Address':i,'Census_Tract':tc_text},ignore_index=True)\n"
     ]
    },
    {
     "name": "stdout",
     "output_type": "stream",
     "text": [
      "2715 N PARK DR Stillwater OK 74074 0101.01\n"
     ]
    },
    {
     "name": "stderr",
     "output_type": "stream",
     "text": [
      "<ipython-input-135-c99a2411e0a3>:8: FutureWarning: The frame.append method is deprecated and will be removed from pandas in a future version. Use pandas.concat instead.\n",
      "  df_address_census_tract = df_address_census_tract.append({'Address':i,'Census_Tract':tc_text},ignore_index=True)\n"
     ]
    },
    {
     "name": "stdout",
     "output_type": "stream",
     "text": [
      "2715 S QUAIL RIDGE ST Stillwater OK 74074 0109.02\n"
     ]
    },
    {
     "name": "stderr",
     "output_type": "stream",
     "text": [
      "<ipython-input-135-c99a2411e0a3>:8: FutureWarning: The frame.append method is deprecated and will be removed from pandas in a future version. Use pandas.concat instead.\n",
      "  df_address_census_tract = df_address_census_tract.append({'Address':i,'Census_Tract':tc_text},ignore_index=True)\n"
     ]
    },
    {
     "name": "stdout",
     "output_type": "stream",
     "text": [
      "2716 N RUNNING BEAR ST Stillwater OK 74075 0101.01\n"
     ]
    },
    {
     "name": "stderr",
     "output_type": "stream",
     "text": [
      "<ipython-input-135-c99a2411e0a3>:8: FutureWarning: The frame.append method is deprecated and will be removed from pandas in a future version. Use pandas.concat instead.\n",
      "  df_address_census_tract = df_address_census_tract.append({'Address':i,'Census_Tract':tc_text},ignore_index=True)\n"
     ]
    },
    {
     "name": "stdout",
     "output_type": "stream",
     "text": [
      "2716 KIMBER LN Stillwater OK 74074 \n"
     ]
    },
    {
     "name": "stderr",
     "output_type": "stream",
     "text": [
      "<ipython-input-135-c99a2411e0a3>:8: FutureWarning: The frame.append method is deprecated and will be removed from pandas in a future version. Use pandas.concat instead.\n",
      "  df_address_census_tract = df_address_census_tract.append({'Address':i,'Census_Tract':tc_text},ignore_index=True)\n"
     ]
    },
    {
     "name": "stdout",
     "output_type": "stream",
     "text": [
      "2717 W 20TH AVE Stillwater OK 74074 0109.02\n"
     ]
    },
    {
     "name": "stderr",
     "output_type": "stream",
     "text": [
      "<ipython-input-135-c99a2411e0a3>:8: FutureWarning: The frame.append method is deprecated and will be removed from pandas in a future version. Use pandas.concat instead.\n",
      "  df_address_census_tract = df_address_census_tract.append({'Address':i,'Census_Tract':tc_text},ignore_index=True)\n"
     ]
    },
    {
     "name": "stdout",
     "output_type": "stream",
     "text": [
      "2719 N PARK CIR Stillwater OK 74074 0101.01\n"
     ]
    },
    {
     "name": "stderr",
     "output_type": "stream",
     "text": [
      "<ipython-input-135-c99a2411e0a3>:8: FutureWarning: The frame.append method is deprecated and will be removed from pandas in a future version. Use pandas.concat instead.\n",
      "  df_address_census_tract = df_address_census_tract.append({'Address':i,'Census_Tract':tc_text},ignore_index=True)\n"
     ]
    },
    {
     "name": "stdout",
     "output_type": "stream",
     "text": [
      "2719 N RUNNING BEAR ST Stillwater OK 74075 0101.01\n"
     ]
    },
    {
     "name": "stderr",
     "output_type": "stream",
     "text": [
      "<ipython-input-135-c99a2411e0a3>:8: FutureWarning: The frame.append method is deprecated and will be removed from pandas in a future version. Use pandas.concat instead.\n",
      "  df_address_census_tract = df_address_census_tract.append({'Address':i,'Census_Tract':tc_text},ignore_index=True)\n"
     ]
    },
    {
     "name": "stdout",
     "output_type": "stream",
     "text": [
      "2720 W 27TH AVE Stillwater OK 74074 0109.02\n"
     ]
    },
    {
     "name": "stderr",
     "output_type": "stream",
     "text": [
      "<ipython-input-135-c99a2411e0a3>:8: FutureWarning: The frame.append method is deprecated and will be removed from pandas in a future version. Use pandas.concat instead.\n",
      "  df_address_census_tract = df_address_census_tract.append({'Address':i,'Census_Tract':tc_text},ignore_index=True)\n"
     ]
    },
    {
     "name": "stdout",
     "output_type": "stream",
     "text": [
      "2721 N LORI CIR Stillwater OK 74075 0102.02\n"
     ]
    },
    {
     "name": "stderr",
     "output_type": "stream",
     "text": [
      "<ipython-input-135-c99a2411e0a3>:8: FutureWarning: The frame.append method is deprecated and will be removed from pandas in a future version. Use pandas.concat instead.\n",
      "  df_address_census_tract = df_address_census_tract.append({'Address':i,'Census_Tract':tc_text},ignore_index=True)\n"
     ]
    },
    {
     "name": "stdout",
     "output_type": "stream",
     "text": [
      "2722 N KELLER DR Stillwater OK 74074 0101.01\n"
     ]
    },
    {
     "name": "stderr",
     "output_type": "stream",
     "text": [
      "<ipython-input-135-c99a2411e0a3>:8: FutureWarning: The frame.append method is deprecated and will be removed from pandas in a future version. Use pandas.concat instead.\n",
      "  df_address_census_tract = df_address_census_tract.append({'Address':i,'Census_Tract':tc_text},ignore_index=True)\n"
     ]
    },
    {
     "name": "stdout",
     "output_type": "stream",
     "text": [
      "2722 N LORI CIR Stillwater OK 74075 0102.02\n"
     ]
    },
    {
     "name": "stderr",
     "output_type": "stream",
     "text": [
      "<ipython-input-135-c99a2411e0a3>:8: FutureWarning: The frame.append method is deprecated and will be removed from pandas in a future version. Use pandas.concat instead.\n",
      "  df_address_census_tract = df_address_census_tract.append({'Address':i,'Census_Tract':tc_text},ignore_index=True)\n"
     ]
    },
    {
     "name": "stdout",
     "output_type": "stream",
     "text": [
      "2722 N RUNNING BEAR ST Stillwater OK 74075 0101.01\n"
     ]
    },
    {
     "name": "stderr",
     "output_type": "stream",
     "text": [
      "<ipython-input-135-c99a2411e0a3>:8: FutureWarning: The frame.append method is deprecated and will be removed from pandas in a future version. Use pandas.concat instead.\n",
      "  df_address_census_tract = df_address_census_tract.append({'Address':i,'Census_Tract':tc_text},ignore_index=True)\n"
     ]
    },
    {
     "name": "stdout",
     "output_type": "stream",
     "text": [
      "2722 S SADDLE ROCK ST Stillwater OK 74074 0109.02\n"
     ]
    },
    {
     "name": "stderr",
     "output_type": "stream",
     "text": [
      "<ipython-input-135-c99a2411e0a3>:8: FutureWarning: The frame.append method is deprecated and will be removed from pandas in a future version. Use pandas.concat instead.\n",
      "  df_address_census_tract = df_address_census_tract.append({'Address':i,'Census_Tract':tc_text},ignore_index=True)\n"
     ]
    },
    {
     "name": "stdout",
     "output_type": "stream",
     "text": [
      "2723 N RUNNING BEAR ST Stillwater OK 74075 0101.01\n"
     ]
    },
    {
     "name": "stderr",
     "output_type": "stream",
     "text": [
      "<ipython-input-135-c99a2411e0a3>:8: FutureWarning: The frame.append method is deprecated and will be removed from pandas in a future version. Use pandas.concat instead.\n",
      "  df_address_census_tract = df_address_census_tract.append({'Address':i,'Census_Tract':tc_text},ignore_index=True)\n"
     ]
    },
    {
     "name": "stdout",
     "output_type": "stream",
     "text": [
      "2724 N PARK DR Stillwater OK 74074 0101.01\n"
     ]
    },
    {
     "name": "stderr",
     "output_type": "stream",
     "text": [
      "<ipython-input-135-c99a2411e0a3>:8: FutureWarning: The frame.append method is deprecated and will be removed from pandas in a future version. Use pandas.concat instead.\n",
      "  df_address_census_tract = df_address_census_tract.append({'Address':i,'Census_Tract':tc_text},ignore_index=True)\n"
     ]
    },
    {
     "name": "stdout",
     "output_type": "stream",
     "text": [
      "2724 S SADDLE ROCK ST Stillwater OK 74074 0109.02\n"
     ]
    },
    {
     "name": "stderr",
     "output_type": "stream",
     "text": [
      "<ipython-input-135-c99a2411e0a3>:8: FutureWarning: The frame.append method is deprecated and will be removed from pandas in a future version. Use pandas.concat instead.\n",
      "  df_address_census_tract = df_address_census_tract.append({'Address':i,'Census_Tract':tc_text},ignore_index=True)\n"
     ]
    },
    {
     "name": "stdout",
     "output_type": "stream",
     "text": [
      "2725 KIMBER LN Stillwater OK 74074 \n"
     ]
    },
    {
     "name": "stderr",
     "output_type": "stream",
     "text": [
      "<ipython-input-135-c99a2411e0a3>:8: FutureWarning: The frame.append method is deprecated and will be removed from pandas in a future version. Use pandas.concat instead.\n",
      "  df_address_census_tract = df_address_census_tract.append({'Address':i,'Census_Tract':tc_text},ignore_index=True)\n"
     ]
    },
    {
     "name": "stdout",
     "output_type": "stream",
     "text": [
      "2726 N RUNNING BEAR ST Stillwater OK 74075 0101.01\n"
     ]
    },
    {
     "name": "stderr",
     "output_type": "stream",
     "text": [
      "<ipython-input-135-c99a2411e0a3>:8: FutureWarning: The frame.append method is deprecated and will be removed from pandas in a future version. Use pandas.concat instead.\n",
      "  df_address_census_tract = df_address_census_tract.append({'Address':i,'Census_Tract':tc_text},ignore_index=True)\n"
     ]
    },
    {
     "name": "stdout",
     "output_type": "stream",
     "text": [
      "2726 W 20TH AVE Stillwater OK 74074 0109.02\n"
     ]
    },
    {
     "name": "stderr",
     "output_type": "stream",
     "text": [
      "<ipython-input-135-c99a2411e0a3>:8: FutureWarning: The frame.append method is deprecated and will be removed from pandas in a future version. Use pandas.concat instead.\n",
      "  df_address_census_tract = df_address_census_tract.append({'Address':i,'Census_Tract':tc_text},ignore_index=True)\n"
     ]
    },
    {
     "name": "stdout",
     "output_type": "stream",
     "text": [
      "2728 N RUNNING BEAR ST Stillwater OK 74075 0101.01\n"
     ]
    },
    {
     "name": "stderr",
     "output_type": "stream",
     "text": [
      "<ipython-input-135-c99a2411e0a3>:8: FutureWarning: The frame.append method is deprecated and will be removed from pandas in a future version. Use pandas.concat instead.\n",
      "  df_address_census_tract = df_address_census_tract.append({'Address':i,'Census_Tract':tc_text},ignore_index=True)\n"
     ]
    },
    {
     "name": "stdout",
     "output_type": "stream",
     "text": [
      "2729 N LORI CIR Stillwater OK 74075 0102.02\n"
     ]
    },
    {
     "name": "stderr",
     "output_type": "stream",
     "text": [
      "<ipython-input-135-c99a2411e0a3>:8: FutureWarning: The frame.append method is deprecated and will be removed from pandas in a future version. Use pandas.concat instead.\n",
      "  df_address_census_tract = df_address_census_tract.append({'Address':i,'Census_Tract':tc_text},ignore_index=True)\n"
     ]
    },
    {
     "name": "stdout",
     "output_type": "stream",
     "text": [
      "2730 N LORI CIR Stillwater OK 74075 0102.02\n"
     ]
    },
    {
     "name": "stderr",
     "output_type": "stream",
     "text": [
      "<ipython-input-135-c99a2411e0a3>:8: FutureWarning: The frame.append method is deprecated and will be removed from pandas in a future version. Use pandas.concat instead.\n",
      "  df_address_census_tract = df_address_census_tract.append({'Address':i,'Census_Tract':tc_text},ignore_index=True)\n"
     ]
    },
    {
     "name": "stdout",
     "output_type": "stream",
     "text": [
      "2732 N LORI CIR Stillwater OK 74075 0102.02\n"
     ]
    },
    {
     "name": "stderr",
     "output_type": "stream",
     "text": [
      "<ipython-input-135-c99a2411e0a3>:8: FutureWarning: The frame.append method is deprecated and will be removed from pandas in a future version. Use pandas.concat instead.\n",
      "  df_address_census_tract = df_address_census_tract.append({'Address':i,'Census_Tract':tc_text},ignore_index=True)\n"
     ]
    },
    {
     "name": "stdout",
     "output_type": "stream",
     "text": [
      "28 YELLOW BRICK DR Stillwater OK 74074 0109.02\n"
     ]
    },
    {
     "name": "stderr",
     "output_type": "stream",
     "text": [
      "<ipython-input-135-c99a2411e0a3>:8: FutureWarning: The frame.append method is deprecated and will be removed from pandas in a future version. Use pandas.concat instead.\n",
      "  df_address_census_tract = df_address_census_tract.append({'Address':i,'Census_Tract':tc_text},ignore_index=True)\n"
     ]
    },
    {
     "name": "stdout",
     "output_type": "stream",
     "text": [
      "2800 S HUSBAND ST Stillwater OK 74074 0107.00\n"
     ]
    },
    {
     "name": "stderr",
     "output_type": "stream",
     "text": [
      "<ipython-input-135-c99a2411e0a3>:8: FutureWarning: The frame.append method is deprecated and will be removed from pandas in a future version. Use pandas.concat instead.\n",
      "  df_address_census_tract = df_address_census_tract.append({'Address':i,'Census_Tract':tc_text},ignore_index=True)\n"
     ]
    },
    {
     "name": "stdout",
     "output_type": "stream",
     "text": [
      "2801 N RUNNING BEAR ST Stillwater OK 74075 0101.01\n"
     ]
    },
    {
     "name": "stderr",
     "output_type": "stream",
     "text": [
      "<ipython-input-135-c99a2411e0a3>:8: FutureWarning: The frame.append method is deprecated and will be removed from pandas in a future version. Use pandas.concat instead.\n",
      "  df_address_census_tract = df_address_census_tract.append({'Address':i,'Census_Tract':tc_text},ignore_index=True)\n"
     ]
    },
    {
     "name": "stdout",
     "output_type": "stream",
     "text": [
      "2802 MARK CIR Stillwater OK 74075 0102.02\n"
     ]
    },
    {
     "name": "stderr",
     "output_type": "stream",
     "text": [
      "<ipython-input-135-c99a2411e0a3>:8: FutureWarning: The frame.append method is deprecated and will be removed from pandas in a future version. Use pandas.concat instead.\n",
      "  df_address_census_tract = df_address_census_tract.append({'Address':i,'Census_Tract':tc_text},ignore_index=True)\n"
     ]
    },
    {
     "name": "stdout",
     "output_type": "stream",
     "text": [
      "2803 N LISA CIR Stillwater OK 74075 \n"
     ]
    },
    {
     "name": "stderr",
     "output_type": "stream",
     "text": [
      "<ipython-input-135-c99a2411e0a3>:8: FutureWarning: The frame.append method is deprecated and will be removed from pandas in a future version. Use pandas.concat instead.\n",
      "  df_address_census_tract = df_address_census_tract.append({'Address':i,'Census_Tract':tc_text},ignore_index=True)\n"
     ]
    },
    {
     "name": "stdout",
     "output_type": "stream",
     "text": [
      "2803 N RUNNING BEAR ST Stillwater OK 74075 0101.01\n"
     ]
    },
    {
     "name": "stderr",
     "output_type": "stream",
     "text": [
      "<ipython-input-135-c99a2411e0a3>:8: FutureWarning: The frame.append method is deprecated and will be removed from pandas in a future version. Use pandas.concat instead.\n",
      "  df_address_census_tract = df_address_census_tract.append({'Address':i,'Census_Tract':tc_text},ignore_index=True)\n"
     ]
    },
    {
     "name": "stdout",
     "output_type": "stream",
     "text": [
      "2804 N LISA CIR Stillwater OK 74075 \n"
     ]
    },
    {
     "name": "stderr",
     "output_type": "stream",
     "text": [
      "<ipython-input-135-c99a2411e0a3>:8: FutureWarning: The frame.append method is deprecated and will be removed from pandas in a future version. Use pandas.concat instead.\n",
      "  df_address_census_tract = df_address_census_tract.append({'Address':i,'Census_Tract':tc_text},ignore_index=True)\n"
     ]
    },
    {
     "name": "stdout",
     "output_type": "stream",
     "text": [
      "2804 N RUNNING BEAR ST Stillwater OK 74075 0101.01\n"
     ]
    },
    {
     "name": "stderr",
     "output_type": "stream",
     "text": [
      "<ipython-input-135-c99a2411e0a3>:8: FutureWarning: The frame.append method is deprecated and will be removed from pandas in a future version. Use pandas.concat instead.\n",
      "  df_address_census_tract = df_address_census_tract.append({'Address':i,'Census_Tract':tc_text},ignore_index=True)\n"
     ]
    },
    {
     "name": "stdout",
     "output_type": "stream",
     "text": [
      "2805 MARK CIR Stillwater OK 74075 0102.02\n"
     ]
    },
    {
     "name": "stderr",
     "output_type": "stream",
     "text": [
      "<ipython-input-135-c99a2411e0a3>:8: FutureWarning: The frame.append method is deprecated and will be removed from pandas in a future version. Use pandas.concat instead.\n",
      "  df_address_census_tract = df_address_census_tract.append({'Address':i,'Census_Tract':tc_text},ignore_index=True)\n"
     ]
    },
    {
     "name": "stdout",
     "output_type": "stream",
     "text": [
      "2806 MARK CIR Stillwater OK 74075 0102.02\n"
     ]
    },
    {
     "name": "stderr",
     "output_type": "stream",
     "text": [
      "<ipython-input-135-c99a2411e0a3>:8: FutureWarning: The frame.append method is deprecated and will be removed from pandas in a future version. Use pandas.concat instead.\n",
      "  df_address_census_tract = df_address_census_tract.append({'Address':i,'Census_Tract':tc_text},ignore_index=True)\n"
     ]
    },
    {
     "name": "stdout",
     "output_type": "stream",
     "text": [
      "2807 N RUNNING BEAR ST Stillwater OK 74075 0101.01\n"
     ]
    },
    {
     "name": "stderr",
     "output_type": "stream",
     "text": [
      "<ipython-input-135-c99a2411e0a3>:8: FutureWarning: The frame.append method is deprecated and will be removed from pandas in a future version. Use pandas.concat instead.\n",
      "  df_address_census_tract = df_address_census_tract.append({'Address':i,'Census_Tract':tc_text},ignore_index=True)\n"
     ]
    },
    {
     "name": "stdout",
     "output_type": "stream",
     "text": [
      "2807 KIMBER LN Stillwater OK 74074 \n"
     ]
    },
    {
     "name": "stderr",
     "output_type": "stream",
     "text": [
      "<ipython-input-135-c99a2411e0a3>:8: FutureWarning: The frame.append method is deprecated and will be removed from pandas in a future version. Use pandas.concat instead.\n",
      "  df_address_census_tract = df_address_census_tract.append({'Address':i,'Census_Tract':tc_text},ignore_index=True)\n"
     ]
    },
    {
     "name": "stdout",
     "output_type": "stream",
     "text": [
      "2807 W 18TH AVE Stillwater OK 74074 0109.02\n"
     ]
    },
    {
     "name": "stderr",
     "output_type": "stream",
     "text": [
      "<ipython-input-135-c99a2411e0a3>:8: FutureWarning: The frame.append method is deprecated and will be removed from pandas in a future version. Use pandas.concat instead.\n",
      "  df_address_census_tract = df_address_census_tract.append({'Address':i,'Census_Tract':tc_text},ignore_index=True)\n"
     ]
    },
    {
     "name": "stdout",
     "output_type": "stream",
     "text": [
      "2808 N RUNNING BEAR ST Stillwater OK 74075 0101.01\n"
     ]
    },
    {
     "name": "stderr",
     "output_type": "stream",
     "text": [
      "<ipython-input-135-c99a2411e0a3>:8: FutureWarning: The frame.append method is deprecated and will be removed from pandas in a future version. Use pandas.concat instead.\n",
      "  df_address_census_tract = df_address_census_tract.append({'Address':i,'Census_Tract':tc_text},ignore_index=True)\n"
     ]
    },
    {
     "name": "stdout",
     "output_type": "stream",
     "text": [
      "2808 MARK CIR Stillwater OK 74075 0102.02\n"
     ]
    },
    {
     "name": "stderr",
     "output_type": "stream",
     "text": [
      "<ipython-input-135-c99a2411e0a3>:8: FutureWarning: The frame.append method is deprecated and will be removed from pandas in a future version. Use pandas.concat instead.\n",
      "  df_address_census_tract = df_address_census_tract.append({'Address':i,'Census_Tract':tc_text},ignore_index=True)\n"
     ]
    },
    {
     "name": "stdout",
     "output_type": "stream",
     "text": [
      "2808 W MCMURTRY RD Stillwater OK 74075 0110.01\n"
     ]
    },
    {
     "name": "stderr",
     "output_type": "stream",
     "text": [
      "<ipython-input-135-c99a2411e0a3>:8: FutureWarning: The frame.append method is deprecated and will be removed from pandas in a future version. Use pandas.concat instead.\n",
      "  df_address_census_tract = df_address_census_tract.append({'Address':i,'Census_Tract':tc_text},ignore_index=True)\n"
     ]
    },
    {
     "name": "stdout",
     "output_type": "stream",
     "text": [
      "2809 N LISA CIR Stillwater OK 74075 \n"
     ]
    },
    {
     "name": "stderr",
     "output_type": "stream",
     "text": [
      "<ipython-input-135-c99a2411e0a3>:8: FutureWarning: The frame.append method is deprecated and will be removed from pandas in a future version. Use pandas.concat instead.\n",
      "  df_address_census_tract = df_address_census_tract.append({'Address':i,'Census_Tract':tc_text},ignore_index=True)\n"
     ]
    },
    {
     "name": "stdout",
     "output_type": "stream",
     "text": [
      "2809 N RUNNING BEAR ST Stillwater OK 74075 0101.01\n"
     ]
    },
    {
     "name": "stderr",
     "output_type": "stream",
     "text": [
      "<ipython-input-135-c99a2411e0a3>:8: FutureWarning: The frame.append method is deprecated and will be removed from pandas in a future version. Use pandas.concat instead.\n",
      "  df_address_census_tract = df_address_census_tract.append({'Address':i,'Census_Tract':tc_text},ignore_index=True)\n"
     ]
    },
    {
     "name": "stdout",
     "output_type": "stream",
     "text": [
      "2810 E RAINTREE DR Stillwater OK 74074 0106.00\n"
     ]
    },
    {
     "name": "stderr",
     "output_type": "stream",
     "text": [
      "<ipython-input-135-c99a2411e0a3>:8: FutureWarning: The frame.append method is deprecated and will be removed from pandas in a future version. Use pandas.concat instead.\n",
      "  df_address_census_tract = df_address_census_tract.append({'Address':i,'Census_Tract':tc_text},ignore_index=True)\n"
     ]
    },
    {
     "name": "stdout",
     "output_type": "stream",
     "text": [
      "2810 KIMBER LN Stillwater OK 74074 \n"
     ]
    },
    {
     "name": "stderr",
     "output_type": "stream",
     "text": [
      "<ipython-input-135-c99a2411e0a3>:8: FutureWarning: The frame.append method is deprecated and will be removed from pandas in a future version. Use pandas.concat instead.\n",
      "  df_address_census_tract = df_address_census_tract.append({'Address':i,'Census_Tract':tc_text},ignore_index=True)\n"
     ]
    },
    {
     "name": "stdout",
     "output_type": "stream",
     "text": [
      "2810 MARK CIR Stillwater OK 74075 0102.02\n"
     ]
    },
    {
     "name": "stderr",
     "output_type": "stream",
     "text": [
      "<ipython-input-135-c99a2411e0a3>:8: FutureWarning: The frame.append method is deprecated and will be removed from pandas in a future version. Use pandas.concat instead.\n",
      "  df_address_census_tract = df_address_census_tract.append({'Address':i,'Census_Tract':tc_text},ignore_index=True)\n"
     ]
    },
    {
     "name": "stdout",
     "output_type": "stream",
     "text": [
      "2810 W MCMURTRY RD Stillwater OK 74074 0110.01\n"
     ]
    },
    {
     "name": "stderr",
     "output_type": "stream",
     "text": [
      "<ipython-input-135-c99a2411e0a3>:8: FutureWarning: The frame.append method is deprecated and will be removed from pandas in a future version. Use pandas.concat instead.\n",
      "  df_address_census_tract = df_address_census_tract.append({'Address':i,'Census_Tract':tc_text},ignore_index=True)\n"
     ]
    },
    {
     "name": "stdout",
     "output_type": "stream",
     "text": [
      "2811 MARK CIR Stillwater OK 74075 0102.02\n"
     ]
    },
    {
     "name": "stderr",
     "output_type": "stream",
     "text": [
      "<ipython-input-135-c99a2411e0a3>:8: FutureWarning: The frame.append method is deprecated and will be removed from pandas in a future version. Use pandas.concat instead.\n",
      "  df_address_census_tract = df_address_census_tract.append({'Address':i,'Census_Tract':tc_text},ignore_index=True)\n"
     ]
    },
    {
     "name": "stdout",
     "output_type": "stream",
     "text": [
      "2813 N RUNNING BEAR ST Stillwater OK 74075 0101.01\n"
     ]
    },
    {
     "name": "stderr",
     "output_type": "stream",
     "text": [
      "<ipython-input-135-c99a2411e0a3>:8: FutureWarning: The frame.append method is deprecated and will be removed from pandas in a future version. Use pandas.concat instead.\n",
      "  df_address_census_tract = df_address_census_tract.append({'Address':i,'Census_Tract':tc_text},ignore_index=True)\n"
     ]
    },
    {
     "name": "stdout",
     "output_type": "stream",
     "text": [
      "2814 E RAINTREE DR Stillwater OK 74074 0106.00\n"
     ]
    },
    {
     "name": "stderr",
     "output_type": "stream",
     "text": [
      "<ipython-input-135-c99a2411e0a3>:8: FutureWarning: The frame.append method is deprecated and will be removed from pandas in a future version. Use pandas.concat instead.\n",
      "  df_address_census_tract = df_address_census_tract.append({'Address':i,'Census_Tract':tc_text},ignore_index=True)\n"
     ]
    },
    {
     "name": "stdout",
     "output_type": "stream",
     "text": [
      "2814 N LISA CIR Stillwater OK 74075 \n"
     ]
    },
    {
     "name": "stderr",
     "output_type": "stream",
     "text": [
      "<ipython-input-135-c99a2411e0a3>:8: FutureWarning: The frame.append method is deprecated and will be removed from pandas in a future version. Use pandas.concat instead.\n",
      "  df_address_census_tract = df_address_census_tract.append({'Address':i,'Census_Tract':tc_text},ignore_index=True)\n"
     ]
    },
    {
     "name": "stdout",
     "output_type": "stream",
     "text": [
      "2814 KIMBER LN Stillwater OK 74074 \n"
     ]
    },
    {
     "name": "stderr",
     "output_type": "stream",
     "text": [
      "<ipython-input-135-c99a2411e0a3>:8: FutureWarning: The frame.append method is deprecated and will be removed from pandas in a future version. Use pandas.concat instead.\n",
      "  df_address_census_tract = df_address_census_tract.append({'Address':i,'Census_Tract':tc_text},ignore_index=True)\n"
     ]
    },
    {
     "name": "stdout",
     "output_type": "stream",
     "text": [
      "2815 N RUNNING BEAR ST Stillwater OK 74075 0101.01\n"
     ]
    },
    {
     "name": "stderr",
     "output_type": "stream",
     "text": [
      "<ipython-input-135-c99a2411e0a3>:8: FutureWarning: The frame.append method is deprecated and will be removed from pandas in a future version. Use pandas.concat instead.\n",
      "  df_address_census_tract = df_address_census_tract.append({'Address':i,'Census_Tract':tc_text},ignore_index=True)\n"
     ]
    },
    {
     "name": "stdout",
     "output_type": "stream",
     "text": [
      "2815 MARK CIR Stillwater OK 74075 0102.02\n"
     ]
    },
    {
     "name": "stderr",
     "output_type": "stream",
     "text": [
      "<ipython-input-135-c99a2411e0a3>:8: FutureWarning: The frame.append method is deprecated and will be removed from pandas in a future version. Use pandas.concat instead.\n",
      "  df_address_census_tract = df_address_census_tract.append({'Address':i,'Census_Tract':tc_text},ignore_index=True)\n"
     ]
    },
    {
     "name": "stdout",
     "output_type": "stream",
     "text": [
      "2815 W 28TH AVE Stillwater OK 74074 0109.02\n"
     ]
    },
    {
     "name": "stderr",
     "output_type": "stream",
     "text": [
      "<ipython-input-135-c99a2411e0a3>:8: FutureWarning: The frame.append method is deprecated and will be removed from pandas in a future version. Use pandas.concat instead.\n",
      "  df_address_census_tract = df_address_census_tract.append({'Address':i,'Census_Tract':tc_text},ignore_index=True)\n"
     ]
    },
    {
     "name": "stdout",
     "output_type": "stream",
     "text": [
      "2816 N LISA CIR Stillwater OK 74075 \n"
     ]
    },
    {
     "name": "stderr",
     "output_type": "stream",
     "text": [
      "<ipython-input-135-c99a2411e0a3>:8: FutureWarning: The frame.append method is deprecated and will be removed from pandas in a future version. Use pandas.concat instead.\n",
      "  df_address_census_tract = df_address_census_tract.append({'Address':i,'Census_Tract':tc_text},ignore_index=True)\n"
     ]
    },
    {
     "name": "stdout",
     "output_type": "stream",
     "text": [
      "2816 N RUNNING BEAR ST Stillwater OK 74075 0101.01\n"
     ]
    },
    {
     "name": "stderr",
     "output_type": "stream",
     "text": [
      "<ipython-input-135-c99a2411e0a3>:8: FutureWarning: The frame.append method is deprecated and will be removed from pandas in a future version. Use pandas.concat instead.\n",
      "  df_address_census_tract = df_address_census_tract.append({'Address':i,'Census_Tract':tc_text},ignore_index=True)\n"
     ]
    },
    {
     "name": "stdout",
     "output_type": "stream",
     "text": [
      "2817 E RAINTREE DR Stillwater OK 74074 0106.00\n"
     ]
    },
    {
     "name": "stderr",
     "output_type": "stream",
     "text": [
      "<ipython-input-135-c99a2411e0a3>:8: FutureWarning: The frame.append method is deprecated and will be removed from pandas in a future version. Use pandas.concat instead.\n",
      "  df_address_census_tract = df_address_census_tract.append({'Address':i,'Census_Tract':tc_text},ignore_index=True)\n"
     ]
    },
    {
     "name": "stdout",
     "output_type": "stream",
     "text": [
      "2817 N LISA CIR Stillwater OK 74075 \n"
     ]
    },
    {
     "name": "stderr",
     "output_type": "stream",
     "text": [
      "<ipython-input-135-c99a2411e0a3>:8: FutureWarning: The frame.append method is deprecated and will be removed from pandas in a future version. Use pandas.concat instead.\n",
      "  df_address_census_tract = df_address_census_tract.append({'Address':i,'Census_Tract':tc_text},ignore_index=True)\n"
     ]
    },
    {
     "name": "stdout",
     "output_type": "stream",
     "text": [
      "2817 MARK CIR Stillwater OK 74075 0102.02\n"
     ]
    },
    {
     "name": "stderr",
     "output_type": "stream",
     "text": [
      "<ipython-input-135-c99a2411e0a3>:8: FutureWarning: The frame.append method is deprecated and will be removed from pandas in a future version. Use pandas.concat instead.\n",
      "  df_address_census_tract = df_address_census_tract.append({'Address':i,'Census_Tract':tc_text},ignore_index=True)\n"
     ]
    },
    {
     "name": "stdout",
     "output_type": "stream",
     "text": [
      "2817 W 17TH AVE Stillwater OK 74074 0109.02\n"
     ]
    },
    {
     "name": "stderr",
     "output_type": "stream",
     "text": [
      "<ipython-input-135-c99a2411e0a3>:8: FutureWarning: The frame.append method is deprecated and will be removed from pandas in a future version. Use pandas.concat instead.\n",
      "  df_address_census_tract = df_address_census_tract.append({'Address':i,'Census_Tract':tc_text},ignore_index=True)\n"
     ]
    },
    {
     "name": "stdout",
     "output_type": "stream",
     "text": [
      "2818 E RAINTREE DR Stillwater OK 74074 0106.00\n"
     ]
    },
    {
     "name": "stderr",
     "output_type": "stream",
     "text": [
      "<ipython-input-135-c99a2411e0a3>:8: FutureWarning: The frame.append method is deprecated and will be removed from pandas in a future version. Use pandas.concat instead.\n",
      "  df_address_census_tract = df_address_census_tract.append({'Address':i,'Census_Tract':tc_text},ignore_index=True)\n"
     ]
    },
    {
     "name": "stdout",
     "output_type": "stream",
     "text": [
      "2818 KIMBER LN Stillwater OK 74074 \n"
     ]
    },
    {
     "name": "stderr",
     "output_type": "stream",
     "text": [
      "<ipython-input-135-c99a2411e0a3>:8: FutureWarning: The frame.append method is deprecated and will be removed from pandas in a future version. Use pandas.concat instead.\n",
      "  df_address_census_tract = df_address_census_tract.append({'Address':i,'Census_Tract':tc_text},ignore_index=True)\n"
     ]
    },
    {
     "name": "stdout",
     "output_type": "stream",
     "text": [
      "2819 N RUNNING BEAR ST Stillwater OK 74075 0101.01\n"
     ]
    },
    {
     "name": "stderr",
     "output_type": "stream",
     "text": [
      "<ipython-input-135-c99a2411e0a3>:8: FutureWarning: The frame.append method is deprecated and will be removed from pandas in a future version. Use pandas.concat instead.\n",
      "  df_address_census_tract = df_address_census_tract.append({'Address':i,'Census_Tract':tc_text},ignore_index=True)\n"
     ]
    },
    {
     "name": "stdout",
     "output_type": "stream",
     "text": [
      "2820 N RUNNING BEAR ST Stillwater OK 74075 0101.01\n"
     ]
    },
    {
     "name": "stderr",
     "output_type": "stream",
     "text": [
      "<ipython-input-135-c99a2411e0a3>:8: FutureWarning: The frame.append method is deprecated and will be removed from pandas in a future version. Use pandas.concat instead.\n",
      "  df_address_census_tract = df_address_census_tract.append({'Address':i,'Census_Tract':tc_text},ignore_index=True)\n"
     ]
    },
    {
     "name": "stdout",
     "output_type": "stream",
     "text": [
      "2822 N LISA CIR Stillwater OK 74075 \n"
     ]
    },
    {
     "name": "stderr",
     "output_type": "stream",
     "text": [
      "<ipython-input-135-c99a2411e0a3>:8: FutureWarning: The frame.append method is deprecated and will be removed from pandas in a future version. Use pandas.concat instead.\n",
      "  df_address_census_tract = df_address_census_tract.append({'Address':i,'Census_Tract':tc_text},ignore_index=True)\n"
     ]
    },
    {
     "name": "stdout",
     "output_type": "stream",
     "text": [
      "2822 N RUNNING BEAR ST Stillwater OK 74075 0101.01\n"
     ]
    },
    {
     "name": "stderr",
     "output_type": "stream",
     "text": [
      "<ipython-input-135-c99a2411e0a3>:8: FutureWarning: The frame.append method is deprecated and will be removed from pandas in a future version. Use pandas.concat instead.\n",
      "  df_address_census_tract = df_address_census_tract.append({'Address':i,'Census_Tract':tc_text},ignore_index=True)\n"
     ]
    },
    {
     "name": "stdout",
     "output_type": "stream",
     "text": [
      "2822 MARK CIR Stillwater OK 74075 0102.02\n"
     ]
    },
    {
     "name": "stderr",
     "output_type": "stream",
     "text": [
      "<ipython-input-135-c99a2411e0a3>:8: FutureWarning: The frame.append method is deprecated and will be removed from pandas in a future version. Use pandas.concat instead.\n",
      "  df_address_census_tract = df_address_census_tract.append({'Address':i,'Census_Tract':tc_text},ignore_index=True)\n"
     ]
    },
    {
     "name": "stdout",
     "output_type": "stream",
     "text": [
      "2823 N COYOTE RUN Stillwater OK 74075 0110.01\n"
     ]
    },
    {
     "name": "stderr",
     "output_type": "stream",
     "text": [
      "<ipython-input-135-c99a2411e0a3>:8: FutureWarning: The frame.append method is deprecated and will be removed from pandas in a future version. Use pandas.concat instead.\n",
      "  df_address_census_tract = df_address_census_tract.append({'Address':i,'Census_Tract':tc_text},ignore_index=True)\n"
     ]
    },
    {
     "name": "stdout",
     "output_type": "stream",
     "text": [
      "2823 N LISA CIR Stillwater OK 74075 \n"
     ]
    },
    {
     "name": "stderr",
     "output_type": "stream",
     "text": [
      "<ipython-input-135-c99a2411e0a3>:8: FutureWarning: The frame.append method is deprecated and will be removed from pandas in a future version. Use pandas.concat instead.\n",
      "  df_address_census_tract = df_address_census_tract.append({'Address':i,'Census_Tract':tc_text},ignore_index=True)\n"
     ]
    },
    {
     "name": "stdout",
     "output_type": "stream",
     "text": [
      "2823 MARK CIR Stillwater OK 74075 0102.02\n"
     ]
    },
    {
     "name": "stderr",
     "output_type": "stream",
     "text": [
      "<ipython-input-135-c99a2411e0a3>:8: FutureWarning: The frame.append method is deprecated and will be removed from pandas in a future version. Use pandas.concat instead.\n",
      "  df_address_census_tract = df_address_census_tract.append({'Address':i,'Census_Tract':tc_text},ignore_index=True)\n"
     ]
    },
    {
     "name": "stdout",
     "output_type": "stream",
     "text": [
      "2823 W MCMURTRY RD Stillwater OK 74075 0110.01\n"
     ]
    },
    {
     "name": "stderr",
     "output_type": "stream",
     "text": [
      "<ipython-input-135-c99a2411e0a3>:8: FutureWarning: The frame.append method is deprecated and will be removed from pandas in a future version. Use pandas.concat instead.\n",
      "  df_address_census_tract = df_address_census_tract.append({'Address':i,'Census_Tract':tc_text},ignore_index=True)\n"
     ]
    },
    {
     "name": "stdout",
     "output_type": "stream",
     "text": [
      "2824 E RAINTREE DR Stillwater OK 74074 0106.00\n"
     ]
    },
    {
     "name": "stderr",
     "output_type": "stream",
     "text": [
      "<ipython-input-135-c99a2411e0a3>:8: FutureWarning: The frame.append method is deprecated and will be removed from pandas in a future version. Use pandas.concat instead.\n",
      "  df_address_census_tract = df_address_census_tract.append({'Address':i,'Census_Tract':tc_text},ignore_index=True)\n"
     ]
    },
    {
     "name": "stdout",
     "output_type": "stream",
     "text": [
      "2824 N LISA CIR Stillwater OK 74075 \n"
     ]
    },
    {
     "name": "stderr",
     "output_type": "stream",
     "text": [
      "<ipython-input-135-c99a2411e0a3>:8: FutureWarning: The frame.append method is deprecated and will be removed from pandas in a future version. Use pandas.concat instead.\n",
      "  df_address_census_tract = df_address_census_tract.append({'Address':i,'Census_Tract':tc_text},ignore_index=True)\n"
     ]
    },
    {
     "name": "stdout",
     "output_type": "stream",
     "text": [
      "2825 N KELLER DR Stillwater OK 74074 0101.01\n"
     ]
    },
    {
     "name": "stderr",
     "output_type": "stream",
     "text": [
      "<ipython-input-135-c99a2411e0a3>:8: FutureWarning: The frame.append method is deprecated and will be removed from pandas in a future version. Use pandas.concat instead.\n",
      "  df_address_census_tract = df_address_census_tract.append({'Address':i,'Census_Tract':tc_text},ignore_index=True)\n"
     ]
    },
    {
     "name": "stdout",
     "output_type": "stream",
     "text": [
      "2826 N LISA CIR Stillwater OK 74075 \n"
     ]
    },
    {
     "name": "stderr",
     "output_type": "stream",
     "text": [
      "<ipython-input-135-c99a2411e0a3>:8: FutureWarning: The frame.append method is deprecated and will be removed from pandas in a future version. Use pandas.concat instead.\n",
      "  df_address_census_tract = df_address_census_tract.append({'Address':i,'Census_Tract':tc_text},ignore_index=True)\n"
     ]
    },
    {
     "name": "stdout",
     "output_type": "stream",
     "text": [
      "2826 N RUNNING BEAR ST Stillwater OK 74075 0101.01\n"
     ]
    },
    {
     "name": "stderr",
     "output_type": "stream",
     "text": [
      "<ipython-input-135-c99a2411e0a3>:8: FutureWarning: The frame.append method is deprecated and will be removed from pandas in a future version. Use pandas.concat instead.\n",
      "  df_address_census_tract = df_address_census_tract.append({'Address':i,'Census_Tract':tc_text},ignore_index=True)\n"
     ]
    },
    {
     "name": "stdout",
     "output_type": "stream",
     "text": [
      "2826 MARK CIR Stillwater OK 74075 0102.02\n"
     ]
    },
    {
     "name": "stderr",
     "output_type": "stream",
     "text": [
      "<ipython-input-135-c99a2411e0a3>:8: FutureWarning: The frame.append method is deprecated and will be removed from pandas in a future version. Use pandas.concat instead.\n",
      "  df_address_census_tract = df_address_census_tract.append({'Address':i,'Census_Tract':tc_text},ignore_index=True)\n"
     ]
    },
    {
     "name": "stdout",
     "output_type": "stream",
     "text": [
      "2827 E RAINTREE DR Stillwater OK 74074 0106.00\n"
     ]
    },
    {
     "name": "stderr",
     "output_type": "stream",
     "text": [
      "<ipython-input-135-c99a2411e0a3>:8: FutureWarning: The frame.append method is deprecated and will be removed from pandas in a future version. Use pandas.concat instead.\n",
      "  df_address_census_tract = df_address_census_tract.append({'Address':i,'Census_Tract':tc_text},ignore_index=True)\n"
     ]
    },
    {
     "name": "stdout",
     "output_type": "stream",
     "text": [
      "2830 MARK CIR Stillwater OK 74075 0102.02\n"
     ]
    },
    {
     "name": "stderr",
     "output_type": "stream",
     "text": [
      "<ipython-input-135-c99a2411e0a3>:8: FutureWarning: The frame.append method is deprecated and will be removed from pandas in a future version. Use pandas.concat instead.\n",
      "  df_address_census_tract = df_address_census_tract.append({'Address':i,'Census_Tract':tc_text},ignore_index=True)\n"
     ]
    },
    {
     "name": "stdout",
     "output_type": "stream",
     "text": [
      "2831 E RAINTREE DR Stillwater OK 74074 0106.00\n"
     ]
    },
    {
     "name": "stderr",
     "output_type": "stream",
     "text": [
      "<ipython-input-135-c99a2411e0a3>:8: FutureWarning: The frame.append method is deprecated and will be removed from pandas in a future version. Use pandas.concat instead.\n",
      "  df_address_census_tract = df_address_census_tract.append({'Address':i,'Census_Tract':tc_text},ignore_index=True)\n"
     ]
    },
    {
     "name": "stdout",
     "output_type": "stream",
     "text": [
      "2832 MARK CIR Stillwater OK 74075 0102.02\n"
     ]
    },
    {
     "name": "stderr",
     "output_type": "stream",
     "text": [
      "<ipython-input-135-c99a2411e0a3>:8: FutureWarning: The frame.append method is deprecated and will be removed from pandas in a future version. Use pandas.concat instead.\n",
      "  df_address_census_tract = df_address_census_tract.append({'Address':i,'Census_Tract':tc_text},ignore_index=True)\n"
     ]
    },
    {
     "name": "stdout",
     "output_type": "stream",
     "text": [
      "2833 MARK CIR Stillwater OK 74075 0102.02\n"
     ]
    },
    {
     "name": "stderr",
     "output_type": "stream",
     "text": [
      "<ipython-input-135-c99a2411e0a3>:8: FutureWarning: The frame.append method is deprecated and will be removed from pandas in a future version. Use pandas.concat instead.\n",
      "  df_address_census_tract = df_address_census_tract.append({'Address':i,'Census_Tract':tc_text},ignore_index=True)\n"
     ]
    },
    {
     "name": "stdout",
     "output_type": "stream",
     "text": [
      "2836 E RAINTREE DR Stillwater OK 74074 0106.00\n"
     ]
    },
    {
     "name": "stderr",
     "output_type": "stream",
     "text": [
      "<ipython-input-135-c99a2411e0a3>:8: FutureWarning: The frame.append method is deprecated and will be removed from pandas in a future version. Use pandas.concat instead.\n",
      "  df_address_census_tract = df_address_census_tract.append({'Address':i,'Census_Tract':tc_text},ignore_index=True)\n"
     ]
    },
    {
     "name": "stdout",
     "output_type": "stream",
     "text": [
      "2840 MARK CIR Stillwater OK 74075 0102.02\n"
     ]
    },
    {
     "name": "stderr",
     "output_type": "stream",
     "text": [
      "<ipython-input-135-c99a2411e0a3>:8: FutureWarning: The frame.append method is deprecated and will be removed from pandas in a future version. Use pandas.concat instead.\n",
      "  df_address_census_tract = df_address_census_tract.append({'Address':i,'Census_Tract':tc_text},ignore_index=True)\n"
     ]
    },
    {
     "name": "stdout",
     "output_type": "stream",
     "text": [
      "2841 MARK CIR Stillwater OK 74075 0102.02\n"
     ]
    },
    {
     "name": "stderr",
     "output_type": "stream",
     "text": [
      "<ipython-input-135-c99a2411e0a3>:8: FutureWarning: The frame.append method is deprecated and will be removed from pandas in a future version. Use pandas.concat instead.\n",
      "  df_address_census_tract = df_address_census_tract.append({'Address':i,'Census_Tract':tc_text},ignore_index=True)\n"
     ]
    },
    {
     "name": "stdout",
     "output_type": "stream",
     "text": [
      "2844 MARK CIR Stillwater OK 74075 0102.02\n"
     ]
    },
    {
     "name": "stderr",
     "output_type": "stream",
     "text": [
      "<ipython-input-135-c99a2411e0a3>:8: FutureWarning: The frame.append method is deprecated and will be removed from pandas in a future version. Use pandas.concat instead.\n",
      "  df_address_census_tract = df_address_census_tract.append({'Address':i,'Census_Tract':tc_text},ignore_index=True)\n"
     ]
    },
    {
     "name": "stdout",
     "output_type": "stream",
     "text": [
      "2847 MARK CIR Stillwater OK 74075 0102.02\n"
     ]
    },
    {
     "name": "stderr",
     "output_type": "stream",
     "text": [
      "<ipython-input-135-c99a2411e0a3>:8: FutureWarning: The frame.append method is deprecated and will be removed from pandas in a future version. Use pandas.concat instead.\n",
      "  df_address_census_tract = df_address_census_tract.append({'Address':i,'Census_Tract':tc_text},ignore_index=True)\n"
     ]
    },
    {
     "name": "stdout",
     "output_type": "stream",
     "text": [
      "2849 MARK CIR Stillwater OK 74075 0102.02\n"
     ]
    },
    {
     "name": "stderr",
     "output_type": "stream",
     "text": [
      "<ipython-input-135-c99a2411e0a3>:8: FutureWarning: The frame.append method is deprecated and will be removed from pandas in a future version. Use pandas.concat instead.\n",
      "  df_address_census_tract = df_address_census_tract.append({'Address':i,'Census_Tract':tc_text},ignore_index=True)\n"
     ]
    },
    {
     "name": "stdout",
     "output_type": "stream",
     "text": [
      "2850 MARK CIR Stillwater OK 74075 0102.02\n"
     ]
    },
    {
     "name": "stderr",
     "output_type": "stream",
     "text": [
      "<ipython-input-135-c99a2411e0a3>:8: FutureWarning: The frame.append method is deprecated and will be removed from pandas in a future version. Use pandas.concat instead.\n",
      "  df_address_census_tract = df_address_census_tract.append({'Address':i,'Census_Tract':tc_text},ignore_index=True)\n"
     ]
    },
    {
     "name": "stdout",
     "output_type": "stream",
     "text": [
      "2852 MARK CIR Stillwater OK 74075 0102.02\n"
     ]
    },
    {
     "name": "stderr",
     "output_type": "stream",
     "text": [
      "<ipython-input-135-c99a2411e0a3>:8: FutureWarning: The frame.append method is deprecated and will be removed from pandas in a future version. Use pandas.concat instead.\n",
      "  df_address_census_tract = df_address_census_tract.append({'Address':i,'Census_Tract':tc_text},ignore_index=True)\n"
     ]
    },
    {
     "name": "stdout",
     "output_type": "stream",
     "text": [
      "2853 MARK CIR Stillwater OK 74075 0102.02\n"
     ]
    },
    {
     "name": "stderr",
     "output_type": "stream",
     "text": [
      "<ipython-input-135-c99a2411e0a3>:8: FutureWarning: The frame.append method is deprecated and will be removed from pandas in a future version. Use pandas.concat instead.\n",
      "  df_address_census_tract = df_address_census_tract.append({'Address':i,'Census_Tract':tc_text},ignore_index=True)\n"
     ]
    },
    {
     "name": "stdout",
     "output_type": "stream",
     "text": [
      "2855 MARK CIR Stillwater OK 74075 0102.02\n"
     ]
    },
    {
     "name": "stderr",
     "output_type": "stream",
     "text": [
      "<ipython-input-135-c99a2411e0a3>:8: FutureWarning: The frame.append method is deprecated and will be removed from pandas in a future version. Use pandas.concat instead.\n",
      "  df_address_census_tract = df_address_census_tract.append({'Address':i,'Census_Tract':tc_text},ignore_index=True)\n"
     ]
    },
    {
     "name": "stdout",
     "output_type": "stream",
     "text": [
      "2858 MARK CIR Stillwater OK 74075 0102.02\n"
     ]
    },
    {
     "name": "stderr",
     "output_type": "stream",
     "text": [
      "<ipython-input-135-c99a2411e0a3>:8: FutureWarning: The frame.append method is deprecated and will be removed from pandas in a future version. Use pandas.concat instead.\n",
      "  df_address_census_tract = df_address_census_tract.append({'Address':i,'Census_Tract':tc_text},ignore_index=True)\n"
     ]
    },
    {
     "name": "stdout",
     "output_type": "stream",
     "text": [
      "2862 MARK CIR Stillwater OK 74075 0102.02\n"
     ]
    },
    {
     "name": "stderr",
     "output_type": "stream",
     "text": [
      "<ipython-input-135-c99a2411e0a3>:8: FutureWarning: The frame.append method is deprecated and will be removed from pandas in a future version. Use pandas.concat instead.\n",
      "  df_address_census_tract = df_address_census_tract.append({'Address':i,'Census_Tract':tc_text},ignore_index=True)\n"
     ]
    },
    {
     "name": "stdout",
     "output_type": "stream",
     "text": [
      "2864 MARK CIR Stillwater OK 74075 0102.02\n"
     ]
    },
    {
     "name": "stderr",
     "output_type": "stream",
     "text": [
      "<ipython-input-135-c99a2411e0a3>:8: FutureWarning: The frame.append method is deprecated and will be removed from pandas in a future version. Use pandas.concat instead.\n",
      "  df_address_census_tract = df_address_census_tract.append({'Address':i,'Census_Tract':tc_text},ignore_index=True)\n"
     ]
    },
    {
     "name": "stdout",
     "output_type": "stream",
     "text": [
      "2866 MARK CIR Stillwater OK 74075 0102.02\n"
     ]
    },
    {
     "name": "stderr",
     "output_type": "stream",
     "text": [
      "<ipython-input-135-c99a2411e0a3>:8: FutureWarning: The frame.append method is deprecated and will be removed from pandas in a future version. Use pandas.concat instead.\n",
      "  df_address_census_tract = df_address_census_tract.append({'Address':i,'Census_Tract':tc_text},ignore_index=True)\n"
     ]
    },
    {
     "name": "stdout",
     "output_type": "stream",
     "text": [
      "2868 MARK CIR Stillwater OK 74075 0102.02\n"
     ]
    },
    {
     "name": "stderr",
     "output_type": "stream",
     "text": [
      "<ipython-input-135-c99a2411e0a3>:8: FutureWarning: The frame.append method is deprecated and will be removed from pandas in a future version. Use pandas.concat instead.\n",
      "  df_address_census_tract = df_address_census_tract.append({'Address':i,'Census_Tract':tc_text},ignore_index=True)\n"
     ]
    },
    {
     "name": "stdout",
     "output_type": "stream",
     "text": [
      "2869 MARK CIR Stillwater OK 74075 0102.02\n"
     ]
    },
    {
     "name": "stderr",
     "output_type": "stream",
     "text": [
      "<ipython-input-135-c99a2411e0a3>:8: FutureWarning: The frame.append method is deprecated and will be removed from pandas in a future version. Use pandas.concat instead.\n",
      "  df_address_census_tract = df_address_census_tract.append({'Address':i,'Census_Tract':tc_text},ignore_index=True)\n"
     ]
    },
    {
     "name": "stdout",
     "output_type": "stream",
     "text": [
      "2870 MARK CIR Stillwater OK 74075 0102.02\n"
     ]
    },
    {
     "name": "stderr",
     "output_type": "stream",
     "text": [
      "<ipython-input-135-c99a2411e0a3>:8: FutureWarning: The frame.append method is deprecated and will be removed from pandas in a future version. Use pandas.concat instead.\n",
      "  df_address_census_tract = df_address_census_tract.append({'Address':i,'Census_Tract':tc_text},ignore_index=True)\n"
     ]
    },
    {
     "name": "stdout",
     "output_type": "stream",
     "text": [
      "2872 MARK CIR Stillwater OK 74075 0102.02\n"
     ]
    },
    {
     "name": "stderr",
     "output_type": "stream",
     "text": [
      "<ipython-input-135-c99a2411e0a3>:8: FutureWarning: The frame.append method is deprecated and will be removed from pandas in a future version. Use pandas.concat instead.\n",
      "  df_address_census_tract = df_address_census_tract.append({'Address':i,'Census_Tract':tc_text},ignore_index=True)\n"
     ]
    },
    {
     "name": "stdout",
     "output_type": "stream",
     "text": [
      "2873 MARK CIR Stillwater OK 74075 0102.02\n"
     ]
    },
    {
     "name": "stderr",
     "output_type": "stream",
     "text": [
      "<ipython-input-135-c99a2411e0a3>:8: FutureWarning: The frame.append method is deprecated and will be removed from pandas in a future version. Use pandas.concat instead.\n",
      "  df_address_census_tract = df_address_census_tract.append({'Address':i,'Census_Tract':tc_text},ignore_index=True)\n"
     ]
    },
    {
     "name": "stdout",
     "output_type": "stream",
     "text": [
      "2875 MARK CIR Stillwater OK 74075 0102.02\n"
     ]
    },
    {
     "name": "stderr",
     "output_type": "stream",
     "text": [
      "<ipython-input-135-c99a2411e0a3>:8: FutureWarning: The frame.append method is deprecated and will be removed from pandas in a future version. Use pandas.concat instead.\n",
      "  df_address_census_tract = df_address_census_tract.append({'Address':i,'Census_Tract':tc_text},ignore_index=True)\n"
     ]
    },
    {
     "name": "stdout",
     "output_type": "stream",
     "text": [
      "2881 MARK CIR Stillwater OK 74075 0102.02\n"
     ]
    },
    {
     "name": "stderr",
     "output_type": "stream",
     "text": [
      "<ipython-input-135-c99a2411e0a3>:8: FutureWarning: The frame.append method is deprecated and will be removed from pandas in a future version. Use pandas.concat instead.\n",
      "  df_address_census_tract = df_address_census_tract.append({'Address':i,'Census_Tract':tc_text},ignore_index=True)\n"
     ]
    },
    {
     "name": "stdout",
     "output_type": "stream",
     "text": [
      "2883 MARK CIR Stillwater OK 74075 0102.02\n"
     ]
    },
    {
     "name": "stderr",
     "output_type": "stream",
     "text": [
      "<ipython-input-135-c99a2411e0a3>:8: FutureWarning: The frame.append method is deprecated and will be removed from pandas in a future version. Use pandas.concat instead.\n",
      "  df_address_census_tract = df_address_census_tract.append({'Address':i,'Census_Tract':tc_text},ignore_index=True)\n"
     ]
    },
    {
     "name": "stdout",
     "output_type": "stream",
     "text": [
      "29 PRESTON CIR Stillwater OK 74075 0102.01\n"
     ]
    },
    {
     "name": "stderr",
     "output_type": "stream",
     "text": [
      "<ipython-input-135-c99a2411e0a3>:8: FutureWarning: The frame.append method is deprecated and will be removed from pandas in a future version. Use pandas.concat instead.\n",
      "  df_address_census_tract = df_address_census_tract.append({'Address':i,'Census_Tract':tc_text},ignore_index=True)\n"
     ]
    },
    {
     "name": "stdout",
     "output_type": "stream",
     "text": [
      "2900 E 6TH AVE Stillwater OK 74074 0106.00\n"
     ]
    },
    {
     "name": "stderr",
     "output_type": "stream",
     "text": [
      "<ipython-input-135-c99a2411e0a3>:8: FutureWarning: The frame.append method is deprecated and will be removed from pandas in a future version. Use pandas.concat instead.\n",
      "  df_address_census_tract = df_address_census_tract.append({'Address':i,'Census_Tract':tc_text},ignore_index=True)\n"
     ]
    },
    {
     "name": "stdout",
     "output_type": "stream",
     "text": [
      "2900 E RAINTREE DR Stillwater OK 74074 0106.00\n"
     ]
    },
    {
     "name": "stderr",
     "output_type": "stream",
     "text": [
      "<ipython-input-135-c99a2411e0a3>:8: FutureWarning: The frame.append method is deprecated and will be removed from pandas in a future version. Use pandas.concat instead.\n",
      "  df_address_census_tract = df_address_census_tract.append({'Address':i,'Census_Tract':tc_text},ignore_index=True)\n"
     ]
    },
    {
     "name": "stdout",
     "output_type": "stream",
     "text": [
      "29001 COUNTY ROAD 180 Stillwater OK 74075 9571.00\n"
     ]
    },
    {
     "name": "stderr",
     "output_type": "stream",
     "text": [
      "<ipython-input-135-c99a2411e0a3>:8: FutureWarning: The frame.append method is deprecated and will be removed from pandas in a future version. Use pandas.concat instead.\n",
      "  df_address_census_tract = df_address_census_tract.append({'Address':i,'Census_Tract':tc_text},ignore_index=True)\n"
     ]
    },
    {
     "name": "stdout",
     "output_type": "stream",
     "text": [
      "2901 N RUNNING BEAR ST Stillwater OK 74075 0101.01\n"
     ]
    },
    {
     "name": "stderr",
     "output_type": "stream",
     "text": [
      "<ipython-input-135-c99a2411e0a3>:8: FutureWarning: The frame.append method is deprecated and will be removed from pandas in a future version. Use pandas.concat instead.\n",
      "  df_address_census_tract = df_address_census_tract.append({'Address':i,'Census_Tract':tc_text},ignore_index=True)\n"
     ]
    },
    {
     "name": "stdout",
     "output_type": "stream",
     "text": [
      "2902 N MONROE ST Stillwater OK 74075 0102.01\n"
     ]
    },
    {
     "name": "stderr",
     "output_type": "stream",
     "text": [
      "<ipython-input-135-c99a2411e0a3>:8: FutureWarning: The frame.append method is deprecated and will be removed from pandas in a future version. Use pandas.concat instead.\n",
      "  df_address_census_tract = df_address_census_tract.append({'Address':i,'Census_Tract':tc_text},ignore_index=True)\n"
     ]
    },
    {
     "name": "stdout",
     "output_type": "stream",
     "text": [
      "2902 N RUNNING BEAR ST Stillwater OK 74075 0101.01\n"
     ]
    },
    {
     "name": "stderr",
     "output_type": "stream",
     "text": [
      "<ipython-input-135-c99a2411e0a3>:8: FutureWarning: The frame.append method is deprecated and will be removed from pandas in a future version. Use pandas.concat instead.\n",
      "  df_address_census_tract = df_address_census_tract.append({'Address':i,'Census_Tract':tc_text},ignore_index=True)\n"
     ]
    },
    {
     "name": "stdout",
     "output_type": "stream",
     "text": [
      "2903 N KELLER DR Stillwater OK 74074 0101.01\n"
     ]
    },
    {
     "name": "stderr",
     "output_type": "stream",
     "text": [
      "<ipython-input-135-c99a2411e0a3>:8: FutureWarning: The frame.append method is deprecated and will be removed from pandas in a future version. Use pandas.concat instead.\n",
      "  df_address_census_tract = df_address_census_tract.append({'Address':i,'Census_Tract':tc_text},ignore_index=True)\n"
     ]
    },
    {
     "name": "stdout",
     "output_type": "stream",
     "text": [
      "2903 N PERKINS RD Stillwater OK 74075 0101.01\n"
     ]
    },
    {
     "name": "stderr",
     "output_type": "stream",
     "text": [
      "<ipython-input-135-c99a2411e0a3>:8: FutureWarning: The frame.append method is deprecated and will be removed from pandas in a future version. Use pandas.concat instead.\n",
      "  df_address_census_tract = df_address_census_tract.append({'Address':i,'Census_Tract':tc_text},ignore_index=True)\n"
     ]
    },
    {
     "name": "stdout",
     "output_type": "stream",
     "text": [
      "2904 N COYOTE RUN Stillwater OK 74075 0110.01\n"
     ]
    },
    {
     "name": "stderr",
     "output_type": "stream",
     "text": [
      "<ipython-input-135-c99a2411e0a3>:8: FutureWarning: The frame.append method is deprecated and will be removed from pandas in a future version. Use pandas.concat instead.\n",
      "  df_address_census_tract = df_address_census_tract.append({'Address':i,'Census_Tract':tc_text},ignore_index=True)\n"
     ]
    },
    {
     "name": "stdout",
     "output_type": "stream",
     "text": [
      "2904 N RUNNING BEAR ST Stillwater OK 74075 0101.01\n"
     ]
    },
    {
     "name": "stderr",
     "output_type": "stream",
     "text": [
      "<ipython-input-135-c99a2411e0a3>:8: FutureWarning: The frame.append method is deprecated and will be removed from pandas in a future version. Use pandas.concat instead.\n",
      "  df_address_census_tract = df_address_census_tract.append({'Address':i,'Census_Tract':tc_text},ignore_index=True)\n"
     ]
    },
    {
     "name": "stdout",
     "output_type": "stream",
     "text": [
      "2904 KIMBER LN Stillwater OK 74074 \n"
     ]
    },
    {
     "name": "stderr",
     "output_type": "stream",
     "text": [
      "<ipython-input-135-c99a2411e0a3>:8: FutureWarning: The frame.append method is deprecated and will be removed from pandas in a future version. Use pandas.concat instead.\n",
      "  df_address_census_tract = df_address_census_tract.append({'Address':i,'Census_Tract':tc_text},ignore_index=True)\n"
     ]
    },
    {
     "name": "stdout",
     "output_type": "stream",
     "text": [
      "2905 E RAINTREE DR Stillwater OK 74074 0106.00\n"
     ]
    },
    {
     "name": "stderr",
     "output_type": "stream",
     "text": [
      "<ipython-input-135-c99a2411e0a3>:8: FutureWarning: The frame.append method is deprecated and will be removed from pandas in a future version. Use pandas.concat instead.\n",
      "  df_address_census_tract = df_address_census_tract.append({'Address':i,'Census_Tract':tc_text},ignore_index=True)\n"
     ]
    },
    {
     "name": "stdout",
     "output_type": "stream",
     "text": [
      "2907 N COYOTE RUN Stillwater OK 74075 0110.01\n"
     ]
    },
    {
     "name": "stderr",
     "output_type": "stream",
     "text": [
      "<ipython-input-135-c99a2411e0a3>:8: FutureWarning: The frame.append method is deprecated and will be removed from pandas in a future version. Use pandas.concat instead.\n",
      "  df_address_census_tract = df_address_census_tract.append({'Address':i,'Census_Tract':tc_text},ignore_index=True)\n"
     ]
    },
    {
     "name": "stdout",
     "output_type": "stream",
     "text": [
      "2907 N RUNNING BEAR ST Stillwater OK 74075 0101.01\n"
     ]
    },
    {
     "name": "stderr",
     "output_type": "stream",
     "text": [
      "<ipython-input-135-c99a2411e0a3>:8: FutureWarning: The frame.append method is deprecated and will be removed from pandas in a future version. Use pandas.concat instead.\n",
      "  df_address_census_tract = df_address_census_tract.append({'Address':i,'Census_Tract':tc_text},ignore_index=True)\n"
     ]
    },
    {
     "name": "stdout",
     "output_type": "stream",
     "text": [
      "2908 E RAINTREE DR Stillwater OK 74074 0106.00\n"
     ]
    },
    {
     "name": "stderr",
     "output_type": "stream",
     "text": [
      "<ipython-input-135-c99a2411e0a3>:8: FutureWarning: The frame.append method is deprecated and will be removed from pandas in a future version. Use pandas.concat instead.\n",
      "  df_address_census_tract = df_address_census_tract.append({'Address':i,'Census_Tract':tc_text},ignore_index=True)\n"
     ]
    },
    {
     "name": "stdout",
     "output_type": "stream",
     "text": [
      "2908 KIMBER LN Stillwater OK 74074 \n"
     ]
    },
    {
     "name": "stderr",
     "output_type": "stream",
     "text": [
      "<ipython-input-135-c99a2411e0a3>:8: FutureWarning: The frame.append method is deprecated and will be removed from pandas in a future version. Use pandas.concat instead.\n",
      "  df_address_census_tract = df_address_census_tract.append({'Address':i,'Census_Tract':tc_text},ignore_index=True)\n"
     ]
    },
    {
     "name": "stdout",
     "output_type": "stream",
     "text": [
      "2909 E RAINTREE DR Stillwater OK 74074 0106.00\n"
     ]
    },
    {
     "name": "stderr",
     "output_type": "stream",
     "text": [
      "<ipython-input-135-c99a2411e0a3>:8: FutureWarning: The frame.append method is deprecated and will be removed from pandas in a future version. Use pandas.concat instead.\n",
      "  df_address_census_tract = df_address_census_tract.append({'Address':i,'Census_Tract':tc_text},ignore_index=True)\n"
     ]
    },
    {
     "name": "stdout",
     "output_type": "stream",
     "text": [
      "2909 N RUNNING BEAR ST Stillwater OK 74075 0101.01\n"
     ]
    },
    {
     "name": "stderr",
     "output_type": "stream",
     "text": [
      "<ipython-input-135-c99a2411e0a3>:8: FutureWarning: The frame.append method is deprecated and will be removed from pandas in a future version. Use pandas.concat instead.\n",
      "  df_address_census_tract = df_address_census_tract.append({'Address':i,'Census_Tract':tc_text},ignore_index=True)\n"
     ]
    },
    {
     "name": "stdout",
     "output_type": "stream",
     "text": [
      "2909 S ROCKY RIDGE ST Stillwater OK 74074 0109.02\n"
     ]
    },
    {
     "name": "stderr",
     "output_type": "stream",
     "text": [
      "<ipython-input-135-c99a2411e0a3>:8: FutureWarning: The frame.append method is deprecated and will be removed from pandas in a future version. Use pandas.concat instead.\n",
      "  df_address_census_tract = df_address_census_tract.append({'Address':i,'Census_Tract':tc_text},ignore_index=True)\n"
     ]
    },
    {
     "name": "stdout",
     "output_type": "stream",
     "text": [
      "2909 S WASHINGTON ST Stillwater OK 74074 0107.00\n"
     ]
    },
    {
     "name": "stderr",
     "output_type": "stream",
     "text": [
      "<ipython-input-135-c99a2411e0a3>:8: FutureWarning: The frame.append method is deprecated and will be removed from pandas in a future version. Use pandas.concat instead.\n",
      "  df_address_census_tract = df_address_census_tract.append({'Address':i,'Census_Tract':tc_text},ignore_index=True)\n"
     ]
    },
    {
     "name": "stdout",
     "output_type": "stream",
     "text": [
      "2909 W 32ND AVE Stillwater OK 74074 0110.02\n"
     ]
    },
    {
     "name": "stderr",
     "output_type": "stream",
     "text": [
      "<ipython-input-135-c99a2411e0a3>:8: FutureWarning: The frame.append method is deprecated and will be removed from pandas in a future version. Use pandas.concat instead.\n",
      "  df_address_census_tract = df_address_census_tract.append({'Address':i,'Census_Tract':tc_text},ignore_index=True)\n"
     ]
    },
    {
     "name": "stdout",
     "output_type": "stream",
     "text": [
      "2910 N COYOTE RUN Stillwater OK 74075 0110.01\n"
     ]
    },
    {
     "name": "stderr",
     "output_type": "stream",
     "text": [
      "<ipython-input-135-c99a2411e0a3>:8: FutureWarning: The frame.append method is deprecated and will be removed from pandas in a future version. Use pandas.concat instead.\n",
      "  df_address_census_tract = df_address_census_tract.append({'Address':i,'Census_Tract':tc_text},ignore_index=True)\n"
     ]
    },
    {
     "name": "stdout",
     "output_type": "stream",
     "text": [
      "2910 N RUNNING BEAR ST Stillwater OK 74075 0101.01\n"
     ]
    },
    {
     "name": "stderr",
     "output_type": "stream",
     "text": [
      "<ipython-input-135-c99a2411e0a3>:8: FutureWarning: The frame.append method is deprecated and will be removed from pandas in a future version. Use pandas.concat instead.\n",
      "  df_address_census_tract = df_address_census_tract.append({'Address':i,'Census_Tract':tc_text},ignore_index=True)\n"
     ]
    },
    {
     "name": "stdout",
     "output_type": "stream",
     "text": [
      "2912 E RAINTREE DR Stillwater OK 74074 0106.00\n"
     ]
    },
    {
     "name": "stderr",
     "output_type": "stream",
     "text": [
      "<ipython-input-135-c99a2411e0a3>:8: FutureWarning: The frame.append method is deprecated and will be removed from pandas in a future version. Use pandas.concat instead.\n",
      "  df_address_census_tract = df_address_census_tract.append({'Address':i,'Census_Tract':tc_text},ignore_index=True)\n"
     ]
    },
    {
     "name": "stdout",
     "output_type": "stream",
     "text": [
      "2915 S PERKINS RD Stillwater OK 74074 0111.01\n"
     ]
    },
    {
     "name": "stderr",
     "output_type": "stream",
     "text": [
      "<ipython-input-135-c99a2411e0a3>:8: FutureWarning: The frame.append method is deprecated and will be removed from pandas in a future version. Use pandas.concat instead.\n",
      "  df_address_census_tract = df_address_census_tract.append({'Address':i,'Census_Tract':tc_text},ignore_index=True)\n"
     ]
    },
    {
     "name": "stdout",
     "output_type": "stream",
     "text": [
      "2915 S ROCKY RIDGE ST Stillwater OK 74074 0109.02\n"
     ]
    },
    {
     "name": "stderr",
     "output_type": "stream",
     "text": [
      "<ipython-input-135-c99a2411e0a3>:8: FutureWarning: The frame.append method is deprecated and will be removed from pandas in a future version. Use pandas.concat instead.\n",
      "  df_address_census_tract = df_address_census_tract.append({'Address':i,'Census_Tract':tc_text},ignore_index=True)\n"
     ]
    },
    {
     "name": "stdout",
     "output_type": "stream",
     "text": [
      "2915 W 44TH AVE Stillwater OK 74074 0110.02\n"
     ]
    },
    {
     "name": "stderr",
     "output_type": "stream",
     "text": [
      "<ipython-input-135-c99a2411e0a3>:8: FutureWarning: The frame.append method is deprecated and will be removed from pandas in a future version. Use pandas.concat instead.\n",
      "  df_address_census_tract = df_address_census_tract.append({'Address':i,'Census_Tract':tc_text},ignore_index=True)\n"
     ]
    },
    {
     "name": "stdout",
     "output_type": "stream",
     "text": [
      "2919 S EAGLE SUMMIT DR Stillwater OK 74074 0109.02\n"
     ]
    },
    {
     "name": "stderr",
     "output_type": "stream",
     "text": [
      "<ipython-input-135-c99a2411e0a3>:8: FutureWarning: The frame.append method is deprecated and will be removed from pandas in a future version. Use pandas.concat instead.\n",
      "  df_address_census_tract = df_address_census_tract.append({'Address':i,'Census_Tract':tc_text},ignore_index=True)\n"
     ]
    },
    {
     "name": "stdout",
     "output_type": "stream",
     "text": [
      "2920 E RAINTREE DR Stillwater OK 74074 0106.00\n"
     ]
    },
    {
     "name": "stderr",
     "output_type": "stream",
     "text": [
      "<ipython-input-135-c99a2411e0a3>:8: FutureWarning: The frame.append method is deprecated and will be removed from pandas in a future version. Use pandas.concat instead.\n",
      "  df_address_census_tract = df_address_census_tract.append({'Address':i,'Census_Tract':tc_text},ignore_index=True)\n"
     ]
    },
    {
     "name": "stdout",
     "output_type": "stream",
     "text": [
      "2920 N COUNTRY CLUB RD Stillwater OK 74075 0110.01\n"
     ]
    },
    {
     "name": "stderr",
     "output_type": "stream",
     "text": [
      "<ipython-input-135-c99a2411e0a3>:8: FutureWarning: The frame.append method is deprecated and will be removed from pandas in a future version. Use pandas.concat instead.\n",
      "  df_address_census_tract = df_address_census_tract.append({'Address':i,'Census_Tract':tc_text},ignore_index=True)\n"
     ]
    },
    {
     "name": "stdout",
     "output_type": "stream",
     "text": [
      "2921 E RAINTREE DR Stillwater OK 74074 0106.00\n"
     ]
    },
    {
     "name": "stderr",
     "output_type": "stream",
     "text": [
      "<ipython-input-135-c99a2411e0a3>:8: FutureWarning: The frame.append method is deprecated and will be removed from pandas in a future version. Use pandas.concat instead.\n",
      "  df_address_census_tract = df_address_census_tract.append({'Address':i,'Census_Tract':tc_text},ignore_index=True)\n"
     ]
    },
    {
     "name": "stdout",
     "output_type": "stream",
     "text": [
      "2923 N MONROE ST Stillwater OK 74075 0102.01\n"
     ]
    },
    {
     "name": "stderr",
     "output_type": "stream",
     "text": [
      "<ipython-input-135-c99a2411e0a3>:8: FutureWarning: The frame.append method is deprecated and will be removed from pandas in a future version. Use pandas.concat instead.\n",
      "  df_address_census_tract = df_address_census_tract.append({'Address':i,'Census_Tract':tc_text},ignore_index=True)\n"
     ]
    },
    {
     "name": "stdout",
     "output_type": "stream",
     "text": [
      "2923 S BLACK OAK DR Stillwater OK 74074 0109.02\n"
     ]
    },
    {
     "name": "stderr",
     "output_type": "stream",
     "text": [
      "<ipython-input-135-c99a2411e0a3>:8: FutureWarning: The frame.append method is deprecated and will be removed from pandas in a future version. Use pandas.concat instead.\n",
      "  df_address_census_tract = df_address_census_tract.append({'Address':i,'Census_Tract':tc_text},ignore_index=True)\n"
     ]
    },
    {
     "name": "stdout",
     "output_type": "stream",
     "text": [
      "2923 W 18TH AVE Stillwater OK 74074 0109.02\n"
     ]
    },
    {
     "name": "stderr",
     "output_type": "stream",
     "text": [
      "<ipython-input-135-c99a2411e0a3>:8: FutureWarning: The frame.append method is deprecated and will be removed from pandas in a future version. Use pandas.concat instead.\n",
      "  df_address_census_tract = df_address_census_tract.append({'Address':i,'Census_Tract':tc_text},ignore_index=True)\n"
     ]
    },
    {
     "name": "stdout",
     "output_type": "stream",
     "text": [
      "29250 DEER CREEK RD Stillwater OK 74075 9571.00\n"
     ]
    },
    {
     "name": "stderr",
     "output_type": "stream",
     "text": [
      "<ipython-input-135-c99a2411e0a3>:8: FutureWarning: The frame.append method is deprecated and will be removed from pandas in a future version. Use pandas.concat instead.\n",
      "  df_address_census_tract = df_address_census_tract.append({'Address':i,'Census_Tract':tc_text},ignore_index=True)\n"
     ]
    },
    {
     "name": "stdout",
     "output_type": "stream",
     "text": [
      "2926 S ROCKY RIDGE ST Stillwater OK 74074 0109.02\n"
     ]
    },
    {
     "name": "stderr",
     "output_type": "stream",
     "text": [
      "<ipython-input-135-c99a2411e0a3>:8: FutureWarning: The frame.append method is deprecated and will be removed from pandas in a future version. Use pandas.concat instead.\n",
      "  df_address_census_tract = df_address_census_tract.append({'Address':i,'Census_Tract':tc_text},ignore_index=True)\n"
     ]
    },
    {
     "name": "stdout",
     "output_type": "stream",
     "text": [
      "29271 COUNTY ROAD 180 Stillwater OK 74075 9571.00\n"
     ]
    },
    {
     "name": "stderr",
     "output_type": "stream",
     "text": [
      "<ipython-input-135-c99a2411e0a3>:8: FutureWarning: The frame.append method is deprecated and will be removed from pandas in a future version. Use pandas.concat instead.\n",
      "  df_address_census_tract = df_address_census_tract.append({'Address':i,'Census_Tract':tc_text},ignore_index=True)\n"
     ]
    },
    {
     "name": "stdout",
     "output_type": "stream",
     "text": [
      "29350 DOE RUN Stillwater OK 74075 9571.00\n"
     ]
    },
    {
     "name": "stderr",
     "output_type": "stream",
     "text": [
      "<ipython-input-135-c99a2411e0a3>:8: FutureWarning: The frame.append method is deprecated and will be removed from pandas in a future version. Use pandas.concat instead.\n",
      "  df_address_census_tract = df_address_census_tract.append({'Address':i,'Census_Tract':tc_text},ignore_index=True)\n"
     ]
    },
    {
     "name": "stdout",
     "output_type": "stream",
     "text": [
      "29401 DEER CREEK RD Stillwater OK 74075 9571.00\n"
     ]
    },
    {
     "name": "stderr",
     "output_type": "stream",
     "text": [
      "<ipython-input-135-c99a2411e0a3>:8: FutureWarning: The frame.append method is deprecated and will be removed from pandas in a future version. Use pandas.concat instead.\n",
      "  df_address_census_tract = df_address_census_tract.append({'Address':i,'Census_Tract':tc_text},ignore_index=True)\n"
     ]
    },
    {
     "name": "stdout",
     "output_type": "stream",
     "text": [
      "29451 DOE RUN Stillwater OK 74075 9571.00\n"
     ]
    },
    {
     "name": "stderr",
     "output_type": "stream",
     "text": [
      "<ipython-input-135-c99a2411e0a3>:8: FutureWarning: The frame.append method is deprecated and will be removed from pandas in a future version. Use pandas.concat instead.\n",
      "  df_address_census_tract = df_address_census_tract.append({'Address':i,'Census_Tract':tc_text},ignore_index=True)\n"
     ]
    },
    {
     "name": "stdout",
     "output_type": "stream",
     "text": [
      "29700 COUNTY ROAD 180 Stillwater OK 74075 9571.00\n"
     ]
    },
    {
     "name": "stderr",
     "output_type": "stream",
     "text": [
      "<ipython-input-135-c99a2411e0a3>:8: FutureWarning: The frame.append method is deprecated and will be removed from pandas in a future version. Use pandas.concat instead.\n",
      "  df_address_census_tract = df_address_census_tract.append({'Address':i,'Census_Tract':tc_text},ignore_index=True)\n"
     ]
    },
    {
     "name": "stdout",
     "output_type": "stream",
     "text": [
      "3 SUMMIT CIR Stillwater OK 74075 0106.00\n"
     ]
    },
    {
     "name": "stderr",
     "output_type": "stream",
     "text": [
      "<ipython-input-135-c99a2411e0a3>:8: FutureWarning: The frame.append method is deprecated and will be removed from pandas in a future version. Use pandas.concat instead.\n",
      "  df_address_census_tract = df_address_census_tract.append({'Address':i,'Census_Tract':tc_text},ignore_index=True)\n"
     ]
    },
    {
     "name": "stdout",
     "output_type": "stream",
     "text": [
      "3002 E RAINTREE DR Stillwater OK 74074 0106.00\n"
     ]
    },
    {
     "name": "stderr",
     "output_type": "stream",
     "text": [
      "<ipython-input-135-c99a2411e0a3>:8: FutureWarning: The frame.append method is deprecated and will be removed from pandas in a future version. Use pandas.concat instead.\n",
      "  df_address_census_tract = df_address_census_tract.append({'Address':i,'Census_Tract':tc_text},ignore_index=True)\n"
     ]
    },
    {
     "name": "stdout",
     "output_type": "stream",
     "text": [
      "3002 N LINCOLN ST Stillwater OK 74074 0102.01\n"
     ]
    },
    {
     "name": "stderr",
     "output_type": "stream",
     "text": [
      "<ipython-input-135-c99a2411e0a3>:8: FutureWarning: The frame.append method is deprecated and will be removed from pandas in a future version. Use pandas.concat instead.\n",
      "  df_address_census_tract = df_address_census_tract.append({'Address':i,'Census_Tract':tc_text},ignore_index=True)\n"
     ]
    },
    {
     "name": "stdout",
     "output_type": "stream",
     "text": [
      "3003 E 4TH AVE Stillwater OK 74074 0106.00\n"
     ]
    },
    {
     "name": "stderr",
     "output_type": "stream",
     "text": [
      "<ipython-input-135-c99a2411e0a3>:8: FutureWarning: The frame.append method is deprecated and will be removed from pandas in a future version. Use pandas.concat instead.\n",
      "  df_address_census_tract = df_address_census_tract.append({'Address':i,'Census_Tract':tc_text},ignore_index=True)\n"
     ]
    },
    {
     "name": "stdout",
     "output_type": "stream",
     "text": [
      "3004 W WELLINGTON DR Stillwater OK 74074 0109.02\n"
     ]
    },
    {
     "name": "stderr",
     "output_type": "stream",
     "text": [
      "<ipython-input-135-c99a2411e0a3>:8: FutureWarning: The frame.append method is deprecated and will be removed from pandas in a future version. Use pandas.concat instead.\n",
      "  df_address_census_tract = df_address_census_tract.append({'Address':i,'Census_Tract':tc_text},ignore_index=True)\n"
     ]
    },
    {
     "name": "stdout",
     "output_type": "stream",
     "text": [
      "3006 S EAGLE SUMMIT DR Stillwater OK 74074 0109.02\n"
     ]
    },
    {
     "name": "stderr",
     "output_type": "stream",
     "text": [
      "<ipython-input-135-c99a2411e0a3>:8: FutureWarning: The frame.append method is deprecated and will be removed from pandas in a future version. Use pandas.concat instead.\n",
      "  df_address_census_tract = df_address_census_tract.append({'Address':i,'Census_Tract':tc_text},ignore_index=True)\n"
     ]
    },
    {
     "name": "stdout",
     "output_type": "stream",
     "text": [
      "3007 E 3RD AVE Stillwater OK 74074 0106.00\n"
     ]
    },
    {
     "name": "stderr",
     "output_type": "stream",
     "text": [
      "<ipython-input-135-c99a2411e0a3>:8: FutureWarning: The frame.append method is deprecated and will be removed from pandas in a future version. Use pandas.concat instead.\n",
      "  df_address_census_tract = df_address_census_tract.append({'Address':i,'Census_Tract':tc_text},ignore_index=True)\n"
     ]
    },
    {
     "name": "stdout",
     "output_type": "stream",
     "text": [
      "3007 S CHAPEL HILL RD Stillwater OK 74074 0110.01\n"
     ]
    },
    {
     "name": "stderr",
     "output_type": "stream",
     "text": [
      "<ipython-input-135-c99a2411e0a3>:8: FutureWarning: The frame.append method is deprecated and will be removed from pandas in a future version. Use pandas.concat instead.\n",
      "  df_address_census_tract = df_address_census_tract.append({'Address':i,'Census_Tract':tc_text},ignore_index=True)\n"
     ]
    },
    {
     "name": "stdout",
     "output_type": "stream",
     "text": [
      "3008 E 2ND AVE Stillwater OK 74074 0106.00\n"
     ]
    },
    {
     "name": "stderr",
     "output_type": "stream",
     "text": [
      "<ipython-input-135-c99a2411e0a3>:8: FutureWarning: The frame.append method is deprecated and will be removed from pandas in a future version. Use pandas.concat instead.\n",
      "  df_address_census_tract = df_address_census_tract.append({'Address':i,'Census_Tract':tc_text},ignore_index=True)\n"
     ]
    },
    {
     "name": "stdout",
     "output_type": "stream",
     "text": [
      "3009 N COTTONWOOD RD Stillwater OK 74075 0110.01\n"
     ]
    },
    {
     "name": "stderr",
     "output_type": "stream",
     "text": [
      "<ipython-input-135-c99a2411e0a3>:8: FutureWarning: The frame.append method is deprecated and will be removed from pandas in a future version. Use pandas.concat instead.\n",
      "  df_address_census_tract = df_address_census_tract.append({'Address':i,'Census_Tract':tc_text},ignore_index=True)\n"
     ]
    },
    {
     "name": "stdout",
     "output_type": "stream",
     "text": [
      "301 E AUDENE DR Stillwater OK 74074 0101.01\n"
     ]
    },
    {
     "name": "stderr",
     "output_type": "stream",
     "text": [
      "<ipython-input-135-c99a2411e0a3>:8: FutureWarning: The frame.append method is deprecated and will be removed from pandas in a future version. Use pandas.concat instead.\n",
      "  df_address_census_tract = df_address_census_tract.append({'Address':i,'Census_Tract':tc_text},ignore_index=True)\n"
     ]
    },
    {
     "name": "stdout",
     "output_type": "stream",
     "text": [
      "301 N DUNCAN ST Stillwater OK 74075 0105.02\n"
     ]
    },
    {
     "name": "stderr",
     "output_type": "stream",
     "text": [
      "<ipython-input-135-c99a2411e0a3>:8: FutureWarning: The frame.append method is deprecated and will be removed from pandas in a future version. Use pandas.concat instead.\n",
      "  df_address_census_tract = df_address_census_tract.append({'Address':i,'Census_Tract':tc_text},ignore_index=True)\n"
     ]
    },
    {
     "name": "stdout",
     "output_type": "stream",
     "text": [
      "301 N YOUNG ST Stillwater OK 74075 0106.00\n"
     ]
    },
    {
     "name": "stderr",
     "output_type": "stream",
     "text": [
      "<ipython-input-135-c99a2411e0a3>:8: FutureWarning: The frame.append method is deprecated and will be removed from pandas in a future version. Use pandas.concat instead.\n",
      "  df_address_census_tract = df_address_census_tract.append({'Address':i,'Census_Tract':tc_text},ignore_index=True)\n"
     ]
    },
    {
     "name": "stdout",
     "output_type": "stream",
     "text": [
      "301 S BERRY ST Stillwater OK 74074 0106.00\n"
     ]
    },
    {
     "name": "stderr",
     "output_type": "stream",
     "text": [
      "<ipython-input-135-c99a2411e0a3>:8: FutureWarning: The frame.append method is deprecated and will be removed from pandas in a future version. Use pandas.concat instead.\n",
      "  df_address_census_tract = df_address_census_tract.append({'Address':i,'Census_Tract':tc_text},ignore_index=True)\n"
     ]
    },
    {
     "name": "stdout",
     "output_type": "stream",
     "text": [
      "301 S DUNCAN ST Stillwater OK 74074 0105.03\n"
     ]
    },
    {
     "name": "stderr",
     "output_type": "stream",
     "text": [
      "<ipython-input-135-c99a2411e0a3>:8: FutureWarning: The frame.append method is deprecated and will be removed from pandas in a future version. Use pandas.concat instead.\n",
      "  df_address_census_tract = df_address_census_tract.append({'Address':i,'Census_Tract':tc_text},ignore_index=True)\n"
     ]
    },
    {
     "name": "stdout",
     "output_type": "stream",
     "text": [
      "301 S JEFFERSON ST Stillwater OK 74074 0103.00\n"
     ]
    },
    {
     "name": "stderr",
     "output_type": "stream",
     "text": [
      "<ipython-input-135-c99a2411e0a3>:8: FutureWarning: The frame.append method is deprecated and will be removed from pandas in a future version. Use pandas.concat instead.\n",
      "  df_address_census_tract = df_address_census_tract.append({'Address':i,'Census_Tract':tc_text},ignore_index=True)\n"
     ]
    },
    {
     "name": "stdout",
     "output_type": "stream",
     "text": [
      "3013 E 2ND AVE Stillwater OK 74074 0106.00\n"
     ]
    },
    {
     "name": "stderr",
     "output_type": "stream",
     "text": [
      "<ipython-input-135-c99a2411e0a3>:8: FutureWarning: The frame.append method is deprecated and will be removed from pandas in a future version. Use pandas.concat instead.\n",
      "  df_address_census_tract = df_address_census_tract.append({'Address':i,'Census_Tract':tc_text},ignore_index=True)\n"
     ]
    },
    {
     "name": "stdout",
     "output_type": "stream",
     "text": [
      "3013 N COUNTRY CLUB RD Stillwater OK 74075 0110.01\n"
     ]
    },
    {
     "name": "stderr",
     "output_type": "stream",
     "text": [
      "<ipython-input-135-c99a2411e0a3>:8: FutureWarning: The frame.append method is deprecated and will be removed from pandas in a future version. Use pandas.concat instead.\n",
      "  df_address_census_tract = df_address_census_tract.append({'Address':i,'Census_Tract':tc_text},ignore_index=True)\n"
     ]
    },
    {
     "name": "stdout",
     "output_type": "stream",
     "text": [
      "3014 E 2ND AVE Stillwater OK 74074 0106.00\n"
     ]
    },
    {
     "name": "stderr",
     "output_type": "stream",
     "text": [
      "<ipython-input-135-c99a2411e0a3>:8: FutureWarning: The frame.append method is deprecated and will be removed from pandas in a future version. Use pandas.concat instead.\n",
      "  df_address_census_tract = df_address_census_tract.append({'Address':i,'Census_Tract':tc_text},ignore_index=True)\n"
     ]
    },
    {
     "name": "stdout",
     "output_type": "stream",
     "text": [
      "3016 E 4TH AVE Stillwater OK 74074 0106.00\n"
     ]
    },
    {
     "name": "stderr",
     "output_type": "stream",
     "text": [
      "<ipython-input-135-c99a2411e0a3>:8: FutureWarning: The frame.append method is deprecated and will be removed from pandas in a future version. Use pandas.concat instead.\n",
      "  df_address_census_tract = df_address_census_tract.append({'Address':i,'Census_Tract':tc_text},ignore_index=True)\n"
     ]
    },
    {
     "name": "stdout",
     "output_type": "stream",
     "text": [
      "3016 W 33RD AVE Stillwater OK 74074 0110.02\n"
     ]
    },
    {
     "name": "stderr",
     "output_type": "stream",
     "text": [
      "<ipython-input-135-c99a2411e0a3>:8: FutureWarning: The frame.append method is deprecated and will be removed from pandas in a future version. Use pandas.concat instead.\n",
      "  df_address_census_tract = df_address_census_tract.append({'Address':i,'Census_Tract':tc_text},ignore_index=True)\n"
     ]
    },
    {
     "name": "stdout",
     "output_type": "stream",
     "text": [
      "3017 E 2ND AVE Stillwater OK 74074 0106.00\n"
     ]
    },
    {
     "name": "stderr",
     "output_type": "stream",
     "text": [
      "<ipython-input-135-c99a2411e0a3>:8: FutureWarning: The frame.append method is deprecated and will be removed from pandas in a future version. Use pandas.concat instead.\n",
      "  df_address_census_tract = df_address_census_tract.append({'Address':i,'Census_Tract':tc_text},ignore_index=True)\n"
     ]
    },
    {
     "name": "stdout",
     "output_type": "stream",
     "text": [
      "3018 E 2ND AVE Stillwater OK 74074 0106.00\n"
     ]
    },
    {
     "name": "stderr",
     "output_type": "stream",
     "text": [
      "<ipython-input-135-c99a2411e0a3>:8: FutureWarning: The frame.append method is deprecated and will be removed from pandas in a future version. Use pandas.concat instead.\n",
      "  df_address_census_tract = df_address_census_tract.append({'Address':i,'Census_Tract':tc_text},ignore_index=True)\n"
     ]
    },
    {
     "name": "stdout",
     "output_type": "stream",
     "text": [
      "302 E TOPAZ AVE Stillwater OK 74075 0101.01\n"
     ]
    },
    {
     "name": "stderr",
     "output_type": "stream",
     "text": [
      "<ipython-input-135-c99a2411e0a3>:8: FutureWarning: The frame.append method is deprecated and will be removed from pandas in a future version. Use pandas.concat instead.\n",
      "  df_address_census_tract = df_address_census_tract.append({'Address':i,'Census_Tract':tc_text},ignore_index=True)\n"
     ]
    },
    {
     "name": "stdout",
     "output_type": "stream",
     "text": [
      "302 N DUNCAN ST Stillwater OK 74074 0105.01\n"
     ]
    },
    {
     "name": "stderr",
     "output_type": "stream",
     "text": [
      "<ipython-input-135-c99a2411e0a3>:8: FutureWarning: The frame.append method is deprecated and will be removed from pandas in a future version. Use pandas.concat instead.\n",
      "  df_address_census_tract = df_address_census_tract.append({'Address':i,'Census_Tract':tc_text},ignore_index=True)\n"
     ]
    },
    {
     "name": "stdout",
     "output_type": "stream",
     "text": [
      "302 S DUNCAN ST Stillwater OK 74074 0105.03\n"
     ]
    },
    {
     "name": "stderr",
     "output_type": "stream",
     "text": [
      "<ipython-input-135-c99a2411e0a3>:8: FutureWarning: The frame.append method is deprecated and will be removed from pandas in a future version. Use pandas.concat instead.\n",
      "  df_address_census_tract = df_address_census_tract.append({'Address':i,'Census_Tract':tc_text},ignore_index=True)\n"
     ]
    },
    {
     "name": "stdout",
     "output_type": "stream",
     "text": [
      "302 S HUSBAND ST Stillwater OK 74074 0105.03\n"
     ]
    },
    {
     "name": "stderr",
     "output_type": "stream",
     "text": [
      "<ipython-input-135-c99a2411e0a3>:8: FutureWarning: The frame.append method is deprecated and will be removed from pandas in a future version. Use pandas.concat instead.\n",
      "  df_address_census_tract = df_address_census_tract.append({'Address':i,'Census_Tract':tc_text},ignore_index=True)\n"
     ]
    },
    {
     "name": "stdout",
     "output_type": "stream",
     "text": [
      "302 S JARDOT RD Stillwater OK 74074 0106.00\n"
     ]
    },
    {
     "name": "stderr",
     "output_type": "stream",
     "text": [
      "<ipython-input-135-c99a2411e0a3>:8: FutureWarning: The frame.append method is deprecated and will be removed from pandas in a future version. Use pandas.concat instead.\n",
      "  df_address_census_tract = df_address_census_tract.append({'Address':i,'Census_Tract':tc_text},ignore_index=True)\n"
     ]
    },
    {
     "name": "stdout",
     "output_type": "stream",
     "text": [
      "302 S KNOBLOCK ST Stillwater OK 74074 0105.03\n"
     ]
    },
    {
     "name": "stderr",
     "output_type": "stream",
     "text": [
      "<ipython-input-135-c99a2411e0a3>:8: FutureWarning: The frame.append method is deprecated and will be removed from pandas in a future version. Use pandas.concat instead.\n",
      "  df_address_census_tract = df_address_census_tract.append({'Address':i,'Census_Tract':tc_text},ignore_index=True)\n"
     ]
    },
    {
     "name": "stdout",
     "output_type": "stream",
     "text": [
      "302 S PAYNE ST Stillwater OK 74074 0106.00\n"
     ]
    },
    {
     "name": "stderr",
     "output_type": "stream",
     "text": [
      "<ipython-input-135-c99a2411e0a3>:8: FutureWarning: The frame.append method is deprecated and will be removed from pandas in a future version. Use pandas.concat instead.\n",
      "  df_address_census_tract = df_address_census_tract.append({'Address':i,'Census_Tract':tc_text},ignore_index=True)\n"
     ]
    },
    {
     "name": "stdout",
     "output_type": "stream",
     "text": [
      "302 S PLEASANT OAKS ST Stillwater OK 74074 0106.00\n"
     ]
    },
    {
     "name": "stderr",
     "output_type": "stream",
     "text": [
      "<ipython-input-135-c99a2411e0a3>:8: FutureWarning: The frame.append method is deprecated and will be removed from pandas in a future version. Use pandas.concat instead.\n",
      "  df_address_census_tract = df_address_census_tract.append({'Address':i,'Census_Tract':tc_text},ignore_index=True)\n"
     ]
    },
    {
     "name": "stdout",
     "output_type": "stream",
     "text": [
      "302 S WALNUT ST Stillwater OK 74074 0103.00\n"
     ]
    },
    {
     "name": "stderr",
     "output_type": "stream",
     "text": [
      "<ipython-input-135-c99a2411e0a3>:8: FutureWarning: The frame.append method is deprecated and will be removed from pandas in a future version. Use pandas.concat instead.\n",
      "  df_address_census_tract = df_address_census_tract.append({'Address':i,'Census_Tract':tc_text},ignore_index=True)\n"
     ]
    },
    {
     "name": "stdout",
     "output_type": "stream",
     "text": [
      "302 W CANTWELL AVE Stillwater OK 74074 0105.01\n"
     ]
    },
    {
     "name": "stderr",
     "output_type": "stream",
     "text": [
      "<ipython-input-135-c99a2411e0a3>:8: FutureWarning: The frame.append method is deprecated and will be removed from pandas in a future version. Use pandas.concat instead.\n",
      "  df_address_census_tract = df_address_census_tract.append({'Address':i,'Census_Tract':tc_text},ignore_index=True)\n"
     ]
    },
    {
     "name": "stdout",
     "output_type": "stream",
     "text": [
      "302 W MAPLE AVE Stillwater OK 74074 0105.03\n"
     ]
    },
    {
     "name": "stderr",
     "output_type": "stream",
     "text": [
      "<ipython-input-135-c99a2411e0a3>:8: FutureWarning: The frame.append method is deprecated and will be removed from pandas in a future version. Use pandas.concat instead.\n",
      "  df_address_census_tract = df_address_census_tract.append({'Address':i,'Census_Tract':tc_text},ignore_index=True)\n"
     ]
    },
    {
     "name": "stdout",
     "output_type": "stream",
     "text": [
      "3020 E 6TH AVE Stillwater OK 74074 0106.00\n"
     ]
    },
    {
     "name": "stderr",
     "output_type": "stream",
     "text": [
      "<ipython-input-135-c99a2411e0a3>:8: FutureWarning: The frame.append method is deprecated and will be removed from pandas in a future version. Use pandas.concat instead.\n",
      "  df_address_census_tract = df_address_census_tract.append({'Address':i,'Census_Tract':tc_text},ignore_index=True)\n"
     ]
    },
    {
     "name": "stdout",
     "output_type": "stream",
     "text": [
      "3020 W 44TH AVE Stillwater OK 74074 0110.02\n"
     ]
    },
    {
     "name": "stderr",
     "output_type": "stream",
     "text": [
      "<ipython-input-135-c99a2411e0a3>:8: FutureWarning: The frame.append method is deprecated and will be removed from pandas in a future version. Use pandas.concat instead.\n",
      "  df_address_census_tract = df_address_census_tract.append({'Address':i,'Census_Tract':tc_text},ignore_index=True)\n"
     ]
    },
    {
     "name": "stdout",
     "output_type": "stream",
     "text": [
      "3021 E 2ND AVE Stillwater OK 74074 0106.00\n"
     ]
    },
    {
     "name": "stderr",
     "output_type": "stream",
     "text": [
      "<ipython-input-135-c99a2411e0a3>:8: FutureWarning: The frame.append method is deprecated and will be removed from pandas in a future version. Use pandas.concat instead.\n",
      "  df_address_census_tract = df_address_census_tract.append({'Address':i,'Census_Tract':tc_text},ignore_index=True)\n"
     ]
    },
    {
     "name": "stdout",
     "output_type": "stream",
     "text": [
      "3022 E 4TH AVE Stillwater OK 74074 0106.00\n"
     ]
    },
    {
     "name": "stderr",
     "output_type": "stream",
     "text": [
      "<ipython-input-135-c99a2411e0a3>:8: FutureWarning: The frame.append method is deprecated and will be removed from pandas in a future version. Use pandas.concat instead.\n",
      "  df_address_census_tract = df_address_census_tract.append({'Address':i,'Census_Tract':tc_text},ignore_index=True)\n"
     ]
    },
    {
     "name": "stdout",
     "output_type": "stream",
     "text": [
      "30222 COUNTY ROAD 180 Stillwater OK 74075 9571.00\n"
     ]
    },
    {
     "name": "stderr",
     "output_type": "stream",
     "text": [
      "<ipython-input-135-c99a2411e0a3>:8: FutureWarning: The frame.append method is deprecated and will be removed from pandas in a future version. Use pandas.concat instead.\n",
      "  df_address_census_tract = df_address_census_tract.append({'Address':i,'Census_Tract':tc_text},ignore_index=True)\n"
     ]
    },
    {
     "name": "stdout",
     "output_type": "stream",
     "text": [
      "3023 E 3RD AVE Stillwater OK 74074 0106.00\n"
     ]
    },
    {
     "name": "stderr",
     "output_type": "stream",
     "text": [
      "<ipython-input-135-c99a2411e0a3>:8: FutureWarning: The frame.append method is deprecated and will be removed from pandas in a future version. Use pandas.concat instead.\n",
      "  df_address_census_tract = df_address_census_tract.append({'Address':i,'Census_Tract':tc_text},ignore_index=True)\n"
     ]
    },
    {
     "name": "stdout",
     "output_type": "stream",
     "text": [
      "3023 N LINCOLN ST Stillwater OK 74074 0102.01\n"
     ]
    },
    {
     "name": "stderr",
     "output_type": "stream",
     "text": [
      "<ipython-input-135-c99a2411e0a3>:8: FutureWarning: The frame.append method is deprecated and will be removed from pandas in a future version. Use pandas.concat instead.\n",
      "  df_address_census_tract = df_address_census_tract.append({'Address':i,'Census_Tract':tc_text},ignore_index=True)\n"
     ]
    },
    {
     "name": "stdout",
     "output_type": "stream",
     "text": [
      "3023 N MONROE ST Stillwater OK 74075 0102.01\n"
     ]
    },
    {
     "name": "stderr",
     "output_type": "stream",
     "text": [
      "<ipython-input-135-c99a2411e0a3>:8: FutureWarning: The frame.append method is deprecated and will be removed from pandas in a future version. Use pandas.concat instead.\n",
      "  df_address_census_tract = df_address_census_tract.append({'Address':i,'Census_Tract':tc_text},ignore_index=True)\n"
     ]
    },
    {
     "name": "stdout",
     "output_type": "stream",
     "text": [
      "3023 W CYPRESS MILL AVE Stillwater OK 74074 0109.02\n"
     ]
    },
    {
     "name": "stderr",
     "output_type": "stream",
     "text": [
      "<ipython-input-135-c99a2411e0a3>:8: FutureWarning: The frame.append method is deprecated and will be removed from pandas in a future version. Use pandas.concat instead.\n",
      "  df_address_census_tract = df_address_census_tract.append({'Address':i,'Census_Tract':tc_text},ignore_index=True)\n"
     ]
    },
    {
     "name": "stdout",
     "output_type": "stream",
     "text": [
      "3024 E 3RD AVE Stillwater OK 74074 0106.00\n"
     ]
    },
    {
     "name": "stderr",
     "output_type": "stream",
     "text": [
      "<ipython-input-135-c99a2411e0a3>:8: FutureWarning: The frame.append method is deprecated and will be removed from pandas in a future version. Use pandas.concat instead.\n",
      "  df_address_census_tract = df_address_census_tract.append({'Address':i,'Census_Tract':tc_text},ignore_index=True)\n"
     ]
    },
    {
     "name": "stdout",
     "output_type": "stream",
     "text": [
      "3024 W LOMA VERDE LN Stillwater OK 74074 0109.02\n"
     ]
    },
    {
     "name": "stderr",
     "output_type": "stream",
     "text": [
      "<ipython-input-135-c99a2411e0a3>:8: FutureWarning: The frame.append method is deprecated and will be removed from pandas in a future version. Use pandas.concat instead.\n",
      "  df_address_census_tract = df_address_census_tract.append({'Address':i,'Census_Tract':tc_text},ignore_index=True)\n"
     ]
    },
    {
     "name": "stdout",
     "output_type": "stream",
     "text": [
      "3025 E 2ND AVE Stillwater OK 74074 0106.00\n"
     ]
    },
    {
     "name": "stderr",
     "output_type": "stream",
     "text": [
      "<ipython-input-135-c99a2411e0a3>:8: FutureWarning: The frame.append method is deprecated and will be removed from pandas in a future version. Use pandas.concat instead.\n",
      "  df_address_census_tract = df_address_census_tract.append({'Address':i,'Census_Tract':tc_text},ignore_index=True)\n"
     ]
    },
    {
     "name": "stdout",
     "output_type": "stream",
     "text": [
      "3027 E 3RD AVE Stillwater OK 74074 0106.00\n"
     ]
    },
    {
     "name": "stderr",
     "output_type": "stream",
     "text": [
      "<ipython-input-135-c99a2411e0a3>:8: FutureWarning: The frame.append method is deprecated and will be removed from pandas in a future version. Use pandas.concat instead.\n",
      "  df_address_census_tract = df_address_census_tract.append({'Address':i,'Census_Tract':tc_text},ignore_index=True)\n"
     ]
    },
    {
     "name": "stdout",
     "output_type": "stream",
     "text": [
      "3027 W SHILOH CREEK AVE Stillwater OK 74074 0109.02\n"
     ]
    },
    {
     "name": "stderr",
     "output_type": "stream",
     "text": [
      "<ipython-input-135-c99a2411e0a3>:8: FutureWarning: The frame.append method is deprecated and will be removed from pandas in a future version. Use pandas.concat instead.\n",
      "  df_address_census_tract = df_address_census_tract.append({'Address':i,'Census_Tract':tc_text},ignore_index=True)\n"
     ]
    },
    {
     "name": "stdout",
     "output_type": "stream",
     "text": [
      "3028 E 3RD AVE Stillwater OK 74074 0106.00\n"
     ]
    },
    {
     "name": "stderr",
     "output_type": "stream",
     "text": [
      "<ipython-input-135-c99a2411e0a3>:8: FutureWarning: The frame.append method is deprecated and will be removed from pandas in a future version. Use pandas.concat instead.\n",
      "  df_address_census_tract = df_address_census_tract.append({'Address':i,'Census_Tract':tc_text},ignore_index=True)\n"
     ]
    },
    {
     "name": "stdout",
     "output_type": "stream",
     "text": [
      "303 N DUCK ST Stillwater OK 74075 0105.01\n"
     ]
    },
    {
     "name": "stderr",
     "output_type": "stream",
     "text": [
      "<ipython-input-135-c99a2411e0a3>:8: FutureWarning: The frame.append method is deprecated and will be removed from pandas in a future version. Use pandas.concat instead.\n",
      "  df_address_census_tract = df_address_census_tract.append({'Address':i,'Census_Tract':tc_text},ignore_index=True)\n"
     ]
    },
    {
     "name": "stdout",
     "output_type": "stream",
     "text": [
      "303 S WALNUT ST Stillwater OK 74074 0103.00\n"
     ]
    },
    {
     "name": "stderr",
     "output_type": "stream",
     "text": [
      "<ipython-input-135-c99a2411e0a3>:8: FutureWarning: The frame.append method is deprecated and will be removed from pandas in a future version. Use pandas.concat instead.\n",
      "  df_address_census_tract = df_address_census_tract.append({'Address':i,'Census_Tract':tc_text},ignore_index=True)\n"
     ]
    },
    {
     "name": "stdout",
     "output_type": "stream",
     "text": [
      "3030 W SHILOH CREEK AVE Stillwater OK 74074 0109.02\n"
     ]
    },
    {
     "name": "stderr",
     "output_type": "stream",
     "text": [
      "<ipython-input-135-c99a2411e0a3>:8: FutureWarning: The frame.append method is deprecated and will be removed from pandas in a future version. Use pandas.concat instead.\n",
      "  df_address_census_tract = df_address_census_tract.append({'Address':i,'Census_Tract':tc_text},ignore_index=True)\n"
     ]
    },
    {
     "name": "stdout",
     "output_type": "stream",
     "text": [
      "3039 W SHILOH CREEK AVE Stillwater OK 74074 0109.02\n"
     ]
    },
    {
     "name": "stderr",
     "output_type": "stream",
     "text": [
      "<ipython-input-135-c99a2411e0a3>:8: FutureWarning: The frame.append method is deprecated and will be removed from pandas in a future version. Use pandas.concat instead.\n",
      "  df_address_census_tract = df_address_census_tract.append({'Address':i,'Census_Tract':tc_text},ignore_index=True)\n"
     ]
    },
    {
     "name": "stdout",
     "output_type": "stream",
     "text": [
      "304 N DUNCAN ST Stillwater OK 74074 0105.01\n"
     ]
    },
    {
     "name": "stderr",
     "output_type": "stream",
     "text": [
      "<ipython-input-135-c99a2411e0a3>:8: FutureWarning: The frame.append method is deprecated and will be removed from pandas in a future version. Use pandas.concat instead.\n",
      "  df_address_census_tract = df_address_census_tract.append({'Address':i,'Census_Tract':tc_text},ignore_index=True)\n"
     ]
    },
    {
     "name": "stdout",
     "output_type": "stream",
     "text": [
      "304 N DUNCAN ST Stillwater OK 74075 0105.01\n"
     ]
    },
    {
     "name": "stderr",
     "output_type": "stream",
     "text": [
      "<ipython-input-135-c99a2411e0a3>:8: FutureWarning: The frame.append method is deprecated and will be removed from pandas in a future version. Use pandas.concat instead.\n",
      "  df_address_census_tract = df_address_census_tract.append({'Address':i,'Census_Tract':tc_text},ignore_index=True)\n"
     ]
    },
    {
     "name": "stdout",
     "output_type": "stream",
     "text": [
      "304 S CHARLES DR Stillwater OK 74074 0109.01\n"
     ]
    },
    {
     "name": "stderr",
     "output_type": "stream",
     "text": [
      "<ipython-input-135-c99a2411e0a3>:8: FutureWarning: The frame.append method is deprecated and will be removed from pandas in a future version. Use pandas.concat instead.\n",
      "  df_address_census_tract = df_address_census_tract.append({'Address':i,'Census_Tract':tc_text},ignore_index=True)\n"
     ]
    },
    {
     "name": "stdout",
     "output_type": "stream",
     "text": [
      "304 S JEFFERSON ST Stillwater OK 74074 0103.00\n"
     ]
    },
    {
     "name": "stderr",
     "output_type": "stream",
     "text": [
      "<ipython-input-135-c99a2411e0a3>:8: FutureWarning: The frame.append method is deprecated and will be removed from pandas in a future version. Use pandas.concat instead.\n",
      "  df_address_census_tract = df_address_census_tract.append({'Address':i,'Census_Tract':tc_text},ignore_index=True)\n"
     ]
    },
    {
     "name": "stdout",
     "output_type": "stream",
     "text": [
      "3040 E PEACH TREE AVE Stillwater OK 74074 0106.00\n"
     ]
    },
    {
     "name": "stderr",
     "output_type": "stream",
     "text": [
      "<ipython-input-135-c99a2411e0a3>:8: FutureWarning: The frame.append method is deprecated and will be removed from pandas in a future version. Use pandas.concat instead.\n",
      "  df_address_census_tract = df_address_census_tract.append({'Address':i,'Census_Tract':tc_text},ignore_index=True)\n"
     ]
    },
    {
     "name": "stdout",
     "output_type": "stream",
     "text": [
      "3043 W SHILOH CREEK AVE Stillwater OK 74074 0109.02\n"
     ]
    },
    {
     "name": "stderr",
     "output_type": "stream",
     "text": [
      "<ipython-input-135-c99a2411e0a3>:8: FutureWarning: The frame.append method is deprecated and will be removed from pandas in a future version. Use pandas.concat instead.\n",
      "  df_address_census_tract = df_address_census_tract.append({'Address':i,'Census_Tract':tc_text},ignore_index=True)\n"
     ]
    },
    {
     "name": "stdout",
     "output_type": "stream",
     "text": [
      "305 E 17TH AVE Stillwater OK 74074 0107.00\n"
     ]
    },
    {
     "name": "stderr",
     "output_type": "stream",
     "text": [
      "<ipython-input-135-c99a2411e0a3>:8: FutureWarning: The frame.append method is deprecated and will be removed from pandas in a future version. Use pandas.concat instead.\n",
      "  df_address_census_tract = df_address_census_tract.append({'Address':i,'Census_Tract':tc_text},ignore_index=True)\n"
     ]
    },
    {
     "name": "stdout",
     "output_type": "stream",
     "text": [
      "305 E 18TH PL Stillwater OK 74074 0107.00\n"
     ]
    },
    {
     "name": "stderr",
     "output_type": "stream",
     "text": [
      "<ipython-input-135-c99a2411e0a3>:8: FutureWarning: The frame.append method is deprecated and will be removed from pandas in a future version. Use pandas.concat instead.\n",
      "  df_address_census_tract = df_address_census_tract.append({'Address':i,'Census_Tract':tc_text},ignore_index=True)\n"
     ]
    },
    {
     "name": "stdout",
     "output_type": "stream",
     "text": [
      "305 S COTTONWOOD RD Stillwater OK 74074 0110.01\n"
     ]
    },
    {
     "name": "stderr",
     "output_type": "stream",
     "text": [
      "<ipython-input-135-c99a2411e0a3>:8: FutureWarning: The frame.append method is deprecated and will be removed from pandas in a future version. Use pandas.concat instead.\n",
      "  df_address_census_tract = df_address_census_tract.append({'Address':i,'Census_Tract':tc_text},ignore_index=True)\n"
     ]
    },
    {
     "name": "stdout",
     "output_type": "stream",
     "text": [
      "305 S DUNCAN ST Stillwater OK 74074 0105.03\n"
     ]
    },
    {
     "name": "stderr",
     "output_type": "stream",
     "text": [
      "<ipython-input-135-c99a2411e0a3>:8: FutureWarning: The frame.append method is deprecated and will be removed from pandas in a future version. Use pandas.concat instead.\n",
      "  df_address_census_tract = df_address_census_tract.append({'Address':i,'Census_Tract':tc_text},ignore_index=True)\n"
     ]
    },
    {
     "name": "stdout",
     "output_type": "stream",
     "text": [
      "306 E 18TH PL Stillwater OK 74074 0107.00\n"
     ]
    },
    {
     "name": "stderr",
     "output_type": "stream",
     "text": [
      "<ipython-input-135-c99a2411e0a3>:8: FutureWarning: The frame.append method is deprecated and will be removed from pandas in a future version. Use pandas.concat instead.\n",
      "  df_address_census_tract = df_address_census_tract.append({'Address':i,'Census_Tract':tc_text},ignore_index=True)\n"
     ]
    },
    {
     "name": "stdout",
     "output_type": "stream",
     "text": [
      "306 S RAMSEY ST Stillwater OK 74074 0105.03\n"
     ]
    },
    {
     "name": "stderr",
     "output_type": "stream",
     "text": [
      "<ipython-input-135-c99a2411e0a3>:8: FutureWarning: The frame.append method is deprecated and will be removed from pandas in a future version. Use pandas.concat instead.\n",
      "  df_address_census_tract = df_address_census_tract.append({'Address':i,'Census_Tract':tc_text},ignore_index=True)\n"
     ]
    },
    {
     "name": "stdout",
     "output_type": "stream",
     "text": [
      "307 E 17TH AVE Stillwater OK 74074 0107.00\n"
     ]
    },
    {
     "name": "stderr",
     "output_type": "stream",
     "text": [
      "<ipython-input-135-c99a2411e0a3>:8: FutureWarning: The frame.append method is deprecated and will be removed from pandas in a future version. Use pandas.concat instead.\n",
      "  df_address_census_tract = df_address_census_tract.append({'Address':i,'Census_Tract':tc_text},ignore_index=True)\n"
     ]
    },
    {
     "name": "stdout",
     "output_type": "stream",
     "text": [
      "307 E COPPER CANYON AVE Stillwater OK 74075 0101.01\n"
     ]
    },
    {
     "name": "stderr",
     "output_type": "stream",
     "text": [
      "<ipython-input-135-c99a2411e0a3>:8: FutureWarning: The frame.append method is deprecated and will be removed from pandas in a future version. Use pandas.concat instead.\n",
      "  df_address_census_tract = df_address_census_tract.append({'Address':i,'Census_Tract':tc_text},ignore_index=True)\n"
     ]
    },
    {
     "name": "stdout",
     "output_type": "stream",
     "text": [
      "307 N DUNCAN ST Stillwater OK 74075 0105.02\n"
     ]
    },
    {
     "name": "stderr",
     "output_type": "stream",
     "text": [
      "<ipython-input-135-c99a2411e0a3>:8: FutureWarning: The frame.append method is deprecated and will be removed from pandas in a future version. Use pandas.concat instead.\n",
      "  df_address_census_tract = df_address_census_tract.append({'Address':i,'Census_Tract':tc_text},ignore_index=True)\n"
     ]
    },
    {
     "name": "stdout",
     "output_type": "stream",
     "text": [
      "307 N WEDGEWOOD DR Stillwater OK 74075 0106.00\n"
     ]
    },
    {
     "name": "stderr",
     "output_type": "stream",
     "text": [
      "<ipython-input-135-c99a2411e0a3>:8: FutureWarning: The frame.append method is deprecated and will be removed from pandas in a future version. Use pandas.concat instead.\n",
      "  df_address_census_tract = df_address_census_tract.append({'Address':i,'Census_Tract':tc_text},ignore_index=True)\n"
     ]
    },
    {
     "name": "stdout",
     "output_type": "stream",
     "text": [
      "308 E ROGERS DR Stillwater OK 74074 0101.01\n"
     ]
    },
    {
     "name": "stderr",
     "output_type": "stream",
     "text": [
      "<ipython-input-135-c99a2411e0a3>:8: FutureWarning: The frame.append method is deprecated and will be removed from pandas in a future version. Use pandas.concat instead.\n",
      "  df_address_census_tract = df_address_census_tract.append({'Address':i,'Census_Tract':tc_text},ignore_index=True)\n"
     ]
    },
    {
     "name": "stdout",
     "output_type": "stream",
     "text": [
      "308 N DUNCAN ST Stillwater OK 74075 0105.01\n"
     ]
    },
    {
     "name": "stderr",
     "output_type": "stream",
     "text": [
      "<ipython-input-135-c99a2411e0a3>:8: FutureWarning: The frame.append method is deprecated and will be removed from pandas in a future version. Use pandas.concat instead.\n",
      "  df_address_census_tract = df_address_census_tract.append({'Address':i,'Census_Tract':tc_text},ignore_index=True)\n"
     ]
    },
    {
     "name": "stdout",
     "output_type": "stream",
     "text": [
      "308 N HUSBAND ST Stillwater OK 74075 0105.02\n"
     ]
    },
    {
     "name": "stderr",
     "output_type": "stream",
     "text": [
      "<ipython-input-135-c99a2411e0a3>:8: FutureWarning: The frame.append method is deprecated and will be removed from pandas in a future version. Use pandas.concat instead.\n",
      "  df_address_census_tract = df_address_census_tract.append({'Address':i,'Census_Tract':tc_text},ignore_index=True)\n"
     ]
    },
    {
     "name": "stdout",
     "output_type": "stream",
     "text": [
      "308 S JEFFERSON ST Stillwater OK 74074 0103.00\n"
     ]
    },
    {
     "name": "stderr",
     "output_type": "stream",
     "text": [
      "<ipython-input-135-c99a2411e0a3>:8: FutureWarning: The frame.append method is deprecated and will be removed from pandas in a future version. Use pandas.concat instead.\n",
      "  df_address_census_tract = df_address_census_tract.append({'Address':i,'Census_Tract':tc_text},ignore_index=True)\n"
     ]
    },
    {
     "name": "stdout",
     "output_type": "stream",
     "text": [
      "308 W 4TH AVE Stillwater OK 74074 0105.03\n"
     ]
    },
    {
     "name": "stderr",
     "output_type": "stream",
     "text": [
      "<ipython-input-135-c99a2411e0a3>:8: FutureWarning: The frame.append method is deprecated and will be removed from pandas in a future version. Use pandas.concat instead.\n",
      "  df_address_census_tract = df_address_census_tract.append({'Address':i,'Census_Tract':tc_text},ignore_index=True)\n"
     ]
    },
    {
     "name": "stdout",
     "output_type": "stream",
     "text": [
      "308 W MAPLE AVE Stillwater OK 74074 0105.03\n"
     ]
    },
    {
     "name": "stderr",
     "output_type": "stream",
     "text": [
      "<ipython-input-135-c99a2411e0a3>:8: FutureWarning: The frame.append method is deprecated and will be removed from pandas in a future version. Use pandas.concat instead.\n",
      "  df_address_census_tract = df_address_census_tract.append({'Address':i,'Census_Tract':tc_text},ignore_index=True)\n"
     ]
    },
    {
     "name": "stdout",
     "output_type": "stream",
     "text": [
      "309 E 16TH AVE Stillwater OK 74074 0107.00\n"
     ]
    },
    {
     "name": "stderr",
     "output_type": "stream",
     "text": [
      "<ipython-input-135-c99a2411e0a3>:8: FutureWarning: The frame.append method is deprecated and will be removed from pandas in a future version. Use pandas.concat instead.\n",
      "  df_address_census_tract = df_address_census_tract.append({'Address':i,'Census_Tract':tc_text},ignore_index=True)\n"
     ]
    },
    {
     "name": "stdout",
     "output_type": "stream",
     "text": [
      "309 E 17TH AVE Stillwater OK 74074 0107.00\n"
     ]
    },
    {
     "name": "stderr",
     "output_type": "stream",
     "text": [
      "<ipython-input-135-c99a2411e0a3>:8: FutureWarning: The frame.append method is deprecated and will be removed from pandas in a future version. Use pandas.concat instead.\n",
      "  df_address_census_tract = df_address_census_tract.append({'Address':i,'Census_Tract':tc_text},ignore_index=True)\n"
     ]
    },
    {
     "name": "stdout",
     "output_type": "stream",
     "text": [
      "309 E 18TH AVE Stillwater OK 74074 0107.00\n"
     ]
    },
    {
     "name": "stderr",
     "output_type": "stream",
     "text": [
      "<ipython-input-135-c99a2411e0a3>:8: FutureWarning: The frame.append method is deprecated and will be removed from pandas in a future version. Use pandas.concat instead.\n",
      "  df_address_census_tract = df_address_census_tract.append({'Address':i,'Census_Tract':tc_text},ignore_index=True)\n"
     ]
    },
    {
     "name": "stdout",
     "output_type": "stream",
     "text": [
      "309 E 32ND AVE Stillwater OK 74074 0110.02\n"
     ]
    },
    {
     "name": "stderr",
     "output_type": "stream",
     "text": [
      "<ipython-input-135-c99a2411e0a3>:8: FutureWarning: The frame.append method is deprecated and will be removed from pandas in a future version. Use pandas.concat instead.\n",
      "  df_address_census_tract = df_address_census_tract.append({'Address':i,'Census_Tract':tc_text},ignore_index=True)\n"
     ]
    },
    {
     "name": "stdout",
     "output_type": "stream",
     "text": [
      "309 N DUCK ST Stillwater OK 74074 0105.01\n"
     ]
    },
    {
     "name": "stderr",
     "output_type": "stream",
     "text": [
      "<ipython-input-135-c99a2411e0a3>:8: FutureWarning: The frame.append method is deprecated and will be removed from pandas in a future version. Use pandas.concat instead.\n",
      "  df_address_census_tract = df_address_census_tract.append({'Address':i,'Census_Tract':tc_text},ignore_index=True)\n"
     ]
    },
    {
     "name": "stdout",
     "output_type": "stream",
     "text": [
      "309 N DUCK ST Stillwater OK 74075 0105.01\n"
     ]
    },
    {
     "name": "stderr",
     "output_type": "stream",
     "text": [
      "<ipython-input-135-c99a2411e0a3>:8: FutureWarning: The frame.append method is deprecated and will be removed from pandas in a future version. Use pandas.concat instead.\n",
      "  df_address_census_tract = df_address_census_tract.append({'Address':i,'Census_Tract':tc_text},ignore_index=True)\n"
     ]
    },
    {
     "name": "stdout",
     "output_type": "stream",
     "text": [
      "309 S WEST ST Stillwater OK 74074 0105.03\n"
     ]
    },
    {
     "name": "stderr",
     "output_type": "stream",
     "text": [
      "<ipython-input-135-c99a2411e0a3>:8: FutureWarning: The frame.append method is deprecated and will be removed from pandas in a future version. Use pandas.concat instead.\n",
      "  df_address_census_tract = df_address_census_tract.append({'Address':i,'Census_Tract':tc_text},ignore_index=True)\n"
     ]
    },
    {
     "name": "stdout",
     "output_type": "stream",
     "text": [
      "310 E AUDENE DR Stillwater OK 74074 0101.01\n"
     ]
    },
    {
     "name": "stderr",
     "output_type": "stream",
     "text": [
      "<ipython-input-135-c99a2411e0a3>:8: FutureWarning: The frame.append method is deprecated and will be removed from pandas in a future version. Use pandas.concat instead.\n",
      "  df_address_census_tract = df_address_census_tract.append({'Address':i,'Census_Tract':tc_text},ignore_index=True)\n"
     ]
    },
    {
     "name": "stdout",
     "output_type": "stream",
     "text": [
      "310 S DUNCAN ST Stillwater OK 74074 0105.03\n"
     ]
    },
    {
     "name": "stderr",
     "output_type": "stream",
     "text": [
      "<ipython-input-135-c99a2411e0a3>:8: FutureWarning: The frame.append method is deprecated and will be removed from pandas in a future version. Use pandas.concat instead.\n",
      "  df_address_census_tract = df_address_census_tract.append({'Address':i,'Census_Tract':tc_text},ignore_index=True)\n"
     ]
    },
    {
     "name": "stdout",
     "output_type": "stream",
     "text": [
      "310 S KNOBLOCK ST Stillwater OK 74074 0105.03\n"
     ]
    },
    {
     "name": "stderr",
     "output_type": "stream",
     "text": [
      "<ipython-input-135-c99a2411e0a3>:8: FutureWarning: The frame.append method is deprecated and will be removed from pandas in a future version. Use pandas.concat instead.\n",
      "  df_address_census_tract = df_address_census_tract.append({'Address':i,'Census_Tract':tc_text},ignore_index=True)\n"
     ]
    },
    {
     "name": "stdout",
     "output_type": "stream",
     "text": [
      "310 S REDLANDS RD Stillwater OK 74074 0110.01\n"
     ]
    },
    {
     "name": "stderr",
     "output_type": "stream",
     "text": [
      "<ipython-input-135-c99a2411e0a3>:8: FutureWarning: The frame.append method is deprecated and will be removed from pandas in a future version. Use pandas.concat instead.\n",
      "  df_address_census_tract = df_address_census_tract.append({'Address':i,'Census_Tract':tc_text},ignore_index=True)\n"
     ]
    },
    {
     "name": "stdout",
     "output_type": "stream",
     "text": [
      "3100 E 4TH AVE Stillwater OK 74074 0106.00\n"
     ]
    },
    {
     "name": "stderr",
     "output_type": "stream",
     "text": [
      "<ipython-input-135-c99a2411e0a3>:8: FutureWarning: The frame.append method is deprecated and will be removed from pandas in a future version. Use pandas.concat instead.\n",
      "  df_address_census_tract = df_address_census_tract.append({'Address':i,'Census_Tract':tc_text},ignore_index=True)\n"
     ]
    },
    {
     "name": "stdout",
     "output_type": "stream",
     "text": [
      "3100 N MADISON CT Stillwater OK 74074 0102.01\n"
     ]
    },
    {
     "name": "stderr",
     "output_type": "stream",
     "text": [
      "<ipython-input-135-c99a2411e0a3>:8: FutureWarning: The frame.append method is deprecated and will be removed from pandas in a future version. Use pandas.concat instead.\n",
      "  df_address_census_tract = df_address_census_tract.append({'Address':i,'Census_Tract':tc_text},ignore_index=True)\n"
     ]
    },
    {
     "name": "stdout",
     "output_type": "stream",
     "text": [
      "3101 S FOX LEDGE DR Stillwater OK 74074 0109.02\n"
     ]
    },
    {
     "name": "stderr",
     "output_type": "stream",
     "text": [
      "<ipython-input-135-c99a2411e0a3>:8: FutureWarning: The frame.append method is deprecated and will be removed from pandas in a future version. Use pandas.concat instead.\n",
      "  df_address_census_tract = df_address_census_tract.append({'Address':i,'Census_Tract':tc_text},ignore_index=True)\n"
     ]
    },
    {
     "name": "stdout",
     "output_type": "stream",
     "text": [
      "3102 E 3RD AVE Stillwater OK 74074 0106.00\n"
     ]
    },
    {
     "name": "stderr",
     "output_type": "stream",
     "text": [
      "<ipython-input-135-c99a2411e0a3>:8: FutureWarning: The frame.append method is deprecated and will be removed from pandas in a future version. Use pandas.concat instead.\n",
      "  df_address_census_tract = df_address_census_tract.append({'Address':i,'Census_Tract':tc_text},ignore_index=True)\n"
     ]
    },
    {
     "name": "stdout",
     "output_type": "stream",
     "text": [
      "3102 E 4TH AVE Stillwater OK 74074 0106.00\n"
     ]
    },
    {
     "name": "stderr",
     "output_type": "stream",
     "text": [
      "<ipython-input-135-c99a2411e0a3>:8: FutureWarning: The frame.append method is deprecated and will be removed from pandas in a future version. Use pandas.concat instead.\n",
      "  df_address_census_tract = df_address_census_tract.append({'Address':i,'Census_Tract':tc_text},ignore_index=True)\n"
     ]
    },
    {
     "name": "stdout",
     "output_type": "stream",
     "text": [
      "3102 E RAINTREE DR Stillwater OK 74074 0106.00\n"
     ]
    },
    {
     "name": "stderr",
     "output_type": "stream",
     "text": [
      "<ipython-input-135-c99a2411e0a3>:8: FutureWarning: The frame.append method is deprecated and will be removed from pandas in a future version. Use pandas.concat instead.\n",
      "  df_address_census_tract = df_address_census_tract.append({'Address':i,'Census_Tract':tc_text},ignore_index=True)\n"
     ]
    },
    {
     "name": "stdout",
     "output_type": "stream",
     "text": [
      "3102 S MAIN ST Stillwater OK 74074 0107.00\n"
     ]
    },
    {
     "name": "stderr",
     "output_type": "stream",
     "text": [
      "<ipython-input-135-c99a2411e0a3>:8: FutureWarning: The frame.append method is deprecated and will be removed from pandas in a future version. Use pandas.concat instead.\n",
      "  df_address_census_tract = df_address_census_tract.append({'Address':i,'Census_Tract':tc_text},ignore_index=True)\n"
     ]
    },
    {
     "name": "stdout",
     "output_type": "stream",
     "text": [
      "3103 E 2ND AVE Stillwater OK 74074 0106.00\n"
     ]
    },
    {
     "name": "stderr",
     "output_type": "stream",
     "text": [
      "<ipython-input-135-c99a2411e0a3>:8: FutureWarning: The frame.append method is deprecated and will be removed from pandas in a future version. Use pandas.concat instead.\n",
      "  df_address_census_tract = df_address_census_tract.append({'Address':i,'Census_Tract':tc_text},ignore_index=True)\n"
     ]
    },
    {
     "name": "stdout",
     "output_type": "stream",
     "text": [
      "3103 N COUNTRY CLUB RD Stillwater OK 74075 0110.01\n"
     ]
    },
    {
     "name": "stderr",
     "output_type": "stream",
     "text": [
      "<ipython-input-135-c99a2411e0a3>:8: FutureWarning: The frame.append method is deprecated and will be removed from pandas in a future version. Use pandas.concat instead.\n",
      "  df_address_census_tract = df_address_census_tract.append({'Address':i,'Census_Tract':tc_text},ignore_index=True)\n"
     ]
    },
    {
     "name": "stdout",
     "output_type": "stream",
     "text": [
      "3104 W TIMBERLAKE DR Stillwater OK 74074 \n"
     ]
    },
    {
     "name": "stderr",
     "output_type": "stream",
     "text": [
      "<ipython-input-135-c99a2411e0a3>:8: FutureWarning: The frame.append method is deprecated and will be removed from pandas in a future version. Use pandas.concat instead.\n",
      "  df_address_census_tract = df_address_census_tract.append({'Address':i,'Census_Tract':tc_text},ignore_index=True)\n"
     ]
    },
    {
     "name": "stdout",
     "output_type": "stream",
     "text": [
      "3105 E RAINTREE DR Stillwater OK 74074 0106.00\n"
     ]
    },
    {
     "name": "stderr",
     "output_type": "stream",
     "text": [
      "<ipython-input-135-c99a2411e0a3>:8: FutureWarning: The frame.append method is deprecated and will be removed from pandas in a future version. Use pandas.concat instead.\n",
      "  df_address_census_tract = df_address_census_tract.append({'Address':i,'Census_Tract':tc_text},ignore_index=True)\n"
     ]
    },
    {
     "name": "stdout",
     "output_type": "stream",
     "text": [
      "3105 N MADISON CT Stillwater OK 74074 0102.01\n"
     ]
    },
    {
     "name": "stderr",
     "output_type": "stream",
     "text": [
      "<ipython-input-135-c99a2411e0a3>:8: FutureWarning: The frame.append method is deprecated and will be removed from pandas in a future version. Use pandas.concat instead.\n",
      "  df_address_census_tract = df_address_census_tract.append({'Address':i,'Census_Tract':tc_text},ignore_index=True)\n"
     ]
    },
    {
     "name": "stdout",
     "output_type": "stream",
     "text": [
      "3106 E 4TH AVE Stillwater OK 74074 0106.00\n"
     ]
    },
    {
     "name": "stderr",
     "output_type": "stream",
     "text": [
      "<ipython-input-135-c99a2411e0a3>:8: FutureWarning: The frame.append method is deprecated and will be removed from pandas in a future version. Use pandas.concat instead.\n",
      "  df_address_census_tract = df_address_census_tract.append({'Address':i,'Census_Tract':tc_text},ignore_index=True)\n"
     ]
    },
    {
     "name": "stdout",
     "output_type": "stream",
     "text": [
      "3106 S SADDLE ROCK ST Stillwater OK 74074 0109.02\n"
     ]
    },
    {
     "name": "stderr",
     "output_type": "stream",
     "text": [
      "<ipython-input-135-c99a2411e0a3>:8: FutureWarning: The frame.append method is deprecated and will be removed from pandas in a future version. Use pandas.concat instead.\n",
      "  df_address_census_tract = df_address_census_tract.append({'Address':i,'Census_Tract':tc_text},ignore_index=True)\n"
     ]
    },
    {
     "name": "stdout",
     "output_type": "stream",
     "text": [
      "3107 E 2ND AVE Stillwater OK 74074 0106.00\n"
     ]
    },
    {
     "name": "stderr",
     "output_type": "stream",
     "text": [
      "<ipython-input-135-c99a2411e0a3>:8: FutureWarning: The frame.append method is deprecated and will be removed from pandas in a future version. Use pandas.concat instead.\n",
      "  df_address_census_tract = df_address_census_tract.append({'Address':i,'Census_Tract':tc_text},ignore_index=True)\n"
     ]
    },
    {
     "name": "stdout",
     "output_type": "stream",
     "text": [
      "3108 E 2ND AVE Stillwater OK 74074 0106.00\n"
     ]
    },
    {
     "name": "stderr",
     "output_type": "stream",
     "text": [
      "<ipython-input-135-c99a2411e0a3>:8: FutureWarning: The frame.append method is deprecated and will be removed from pandas in a future version. Use pandas.concat instead.\n",
      "  df_address_census_tract = df_address_census_tract.append({'Address':i,'Census_Tract':tc_text},ignore_index=True)\n"
     ]
    },
    {
     "name": "stdout",
     "output_type": "stream",
     "text": [
      "3108 E 4TH AVE Stillwater OK 74074 0106.00\n"
     ]
    },
    {
     "name": "stderr",
     "output_type": "stream",
     "text": [
      "<ipython-input-135-c99a2411e0a3>:8: FutureWarning: The frame.append method is deprecated and will be removed from pandas in a future version. Use pandas.concat instead.\n",
      "  df_address_census_tract = df_address_census_tract.append({'Address':i,'Census_Tract':tc_text},ignore_index=True)\n"
     ]
    },
    {
     "name": "stdout",
     "output_type": "stream",
     "text": [
      "311 E 32ND AVE Stillwater OK 74074 0110.02\n"
     ]
    },
    {
     "name": "stderr",
     "output_type": "stream",
     "text": [
      "<ipython-input-135-c99a2411e0a3>:8: FutureWarning: The frame.append method is deprecated and will be removed from pandas in a future version. Use pandas.concat instead.\n",
      "  df_address_census_tract = df_address_census_tract.append({'Address':i,'Census_Tract':tc_text},ignore_index=True)\n"
     ]
    },
    {
     "name": "stdout",
     "output_type": "stream",
     "text": [
      "311 N DUCK ST Stillwater OK 74075 0105.01\n"
     ]
    },
    {
     "name": "stderr",
     "output_type": "stream",
     "text": [
      "<ipython-input-135-c99a2411e0a3>:8: FutureWarning: The frame.append method is deprecated and will be removed from pandas in a future version. Use pandas.concat instead.\n",
      "  df_address_census_tract = df_address_census_tract.append({'Address':i,'Census_Tract':tc_text},ignore_index=True)\n"
     ]
    },
    {
     "name": "stdout",
     "output_type": "stream",
     "text": [
      "311 N KYLE CT Stillwater OK 74075 0106.00\n"
     ]
    },
    {
     "name": "stderr",
     "output_type": "stream",
     "text": [
      "<ipython-input-135-c99a2411e0a3>:8: FutureWarning: The frame.append method is deprecated and will be removed from pandas in a future version. Use pandas.concat instead.\n",
      "  df_address_census_tract = df_address_census_tract.append({'Address':i,'Census_Tract':tc_text},ignore_index=True)\n"
     ]
    },
    {
     "name": "stdout",
     "output_type": "stream",
     "text": [
      "311 S DUNCAN ST Stillwater OK 74074 0105.03\n"
     ]
    },
    {
     "name": "stderr",
     "output_type": "stream",
     "text": [
      "<ipython-input-135-c99a2411e0a3>:8: FutureWarning: The frame.append method is deprecated and will be removed from pandas in a future version. Use pandas.concat instead.\n",
      "  df_address_census_tract = df_address_census_tract.append({'Address':i,'Census_Tract':tc_text},ignore_index=True)\n"
     ]
    },
    {
     "name": "stdout",
     "output_type": "stream",
     "text": [
      "311 S LOWRY ST Stillwater OK 74074 0105.01\n"
     ]
    },
    {
     "name": "stderr",
     "output_type": "stream",
     "text": [
      "<ipython-input-135-c99a2411e0a3>:8: FutureWarning: The frame.append method is deprecated and will be removed from pandas in a future version. Use pandas.concat instead.\n",
      "  df_address_census_tract = df_address_census_tract.append({'Address':i,'Census_Tract':tc_text},ignore_index=True)\n"
     ]
    },
    {
     "name": "stdout",
     "output_type": "stream",
     "text": [
      "311 S ORCHARD ST Stillwater OK 74074 0103.00\n"
     ]
    },
    {
     "name": "stderr",
     "output_type": "stream",
     "text": [
      "<ipython-input-135-c99a2411e0a3>:8: FutureWarning: The frame.append method is deprecated and will be removed from pandas in a future version. Use pandas.concat instead.\n",
      "  df_address_census_tract = df_address_census_tract.append({'Address':i,'Census_Tract':tc_text},ignore_index=True)\n"
     ]
    },
    {
     "name": "stdout",
     "output_type": "stream",
     "text": [
      "311 S WEST ST Stillwater OK 74074 0105.03\n"
     ]
    },
    {
     "name": "stderr",
     "output_type": "stream",
     "text": [
      "<ipython-input-135-c99a2411e0a3>:8: FutureWarning: The frame.append method is deprecated and will be removed from pandas in a future version. Use pandas.concat instead.\n",
      "  df_address_census_tract = df_address_census_tract.append({'Address':i,'Census_Tract':tc_text},ignore_index=True)\n"
     ]
    },
    {
     "name": "stdout",
     "output_type": "stream",
     "text": [
      "311 W 4TH AVE Stillwater OK 74074 0105.03\n"
     ]
    },
    {
     "name": "stderr",
     "output_type": "stream",
     "text": [
      "<ipython-input-135-c99a2411e0a3>:8: FutureWarning: The frame.append method is deprecated and will be removed from pandas in a future version. Use pandas.concat instead.\n",
      "  df_address_census_tract = df_address_census_tract.append({'Address':i,'Census_Tract':tc_text},ignore_index=True)\n"
     ]
    },
    {
     "name": "stdout",
     "output_type": "stream",
     "text": [
      "3112 E 4TH AVE Stillwater OK 74074 0106.00\n"
     ]
    },
    {
     "name": "stderr",
     "output_type": "stream",
     "text": [
      "<ipython-input-135-c99a2411e0a3>:8: FutureWarning: The frame.append method is deprecated and will be removed from pandas in a future version. Use pandas.concat instead.\n",
      "  df_address_census_tract = df_address_census_tract.append({'Address':i,'Census_Tract':tc_text},ignore_index=True)\n"
     ]
    },
    {
     "name": "stdout",
     "output_type": "stream",
     "text": [
      "3112 W 44TH AVE Stillwater OK 74074 0110.02\n"
     ]
    },
    {
     "name": "stderr",
     "output_type": "stream",
     "text": [
      "<ipython-input-135-c99a2411e0a3>:8: FutureWarning: The frame.append method is deprecated and will be removed from pandas in a future version. Use pandas.concat instead.\n",
      "  df_address_census_tract = df_address_census_tract.append({'Address':i,'Census_Tract':tc_text},ignore_index=True)\n"
     ]
    },
    {
     "name": "stdout",
     "output_type": "stream",
     "text": [
      "3114 N MADISON CT Stillwater OK 74074 0102.01\n"
     ]
    },
    {
     "name": "stderr",
     "output_type": "stream",
     "text": [
      "<ipython-input-135-c99a2411e0a3>:8: FutureWarning: The frame.append method is deprecated and will be removed from pandas in a future version. Use pandas.concat instead.\n",
      "  df_address_census_tract = df_address_census_tract.append({'Address':i,'Census_Tract':tc_text},ignore_index=True)\n"
     ]
    },
    {
     "name": "stdout",
     "output_type": "stream",
     "text": [
      "3115 E 4TH AVE Stillwater OK 74074 0106.00\n"
     ]
    },
    {
     "name": "stderr",
     "output_type": "stream",
     "text": [
      "<ipython-input-135-c99a2411e0a3>:8: FutureWarning: The frame.append method is deprecated and will be removed from pandas in a future version. Use pandas.concat instead.\n",
      "  df_address_census_tract = df_address_census_tract.append({'Address':i,'Census_Tract':tc_text},ignore_index=True)\n"
     ]
    },
    {
     "name": "stdout",
     "output_type": "stream",
     "text": [
      "3116 E PEACH TREE AVE Stillwater OK 74074 0106.00\n"
     ]
    },
    {
     "name": "stderr",
     "output_type": "stream",
     "text": [
      "<ipython-input-135-c99a2411e0a3>:8: FutureWarning: The frame.append method is deprecated and will be removed from pandas in a future version. Use pandas.concat instead.\n",
      "  df_address_census_tract = df_address_census_tract.append({'Address':i,'Census_Tract':tc_text},ignore_index=True)\n"
     ]
    },
    {
     "name": "stdout",
     "output_type": "stream",
     "text": [
      "3117 E RAINTREE DR Stillwater OK 74074 0106.00\n"
     ]
    },
    {
     "name": "stderr",
     "output_type": "stream",
     "text": [
      "<ipython-input-135-c99a2411e0a3>:8: FutureWarning: The frame.append method is deprecated and will be removed from pandas in a future version. Use pandas.concat instead.\n",
      "  df_address_census_tract = df_address_census_tract.append({'Address':i,'Census_Tract':tc_text},ignore_index=True)\n"
     ]
    },
    {
     "name": "stdout",
     "output_type": "stream",
     "text": [
      "312 E 16TH AVE Stillwater OK 74074 0107.00\n"
     ]
    },
    {
     "name": "stderr",
     "output_type": "stream",
     "text": [
      "<ipython-input-135-c99a2411e0a3>:8: FutureWarning: The frame.append method is deprecated and will be removed from pandas in a future version. Use pandas.concat instead.\n",
      "  df_address_census_tract = df_address_census_tract.append({'Address':i,'Census_Tract':tc_text},ignore_index=True)\n"
     ]
    },
    {
     "name": "stdout",
     "output_type": "stream",
     "text": [
      "312 N STALLARD ST Stillwater OK 74074 0106.00\n"
     ]
    },
    {
     "name": "stderr",
     "output_type": "stream",
     "text": [
      "<ipython-input-135-c99a2411e0a3>:8: FutureWarning: The frame.append method is deprecated and will be removed from pandas in a future version. Use pandas.concat instead.\n",
      "  df_address_census_tract = df_address_census_tract.append({'Address':i,'Census_Tract':tc_text},ignore_index=True)\n"
     ]
    },
    {
     "name": "stdout",
     "output_type": "stream",
     "text": [
      "312 S DUNCAN ST Stillwater OK 74074 0105.03\n"
     ]
    },
    {
     "name": "stderr",
     "output_type": "stream",
     "text": [
      "<ipython-input-135-c99a2411e0a3>:8: FutureWarning: The frame.append method is deprecated and will be removed from pandas in a future version. Use pandas.concat instead.\n",
      "  df_address_census_tract = df_address_census_tract.append({'Address':i,'Census_Tract':tc_text},ignore_index=True)\n"
     ]
    },
    {
     "name": "stdout",
     "output_type": "stream",
     "text": [
      "312 S JEFFERSON ST Stillwater OK 74074 0103.00\n"
     ]
    },
    {
     "name": "stderr",
     "output_type": "stream",
     "text": [
      "<ipython-input-135-c99a2411e0a3>:8: FutureWarning: The frame.append method is deprecated and will be removed from pandas in a future version. Use pandas.concat instead.\n",
      "  df_address_census_tract = df_address_census_tract.append({'Address':i,'Census_Tract':tc_text},ignore_index=True)\n"
     ]
    },
    {
     "name": "stdout",
     "output_type": "stream",
     "text": [
      "312 W 3RD AVE Stillwater OK 74074 0105.03\n"
     ]
    },
    {
     "name": "stderr",
     "output_type": "stream",
     "text": [
      "<ipython-input-135-c99a2411e0a3>:8: FutureWarning: The frame.append method is deprecated and will be removed from pandas in a future version. Use pandas.concat instead.\n",
      "  df_address_census_tract = df_address_census_tract.append({'Address':i,'Census_Tract':tc_text},ignore_index=True)\n"
     ]
    },
    {
     "name": "stdout",
     "output_type": "stream",
     "text": [
      "312 W MAPLE AVE Stillwater OK 74074 0105.03\n"
     ]
    },
    {
     "name": "stderr",
     "output_type": "stream",
     "text": [
      "<ipython-input-135-c99a2411e0a3>:8: FutureWarning: The frame.append method is deprecated and will be removed from pandas in a future version. Use pandas.concat instead.\n",
      "  df_address_census_tract = df_address_census_tract.append({'Address':i,'Census_Tract':tc_text},ignore_index=True)\n"
     ]
    },
    {
     "name": "stdout",
     "output_type": "stream",
     "text": [
      "312 W WILD HORSE DR Stillwater OK 74075 0101.01\n"
     ]
    },
    {
     "name": "stderr",
     "output_type": "stream",
     "text": [
      "<ipython-input-135-c99a2411e0a3>:8: FutureWarning: The frame.append method is deprecated and will be removed from pandas in a future version. Use pandas.concat instead.\n",
      "  df_address_census_tract = df_address_census_tract.append({'Address':i,'Census_Tract':tc_text},ignore_index=True)\n"
     ]
    },
    {
     "name": "stdout",
     "output_type": "stream",
     "text": [
      "3120 W 31ST CT Stillwater OK 74074 0109.02\n"
     ]
    },
    {
     "name": "stderr",
     "output_type": "stream",
     "text": [
      "<ipython-input-135-c99a2411e0a3>:8: FutureWarning: The frame.append method is deprecated and will be removed from pandas in a future version. Use pandas.concat instead.\n",
      "  df_address_census_tract = df_address_census_tract.append({'Address':i,'Census_Tract':tc_text},ignore_index=True)\n"
     ]
    },
    {
     "name": "stdout",
     "output_type": "stream",
     "text": [
      "3122 E PEACH TREE AVE Stillwater OK 74074 0106.00\n"
     ]
    },
    {
     "name": "stderr",
     "output_type": "stream",
     "text": [
      "<ipython-input-135-c99a2411e0a3>:8: FutureWarning: The frame.append method is deprecated and will be removed from pandas in a future version. Use pandas.concat instead.\n",
      "  df_address_census_tract = df_address_census_tract.append({'Address':i,'Census_Tract':tc_text},ignore_index=True)\n"
     ]
    },
    {
     "name": "stdout",
     "output_type": "stream",
     "text": [
      "3124 E 2ND AVE Stillwater OK 74074 0106.00\n"
     ]
    },
    {
     "name": "stderr",
     "output_type": "stream",
     "text": [
      "<ipython-input-135-c99a2411e0a3>:8: FutureWarning: The frame.append method is deprecated and will be removed from pandas in a future version. Use pandas.concat instead.\n",
      "  df_address_census_tract = df_address_census_tract.append({'Address':i,'Census_Tract':tc_text},ignore_index=True)\n"
     ]
    },
    {
     "name": "stdout",
     "output_type": "stream",
     "text": [
      "3124 N MONROE ST Stillwater OK 74075 0102.01\n"
     ]
    },
    {
     "name": "stderr",
     "output_type": "stream",
     "text": [
      "<ipython-input-135-c99a2411e0a3>:8: FutureWarning: The frame.append method is deprecated and will be removed from pandas in a future version. Use pandas.concat instead.\n",
      "  df_address_census_tract = df_address_census_tract.append({'Address':i,'Census_Tract':tc_text},ignore_index=True)\n"
     ]
    },
    {
     "name": "stdout",
     "output_type": "stream",
     "text": [
      "3125 E 4TH AVE Stillwater OK 74074 0106.00\n"
     ]
    },
    {
     "name": "stderr",
     "output_type": "stream",
     "text": [
      "<ipython-input-135-c99a2411e0a3>:8: FutureWarning: The frame.append method is deprecated and will be removed from pandas in a future version. Use pandas.concat instead.\n",
      "  df_address_census_tract = df_address_census_tract.append({'Address':i,'Census_Tract':tc_text},ignore_index=True)\n"
     ]
    },
    {
     "name": "stdout",
     "output_type": "stream",
     "text": [
      "3129 E PEACH TREE AVE Stillwater OK 74074 0106.00\n"
     ]
    },
    {
     "name": "stderr",
     "output_type": "stream",
     "text": [
      "<ipython-input-135-c99a2411e0a3>:8: FutureWarning: The frame.append method is deprecated and will be removed from pandas in a future version. Use pandas.concat instead.\n",
      "  df_address_census_tract = df_address_census_tract.append({'Address':i,'Census_Tract':tc_text},ignore_index=True)\n"
     ]
    },
    {
     "name": "stdout",
     "output_type": "stream",
     "text": [
      "313 E 16TH AVE Stillwater OK 74074 0107.00\n"
     ]
    },
    {
     "name": "stderr",
     "output_type": "stream",
     "text": [
      "<ipython-input-135-c99a2411e0a3>:8: FutureWarning: The frame.append method is deprecated and will be removed from pandas in a future version. Use pandas.concat instead.\n",
      "  df_address_census_tract = df_address_census_tract.append({'Address':i,'Census_Tract':tc_text},ignore_index=True)\n"
     ]
    },
    {
     "name": "stdout",
     "output_type": "stream",
     "text": [
      "313 E 17TH AVE Stillwater OK 74074 0107.00\n"
     ]
    },
    {
     "name": "stderr",
     "output_type": "stream",
     "text": [
      "<ipython-input-135-c99a2411e0a3>:8: FutureWarning: The frame.append method is deprecated and will be removed from pandas in a future version. Use pandas.concat instead.\n",
      "  df_address_census_tract = df_address_census_tract.append({'Address':i,'Census_Tract':tc_text},ignore_index=True)\n"
     ]
    },
    {
     "name": "stdout",
     "output_type": "stream",
     "text": [
      "313 E 18TH PL Stillwater OK 74074 0107.00\n"
     ]
    },
    {
     "name": "stderr",
     "output_type": "stream",
     "text": [
      "<ipython-input-135-c99a2411e0a3>:8: FutureWarning: The frame.append method is deprecated and will be removed from pandas in a future version. Use pandas.concat instead.\n",
      "  df_address_census_tract = df_address_census_tract.append({'Address':i,'Census_Tract':tc_text},ignore_index=True)\n"
     ]
    },
    {
     "name": "stdout",
     "output_type": "stream",
     "text": [
      "313 N WEDGEWOOD DR Stillwater OK 74075 0106.00\n"
     ]
    },
    {
     "name": "stderr",
     "output_type": "stream",
     "text": [
      "<ipython-input-135-c99a2411e0a3>:8: FutureWarning: The frame.append method is deprecated and will be removed from pandas in a future version. Use pandas.concat instead.\n",
      "  df_address_census_tract = df_address_census_tract.append({'Address':i,'Census_Tract':tc_text},ignore_index=True)\n"
     ]
    },
    {
     "name": "stdout",
     "output_type": "stream",
     "text": [
      "313 S DOTY ST Stillwater OK 74074 0106.00\n"
     ]
    },
    {
     "name": "stderr",
     "output_type": "stream",
     "text": [
      "<ipython-input-135-c99a2411e0a3>:8: FutureWarning: The frame.append method is deprecated and will be removed from pandas in a future version. Use pandas.concat instead.\n",
      "  df_address_census_tract = df_address_census_tract.append({'Address':i,'Census_Tract':tc_text},ignore_index=True)\n"
     ]
    },
    {
     "name": "stdout",
     "output_type": "stream",
     "text": [
      "313 S KEATS DR Stillwater OK 74074 0109.01\n"
     ]
    },
    {
     "name": "stderr",
     "output_type": "stream",
     "text": [
      "<ipython-input-135-c99a2411e0a3>:8: FutureWarning: The frame.append method is deprecated and will be removed from pandas in a future version. Use pandas.concat instead.\n",
      "  df_address_census_tract = df_address_census_tract.append({'Address':i,'Census_Tract':tc_text},ignore_index=True)\n"
     ]
    },
    {
     "name": "stdout",
     "output_type": "stream",
     "text": [
      "313 S LOWRY ST Stillwater OK 74074 0105.01\n"
     ]
    },
    {
     "name": "stderr",
     "output_type": "stream",
     "text": [
      "<ipython-input-135-c99a2411e0a3>:8: FutureWarning: The frame.append method is deprecated and will be removed from pandas in a future version. Use pandas.concat instead.\n",
      "  df_address_census_tract = df_address_census_tract.append({'Address':i,'Census_Tract':tc_text},ignore_index=True)\n"
     ]
    },
    {
     "name": "stdout",
     "output_type": "stream",
     "text": [
      "3133 E RAINTREE DR Stillwater OK 74074 0106.00\n"
     ]
    },
    {
     "name": "stderr",
     "output_type": "stream",
     "text": [
      "<ipython-input-135-c99a2411e0a3>:8: FutureWarning: The frame.append method is deprecated and will be removed from pandas in a future version. Use pandas.concat instead.\n",
      "  df_address_census_tract = df_address_census_tract.append({'Address':i,'Census_Tract':tc_text},ignore_index=True)\n"
     ]
    },
    {
     "name": "stdout",
     "output_type": "stream",
     "text": [
      "3134 E RAINTREE DR Stillwater OK 74074 0106.00\n"
     ]
    },
    {
     "name": "stderr",
     "output_type": "stream",
     "text": [
      "<ipython-input-135-c99a2411e0a3>:8: FutureWarning: The frame.append method is deprecated and will be removed from pandas in a future version. Use pandas.concat instead.\n",
      "  df_address_census_tract = df_address_census_tract.append({'Address':i,'Census_Tract':tc_text},ignore_index=True)\n"
     ]
    },
    {
     "name": "stdout",
     "output_type": "stream",
     "text": [
      "3137 E PEACH TREE AVE Stillwater OK 74074 0106.00\n"
     ]
    },
    {
     "name": "stderr",
     "output_type": "stream",
     "text": [
      "<ipython-input-135-c99a2411e0a3>:8: FutureWarning: The frame.append method is deprecated and will be removed from pandas in a future version. Use pandas.concat instead.\n",
      "  df_address_census_tract = df_address_census_tract.append({'Address':i,'Census_Tract':tc_text},ignore_index=True)\n"
     ]
    },
    {
     "name": "stdout",
     "output_type": "stream",
     "text": [
      "3137 E RAINTREE DR Stillwater OK 74074 0106.00\n"
     ]
    },
    {
     "name": "stderr",
     "output_type": "stream",
     "text": [
      "<ipython-input-135-c99a2411e0a3>:8: FutureWarning: The frame.append method is deprecated and will be removed from pandas in a future version. Use pandas.concat instead.\n",
      "  df_address_census_tract = df_address_census_tract.append({'Address':i,'Census_Tract':tc_text},ignore_index=True)\n"
     ]
    },
    {
     "name": "stdout",
     "output_type": "stream",
     "text": [
      "314 E MARIE DR Stillwater OK 74074 0101.01\n"
     ]
    },
    {
     "name": "stderr",
     "output_type": "stream",
     "text": [
      "<ipython-input-135-c99a2411e0a3>:8: FutureWarning: The frame.append method is deprecated and will be removed from pandas in a future version. Use pandas.concat instead.\n",
      "  df_address_census_tract = df_address_census_tract.append({'Address':i,'Census_Tract':tc_text},ignore_index=True)\n"
     ]
    },
    {
     "name": "stdout",
     "output_type": "stream",
     "text": [
      "314 E TOPAZ AVE Stillwater OK 74075 0101.01\n"
     ]
    },
    {
     "name": "stderr",
     "output_type": "stream",
     "text": [
      "<ipython-input-135-c99a2411e0a3>:8: FutureWarning: The frame.append method is deprecated and will be removed from pandas in a future version. Use pandas.concat instead.\n",
      "  df_address_census_tract = df_address_census_tract.append({'Address':i,'Census_Tract':tc_text},ignore_index=True)\n"
     ]
    },
    {
     "name": "stdout",
     "output_type": "stream",
     "text": [
      "314 N DUNCAN ST Stillwater OK 74074 0105.01\n"
     ]
    },
    {
     "name": "stderr",
     "output_type": "stream",
     "text": [
      "<ipython-input-135-c99a2411e0a3>:8: FutureWarning: The frame.append method is deprecated and will be removed from pandas in a future version. Use pandas.concat instead.\n",
      "  df_address_census_tract = df_address_census_tract.append({'Address':i,'Census_Tract':tc_text},ignore_index=True)\n"
     ]
    },
    {
     "name": "stdout",
     "output_type": "stream",
     "text": [
      "314 N DUNCAN ST Stillwater OK 74075 0105.01\n"
     ]
    },
    {
     "name": "stderr",
     "output_type": "stream",
     "text": [
      "<ipython-input-135-c99a2411e0a3>:8: FutureWarning: The frame.append method is deprecated and will be removed from pandas in a future version. Use pandas.concat instead.\n",
      "  df_address_census_tract = df_address_census_tract.append({'Address':i,'Census_Tract':tc_text},ignore_index=True)\n"
     ]
    },
    {
     "name": "stdout",
     "output_type": "stream",
     "text": [
      "314 N HUSBAND ST Stillwater OK 74075 0105.02\n"
     ]
    },
    {
     "name": "stderr",
     "output_type": "stream",
     "text": [
      "<ipython-input-135-c99a2411e0a3>:8: FutureWarning: The frame.append method is deprecated and will be removed from pandas in a future version. Use pandas.concat instead.\n",
      "  df_address_census_tract = df_address_census_tract.append({'Address':i,'Census_Tract':tc_text},ignore_index=True)\n"
     ]
    },
    {
     "name": "stdout",
     "output_type": "stream",
     "text": [
      "314 W 4TH AVE Stillwater OK 74074 0105.03\n"
     ]
    },
    {
     "name": "stderr",
     "output_type": "stream",
     "text": [
      "<ipython-input-135-c99a2411e0a3>:8: FutureWarning: The frame.append method is deprecated and will be removed from pandas in a future version. Use pandas.concat instead.\n",
      "  df_address_census_tract = df_address_census_tract.append({'Address':i,'Census_Tract':tc_text},ignore_index=True)\n"
     ]
    },
    {
     "name": "stdout",
     "output_type": "stream",
     "text": [
      "314 W 5TH AVE Stillwater OK 74074 0105.03\n"
     ]
    },
    {
     "name": "stderr",
     "output_type": "stream",
     "text": [
      "<ipython-input-135-c99a2411e0a3>:8: FutureWarning: The frame.append method is deprecated and will be removed from pandas in a future version. Use pandas.concat instead.\n",
      "  df_address_census_tract = df_address_census_tract.append({'Address':i,'Census_Tract':tc_text},ignore_index=True)\n"
     ]
    },
    {
     "name": "stdout",
     "output_type": "stream",
     "text": [
      "314 W MAPLE AVE Stillwater OK 74074 0105.03\n"
     ]
    },
    {
     "name": "stderr",
     "output_type": "stream",
     "text": [
      "<ipython-input-135-c99a2411e0a3>:8: FutureWarning: The frame.append method is deprecated and will be removed from pandas in a future version. Use pandas.concat instead.\n",
      "  df_address_census_tract = df_address_census_tract.append({'Address':i,'Census_Tract':tc_text},ignore_index=True)\n"
     ]
    },
    {
     "name": "stdout",
     "output_type": "stream",
     "text": [
      "315 E 11TH AVE Stillwater OK 74074 0107.00\n"
     ]
    },
    {
     "name": "stderr",
     "output_type": "stream",
     "text": [
      "<ipython-input-135-c99a2411e0a3>:8: FutureWarning: The frame.append method is deprecated and will be removed from pandas in a future version. Use pandas.concat instead.\n",
      "  df_address_census_tract = df_address_census_tract.append({'Address':i,'Census_Tract':tc_text},ignore_index=True)\n"
     ]
    },
    {
     "name": "stdout",
     "output_type": "stream",
     "text": [
      "315 E 18TH PL Stillwater OK 74074 0107.00\n"
     ]
    },
    {
     "name": "stderr",
     "output_type": "stream",
     "text": [
      "<ipython-input-135-c99a2411e0a3>:8: FutureWarning: The frame.append method is deprecated and will be removed from pandas in a future version. Use pandas.concat instead.\n",
      "  df_address_census_tract = df_address_census_tract.append({'Address':i,'Census_Tract':tc_text},ignore_index=True)\n"
     ]
    },
    {
     "name": "stdout",
     "output_type": "stream",
     "text": [
      "315 N DUNCAN ST Stillwater OK 74074 0105.02\n"
     ]
    },
    {
     "name": "stderr",
     "output_type": "stream",
     "text": [
      "<ipython-input-135-c99a2411e0a3>:8: FutureWarning: The frame.append method is deprecated and will be removed from pandas in a future version. Use pandas.concat instead.\n",
      "  df_address_census_tract = df_address_census_tract.append({'Address':i,'Census_Tract':tc_text},ignore_index=True)\n"
     ]
    },
    {
     "name": "stdout",
     "output_type": "stream",
     "text": [
      "315 S DUCK ST Stillwater OK 74074 0105.03\n"
     ]
    },
    {
     "name": "stderr",
     "output_type": "stream",
     "text": [
      "<ipython-input-135-c99a2411e0a3>:8: FutureWarning: The frame.append method is deprecated and will be removed from pandas in a future version. Use pandas.concat instead.\n",
      "  df_address_census_tract = df_address_census_tract.append({'Address':i,'Census_Tract':tc_text},ignore_index=True)\n"
     ]
    },
    {
     "name": "stdout",
     "output_type": "stream",
     "text": [
      "315 S RIDGE DR Stillwater OK 74074 0103.00\n"
     ]
    },
    {
     "name": "stderr",
     "output_type": "stream",
     "text": [
      "<ipython-input-135-c99a2411e0a3>:8: FutureWarning: The frame.append method is deprecated and will be removed from pandas in a future version. Use pandas.concat instead.\n",
      "  df_address_census_tract = df_address_census_tract.append({'Address':i,'Census_Tract':tc_text},ignore_index=True)\n"
     ]
    },
    {
     "name": "stdout",
     "output_type": "stream",
     "text": [
      "315 W WILD HORSE DR Stillwater OK 74074 \n"
     ]
    },
    {
     "name": "stderr",
     "output_type": "stream",
     "text": [
      "<ipython-input-135-c99a2411e0a3>:8: FutureWarning: The frame.append method is deprecated and will be removed from pandas in a future version. Use pandas.concat instead.\n",
      "  df_address_census_tract = df_address_census_tract.append({'Address':i,'Census_Tract':tc_text},ignore_index=True)\n"
     ]
    },
    {
     "name": "stdout",
     "output_type": "stream",
     "text": [
      "316 E 18TH AVE Stillwater OK 74074 0107.00\n"
     ]
    },
    {
     "name": "stderr",
     "output_type": "stream",
     "text": [
      "<ipython-input-135-c99a2411e0a3>:8: FutureWarning: The frame.append method is deprecated and will be removed from pandas in a future version. Use pandas.concat instead.\n",
      "  df_address_census_tract = df_address_census_tract.append({'Address':i,'Census_Tract':tc_text},ignore_index=True)\n"
     ]
    },
    {
     "name": "stdout",
     "output_type": "stream",
     "text": [
      "316 N STALLARD ST Stillwater OK 74074 0106.00\n"
     ]
    },
    {
     "name": "stderr",
     "output_type": "stream",
     "text": [
      "<ipython-input-135-c99a2411e0a3>:8: FutureWarning: The frame.append method is deprecated and will be removed from pandas in a future version. Use pandas.concat instead.\n",
      "  df_address_census_tract = df_address_census_tract.append({'Address':i,'Census_Tract':tc_text},ignore_index=True)\n"
     ]
    },
    {
     "name": "stdout",
     "output_type": "stream",
     "text": [
      "316 S KNOBLOCK ST Stillwater OK 74074 0105.03\n"
     ]
    },
    {
     "name": "stderr",
     "output_type": "stream",
     "text": [
      "<ipython-input-135-c99a2411e0a3>:8: FutureWarning: The frame.append method is deprecated and will be removed from pandas in a future version. Use pandas.concat instead.\n",
      "  df_address_census_tract = df_address_census_tract.append({'Address':i,'Census_Tract':tc_text},ignore_index=True)\n"
     ]
    },
    {
     "name": "stdout",
     "output_type": "stream",
     "text": [
      "316 S RAMSEY ST Stillwater OK 74074 0105.03\n"
     ]
    },
    {
     "name": "stderr",
     "output_type": "stream",
     "text": [
      "<ipython-input-135-c99a2411e0a3>:8: FutureWarning: The frame.append method is deprecated and will be removed from pandas in a future version. Use pandas.concat instead.\n",
      "  df_address_census_tract = df_address_census_tract.append({'Address':i,'Census_Tract':tc_text},ignore_index=True)\n"
     ]
    },
    {
     "name": "stdout",
     "output_type": "stream",
     "text": [
      "317 E 16TH AVE Stillwater OK 74074 0107.00\n"
     ]
    },
    {
     "name": "stderr",
     "output_type": "stream",
     "text": [
      "<ipython-input-135-c99a2411e0a3>:8: FutureWarning: The frame.append method is deprecated and will be removed from pandas in a future version. Use pandas.concat instead.\n",
      "  df_address_census_tract = df_address_census_tract.append({'Address':i,'Census_Tract':tc_text},ignore_index=True)\n"
     ]
    },
    {
     "name": "stdout",
     "output_type": "stream",
     "text": [
      "317 E MARIE DR Stillwater OK 74074 0101.01\n"
     ]
    },
    {
     "name": "stderr",
     "output_type": "stream",
     "text": [
      "<ipython-input-135-c99a2411e0a3>:8: FutureWarning: The frame.append method is deprecated and will be removed from pandas in a future version. Use pandas.concat instead.\n",
      "  df_address_census_tract = df_address_census_tract.append({'Address':i,'Census_Tract':tc_text},ignore_index=True)\n"
     ]
    },
    {
     "name": "stdout",
     "output_type": "stream",
     "text": [
      "317 N DUNCAN ST Stillwater OK 74074 0105.02\n"
     ]
    },
    {
     "name": "stderr",
     "output_type": "stream",
     "text": [
      "<ipython-input-135-c99a2411e0a3>:8: FutureWarning: The frame.append method is deprecated and will be removed from pandas in a future version. Use pandas.concat instead.\n",
      "  df_address_census_tract = df_address_census_tract.append({'Address':i,'Census_Tract':tc_text},ignore_index=True)\n"
     ]
    },
    {
     "name": "stdout",
     "output_type": "stream",
     "text": [
      "317 N DUNCAN ST Stillwater OK 74075 0105.02\n"
     ]
    },
    {
     "name": "stderr",
     "output_type": "stream",
     "text": [
      "<ipython-input-135-c99a2411e0a3>:8: FutureWarning: The frame.append method is deprecated and will be removed from pandas in a future version. Use pandas.concat instead.\n",
      "  df_address_census_tract = df_address_census_tract.append({'Address':i,'Census_Tract':tc_text},ignore_index=True)\n"
     ]
    },
    {
     "name": "stdout",
     "output_type": "stream",
     "text": [
      "317 S DUCK ST Stillwater OK 74074 0105.03\n"
     ]
    },
    {
     "name": "stderr",
     "output_type": "stream",
     "text": [
      "<ipython-input-135-c99a2411e0a3>:8: FutureWarning: The frame.append method is deprecated and will be removed from pandas in a future version. Use pandas.concat instead.\n",
      "  df_address_census_tract = df_address_census_tract.append({'Address':i,'Census_Tract':tc_text},ignore_index=True)\n"
     ]
    },
    {
     "name": "stdout",
     "output_type": "stream",
     "text": [
      "317 S DUNCAN ST Stillwater OK 74074 0105.03\n"
     ]
    },
    {
     "name": "stderr",
     "output_type": "stream",
     "text": [
      "<ipython-input-135-c99a2411e0a3>:8: FutureWarning: The frame.append method is deprecated and will be removed from pandas in a future version. Use pandas.concat instead.\n",
      "  df_address_census_tract = df_address_census_tract.append({'Address':i,'Census_Tract':tc_text},ignore_index=True)\n"
     ]
    },
    {
     "name": "stdout",
     "output_type": "stream",
     "text": [
      "317 S WALNUT ST Stillwater OK 74074 0103.00\n"
     ]
    },
    {
     "name": "stderr",
     "output_type": "stream",
     "text": [
      "<ipython-input-135-c99a2411e0a3>:8: FutureWarning: The frame.append method is deprecated and will be removed from pandas in a future version. Use pandas.concat instead.\n",
      "  df_address_census_tract = df_address_census_tract.append({'Address':i,'Census_Tract':tc_text},ignore_index=True)\n"
     ]
    },
    {
     "name": "stdout",
     "output_type": "stream",
     "text": [
      "317 W 13TH AVE Stillwater OK 74074 0107.00\n"
     ]
    },
    {
     "name": "stderr",
     "output_type": "stream",
     "text": [
      "<ipython-input-135-c99a2411e0a3>:8: FutureWarning: The frame.append method is deprecated and will be removed from pandas in a future version. Use pandas.concat instead.\n",
      "  df_address_census_tract = df_address_census_tract.append({'Address':i,'Census_Tract':tc_text},ignore_index=True)\n"
     ]
    },
    {
     "name": "stdout",
     "output_type": "stream",
     "text": [
      "317 W MATHEWS AVE Stillwater OK 74074 0105.02\n"
     ]
    },
    {
     "name": "stderr",
     "output_type": "stream",
     "text": [
      "<ipython-input-135-c99a2411e0a3>:8: FutureWarning: The frame.append method is deprecated and will be removed from pandas in a future version. Use pandas.concat instead.\n",
      "  df_address_census_tract = df_address_census_tract.append({'Address':i,'Census_Tract':tc_text},ignore_index=True)\n"
     ]
    },
    {
     "name": "stdout",
     "output_type": "stream",
     "text": [
      "318 E 17TH AVE Stillwater OK 74074 0107.00\n"
     ]
    },
    {
     "name": "stderr",
     "output_type": "stream",
     "text": [
      "<ipython-input-135-c99a2411e0a3>:8: FutureWarning: The frame.append method is deprecated and will be removed from pandas in a future version. Use pandas.concat instead.\n",
      "  df_address_census_tract = df_address_census_tract.append({'Address':i,'Census_Tract':tc_text},ignore_index=True)\n"
     ]
    },
    {
     "name": "stdout",
     "output_type": "stream",
     "text": [
      "318 E 18TH AVE Stillwater OK 74074 0107.00\n"
     ]
    },
    {
     "name": "stderr",
     "output_type": "stream",
     "text": [
      "<ipython-input-135-c99a2411e0a3>:8: FutureWarning: The frame.append method is deprecated and will be removed from pandas in a future version. Use pandas.concat instead.\n",
      "  df_address_census_tract = df_address_census_tract.append({'Address':i,'Census_Tract':tc_text},ignore_index=True)\n"
     ]
    },
    {
     "name": "stdout",
     "output_type": "stream",
     "text": [
      "318 S DUNCAN ST Stillwater OK 74074 0105.03\n"
     ]
    },
    {
     "name": "stderr",
     "output_type": "stream",
     "text": [
      "<ipython-input-135-c99a2411e0a3>:8: FutureWarning: The frame.append method is deprecated and will be removed from pandas in a future version. Use pandas.concat instead.\n",
      "  df_address_census_tract = df_address_census_tract.append({'Address':i,'Census_Tract':tc_text},ignore_index=True)\n"
     ]
    },
    {
     "name": "stdout",
     "output_type": "stream",
     "text": [
      "318 S KNOBLOCK ST Stillwater OK 74074 0105.03\n"
     ]
    },
    {
     "name": "stderr",
     "output_type": "stream",
     "text": [
      "<ipython-input-135-c99a2411e0a3>:8: FutureWarning: The frame.append method is deprecated and will be removed from pandas in a future version. Use pandas.concat instead.\n",
      "  df_address_census_tract = df_address_census_tract.append({'Address':i,'Census_Tract':tc_text},ignore_index=True)\n"
     ]
    },
    {
     "name": "stdout",
     "output_type": "stream",
     "text": [
      "319 N DUNCAN ST Stillwater OK 74075 0105.02\n"
     ]
    },
    {
     "name": "stderr",
     "output_type": "stream",
     "text": [
      "<ipython-input-135-c99a2411e0a3>:8: FutureWarning: The frame.append method is deprecated and will be removed from pandas in a future version. Use pandas.concat instead.\n",
      "  df_address_census_tract = df_address_census_tract.append({'Address':i,'Census_Tract':tc_text},ignore_index=True)\n"
     ]
    },
    {
     "name": "stdout",
     "output_type": "stream",
     "text": [
      "319 S WEST ST Stillwater OK 74074 0105.03\n"
     ]
    },
    {
     "name": "stderr",
     "output_type": "stream",
     "text": [
      "<ipython-input-135-c99a2411e0a3>:8: FutureWarning: The frame.append method is deprecated and will be removed from pandas in a future version. Use pandas.concat instead.\n",
      "  df_address_census_tract = df_address_census_tract.append({'Address':i,'Census_Tract':tc_text},ignore_index=True)\n"
     ]
    },
    {
     "name": "stdout",
     "output_type": "stream",
     "text": [
      "319 W WILD HORSE DR Stillwater OK 74074 \n"
     ]
    },
    {
     "name": "stderr",
     "output_type": "stream",
     "text": [
      "<ipython-input-135-c99a2411e0a3>:8: FutureWarning: The frame.append method is deprecated and will be removed from pandas in a future version. Use pandas.concat instead.\n",
      "  df_address_census_tract = df_address_census_tract.append({'Address':i,'Census_Tract':tc_text},ignore_index=True)\n"
     ]
    },
    {
     "name": "stdout",
     "output_type": "stream",
     "text": [
      "32 UNIVERSITY CIR Stillwater OK 74074 0103.00\n"
     ]
    },
    {
     "name": "stderr",
     "output_type": "stream",
     "text": [
      "<ipython-input-135-c99a2411e0a3>:8: FutureWarning: The frame.append method is deprecated and will be removed from pandas in a future version. Use pandas.concat instead.\n",
      "  df_address_census_tract = df_address_census_tract.append({'Address':i,'Census_Tract':tc_text},ignore_index=True)\n"
     ]
    },
    {
     "name": "stdout",
     "output_type": "stream",
     "text": [
      "320 E 16TH AVE Stillwater OK 74074 0107.00\n"
     ]
    },
    {
     "name": "stderr",
     "output_type": "stream",
     "text": [
      "<ipython-input-135-c99a2411e0a3>:8: FutureWarning: The frame.append method is deprecated and will be removed from pandas in a future version. Use pandas.concat instead.\n",
      "  df_address_census_tract = df_address_census_tract.append({'Address':i,'Census_Tract':tc_text},ignore_index=True)\n"
     ]
    },
    {
     "name": "stdout",
     "output_type": "stream",
     "text": [
      "320 E MARIE DR Stillwater OK 74074 0101.01\n"
     ]
    },
    {
     "name": "stderr",
     "output_type": "stream",
     "text": [
      "<ipython-input-135-c99a2411e0a3>:8: FutureWarning: The frame.append method is deprecated and will be removed from pandas in a future version. Use pandas.concat instead.\n",
      "  df_address_census_tract = df_address_census_tract.append({'Address':i,'Census_Tract':tc_text},ignore_index=True)\n"
     ]
    },
    {
     "name": "stdout",
     "output_type": "stream",
     "text": [
      "320 E MCELROY RD Stillwater OK 74075 0101.02\n"
     ]
    },
    {
     "name": "stderr",
     "output_type": "stream",
     "text": [
      "<ipython-input-135-c99a2411e0a3>:8: FutureWarning: The frame.append method is deprecated and will be removed from pandas in a future version. Use pandas.concat instead.\n",
      "  df_address_census_tract = df_address_census_tract.append({'Address':i,'Census_Tract':tc_text},ignore_index=True)\n"
     ]
    },
    {
     "name": "stdout",
     "output_type": "stream",
     "text": [
      "320 S WALNUT ST Stillwater OK 74074 0103.00\n"
     ]
    },
    {
     "name": "stderr",
     "output_type": "stream",
     "text": [
      "<ipython-input-135-c99a2411e0a3>:8: FutureWarning: The frame.append method is deprecated and will be removed from pandas in a future version. Use pandas.concat instead.\n",
      "  df_address_census_tract = df_address_census_tract.append({'Address':i,'Census_Tract':tc_text},ignore_index=True)\n"
     ]
    },
    {
     "name": "stdout",
     "output_type": "stream",
     "text": [
      "320 W ELM AVE Stillwater OK 74074 0105.02\n"
     ]
    },
    {
     "name": "stderr",
     "output_type": "stream",
     "text": [
      "<ipython-input-135-c99a2411e0a3>:8: FutureWarning: The frame.append method is deprecated and will be removed from pandas in a future version. Use pandas.concat instead.\n",
      "  df_address_census_tract = df_address_census_tract.append({'Address':i,'Census_Tract':tc_text},ignore_index=True)\n"
     ]
    },
    {
     "name": "stdout",
     "output_type": "stream",
     "text": [
      "320 W WILD HORSE DR Stillwater OK 74075 0101.01\n"
     ]
    },
    {
     "name": "stderr",
     "output_type": "stream",
     "text": [
      "<ipython-input-135-c99a2411e0a3>:8: FutureWarning: The frame.append method is deprecated and will be removed from pandas in a future version. Use pandas.concat instead.\n",
      "  df_address_census_tract = df_address_census_tract.append({'Address':i,'Census_Tract':tc_text},ignore_index=True)\n"
     ]
    },
    {
     "name": "stdout",
     "output_type": "stream",
     "text": [
      "3200 N COUNTRY CLUB RD Stillwater OK 74075 0110.01\n"
     ]
    },
    {
     "name": "stderr",
     "output_type": "stream",
     "text": [
      "<ipython-input-135-c99a2411e0a3>:8: FutureWarning: The frame.append method is deprecated and will be removed from pandas in a future version. Use pandas.concat instead.\n",
      "  df_address_census_tract = df_address_census_tract.append({'Address':i,'Census_Tract':tc_text},ignore_index=True)\n"
     ]
    },
    {
     "name": "stdout",
     "output_type": "stream",
     "text": [
      "3202 S SADDLE ROCK ST Stillwater OK 74074 0110.02\n"
     ]
    },
    {
     "name": "stderr",
     "output_type": "stream",
     "text": [
      "<ipython-input-135-c99a2411e0a3>:8: FutureWarning: The frame.append method is deprecated and will be removed from pandas in a future version. Use pandas.concat instead.\n",
      "  df_address_census_tract = df_address_census_tract.append({'Address':i,'Census_Tract':tc_text},ignore_index=True)\n"
     ]
    },
    {
     "name": "stdout",
     "output_type": "stream",
     "text": [
      "3204 E STONEGATE AVE Stillwater OK 74074 0106.00\n"
     ]
    },
    {
     "name": "stderr",
     "output_type": "stream",
     "text": [
      "<ipython-input-135-c99a2411e0a3>:8: FutureWarning: The frame.append method is deprecated and will be removed from pandas in a future version. Use pandas.concat instead.\n",
      "  df_address_census_tract = df_address_census_tract.append({'Address':i,'Census_Tract':tc_text},ignore_index=True)\n"
     ]
    },
    {
     "name": "stdout",
     "output_type": "stream",
     "text": [
      "3206 S HILL LN Stillwater OK 74074 0110.02\n"
     ]
    },
    {
     "name": "stderr",
     "output_type": "stream",
     "text": [
      "<ipython-input-135-c99a2411e0a3>:8: FutureWarning: The frame.append method is deprecated and will be removed from pandas in a future version. Use pandas.concat instead.\n",
      "  df_address_census_tract = df_address_census_tract.append({'Address':i,'Census_Tract':tc_text},ignore_index=True)\n"
     ]
    },
    {
     "name": "stdout",
     "output_type": "stream",
     "text": [
      "3209 S HILL LN Stillwater OK 74074 0110.02\n"
     ]
    },
    {
     "name": "stderr",
     "output_type": "stream",
     "text": [
      "<ipython-input-135-c99a2411e0a3>:8: FutureWarning: The frame.append method is deprecated and will be removed from pandas in a future version. Use pandas.concat instead.\n",
      "  df_address_census_tract = df_address_census_tract.append({'Address':i,'Census_Tract':tc_text},ignore_index=True)\n"
     ]
    },
    {
     "name": "stdout",
     "output_type": "stream",
     "text": [
      "321 N DUNCAN ST Stillwater OK 74075 0105.02\n"
     ]
    },
    {
     "name": "stderr",
     "output_type": "stream",
     "text": [
      "<ipython-input-135-c99a2411e0a3>:8: FutureWarning: The frame.append method is deprecated and will be removed from pandas in a future version. Use pandas.concat instead.\n",
      "  df_address_census_tract = df_address_census_tract.append({'Address':i,'Census_Tract':tc_text},ignore_index=True)\n"
     ]
    },
    {
     "name": "stdout",
     "output_type": "stream",
     "text": [
      "3210 S HILL LN Stillwater OK 74074 0110.02\n"
     ]
    },
    {
     "name": "stderr",
     "output_type": "stream",
     "text": [
      "<ipython-input-135-c99a2411e0a3>:8: FutureWarning: The frame.append method is deprecated and will be removed from pandas in a future version. Use pandas.concat instead.\n",
      "  df_address_census_tract = df_address_census_tract.append({'Address':i,'Census_Tract':tc_text},ignore_index=True)\n"
     ]
    },
    {
     "name": "stdout",
     "output_type": "stream",
     "text": [
      "3210 W LAKEVIEW RD Stillwater OK 74074 0102.01\n"
     ]
    },
    {
     "name": "stderr",
     "output_type": "stream",
     "text": [
      "<ipython-input-135-c99a2411e0a3>:8: FutureWarning: The frame.append method is deprecated and will be removed from pandas in a future version. Use pandas.concat instead.\n",
      "  df_address_census_tract = df_address_census_tract.append({'Address':i,'Census_Tract':tc_text},ignore_index=True)\n"
     ]
    },
    {
     "name": "stdout",
     "output_type": "stream",
     "text": [
      "3211 S HILL LN Stillwater OK 74074 0110.02\n"
     ]
    },
    {
     "name": "stderr",
     "output_type": "stream",
     "text": [
      "<ipython-input-135-c99a2411e0a3>:8: FutureWarning: The frame.append method is deprecated and will be removed from pandas in a future version. Use pandas.concat instead.\n",
      "  df_address_census_tract = df_address_census_tract.append({'Address':i,'Census_Tract':tc_text},ignore_index=True)\n"
     ]
    },
    {
     "name": "stdout",
     "output_type": "stream",
     "text": [
      "3211 W 32ND AVE Stillwater OK 74074 0110.02\n"
     ]
    },
    {
     "name": "stderr",
     "output_type": "stream",
     "text": [
      "<ipython-input-135-c99a2411e0a3>:8: FutureWarning: The frame.append method is deprecated and will be removed from pandas in a future version. Use pandas.concat instead.\n",
      "  df_address_census_tract = df_address_census_tract.append({'Address':i,'Census_Tract':tc_text},ignore_index=True)\n"
     ]
    },
    {
     "name": "stdout",
     "output_type": "stream",
     "text": [
      "3212 E 4TH AVE Stillwater OK 74074 0106.00\n"
     ]
    },
    {
     "name": "stderr",
     "output_type": "stream",
     "text": [
      "<ipython-input-135-c99a2411e0a3>:8: FutureWarning: The frame.append method is deprecated and will be removed from pandas in a future version. Use pandas.concat instead.\n",
      "  df_address_census_tract = df_address_census_tract.append({'Address':i,'Census_Tract':tc_text},ignore_index=True)\n"
     ]
    },
    {
     "name": "stdout",
     "output_type": "stream",
     "text": [
      "3214 S BLACK OAK DR Stillwater OK 74074 0110.02\n"
     ]
    },
    {
     "name": "stderr",
     "output_type": "stream",
     "text": [
      "<ipython-input-135-c99a2411e0a3>:8: FutureWarning: The frame.append method is deprecated and will be removed from pandas in a future version. Use pandas.concat instead.\n",
      "  df_address_census_tract = df_address_census_tract.append({'Address':i,'Census_Tract':tc_text},ignore_index=True)\n"
     ]
    },
    {
     "name": "stdout",
     "output_type": "stream",
     "text": [
      "3214 W 30TH AVE Stillwater OK 74074 0109.02\n"
     ]
    },
    {
     "name": "stderr",
     "output_type": "stream",
     "text": [
      "<ipython-input-135-c99a2411e0a3>:8: FutureWarning: The frame.append method is deprecated and will be removed from pandas in a future version. Use pandas.concat instead.\n",
      "  df_address_census_tract = df_address_census_tract.append({'Address':i,'Census_Tract':tc_text},ignore_index=True)\n"
     ]
    },
    {
     "name": "stdout",
     "output_type": "stream",
     "text": [
      "3217 E 2ND AVE Stillwater OK 74074 0106.00\n"
     ]
    },
    {
     "name": "stderr",
     "output_type": "stream",
     "text": [
      "<ipython-input-135-c99a2411e0a3>:8: FutureWarning: The frame.append method is deprecated and will be removed from pandas in a future version. Use pandas.concat instead.\n",
      "  df_address_census_tract = df_address_census_tract.append({'Address':i,'Census_Tract':tc_text},ignore_index=True)\n"
     ]
    },
    {
     "name": "stdout",
     "output_type": "stream",
     "text": [
      "3217 S SADDLE ROCK ST Stillwater OK 74074 0110.02\n"
     ]
    },
    {
     "name": "stderr",
     "output_type": "stream",
     "text": [
      "<ipython-input-135-c99a2411e0a3>:8: FutureWarning: The frame.append method is deprecated and will be removed from pandas in a future version. Use pandas.concat instead.\n",
      "  df_address_census_tract = df_address_census_tract.append({'Address':i,'Census_Tract':tc_text},ignore_index=True)\n"
     ]
    },
    {
     "name": "stdout",
     "output_type": "stream",
     "text": [
      "3217 W CYPRESS MILL AVE Stillwater OK 74074 0109.02\n"
     ]
    },
    {
     "name": "stderr",
     "output_type": "stream",
     "text": [
      "<ipython-input-135-c99a2411e0a3>:8: FutureWarning: The frame.append method is deprecated and will be removed from pandas in a future version. Use pandas.concat instead.\n",
      "  df_address_census_tract = df_address_census_tract.append({'Address':i,'Census_Tract':tc_text},ignore_index=True)\n"
     ]
    },
    {
     "name": "stdout",
     "output_type": "stream",
     "text": [
      "3219 E PEACH TREE AVE Stillwater OK 74074 0106.00\n"
     ]
    },
    {
     "name": "stderr",
     "output_type": "stream",
     "text": [
      "<ipython-input-135-c99a2411e0a3>:8: FutureWarning: The frame.append method is deprecated and will be removed from pandas in a future version. Use pandas.concat instead.\n",
      "  df_address_census_tract = df_address_census_tract.append({'Address':i,'Census_Tract':tc_text},ignore_index=True)\n"
     ]
    },
    {
     "name": "stdout",
     "output_type": "stream",
     "text": [
      "322 E 17TH AVE Stillwater OK 74074 0107.00\n"
     ]
    },
    {
     "name": "stderr",
     "output_type": "stream",
     "text": [
      "<ipython-input-135-c99a2411e0a3>:8: FutureWarning: The frame.append method is deprecated and will be removed from pandas in a future version. Use pandas.concat instead.\n",
      "  df_address_census_tract = df_address_census_tract.append({'Address':i,'Census_Tract':tc_text},ignore_index=True)\n"
     ]
    },
    {
     "name": "stdout",
     "output_type": "stream",
     "text": [
      "322 E 18TH AVE Stillwater OK 74074 0107.00\n"
     ]
    },
    {
     "name": "stderr",
     "output_type": "stream",
     "text": [
      "<ipython-input-135-c99a2411e0a3>:8: FutureWarning: The frame.append method is deprecated and will be removed from pandas in a future version. Use pandas.concat instead.\n",
      "  df_address_census_tract = df_address_census_tract.append({'Address':i,'Census_Tract':tc_text},ignore_index=True)\n"
     ]
    },
    {
     "name": "stdout",
     "output_type": "stream",
     "text": [
      "322 N WILDWOOD ACRES CIR Stillwater OK 74074 0111.01\n"
     ]
    },
    {
     "name": "stderr",
     "output_type": "stream",
     "text": [
      "<ipython-input-135-c99a2411e0a3>:8: FutureWarning: The frame.append method is deprecated and will be removed from pandas in a future version. Use pandas.concat instead.\n",
      "  df_address_census_tract = df_address_census_tract.append({'Address':i,'Census_Tract':tc_text},ignore_index=True)\n"
     ]
    },
    {
     "name": "stdout",
     "output_type": "stream",
     "text": [
      "322 S COLBY LANCE ST Stillwater OK 74074 0106.00\n"
     ]
    },
    {
     "name": "stderr",
     "output_type": "stream",
     "text": [
      "<ipython-input-135-c99a2411e0a3>:8: FutureWarning: The frame.append method is deprecated and will be removed from pandas in a future version. Use pandas.concat instead.\n",
      "  df_address_census_tract = df_address_census_tract.append({'Address':i,'Census_Tract':tc_text},ignore_index=True)\n"
     ]
    },
    {
     "name": "stdout",
     "output_type": "stream",
     "text": [
      "322 W MATHEWS AVE Stillwater OK 74074 0105.01\n"
     ]
    },
    {
     "name": "stderr",
     "output_type": "stream",
     "text": [
      "<ipython-input-135-c99a2411e0a3>:8: FutureWarning: The frame.append method is deprecated and will be removed from pandas in a future version. Use pandas.concat instead.\n",
      "  df_address_census_tract = df_address_census_tract.append({'Address':i,'Census_Tract':tc_text},ignore_index=True)\n"
     ]
    },
    {
     "name": "stdout",
     "output_type": "stream",
     "text": [
      "3221 S JAVA ST Stillwater OK 74074 0111.01\n"
     ]
    },
    {
     "name": "stderr",
     "output_type": "stream",
     "text": [
      "<ipython-input-135-c99a2411e0a3>:8: FutureWarning: The frame.append method is deprecated and will be removed from pandas in a future version. Use pandas.concat instead.\n",
      "  df_address_census_tract = df_address_census_tract.append({'Address':i,'Census_Tract':tc_text},ignore_index=True)\n"
     ]
    },
    {
     "name": "stdout",
     "output_type": "stream",
     "text": [
      "3222 E PEACH TREE AVE Stillwater OK 74074 0106.00\n"
     ]
    },
    {
     "name": "stderr",
     "output_type": "stream",
     "text": [
      "<ipython-input-135-c99a2411e0a3>:8: FutureWarning: The frame.append method is deprecated and will be removed from pandas in a future version. Use pandas.concat instead.\n",
      "  df_address_census_tract = df_address_census_tract.append({'Address':i,'Census_Tract':tc_text},ignore_index=True)\n"
     ]
    },
    {
     "name": "stdout",
     "output_type": "stream",
     "text": [
      "3222 S SADDLE ROCK ST Stillwater OK 74074 0110.02\n"
     ]
    },
    {
     "name": "stderr",
     "output_type": "stream",
     "text": [
      "<ipython-input-135-c99a2411e0a3>:8: FutureWarning: The frame.append method is deprecated and will be removed from pandas in a future version. Use pandas.concat instead.\n",
      "  df_address_census_tract = df_address_census_tract.append({'Address':i,'Census_Tract':tc_text},ignore_index=True)\n"
     ]
    },
    {
     "name": "stdout",
     "output_type": "stream",
     "text": [
      "3223 E RAINTREE DR Stillwater OK 74074 0106.00\n"
     ]
    },
    {
     "name": "stderr",
     "output_type": "stream",
     "text": [
      "<ipython-input-135-c99a2411e0a3>:8: FutureWarning: The frame.append method is deprecated and will be removed from pandas in a future version. Use pandas.concat instead.\n",
      "  df_address_census_tract = df_address_census_tract.append({'Address':i,'Census_Tract':tc_text},ignore_index=True)\n"
     ]
    },
    {
     "name": "stdout",
     "output_type": "stream",
     "text": [
      "3223 S JAVA ST Stillwater OK 74074 0111.01\n"
     ]
    },
    {
     "name": "stderr",
     "output_type": "stream",
     "text": [
      "<ipython-input-135-c99a2411e0a3>:8: FutureWarning: The frame.append method is deprecated and will be removed from pandas in a future version. Use pandas.concat instead.\n",
      "  df_address_census_tract = df_address_census_tract.append({'Address':i,'Census_Tract':tc_text},ignore_index=True)\n"
     ]
    },
    {
     "name": "stdout",
     "output_type": "stream",
     "text": [
      "3224 S JAVA ST Stillwater OK 74074 0111.01\n"
     ]
    },
    {
     "name": "stderr",
     "output_type": "stream",
     "text": [
      "<ipython-input-135-c99a2411e0a3>:8: FutureWarning: The frame.append method is deprecated and will be removed from pandas in a future version. Use pandas.concat instead.\n",
      "  df_address_census_tract = df_address_census_tract.append({'Address':i,'Census_Tract':tc_text},ignore_index=True)\n"
     ]
    },
    {
     "name": "stdout",
     "output_type": "stream",
     "text": [
      "3227 E RAINTREE DR Stillwater OK 74074 0106.00\n"
     ]
    },
    {
     "name": "stderr",
     "output_type": "stream",
     "text": [
      "<ipython-input-135-c99a2411e0a3>:8: FutureWarning: The frame.append method is deprecated and will be removed from pandas in a future version. Use pandas.concat instead.\n",
      "  df_address_census_tract = df_address_census_tract.append({'Address':i,'Census_Tract':tc_text},ignore_index=True)\n"
     ]
    },
    {
     "name": "stdout",
     "output_type": "stream",
     "text": [
      "3227 S PIONEER ST Stillwater OK 74074 0110.02\n"
     ]
    },
    {
     "name": "stderr",
     "output_type": "stream",
     "text": [
      "<ipython-input-135-c99a2411e0a3>:8: FutureWarning: The frame.append method is deprecated and will be removed from pandas in a future version. Use pandas.concat instead.\n",
      "  df_address_census_tract = df_address_census_tract.append({'Address':i,'Census_Tract':tc_text},ignore_index=True)\n"
     ]
    },
    {
     "name": "stdout",
     "output_type": "stream",
     "text": [
      "323 S DUCK ST Stillwater OK 74074 0105.03\n"
     ]
    },
    {
     "name": "stderr",
     "output_type": "stream",
     "text": [
      "<ipython-input-135-c99a2411e0a3>:8: FutureWarning: The frame.append method is deprecated and will be removed from pandas in a future version. Use pandas.concat instead.\n",
      "  df_address_census_tract = df_address_census_tract.append({'Address':i,'Census_Tract':tc_text},ignore_index=True)\n"
     ]
    },
    {
     "name": "stdout",
     "output_type": "stream",
     "text": [
      "323 S WEST ST Stillwater OK 74074 0105.03\n"
     ]
    },
    {
     "name": "stderr",
     "output_type": "stream",
     "text": [
      "<ipython-input-135-c99a2411e0a3>:8: FutureWarning: The frame.append method is deprecated and will be removed from pandas in a future version. Use pandas.concat instead.\n",
      "  df_address_census_tract = df_address_census_tract.append({'Address':i,'Census_Tract':tc_text},ignore_index=True)\n"
     ]
    },
    {
     "name": "stdout",
     "output_type": "stream",
     "text": [
      "323 S WILLIS ST Stillwater OK 74074 0103.00\n"
     ]
    },
    {
     "name": "stderr",
     "output_type": "stream",
     "text": [
      "<ipython-input-135-c99a2411e0a3>:8: FutureWarning: The frame.append method is deprecated and will be removed from pandas in a future version. Use pandas.concat instead.\n",
      "  df_address_census_tract = df_address_census_tract.append({'Address':i,'Census_Tract':tc_text},ignore_index=True)\n"
     ]
    },
    {
     "name": "stdout",
     "output_type": "stream",
     "text": [
      "323 W CANTWELL AVE Stillwater OK 74074 0105.01\n"
     ]
    },
    {
     "name": "stderr",
     "output_type": "stream",
     "text": [
      "<ipython-input-135-c99a2411e0a3>:8: FutureWarning: The frame.append method is deprecated and will be removed from pandas in a future version. Use pandas.concat instead.\n",
      "  df_address_census_tract = df_address_census_tract.append({'Address':i,'Census_Tract':tc_text},ignore_index=True)\n"
     ]
    },
    {
     "name": "stdout",
     "output_type": "stream",
     "text": [
      "323 W MILLER AVE Stillwater OK 74074 0105.02\n"
     ]
    },
    {
     "name": "stderr",
     "output_type": "stream",
     "text": [
      "<ipython-input-135-c99a2411e0a3>:8: FutureWarning: The frame.append method is deprecated and will be removed from pandas in a future version. Use pandas.concat instead.\n",
      "  df_address_census_tract = df_address_census_tract.append({'Address':i,'Census_Tract':tc_text},ignore_index=True)\n"
     ]
    },
    {
     "name": "stdout",
     "output_type": "stream",
     "text": [
      "3230 E STONEGATE AVE Stillwater OK 74074 0106.00\n"
     ]
    },
    {
     "name": "stderr",
     "output_type": "stream",
     "text": [
      "<ipython-input-135-c99a2411e0a3>:8: FutureWarning: The frame.append method is deprecated and will be removed from pandas in a future version. Use pandas.concat instead.\n",
      "  df_address_census_tract = df_address_census_tract.append({'Address':i,'Census_Tract':tc_text},ignore_index=True)\n"
     ]
    },
    {
     "name": "stdout",
     "output_type": "stream",
     "text": [
      "3235 E RAINTREE DR Stillwater OK 74074 0106.00\n"
     ]
    },
    {
     "name": "stderr",
     "output_type": "stream",
     "text": [
      "<ipython-input-135-c99a2411e0a3>:8: FutureWarning: The frame.append method is deprecated and will be removed from pandas in a future version. Use pandas.concat instead.\n",
      "  df_address_census_tract = df_address_census_tract.append({'Address':i,'Census_Tract':tc_text},ignore_index=True)\n"
     ]
    },
    {
     "name": "stdout",
     "output_type": "stream",
     "text": [
      "324 N MANNING ST Stillwater OK 74074 0106.00\n"
     ]
    },
    {
     "name": "stderr",
     "output_type": "stream",
     "text": [
      "<ipython-input-135-c99a2411e0a3>:8: FutureWarning: The frame.append method is deprecated and will be removed from pandas in a future version. Use pandas.concat instead.\n",
      "  df_address_census_tract = df_address_census_tract.append({'Address':i,'Census_Tract':tc_text},ignore_index=True)\n"
     ]
    },
    {
     "name": "stdout",
     "output_type": "stream",
     "text": [
      "324 S CLEVELAND ST Stillwater OK 74074 0103.00\n"
     ]
    },
    {
     "name": "stderr",
     "output_type": "stream",
     "text": [
      "<ipython-input-135-c99a2411e0a3>:8: FutureWarning: The frame.append method is deprecated and will be removed from pandas in a future version. Use pandas.concat instead.\n",
      "  df_address_census_tract = df_address_census_tract.append({'Address':i,'Census_Tract':tc_text},ignore_index=True)\n"
     ]
    },
    {
     "name": "stdout",
     "output_type": "stream",
     "text": [
      "324 S DUNCAN ST Stillwater OK 74074 0105.03\n"
     ]
    },
    {
     "name": "stderr",
     "output_type": "stream",
     "text": [
      "<ipython-input-135-c99a2411e0a3>:8: FutureWarning: The frame.append method is deprecated and will be removed from pandas in a future version. Use pandas.concat instead.\n",
      "  df_address_census_tract = df_address_census_tract.append({'Address':i,'Census_Tract':tc_text},ignore_index=True)\n"
     ]
    },
    {
     "name": "stdout",
     "output_type": "stream",
     "text": [
      "324 S ORCHARD ST Stillwater OK 74074 0103.00\n"
     ]
    },
    {
     "name": "stderr",
     "output_type": "stream",
     "text": [
      "<ipython-input-135-c99a2411e0a3>:8: FutureWarning: The frame.append method is deprecated and will be removed from pandas in a future version. Use pandas.concat instead.\n",
      "  df_address_census_tract = df_address_census_tract.append({'Address':i,'Census_Tract':tc_text},ignore_index=True)\n"
     ]
    },
    {
     "name": "stdout",
     "output_type": "stream",
     "text": [
      "324 S WALNUT ST Stillwater OK 74074 0103.00\n"
     ]
    },
    {
     "name": "stderr",
     "output_type": "stream",
     "text": [
      "<ipython-input-135-c99a2411e0a3>:8: FutureWarning: The frame.append method is deprecated and will be removed from pandas in a future version. Use pandas.concat instead.\n",
      "  df_address_census_tract = df_address_census_tract.append({'Address':i,'Census_Tract':tc_text},ignore_index=True)\n"
     ]
    },
    {
     "name": "stdout",
     "output_type": "stream",
     "text": [
      "324 S WEST ST Stillwater OK 74074 0105.03\n"
     ]
    },
    {
     "name": "stderr",
     "output_type": "stream",
     "text": [
      "<ipython-input-135-c99a2411e0a3>:8: FutureWarning: The frame.append method is deprecated and will be removed from pandas in a future version. Use pandas.concat instead.\n",
      "  df_address_census_tract = df_address_census_tract.append({'Address':i,'Census_Tract':tc_text},ignore_index=True)\n"
     ]
    },
    {
     "name": "stdout",
     "output_type": "stream",
     "text": [
      "324 W ELM AVE Stillwater OK 74074 0105.02\n"
     ]
    },
    {
     "name": "stderr",
     "output_type": "stream",
     "text": [
      "<ipython-input-135-c99a2411e0a3>:8: FutureWarning: The frame.append method is deprecated and will be removed from pandas in a future version. Use pandas.concat instead.\n",
      "  df_address_census_tract = df_address_census_tract.append({'Address':i,'Census_Tract':tc_text},ignore_index=True)\n"
     ]
    },
    {
     "name": "stdout",
     "output_type": "stream",
     "text": [
      "324 W MATHEWS AVE Stillwater OK 74074 0105.01\n"
     ]
    },
    {
     "name": "stderr",
     "output_type": "stream",
     "text": [
      "<ipython-input-135-c99a2411e0a3>:8: FutureWarning: The frame.append method is deprecated and will be removed from pandas in a future version. Use pandas.concat instead.\n",
      "  df_address_census_tract = df_address_census_tract.append({'Address':i,'Census_Tract':tc_text},ignore_index=True)\n"
     ]
    },
    {
     "name": "stdout",
     "output_type": "stream",
     "text": [
      "325 S MOCKINGBIRD LN Stillwater OK 74074 0106.00\n"
     ]
    },
    {
     "name": "stderr",
     "output_type": "stream",
     "text": [
      "<ipython-input-135-c99a2411e0a3>:8: FutureWarning: The frame.append method is deprecated and will be removed from pandas in a future version. Use pandas.concat instead.\n",
      "  df_address_census_tract = df_address_census_tract.append({'Address':i,'Census_Tract':tc_text},ignore_index=True)\n"
     ]
    },
    {
     "name": "stdout",
     "output_type": "stream",
     "text": [
      "326 E TOPAZ AVE Stillwater OK 74075 0101.01\n"
     ]
    },
    {
     "name": "stderr",
     "output_type": "stream",
     "text": [
      "<ipython-input-135-c99a2411e0a3>:8: FutureWarning: The frame.append method is deprecated and will be removed from pandas in a future version. Use pandas.concat instead.\n",
      "  df_address_census_tract = df_address_census_tract.append({'Address':i,'Census_Tract':tc_text},ignore_index=True)\n"
     ]
    },
    {
     "name": "stdout",
     "output_type": "stream",
     "text": [
      "3268 S COUNTRY CLUB RD Stillwater OK 74074 0110.01\n"
     ]
    },
    {
     "name": "stderr",
     "output_type": "stream",
     "text": [
      "<ipython-input-135-c99a2411e0a3>:8: FutureWarning: The frame.append method is deprecated and will be removed from pandas in a future version. Use pandas.concat instead.\n",
      "  df_address_census_tract = df_address_census_tract.append({'Address':i,'Census_Tract':tc_text},ignore_index=True)\n"
     ]
    },
    {
     "name": "stdout",
     "output_type": "stream",
     "text": [
      "327 E COPPER CANYON AVE Stillwater OK 74075 0101.01\n"
     ]
    },
    {
     "name": "stderr",
     "output_type": "stream",
     "text": [
      "<ipython-input-135-c99a2411e0a3>:8: FutureWarning: The frame.append method is deprecated and will be removed from pandas in a future version. Use pandas.concat instead.\n",
      "  df_address_census_tract = df_address_census_tract.append({'Address':i,'Census_Tract':tc_text},ignore_index=True)\n"
     ]
    },
    {
     "name": "stdout",
     "output_type": "stream",
     "text": [
      "328 N DUNCAN ST Stillwater OK 74074 0105.01\n"
     ]
    },
    {
     "name": "stderr",
     "output_type": "stream",
     "text": [
      "<ipython-input-135-c99a2411e0a3>:8: FutureWarning: The frame.append method is deprecated and will be removed from pandas in a future version. Use pandas.concat instead.\n",
      "  df_address_census_tract = df_address_census_tract.append({'Address':i,'Census_Tract':tc_text},ignore_index=True)\n"
     ]
    },
    {
     "name": "stdout",
     "output_type": "stream",
     "text": [
      "33 LIBERTY CIR Stillwater OK 74074 0102.01\n"
     ]
    },
    {
     "name": "stderr",
     "output_type": "stream",
     "text": [
      "<ipython-input-135-c99a2411e0a3>:8: FutureWarning: The frame.append method is deprecated and will be removed from pandas in a future version. Use pandas.concat instead.\n",
      "  df_address_census_tract = df_address_census_tract.append({'Address':i,'Census_Tract':tc_text},ignore_index=True)\n"
     ]
    },
    {
     "name": "stdout",
     "output_type": "stream",
     "text": [
      "33 PINEWOOD CIR Stillwater OK 74074 0106.00\n"
     ]
    },
    {
     "name": "stderr",
     "output_type": "stream",
     "text": [
      "<ipython-input-135-c99a2411e0a3>:8: FutureWarning: The frame.append method is deprecated and will be removed from pandas in a future version. Use pandas.concat instead.\n",
      "  df_address_census_tract = df_address_census_tract.append({'Address':i,'Census_Tract':tc_text},ignore_index=True)\n"
     ]
    },
    {
     "name": "stdout",
     "output_type": "stream",
     "text": [
      "3301 S GREEN VALLEY DR Stillwater OK 74074 0111.01\n"
     ]
    },
    {
     "name": "stderr",
     "output_type": "stream",
     "text": [
      "<ipython-input-135-c99a2411e0a3>:8: FutureWarning: The frame.append method is deprecated and will be removed from pandas in a future version. Use pandas.concat instead.\n",
      "  df_address_census_tract = df_address_census_tract.append({'Address':i,'Census_Tract':tc_text},ignore_index=True)\n"
     ]
    },
    {
     "name": "stdout",
     "output_type": "stream",
     "text": [
      "3303 E 4TH AVE Stillwater OK 74074 0106.00\n"
     ]
    },
    {
     "name": "stderr",
     "output_type": "stream",
     "text": [
      "<ipython-input-135-c99a2411e0a3>:8: FutureWarning: The frame.append method is deprecated and will be removed from pandas in a future version. Use pandas.concat instead.\n",
      "  df_address_census_tract = df_address_census_tract.append({'Address':i,'Census_Tract':tc_text},ignore_index=True)\n"
     ]
    },
    {
     "name": "stdout",
     "output_type": "stream",
     "text": [
      "3303 W AIRPORT RD Stillwater OK 74074 0102.01\n"
     ]
    },
    {
     "name": "stderr",
     "output_type": "stream",
     "text": [
      "<ipython-input-135-c99a2411e0a3>:8: FutureWarning: The frame.append method is deprecated and will be removed from pandas in a future version. Use pandas.concat instead.\n",
      "  df_address_census_tract = df_address_census_tract.append({'Address':i,'Census_Tract':tc_text},ignore_index=True)\n"
     ]
    },
    {
     "name": "stdout",
     "output_type": "stream",
     "text": [
      "3304 S BLACK OAK DR Stillwater OK 74074 0110.02\n"
     ]
    },
    {
     "name": "stderr",
     "output_type": "stream",
     "text": [
      "<ipython-input-135-c99a2411e0a3>:8: FutureWarning: The frame.append method is deprecated and will be removed from pandas in a future version. Use pandas.concat instead.\n",
      "  df_address_census_tract = df_address_census_tract.append({'Address':i,'Census_Tract':tc_text},ignore_index=True)\n"
     ]
    },
    {
     "name": "stdout",
     "output_type": "stream",
     "text": [
      "3304 S COUNTRY CLUB RD Stillwater OK 74074 0110.01\n"
     ]
    },
    {
     "name": "stderr",
     "output_type": "stream",
     "text": [
      "<ipython-input-135-c99a2411e0a3>:8: FutureWarning: The frame.append method is deprecated and will be removed from pandas in a future version. Use pandas.concat instead.\n",
      "  df_address_census_tract = df_address_census_tract.append({'Address':i,'Census_Tract':tc_text},ignore_index=True)\n"
     ]
    },
    {
     "name": "stdout",
     "output_type": "stream",
     "text": [
      "3306 E MCELROY RD Stillwater OK 74075 0101.01\n"
     ]
    },
    {
     "name": "stderr",
     "output_type": "stream",
     "text": [
      "<ipython-input-135-c99a2411e0a3>:8: FutureWarning: The frame.append method is deprecated and will be removed from pandas in a future version. Use pandas.concat instead.\n",
      "  df_address_census_tract = df_address_census_tract.append({'Address':i,'Census_Tract':tc_text},ignore_index=True)\n"
     ]
    },
    {
     "name": "stdout",
     "output_type": "stream",
     "text": [
      "3309 S WEST ST Stillwater OK 74074 0110.02\n"
     ]
    },
    {
     "name": "stderr",
     "output_type": "stream",
     "text": [
      "<ipython-input-135-c99a2411e0a3>:8: FutureWarning: The frame.append method is deprecated and will be removed from pandas in a future version. Use pandas.concat instead.\n",
      "  df_address_census_tract = df_address_census_tract.append({'Address':i,'Census_Tract':tc_text},ignore_index=True)\n"
     ]
    },
    {
     "name": "stdout",
     "output_type": "stream",
     "text": [
      "3309 W CYPRESS MILL AVE Stillwater OK 74074 0109.02\n"
     ]
    },
    {
     "name": "stderr",
     "output_type": "stream",
     "text": [
      "<ipython-input-135-c99a2411e0a3>:8: FutureWarning: The frame.append method is deprecated and will be removed from pandas in a future version. Use pandas.concat instead.\n",
      "  df_address_census_tract = df_address_census_tract.append({'Address':i,'Census_Tract':tc_text},ignore_index=True)\n"
     ]
    },
    {
     "name": "stdout",
     "output_type": "stream",
     "text": [
      "3310 E 4TH AVE Stillwater OK 74074 0106.00\n"
     ]
    },
    {
     "name": "stderr",
     "output_type": "stream",
     "text": [
      "<ipython-input-135-c99a2411e0a3>:8: FutureWarning: The frame.append method is deprecated and will be removed from pandas in a future version. Use pandas.concat instead.\n",
      "  df_address_census_tract = df_address_census_tract.append({'Address':i,'Census_Tract':tc_text},ignore_index=True)\n"
     ]
    },
    {
     "name": "stdout",
     "output_type": "stream",
     "text": [
      "3313 N RANGE RD Stillwater OK 74075 0110.01\n"
     ]
    },
    {
     "name": "stderr",
     "output_type": "stream",
     "text": [
      "<ipython-input-135-c99a2411e0a3>:8: FutureWarning: The frame.append method is deprecated and will be removed from pandas in a future version. Use pandas.concat instead.\n",
      "  df_address_census_tract = df_address_census_tract.append({'Address':i,'Census_Tract':tc_text},ignore_index=True)\n"
     ]
    },
    {
     "name": "stdout",
     "output_type": "stream",
     "text": [
      "3315 S HUSBAND ST Stillwater OK 74074 0110.02\n"
     ]
    },
    {
     "name": "stderr",
     "output_type": "stream",
     "text": [
      "<ipython-input-135-c99a2411e0a3>:8: FutureWarning: The frame.append method is deprecated and will be removed from pandas in a future version. Use pandas.concat instead.\n",
      "  df_address_census_tract = df_address_census_tract.append({'Address':i,'Census_Tract':tc_text},ignore_index=True)\n"
     ]
    },
    {
     "name": "stdout",
     "output_type": "stream",
     "text": [
      "3315 W MCMURTRY RD Stillwater OK 74074 0110.01\n"
     ]
    },
    {
     "name": "stderr",
     "output_type": "stream",
     "text": [
      "<ipython-input-135-c99a2411e0a3>:8: FutureWarning: The frame.append method is deprecated and will be removed from pandas in a future version. Use pandas.concat instead.\n",
      "  df_address_census_tract = df_address_census_tract.append({'Address':i,'Census_Tract':tc_text},ignore_index=True)\n"
     ]
    },
    {
     "name": "stdout",
     "output_type": "stream",
     "text": [
      "3317 W YOST RD Stillwater OK 74075 0110.01\n"
     ]
    },
    {
     "name": "stderr",
     "output_type": "stream",
     "text": [
      "<ipython-input-135-c99a2411e0a3>:8: FutureWarning: The frame.append method is deprecated and will be removed from pandas in a future version. Use pandas.concat instead.\n",
      "  df_address_census_tract = df_address_census_tract.append({'Address':i,'Census_Tract':tc_text},ignore_index=True)\n"
     ]
    },
    {
     "name": "stdout",
     "output_type": "stream",
     "text": [
      "3323 S HUSBAND ST Stillwater OK 74074 0110.02\n"
     ]
    },
    {
     "name": "stderr",
     "output_type": "stream",
     "text": [
      "<ipython-input-135-c99a2411e0a3>:8: FutureWarning: The frame.append method is deprecated and will be removed from pandas in a future version. Use pandas.concat instead.\n",
      "  df_address_census_tract = df_address_census_tract.append({'Address':i,'Census_Tract':tc_text},ignore_index=True)\n"
     ]
    },
    {
     "name": "stdout",
     "output_type": "stream",
     "text": [
      "3398 E 6TH AVE Stillwater OK 74074 0106.00\n"
     ]
    },
    {
     "name": "stderr",
     "output_type": "stream",
     "text": [
      "<ipython-input-135-c99a2411e0a3>:8: FutureWarning: The frame.append method is deprecated and will be removed from pandas in a future version. Use pandas.concat instead.\n",
      "  df_address_census_tract = df_address_census_tract.append({'Address':i,'Census_Tract':tc_text},ignore_index=True)\n"
     ]
    },
    {
     "name": "stdout",
     "output_type": "stream",
     "text": [
      "34 CINDY LN Stillwater OK 74074 0110.01\n"
     ]
    },
    {
     "name": "stderr",
     "output_type": "stream",
     "text": [
      "<ipython-input-135-c99a2411e0a3>:8: FutureWarning: The frame.append method is deprecated and will be removed from pandas in a future version. Use pandas.concat instead.\n",
      "  df_address_census_tract = df_address_census_tract.append({'Address':i,'Census_Tract':tc_text},ignore_index=True)\n"
     ]
    },
    {
     "name": "stdout",
     "output_type": "stream",
     "text": [
      "3413 S CANOPY LN Stillwater OK 74074 \n"
     ]
    },
    {
     "name": "stderr",
     "output_type": "stream",
     "text": [
      "<ipython-input-135-c99a2411e0a3>:8: FutureWarning: The frame.append method is deprecated and will be removed from pandas in a future version. Use pandas.concat instead.\n",
      "  df_address_census_tract = df_address_census_tract.append({'Address':i,'Census_Tract':tc_text},ignore_index=True)\n"
     ]
    },
    {
     "name": "stdout",
     "output_type": "stream",
     "text": [
      "3417 N COTTONWOOD RD Stillwater OK 74075 0110.01\n"
     ]
    },
    {
     "name": "stderr",
     "output_type": "stream",
     "text": [
      "<ipython-input-135-c99a2411e0a3>:8: FutureWarning: The frame.append method is deprecated and will be removed from pandas in a future version. Use pandas.concat instead.\n",
      "  df_address_census_tract = df_address_census_tract.append({'Address':i,'Census_Tract':tc_text},ignore_index=True)\n"
     ]
    },
    {
     "name": "stdout",
     "output_type": "stream",
     "text": [
      "3418 W 29TH AVE Stillwater OK 74074 0109.02\n"
     ]
    },
    {
     "name": "stderr",
     "output_type": "stream",
     "text": [
      "<ipython-input-135-c99a2411e0a3>:8: FutureWarning: The frame.append method is deprecated and will be removed from pandas in a future version. Use pandas.concat instead.\n",
      "  df_address_census_tract = df_address_census_tract.append({'Address':i,'Census_Tract':tc_text},ignore_index=True)\n"
     ]
    },
    {
     "name": "stdout",
     "output_type": "stream",
     "text": [
      "3425 W LAPOINT CT Stillwater OK 74074 0109.02\n"
     ]
    },
    {
     "name": "stderr",
     "output_type": "stream",
     "text": [
      "<ipython-input-135-c99a2411e0a3>:8: FutureWarning: The frame.append method is deprecated and will be removed from pandas in a future version. Use pandas.concat instead.\n",
      "  df_address_census_tract = df_address_census_tract.append({'Address':i,'Census_Tract':tc_text},ignore_index=True)\n"
     ]
    },
    {
     "name": "stdout",
     "output_type": "stream",
     "text": [
      "35 LIBERTY CIR Stillwater OK 74074 0102.01\n"
     ]
    },
    {
     "name": "stderr",
     "output_type": "stream",
     "text": [
      "<ipython-input-135-c99a2411e0a3>:8: FutureWarning: The frame.append method is deprecated and will be removed from pandas in a future version. Use pandas.concat instead.\n",
      "  df_address_census_tract = df_address_census_tract.append({'Address':i,'Census_Tract':tc_text},ignore_index=True)\n"
     ]
    },
    {
     "name": "stdout",
     "output_type": "stream",
     "text": [
      "3500 S JAVA ST Stillwater OK 74074 0111.01\n"
     ]
    },
    {
     "name": "stderr",
     "output_type": "stream",
     "text": [
      "<ipython-input-135-c99a2411e0a3>:8: FutureWarning: The frame.append method is deprecated and will be removed from pandas in a future version. Use pandas.concat instead.\n",
      "  df_address_census_tract = df_address_census_tract.append({'Address':i,'Census_Tract':tc_text},ignore_index=True)\n"
     ]
    },
    {
     "name": "stdout",
     "output_type": "stream",
     "text": [
      "3508 N RAMSEY ST Stillwater OK 74074 0102.01\n"
     ]
    },
    {
     "name": "stderr",
     "output_type": "stream",
     "text": [
      "<ipython-input-135-c99a2411e0a3>:8: FutureWarning: The frame.append method is deprecated and will be removed from pandas in a future version. Use pandas.concat instead.\n",
      "  df_address_census_tract = df_address_census_tract.append({'Address':i,'Census_Tract':tc_text},ignore_index=True)\n"
     ]
    },
    {
     "name": "stdout",
     "output_type": "stream",
     "text": [
      "3508 S WESTERN RD Stillwater OK 74074 0110.02\n"
     ]
    },
    {
     "name": "stderr",
     "output_type": "stream",
     "text": [
      "<ipython-input-135-c99a2411e0a3>:8: FutureWarning: The frame.append method is deprecated and will be removed from pandas in a future version. Use pandas.concat instead.\n",
      "  df_address_census_tract = df_address_census_tract.append({'Address':i,'Census_Tract':tc_text},ignore_index=True)\n"
     ]
    },
    {
     "name": "stdout",
     "output_type": "stream",
     "text": [
      "3523 W WILLOW PARK CIR Stillwater OK 74074 0109.02\n"
     ]
    },
    {
     "name": "stderr",
     "output_type": "stream",
     "text": [
      "<ipython-input-135-c99a2411e0a3>:8: FutureWarning: The frame.append method is deprecated and will be removed from pandas in a future version. Use pandas.concat instead.\n",
      "  df_address_census_tract = df_address_census_tract.append({'Address':i,'Census_Tract':tc_text},ignore_index=True)\n"
     ]
    },
    {
     "name": "stdout",
     "output_type": "stream",
     "text": [
      "36 CINDY LN Stillwater OK 74074 0110.01\n"
     ]
    },
    {
     "name": "stderr",
     "output_type": "stream",
     "text": [
      "<ipython-input-135-c99a2411e0a3>:8: FutureWarning: The frame.append method is deprecated and will be removed from pandas in a future version. Use pandas.concat instead.\n",
      "  df_address_census_tract = df_address_census_tract.append({'Address':i,'Census_Tract':tc_text},ignore_index=True)\n"
     ]
    },
    {
     "name": "stdout",
     "output_type": "stream",
     "text": [
      "36 YELLOW BRICK DR Stillwater OK 74074 0109.02\n"
     ]
    },
    {
     "name": "stderr",
     "output_type": "stream",
     "text": [
      "<ipython-input-135-c99a2411e0a3>:8: FutureWarning: The frame.append method is deprecated and will be removed from pandas in a future version. Use pandas.concat instead.\n",
      "  df_address_census_tract = df_address_census_tract.append({'Address':i,'Census_Tract':tc_text},ignore_index=True)\n"
     ]
    },
    {
     "name": "stdout",
     "output_type": "stream",
     "text": [
      "3602 N WASHINGTON ST Stillwater OK 74075 0102.01\n"
     ]
    },
    {
     "name": "stderr",
     "output_type": "stream",
     "text": [
      "<ipython-input-135-c99a2411e0a3>:8: FutureWarning: The frame.append method is deprecated and will be removed from pandas in a future version. Use pandas.concat instead.\n",
      "  df_address_census_tract = df_address_census_tract.append({'Address':i,'Census_Tract':tc_text},ignore_index=True)\n"
     ]
    },
    {
     "name": "stdout",
     "output_type": "stream",
     "text": [
      "3603 W 15TH AVE Stillwater OK 74074 0109.02\n"
     ]
    },
    {
     "name": "stderr",
     "output_type": "stream",
     "text": [
      "<ipython-input-135-c99a2411e0a3>:8: FutureWarning: The frame.append method is deprecated and will be removed from pandas in a future version. Use pandas.concat instead.\n",
      "  df_address_census_tract = df_address_census_tract.append({'Address':i,'Census_Tract':tc_text},ignore_index=True)\n"
     ]
    },
    {
     "name": "stdout",
     "output_type": "stream",
     "text": [
      "3605 W FOUNTAIN VIEW CT Stillwater OK 74074 0109.02\n"
     ]
    },
    {
     "name": "stderr",
     "output_type": "stream",
     "text": [
      "<ipython-input-135-c99a2411e0a3>:8: FutureWarning: The frame.append method is deprecated and will be removed from pandas in a future version. Use pandas.concat instead.\n",
      "  df_address_census_tract = df_address_census_tract.append({'Address':i,'Census_Tract':tc_text},ignore_index=True)\n"
     ]
    },
    {
     "name": "stdout",
     "output_type": "stream",
     "text": [
      "3607 N SANGRE RD Stillwater OK 74074 0102.01\n"
     ]
    },
    {
     "name": "stderr",
     "output_type": "stream",
     "text": [
      "<ipython-input-135-c99a2411e0a3>:8: FutureWarning: The frame.append method is deprecated and will be removed from pandas in a future version. Use pandas.concat instead.\n",
      "  df_address_census_tract = df_address_census_tract.append({'Address':i,'Census_Tract':tc_text},ignore_index=True)\n"
     ]
    },
    {
     "name": "stdout",
     "output_type": "stream",
     "text": [
      "3608 S FOUNTAIN VIEW DR Stillwater OK 74074 0109.02\n"
     ]
    },
    {
     "name": "stderr",
     "output_type": "stream",
     "text": [
      "<ipython-input-135-c99a2411e0a3>:8: FutureWarning: The frame.append method is deprecated and will be removed from pandas in a future version. Use pandas.concat instead.\n",
      "  df_address_census_tract = df_address_census_tract.append({'Address':i,'Census_Tract':tc_text},ignore_index=True)\n"
     ]
    },
    {
     "name": "stdout",
     "output_type": "stream",
     "text": [
      "3608 W AIRPORT RD Stillwater OK 74075 0102.01\n"
     ]
    },
    {
     "name": "stderr",
     "output_type": "stream",
     "text": [
      "<ipython-input-135-c99a2411e0a3>:8: FutureWarning: The frame.append method is deprecated and will be removed from pandas in a future version. Use pandas.concat instead.\n",
      "  df_address_census_tract = df_address_census_tract.append({'Address':i,'Census_Tract':tc_text},ignore_index=True)\n"
     ]
    },
    {
     "name": "stdout",
     "output_type": "stream",
     "text": [
      "3609 W 15TH AVE Stillwater OK 74074 0109.02\n"
     ]
    },
    {
     "name": "stderr",
     "output_type": "stream",
     "text": [
      "<ipython-input-135-c99a2411e0a3>:8: FutureWarning: The frame.append method is deprecated and will be removed from pandas in a future version. Use pandas.concat instead.\n",
      "  df_address_census_tract = df_address_census_tract.append({'Address':i,'Census_Tract':tc_text},ignore_index=True)\n"
     ]
    },
    {
     "name": "stdout",
     "output_type": "stream",
     "text": [
      "3611 E ANDY KAY LN Stillwater OK 74074 \n"
     ]
    },
    {
     "name": "stderr",
     "output_type": "stream",
     "text": [
      "<ipython-input-135-c99a2411e0a3>:8: FutureWarning: The frame.append method is deprecated and will be removed from pandas in a future version. Use pandas.concat instead.\n",
      "  df_address_census_tract = df_address_census_tract.append({'Address':i,'Census_Tract':tc_text},ignore_index=True)\n"
     ]
    },
    {
     "name": "stdout",
     "output_type": "stream",
     "text": [
      "3612 S SCISSORTAIL DR Stillwater OK 74074 0109.02\n"
     ]
    },
    {
     "name": "stderr",
     "output_type": "stream",
     "text": [
      "<ipython-input-135-c99a2411e0a3>:8: FutureWarning: The frame.append method is deprecated and will be removed from pandas in a future version. Use pandas.concat instead.\n",
      "  df_address_census_tract = df_address_census_tract.append({'Address':i,'Census_Tract':tc_text},ignore_index=True)\n"
     ]
    },
    {
     "name": "stdout",
     "output_type": "stream",
     "text": [
      "3616 S FOUNTAIN VIEW DR Stillwater OK 74074 0109.02\n"
     ]
    },
    {
     "name": "stderr",
     "output_type": "stream",
     "text": [
      "<ipython-input-135-c99a2411e0a3>:8: FutureWarning: The frame.append method is deprecated and will be removed from pandas in a future version. Use pandas.concat instead.\n",
      "  df_address_census_tract = df_address_census_tract.append({'Address':i,'Census_Tract':tc_text},ignore_index=True)\n"
     ]
    },
    {
     "name": "stdout",
     "output_type": "stream",
     "text": [
      "3620 W AIRPORT RD Stillwater OK 74075 0102.01\n"
     ]
    },
    {
     "name": "stderr",
     "output_type": "stream",
     "text": [
      "<ipython-input-135-c99a2411e0a3>:8: FutureWarning: The frame.append method is deprecated and will be removed from pandas in a future version. Use pandas.concat instead.\n",
      "  df_address_census_tract = df_address_census_tract.append({'Address':i,'Census_Tract':tc_text},ignore_index=True)\n"
     ]
    },
    {
     "name": "stdout",
     "output_type": "stream",
     "text": [
      "3621 W BRISTOL AVE Stillwater OK 74074 0109.02\n"
     ]
    },
    {
     "name": "stderr",
     "output_type": "stream",
     "text": [
      "<ipython-input-135-c99a2411e0a3>:8: FutureWarning: The frame.append method is deprecated and will be removed from pandas in a future version. Use pandas.concat instead.\n",
      "  df_address_census_tract = df_address_census_tract.append({'Address':i,'Census_Tract':tc_text},ignore_index=True)\n"
     ]
    },
    {
     "name": "stdout",
     "output_type": "stream",
     "text": [
      "3626 W AIRPORT RD Stillwater OK 74075 0102.01\n"
     ]
    },
    {
     "name": "stderr",
     "output_type": "stream",
     "text": [
      "<ipython-input-135-c99a2411e0a3>:8: FutureWarning: The frame.append method is deprecated and will be removed from pandas in a future version. Use pandas.concat instead.\n",
      "  df_address_census_tract = df_address_census_tract.append({'Address':i,'Census_Tract':tc_text},ignore_index=True)\n"
     ]
    },
    {
     "name": "stdout",
     "output_type": "stream",
     "text": [
      "37 CINDY LN Stillwater OK 74074 0110.01\n"
     ]
    },
    {
     "name": "stderr",
     "output_type": "stream",
     "text": [
      "<ipython-input-135-c99a2411e0a3>:8: FutureWarning: The frame.append method is deprecated and will be removed from pandas in a future version. Use pandas.concat instead.\n",
      "  df_address_census_tract = df_address_census_tract.append({'Address':i,'Census_Tract':tc_text},ignore_index=True)\n"
     ]
    },
    {
     "name": "stdout",
     "output_type": "stream",
     "text": [
      "3701 N AIRPORT LN Stillwater OK 74075 0102.01\n"
     ]
    },
    {
     "name": "stderr",
     "output_type": "stream",
     "text": [
      "<ipython-input-135-c99a2411e0a3>:8: FutureWarning: The frame.append method is deprecated and will be removed from pandas in a future version. Use pandas.concat instead.\n",
      "  df_address_census_tract = df_address_census_tract.append({'Address':i,'Census_Tract':tc_text},ignore_index=True)\n"
     ]
    },
    {
     "name": "stdout",
     "output_type": "stream",
     "text": [
      "3701 S SCISSORTAIL DR Stillwater OK 74074 0109.02\n"
     ]
    },
    {
     "name": "stderr",
     "output_type": "stream",
     "text": [
      "<ipython-input-135-c99a2411e0a3>:8: FutureWarning: The frame.append method is deprecated and will be removed from pandas in a future version. Use pandas.concat instead.\n",
      "  df_address_census_tract = df_address_census_tract.append({'Address':i,'Census_Tract':tc_text},ignore_index=True)\n"
     ]
    },
    {
     "name": "stdout",
     "output_type": "stream",
     "text": [
      "3702 W 44TH AVE Stillwater OK 74074 0109.02\n"
     ]
    },
    {
     "name": "stderr",
     "output_type": "stream",
     "text": [
      "<ipython-input-135-c99a2411e0a3>:8: FutureWarning: The frame.append method is deprecated and will be removed from pandas in a future version. Use pandas.concat instead.\n",
      "  df_address_census_tract = df_address_census_tract.append({'Address':i,'Census_Tract':tc_text},ignore_index=True)\n"
     ]
    },
    {
     "name": "stdout",
     "output_type": "stream",
     "text": [
      "3704 W 15TH AVE Stillwater OK 74074 0109.02\n"
     ]
    },
    {
     "name": "stderr",
     "output_type": "stream",
     "text": [
      "<ipython-input-135-c99a2411e0a3>:8: FutureWarning: The frame.append method is deprecated and will be removed from pandas in a future version. Use pandas.concat instead.\n",
      "  df_address_census_tract = df_address_census_tract.append({'Address':i,'Census_Tract':tc_text},ignore_index=True)\n"
     ]
    },
    {
     "name": "stdout",
     "output_type": "stream",
     "text": [
      "3704 W AIRPORT RD Stillwater OK 74075 0110.01\n"
     ]
    },
    {
     "name": "stderr",
     "output_type": "stream",
     "text": [
      "<ipython-input-135-c99a2411e0a3>:8: FutureWarning: The frame.append method is deprecated and will be removed from pandas in a future version. Use pandas.concat instead.\n",
      "  df_address_census_tract = df_address_census_tract.append({'Address':i,'Census_Tract':tc_text},ignore_index=True)\n"
     ]
    },
    {
     "name": "stdout",
     "output_type": "stream",
     "text": [
      "3706 S FOUNTAIN VIEW DR Stillwater OK 74074 0109.02\n"
     ]
    },
    {
     "name": "stderr",
     "output_type": "stream",
     "text": [
      "<ipython-input-135-c99a2411e0a3>:8: FutureWarning: The frame.append method is deprecated and will be removed from pandas in a future version. Use pandas.concat instead.\n",
      "  df_address_census_tract = df_address_census_tract.append({'Address':i,'Census_Tract':tc_text},ignore_index=True)\n"
     ]
    },
    {
     "name": "stdout",
     "output_type": "stream",
     "text": [
      "3707 N WASHINGTON ST Stillwater OK 74075 0102.01\n"
     ]
    },
    {
     "name": "stderr",
     "output_type": "stream",
     "text": [
      "<ipython-input-135-c99a2411e0a3>:8: FutureWarning: The frame.append method is deprecated and will be removed from pandas in a future version. Use pandas.concat instead.\n",
      "  df_address_census_tract = df_address_census_tract.append({'Address':i,'Census_Tract':tc_text},ignore_index=True)\n"
     ]
    },
    {
     "name": "stdout",
     "output_type": "stream",
     "text": [
      "3707 W BRISTOL AVE Stillwater OK 74074 0109.02\n"
     ]
    },
    {
     "name": "stderr",
     "output_type": "stream",
     "text": [
      "<ipython-input-135-c99a2411e0a3>:8: FutureWarning: The frame.append method is deprecated and will be removed from pandas in a future version. Use pandas.concat instead.\n",
      "  df_address_census_tract = df_address_census_tract.append({'Address':i,'Census_Tract':tc_text},ignore_index=True)\n"
     ]
    },
    {
     "name": "stdout",
     "output_type": "stream",
     "text": [
      "3708 W LAKEVIEW RD Stillwater OK 74075 0110.01\n"
     ]
    },
    {
     "name": "stderr",
     "output_type": "stream",
     "text": [
      "<ipython-input-135-c99a2411e0a3>:8: FutureWarning: The frame.append method is deprecated and will be removed from pandas in a future version. Use pandas.concat instead.\n",
      "  df_address_census_tract = df_address_census_tract.append({'Address':i,'Census_Tract':tc_text},ignore_index=True)\n"
     ]
    },
    {
     "name": "stdout",
     "output_type": "stream",
     "text": [
      "3708 W OWEN'S CT Stillwater OK 74074 0109.02\n"
     ]
    },
    {
     "name": "stderr",
     "output_type": "stream",
     "text": [
      "<ipython-input-135-c99a2411e0a3>:8: FutureWarning: The frame.append method is deprecated and will be removed from pandas in a future version. Use pandas.concat instead.\n",
      "  df_address_census_tract = df_address_census_tract.append({'Address':i,'Census_Tract':tc_text},ignore_index=True)\n"
     ]
    },
    {
     "name": "stdout",
     "output_type": "stream",
     "text": [
      "3709 W 15TH AVE Stillwater OK 74074 0109.02\n"
     ]
    },
    {
     "name": "stderr",
     "output_type": "stream",
     "text": [
      "<ipython-input-135-c99a2411e0a3>:8: FutureWarning: The frame.append method is deprecated and will be removed from pandas in a future version. Use pandas.concat instead.\n",
      "  df_address_census_tract = df_address_census_tract.append({'Address':i,'Census_Tract':tc_text},ignore_index=True)\n"
     ]
    },
    {
     "name": "stdout",
     "output_type": "stream",
     "text": [
      "3709 W OWEN'S CT Stillwater OK 74074 0109.02\n"
     ]
    },
    {
     "name": "stderr",
     "output_type": "stream",
     "text": [
      "<ipython-input-135-c99a2411e0a3>:8: FutureWarning: The frame.append method is deprecated and will be removed from pandas in a future version. Use pandas.concat instead.\n",
      "  df_address_census_tract = df_address_census_tract.append({'Address':i,'Census_Tract':tc_text},ignore_index=True)\n"
     ]
    },
    {
     "name": "stdout",
     "output_type": "stream",
     "text": [
      "3710 W OWEN'S CT Stillwater OK 74074 0109.02\n"
     ]
    },
    {
     "name": "stderr",
     "output_type": "stream",
     "text": [
      "<ipython-input-135-c99a2411e0a3>:8: FutureWarning: The frame.append method is deprecated and will be removed from pandas in a future version. Use pandas.concat instead.\n",
      "  df_address_census_tract = df_address_census_tract.append({'Address':i,'Census_Tract':tc_text},ignore_index=True)\n"
     ]
    },
    {
     "name": "stdout",
     "output_type": "stream",
     "text": [
      "3711 W OWEN'S CT Stillwater OK 74074 0109.02\n"
     ]
    },
    {
     "name": "stderr",
     "output_type": "stream",
     "text": [
      "<ipython-input-135-c99a2411e0a3>:8: FutureWarning: The frame.append method is deprecated and will be removed from pandas in a future version. Use pandas.concat instead.\n",
      "  df_address_census_tract = df_address_census_tract.append({'Address':i,'Census_Tract':tc_text},ignore_index=True)\n"
     ]
    },
    {
     "name": "stdout",
     "output_type": "stream",
     "text": [
      "3713 W BRISTOL AVE Stillwater OK 74074 0109.02\n"
     ]
    },
    {
     "name": "stderr",
     "output_type": "stream",
     "text": [
      "<ipython-input-135-c99a2411e0a3>:8: FutureWarning: The frame.append method is deprecated and will be removed from pandas in a future version. Use pandas.concat instead.\n",
      "  df_address_census_tract = df_address_census_tract.append({'Address':i,'Census_Tract':tc_text},ignore_index=True)\n"
     ]
    },
    {
     "name": "stdout",
     "output_type": "stream",
     "text": [
      "3716 W 15TH AVE Stillwater OK 74074 0109.02\n"
     ]
    },
    {
     "name": "stderr",
     "output_type": "stream",
     "text": [
      "<ipython-input-135-c99a2411e0a3>:8: FutureWarning: The frame.append method is deprecated and will be removed from pandas in a future version. Use pandas.concat instead.\n",
      "  df_address_census_tract = df_address_census_tract.append({'Address':i,'Census_Tract':tc_text},ignore_index=True)\n"
     ]
    },
    {
     "name": "stdout",
     "output_type": "stream",
     "text": [
      "3716 W OWEN'S CT Stillwater OK 74074 0109.02\n"
     ]
    },
    {
     "name": "stderr",
     "output_type": "stream",
     "text": [
      "<ipython-input-135-c99a2411e0a3>:8: FutureWarning: The frame.append method is deprecated and will be removed from pandas in a future version. Use pandas.concat instead.\n",
      "  df_address_census_tract = df_address_census_tract.append({'Address':i,'Census_Tract':tc_text},ignore_index=True)\n"
     ]
    },
    {
     "name": "stdout",
     "output_type": "stream",
     "text": [
      "3717 N MONROE ST Stillwater OK 74075 0102.01\n"
     ]
    },
    {
     "name": "stderr",
     "output_type": "stream",
     "text": [
      "<ipython-input-135-c99a2411e0a3>:8: FutureWarning: The frame.append method is deprecated and will be removed from pandas in a future version. Use pandas.concat instead.\n",
      "  df_address_census_tract = df_address_census_tract.append({'Address':i,'Census_Tract':tc_text},ignore_index=True)\n"
     ]
    },
    {
     "name": "stdout",
     "output_type": "stream",
     "text": [
      "3717 W OWEN'S CT Stillwater OK 74074 0109.02\n"
     ]
    },
    {
     "name": "stderr",
     "output_type": "stream",
     "text": [
      "<ipython-input-135-c99a2411e0a3>:8: FutureWarning: The frame.append method is deprecated and will be removed from pandas in a future version. Use pandas.concat instead.\n",
      "  df_address_census_tract = df_address_census_tract.append({'Address':i,'Census_Tract':tc_text},ignore_index=True)\n"
     ]
    },
    {
     "name": "stdout",
     "output_type": "stream",
     "text": [
      "3718 N MONROE ST Stillwater OK 74075 0102.01\n"
     ]
    },
    {
     "name": "stderr",
     "output_type": "stream",
     "text": [
      "<ipython-input-135-c99a2411e0a3>:8: FutureWarning: The frame.append method is deprecated and will be removed from pandas in a future version. Use pandas.concat instead.\n",
      "  df_address_census_tract = df_address_census_tract.append({'Address':i,'Census_Tract':tc_text},ignore_index=True)\n"
     ]
    },
    {
     "name": "stdout",
     "output_type": "stream",
     "text": [
      "3719 N MONROE ST Stillwater OK 74075 0102.01\n"
     ]
    },
    {
     "name": "stderr",
     "output_type": "stream",
     "text": [
      "<ipython-input-135-c99a2411e0a3>:8: FutureWarning: The frame.append method is deprecated and will be removed from pandas in a future version. Use pandas.concat instead.\n",
      "  df_address_census_tract = df_address_census_tract.append({'Address':i,'Census_Tract':tc_text},ignore_index=True)\n"
     ]
    },
    {
     "name": "stdout",
     "output_type": "stream",
     "text": [
      "3720 N MONROE ST Stillwater OK 74075 0102.01\n"
     ]
    },
    {
     "name": "stderr",
     "output_type": "stream",
     "text": [
      "<ipython-input-135-c99a2411e0a3>:8: FutureWarning: The frame.append method is deprecated and will be removed from pandas in a future version. Use pandas.concat instead.\n",
      "  df_address_census_tract = df_address_census_tract.append({'Address':i,'Census_Tract':tc_text},ignore_index=True)\n"
     ]
    },
    {
     "name": "stdout",
     "output_type": "stream",
     "text": [
      "3720 W BRISTOL AVE Stillwater OK 74074 0109.02\n"
     ]
    },
    {
     "name": "stderr",
     "output_type": "stream",
     "text": [
      "<ipython-input-135-c99a2411e0a3>:8: FutureWarning: The frame.append method is deprecated and will be removed from pandas in a future version. Use pandas.concat instead.\n",
      "  df_address_census_tract = df_address_census_tract.append({'Address':i,'Census_Tract':tc_text},ignore_index=True)\n"
     ]
    },
    {
     "name": "stdout",
     "output_type": "stream",
     "text": [
      "3720 W OWEN'S CT Stillwater OK 74074 0109.02\n"
     ]
    },
    {
     "name": "stderr",
     "output_type": "stream",
     "text": [
      "<ipython-input-135-c99a2411e0a3>:8: FutureWarning: The frame.append method is deprecated and will be removed from pandas in a future version. Use pandas.concat instead.\n",
      "  df_address_census_tract = df_address_census_tract.append({'Address':i,'Census_Tract':tc_text},ignore_index=True)\n"
     ]
    },
    {
     "name": "stdout",
     "output_type": "stream",
     "text": [
      "3721 N MONROE ST Stillwater OK 74075 0102.01\n"
     ]
    },
    {
     "name": "stderr",
     "output_type": "stream",
     "text": [
      "<ipython-input-135-c99a2411e0a3>:8: FutureWarning: The frame.append method is deprecated and will be removed from pandas in a future version. Use pandas.concat instead.\n",
      "  df_address_census_tract = df_address_census_tract.append({'Address':i,'Census_Tract':tc_text},ignore_index=True)\n"
     ]
    },
    {
     "name": "stdout",
     "output_type": "stream",
     "text": [
      "3721 W 15TH AVE Stillwater OK 74074 0109.02\n"
     ]
    },
    {
     "name": "stderr",
     "output_type": "stream",
     "text": [
      "<ipython-input-135-c99a2411e0a3>:8: FutureWarning: The frame.append method is deprecated and will be removed from pandas in a future version. Use pandas.concat instead.\n",
      "  df_address_census_tract = df_address_census_tract.append({'Address':i,'Census_Tract':tc_text},ignore_index=True)\n"
     ]
    },
    {
     "name": "stdout",
     "output_type": "stream",
     "text": [
      "3721 W OWEN'S CT Stillwater OK 74074 0109.02\n"
     ]
    },
    {
     "name": "stderr",
     "output_type": "stream",
     "text": [
      "<ipython-input-135-c99a2411e0a3>:8: FutureWarning: The frame.append method is deprecated and will be removed from pandas in a future version. Use pandas.concat instead.\n",
      "  df_address_census_tract = df_address_census_tract.append({'Address':i,'Census_Tract':tc_text},ignore_index=True)\n"
     ]
    },
    {
     "name": "stdout",
     "output_type": "stream",
     "text": [
      "3722 N MONROE ST Stillwater OK 74075 0102.01\n"
     ]
    },
    {
     "name": "stderr",
     "output_type": "stream",
     "text": [
      "<ipython-input-135-c99a2411e0a3>:8: FutureWarning: The frame.append method is deprecated and will be removed from pandas in a future version. Use pandas.concat instead.\n",
      "  df_address_census_tract = df_address_census_tract.append({'Address':i,'Census_Tract':tc_text},ignore_index=True)\n"
     ]
    },
    {
     "name": "stdout",
     "output_type": "stream",
     "text": [
      "3722 W 15TH AVE Stillwater OK 74074 0109.02\n"
     ]
    },
    {
     "name": "stderr",
     "output_type": "stream",
     "text": [
      "<ipython-input-135-c99a2411e0a3>:8: FutureWarning: The frame.append method is deprecated and will be removed from pandas in a future version. Use pandas.concat instead.\n",
      "  df_address_census_tract = df_address_census_tract.append({'Address':i,'Census_Tract':tc_text},ignore_index=True)\n"
     ]
    },
    {
     "name": "stdout",
     "output_type": "stream",
     "text": [
      "3723 N MONROE ST Stillwater OK 74075 0102.01\n"
     ]
    },
    {
     "name": "stderr",
     "output_type": "stream",
     "text": [
      "<ipython-input-135-c99a2411e0a3>:8: FutureWarning: The frame.append method is deprecated and will be removed from pandas in a future version. Use pandas.concat instead.\n",
      "  df_address_census_tract = df_address_census_tract.append({'Address':i,'Census_Tract':tc_text},ignore_index=True)\n"
     ]
    },
    {
     "name": "stdout",
     "output_type": "stream",
     "text": [
      "3723 N WASHINGTON ST Stillwater OK 74075 0102.01\n"
     ]
    },
    {
     "name": "stderr",
     "output_type": "stream",
     "text": [
      "<ipython-input-135-c99a2411e0a3>:8: FutureWarning: The frame.append method is deprecated and will be removed from pandas in a future version. Use pandas.concat instead.\n",
      "  df_address_census_tract = df_address_census_tract.append({'Address':i,'Census_Tract':tc_text},ignore_index=True)\n"
     ]
    },
    {
     "name": "stdout",
     "output_type": "stream",
     "text": [
      "3723 W 15TH AVE Stillwater OK 74074 0109.02\n"
     ]
    },
    {
     "name": "stderr",
     "output_type": "stream",
     "text": [
      "<ipython-input-135-c99a2411e0a3>:8: FutureWarning: The frame.append method is deprecated and will be removed from pandas in a future version. Use pandas.concat instead.\n",
      "  df_address_census_tract = df_address_census_tract.append({'Address':i,'Census_Tract':tc_text},ignore_index=True)\n"
     ]
    },
    {
     "name": "stdout",
     "output_type": "stream",
     "text": [
      "3723 W OWEN'S CT Stillwater OK 74074 0109.02\n"
     ]
    },
    {
     "name": "stderr",
     "output_type": "stream",
     "text": [
      "<ipython-input-135-c99a2411e0a3>:8: FutureWarning: The frame.append method is deprecated and will be removed from pandas in a future version. Use pandas.concat instead.\n",
      "  df_address_census_tract = df_address_census_tract.append({'Address':i,'Census_Tract':tc_text},ignore_index=True)\n"
     ]
    },
    {
     "name": "stdout",
     "output_type": "stream",
     "text": [
      "3724 N AIRPORT LN Stillwater OK 74075 0102.01\n"
     ]
    },
    {
     "name": "stderr",
     "output_type": "stream",
     "text": [
      "<ipython-input-135-c99a2411e0a3>:8: FutureWarning: The frame.append method is deprecated and will be removed from pandas in a future version. Use pandas.concat instead.\n",
      "  df_address_census_tract = df_address_census_tract.append({'Address':i,'Census_Tract':tc_text},ignore_index=True)\n"
     ]
    },
    {
     "name": "stdout",
     "output_type": "stream",
     "text": [
      "3724 N MONROE ST Stillwater OK 74075 0102.01\n"
     ]
    },
    {
     "name": "stderr",
     "output_type": "stream",
     "text": [
      "<ipython-input-135-c99a2411e0a3>:8: FutureWarning: The frame.append method is deprecated and will be removed from pandas in a future version. Use pandas.concat instead.\n",
      "  df_address_census_tract = df_address_census_tract.append({'Address':i,'Census_Tract':tc_text},ignore_index=True)\n"
     ]
    },
    {
     "name": "stdout",
     "output_type": "stream",
     "text": [
      "38 WINDSOR CIR Stillwater OK 74074 0109.01\n"
     ]
    },
    {
     "name": "stderr",
     "output_type": "stream",
     "text": [
      "<ipython-input-135-c99a2411e0a3>:8: FutureWarning: The frame.append method is deprecated and will be removed from pandas in a future version. Use pandas.concat instead.\n",
      "  df_address_census_tract = df_address_census_tract.append({'Address':i,'Census_Tract':tc_text},ignore_index=True)\n"
     ]
    },
    {
     "name": "stdout",
     "output_type": "stream",
     "text": [
      "3801 N AIRPORT LN Stillwater OK 74075 0102.01\n"
     ]
    },
    {
     "name": "stderr",
     "output_type": "stream",
     "text": [
      "<ipython-input-135-c99a2411e0a3>:8: FutureWarning: The frame.append method is deprecated and will be removed from pandas in a future version. Use pandas.concat instead.\n",
      "  df_address_census_tract = df_address_census_tract.append({'Address':i,'Census_Tract':tc_text},ignore_index=True)\n"
     ]
    },
    {
     "name": "stdout",
     "output_type": "stream",
     "text": [
      "3801 N MONROE ST Stillwater OK 74075 0102.01\n"
     ]
    },
    {
     "name": "stderr",
     "output_type": "stream",
     "text": [
      "<ipython-input-135-c99a2411e0a3>:8: FutureWarning: The frame.append method is deprecated and will be removed from pandas in a future version. Use pandas.concat instead.\n",
      "  df_address_census_tract = df_address_census_tract.append({'Address':i,'Census_Tract':tc_text},ignore_index=True)\n"
     ]
    },
    {
     "name": "stdout",
     "output_type": "stream",
     "text": [
      "3802 N AIRPORT LN Stillwater OK 74075 0102.01\n"
     ]
    },
    {
     "name": "stderr",
     "output_type": "stream",
     "text": [
      "<ipython-input-135-c99a2411e0a3>:8: FutureWarning: The frame.append method is deprecated and will be removed from pandas in a future version. Use pandas.concat instead.\n",
      "  df_address_census_tract = df_address_census_tract.append({'Address':i,'Census_Tract':tc_text},ignore_index=True)\n"
     ]
    },
    {
     "name": "stdout",
     "output_type": "stream",
     "text": [
      "3802 N MONROE ST Stillwater OK 74075 0102.01\n"
     ]
    },
    {
     "name": "stderr",
     "output_type": "stream",
     "text": [
      "<ipython-input-135-c99a2411e0a3>:8: FutureWarning: The frame.append method is deprecated and will be removed from pandas in a future version. Use pandas.concat instead.\n",
      "  df_address_census_tract = df_address_census_tract.append({'Address':i,'Census_Tract':tc_text},ignore_index=True)\n"
     ]
    },
    {
     "name": "stdout",
     "output_type": "stream",
     "text": [
      "3802 W 15TH AVE Stillwater OK 74074 0109.02\n"
     ]
    },
    {
     "name": "stderr",
     "output_type": "stream",
     "text": [
      "<ipython-input-135-c99a2411e0a3>:8: FutureWarning: The frame.append method is deprecated and will be removed from pandas in a future version. Use pandas.concat instead.\n",
      "  df_address_census_tract = df_address_census_tract.append({'Address':i,'Census_Tract':tc_text},ignore_index=True)\n"
     ]
    },
    {
     "name": "stdout",
     "output_type": "stream",
     "text": [
      "3802 W AIRPORT RD Stillwater OK 74075 0110.01\n"
     ]
    },
    {
     "name": "stderr",
     "output_type": "stream",
     "text": [
      "<ipython-input-135-c99a2411e0a3>:8: FutureWarning: The frame.append method is deprecated and will be removed from pandas in a future version. Use pandas.concat instead.\n",
      "  df_address_census_tract = df_address_census_tract.append({'Address':i,'Census_Tract':tc_text},ignore_index=True)\n"
     ]
    },
    {
     "name": "stdout",
     "output_type": "stream",
     "text": [
      "3802 W EAGLE CREEK AVE Stillwater OK 74074 0109.02\n"
     ]
    },
    {
     "name": "stderr",
     "output_type": "stream",
     "text": [
      "<ipython-input-135-c99a2411e0a3>:8: FutureWarning: The frame.append method is deprecated and will be removed from pandas in a future version. Use pandas.concat instead.\n",
      "  df_address_census_tract = df_address_census_tract.append({'Address':i,'Census_Tract':tc_text},ignore_index=True)\n"
     ]
    },
    {
     "name": "stdout",
     "output_type": "stream",
     "text": [
      "3803 W BRISTOL AVE Stillwater OK 74074 0109.02\n"
     ]
    },
    {
     "name": "stderr",
     "output_type": "stream",
     "text": [
      "<ipython-input-135-c99a2411e0a3>:8: FutureWarning: The frame.append method is deprecated and will be removed from pandas in a future version. Use pandas.concat instead.\n",
      "  df_address_census_tract = df_address_census_tract.append({'Address':i,'Census_Tract':tc_text},ignore_index=True)\n"
     ]
    },
    {
     "name": "stdout",
     "output_type": "stream",
     "text": [
      "3804 W BRISTOL AVE Stillwater OK 74074 0109.02\n"
     ]
    },
    {
     "name": "stderr",
     "output_type": "stream",
     "text": [
      "<ipython-input-135-c99a2411e0a3>:8: FutureWarning: The frame.append method is deprecated and will be removed from pandas in a future version. Use pandas.concat instead.\n",
      "  df_address_census_tract = df_address_census_tract.append({'Address':i,'Census_Tract':tc_text},ignore_index=True)\n"
     ]
    },
    {
     "name": "stdout",
     "output_type": "stream",
     "text": [
      "3805 E JUDY'S DR Stillwater OK 74074 \n"
     ]
    },
    {
     "name": "stderr",
     "output_type": "stream",
     "text": [
      "<ipython-input-135-c99a2411e0a3>:8: FutureWarning: The frame.append method is deprecated and will be removed from pandas in a future version. Use pandas.concat instead.\n",
      "  df_address_census_tract = df_address_census_tract.append({'Address':i,'Census_Tract':tc_text},ignore_index=True)\n"
     ]
    },
    {
     "name": "stdout",
     "output_type": "stream",
     "text": [
      "3806 W 15TH AVE Stillwater OK 74074 0109.02\n"
     ]
    },
    {
     "name": "stderr",
     "output_type": "stream",
     "text": [
      "<ipython-input-135-c99a2411e0a3>:8: FutureWarning: The frame.append method is deprecated and will be removed from pandas in a future version. Use pandas.concat instead.\n",
      "  df_address_census_tract = df_address_census_tract.append({'Address':i,'Census_Tract':tc_text},ignore_index=True)\n"
     ]
    },
    {
     "name": "stdout",
     "output_type": "stream",
     "text": [
      "3806 W EAGLE CREEK AVE Stillwater OK 74074 0109.02\n"
     ]
    },
    {
     "name": "stderr",
     "output_type": "stream",
     "text": [
      "<ipython-input-135-c99a2411e0a3>:8: FutureWarning: The frame.append method is deprecated and will be removed from pandas in a future version. Use pandas.concat instead.\n",
      "  df_address_census_tract = df_address_census_tract.append({'Address':i,'Census_Tract':tc_text},ignore_index=True)\n"
     ]
    },
    {
     "name": "stdout",
     "output_type": "stream",
     "text": [
      "3807 W EAGLE CREEK AVE Stillwater OK 74074 0109.02\n"
     ]
    },
    {
     "name": "stderr",
     "output_type": "stream",
     "text": [
      "<ipython-input-135-c99a2411e0a3>:8: FutureWarning: The frame.append method is deprecated and will be removed from pandas in a future version. Use pandas.concat instead.\n",
      "  df_address_census_tract = df_address_census_tract.append({'Address':i,'Census_Tract':tc_text},ignore_index=True)\n"
     ]
    },
    {
     "name": "stdout",
     "output_type": "stream",
     "text": [
      "3810 N AIRPORT LN Stillwater OK 74075 0102.01\n"
     ]
    },
    {
     "name": "stderr",
     "output_type": "stream",
     "text": [
      "<ipython-input-135-c99a2411e0a3>:8: FutureWarning: The frame.append method is deprecated and will be removed from pandas in a future version. Use pandas.concat instead.\n",
      "  df_address_census_tract = df_address_census_tract.append({'Address':i,'Census_Tract':tc_text},ignore_index=True)\n"
     ]
    },
    {
     "name": "stdout",
     "output_type": "stream",
     "text": [
      "3810 W AIRPORT RD Stillwater OK 74075 0110.01\n"
     ]
    },
    {
     "name": "stderr",
     "output_type": "stream",
     "text": [
      "<ipython-input-135-c99a2411e0a3>:8: FutureWarning: The frame.append method is deprecated and will be removed from pandas in a future version. Use pandas.concat instead.\n",
      "  df_address_census_tract = df_address_census_tract.append({'Address':i,'Census_Tract':tc_text},ignore_index=True)\n"
     ]
    },
    {
     "name": "stdout",
     "output_type": "stream",
     "text": [
      "3810 W GLENCOE RD Stillwater OK 74074 0110.01\n"
     ]
    },
    {
     "name": "stderr",
     "output_type": "stream",
     "text": [
      "<ipython-input-135-c99a2411e0a3>:8: FutureWarning: The frame.append method is deprecated and will be removed from pandas in a future version. Use pandas.concat instead.\n",
      "  df_address_census_tract = df_address_census_tract.append({'Address':i,'Census_Tract':tc_text},ignore_index=True)\n"
     ]
    },
    {
     "name": "stdout",
     "output_type": "stream",
     "text": [
      "3811 N MONROE ST Stillwater OK 74075 0102.01\n"
     ]
    },
    {
     "name": "stderr",
     "output_type": "stream",
     "text": [
      "<ipython-input-135-c99a2411e0a3>:8: FutureWarning: The frame.append method is deprecated and will be removed from pandas in a future version. Use pandas.concat instead.\n",
      "  df_address_census_tract = df_address_census_tract.append({'Address':i,'Census_Tract':tc_text},ignore_index=True)\n"
     ]
    },
    {
     "name": "stdout",
     "output_type": "stream",
     "text": [
      "3813 N MONROE ST Stillwater OK 74075 0102.01\n"
     ]
    },
    {
     "name": "stderr",
     "output_type": "stream",
     "text": [
      "<ipython-input-135-c99a2411e0a3>:8: FutureWarning: The frame.append method is deprecated and will be removed from pandas in a future version. Use pandas.concat instead.\n",
      "  df_address_census_tract = df_address_census_tract.append({'Address':i,'Census_Tract':tc_text},ignore_index=True)\n"
     ]
    },
    {
     "name": "stdout",
     "output_type": "stream",
     "text": [
      "3814 N MONROE ST Stillwater OK 74075 0102.01\n"
     ]
    },
    {
     "name": "stderr",
     "output_type": "stream",
     "text": [
      "<ipython-input-135-c99a2411e0a3>:8: FutureWarning: The frame.append method is deprecated and will be removed from pandas in a future version. Use pandas.concat instead.\n",
      "  df_address_census_tract = df_address_census_tract.append({'Address':i,'Census_Tract':tc_text},ignore_index=True)\n"
     ]
    },
    {
     "name": "stdout",
     "output_type": "stream",
     "text": [
      "3814 W 15TH AVE Stillwater OK 74074 0109.02\n"
     ]
    },
    {
     "name": "stderr",
     "output_type": "stream",
     "text": [
      "<ipython-input-135-c99a2411e0a3>:8: FutureWarning: The frame.append method is deprecated and will be removed from pandas in a future version. Use pandas.concat instead.\n",
      "  df_address_census_tract = df_address_census_tract.append({'Address':i,'Census_Tract':tc_text},ignore_index=True)\n"
     ]
    },
    {
     "name": "stdout",
     "output_type": "stream",
     "text": [
      "3815 N AIRPORT LN Stillwater OK 74075 0102.01\n"
     ]
    },
    {
     "name": "stderr",
     "output_type": "stream",
     "text": [
      "<ipython-input-135-c99a2411e0a3>:8: FutureWarning: The frame.append method is deprecated and will be removed from pandas in a future version. Use pandas.concat instead.\n",
      "  df_address_census_tract = df_address_census_tract.append({'Address':i,'Census_Tract':tc_text},ignore_index=True)\n"
     ]
    },
    {
     "name": "stdout",
     "output_type": "stream",
     "text": [
      "3816 N SANGRE RD Stillwater OK 74075 0110.01\n"
     ]
    },
    {
     "name": "stderr",
     "output_type": "stream",
     "text": [
      "<ipython-input-135-c99a2411e0a3>:8: FutureWarning: The frame.append method is deprecated and will be removed from pandas in a future version. Use pandas.concat instead.\n",
      "  df_address_census_tract = df_address_census_tract.append({'Address':i,'Census_Tract':tc_text},ignore_index=True)\n"
     ]
    },
    {
     "name": "stdout",
     "output_type": "stream",
     "text": [
      "3817 N MONROE ST Stillwater OK 74075 0102.01\n"
     ]
    },
    {
     "name": "stderr",
     "output_type": "stream",
     "text": [
      "<ipython-input-135-c99a2411e0a3>:8: FutureWarning: The frame.append method is deprecated and will be removed from pandas in a future version. Use pandas.concat instead.\n",
      "  df_address_census_tract = df_address_census_tract.append({'Address':i,'Census_Tract':tc_text},ignore_index=True)\n"
     ]
    },
    {
     "name": "stdout",
     "output_type": "stream",
     "text": [
      "3818 E 6TH AVE Stillwater OK 74074 0111.01\n"
     ]
    },
    {
     "name": "stderr",
     "output_type": "stream",
     "text": [
      "<ipython-input-135-c99a2411e0a3>:8: FutureWarning: The frame.append method is deprecated and will be removed from pandas in a future version. Use pandas.concat instead.\n",
      "  df_address_census_tract = df_address_census_tract.append({'Address':i,'Census_Tract':tc_text},ignore_index=True)\n"
     ]
    },
    {
     "name": "stdout",
     "output_type": "stream",
     "text": [
      "3820 N AIRPORT LN Stillwater OK 74075 0102.01\n"
     ]
    },
    {
     "name": "stderr",
     "output_type": "stream",
     "text": [
      "<ipython-input-135-c99a2411e0a3>:8: FutureWarning: The frame.append method is deprecated and will be removed from pandas in a future version. Use pandas.concat instead.\n",
      "  df_address_census_tract = df_address_census_tract.append({'Address':i,'Census_Tract':tc_text},ignore_index=True)\n"
     ]
    },
    {
     "name": "stdout",
     "output_type": "stream",
     "text": [
      "3820 S HENDERSON ST Stillwater OK 74074 0111.01\n"
     ]
    },
    {
     "name": "stderr",
     "output_type": "stream",
     "text": [
      "<ipython-input-135-c99a2411e0a3>:8: FutureWarning: The frame.append method is deprecated and will be removed from pandas in a future version. Use pandas.concat instead.\n",
      "  df_address_census_tract = df_address_census_tract.append({'Address':i,'Census_Tract':tc_text},ignore_index=True)\n"
     ]
    },
    {
     "name": "stdout",
     "output_type": "stream",
     "text": [
      "3820 S QUAIL CREEK FARMS RD Stillwater OK 74074 \n"
     ]
    },
    {
     "name": "stderr",
     "output_type": "stream",
     "text": [
      "<ipython-input-135-c99a2411e0a3>:8: FutureWarning: The frame.append method is deprecated and will be removed from pandas in a future version. Use pandas.concat instead.\n",
      "  df_address_census_tract = df_address_census_tract.append({'Address':i,'Census_Tract':tc_text},ignore_index=True)\n"
     ]
    },
    {
     "name": "stdout",
     "output_type": "stream",
     "text": [
      "3820 W 15TH AVE Stillwater OK 74074 0109.02\n"
     ]
    },
    {
     "name": "stderr",
     "output_type": "stream",
     "text": [
      "<ipython-input-135-c99a2411e0a3>:8: FutureWarning: The frame.append method is deprecated and will be removed from pandas in a future version. Use pandas.concat instead.\n",
      "  df_address_census_tract = df_address_census_tract.append({'Address':i,'Census_Tract':tc_text},ignore_index=True)\n"
     ]
    },
    {
     "name": "stdout",
     "output_type": "stream",
     "text": [
      "3822 N MONROE ST Stillwater OK 74075 0102.01\n"
     ]
    },
    {
     "name": "stderr",
     "output_type": "stream",
     "text": [
      "<ipython-input-135-c99a2411e0a3>:8: FutureWarning: The frame.append method is deprecated and will be removed from pandas in a future version. Use pandas.concat instead.\n",
      "  df_address_census_tract = df_address_census_tract.append({'Address':i,'Census_Tract':tc_text},ignore_index=True)\n"
     ]
    },
    {
     "name": "stdout",
     "output_type": "stream",
     "text": [
      "3822 N SANGRE RD Stillwater OK 74075 0110.01\n"
     ]
    },
    {
     "name": "stderr",
     "output_type": "stream",
     "text": [
      "<ipython-input-135-c99a2411e0a3>:8: FutureWarning: The frame.append method is deprecated and will be removed from pandas in a future version. Use pandas.concat instead.\n",
      "  df_address_census_tract = df_address_census_tract.append({'Address':i,'Census_Tract':tc_text},ignore_index=True)\n"
     ]
    },
    {
     "name": "stdout",
     "output_type": "stream",
     "text": [
      "3823 N MONROE ST Stillwater OK 74075 0102.01\n"
     ]
    },
    {
     "name": "stderr",
     "output_type": "stream",
     "text": [
      "<ipython-input-135-c99a2411e0a3>:8: FutureWarning: The frame.append method is deprecated and will be removed from pandas in a future version. Use pandas.concat instead.\n",
      "  df_address_census_tract = df_address_census_tract.append({'Address':i,'Census_Tract':tc_text},ignore_index=True)\n"
     ]
    },
    {
     "name": "stdout",
     "output_type": "stream",
     "text": [
      "3823 N WASHINGTON ST Stillwater OK 74075 0102.01\n"
     ]
    },
    {
     "name": "stderr",
     "output_type": "stream",
     "text": [
      "<ipython-input-135-c99a2411e0a3>:8: FutureWarning: The frame.append method is deprecated and will be removed from pandas in a future version. Use pandas.concat instead.\n",
      "  df_address_census_tract = df_address_census_tract.append({'Address':i,'Census_Tract':tc_text},ignore_index=True)\n"
     ]
    },
    {
     "name": "stdout",
     "output_type": "stream",
     "text": [
      "3824 N MONROE ST Stillwater OK 74075 0102.01\n"
     ]
    },
    {
     "name": "stderr",
     "output_type": "stream",
     "text": [
      "<ipython-input-135-c99a2411e0a3>:8: FutureWarning: The frame.append method is deprecated and will be removed from pandas in a future version. Use pandas.concat instead.\n",
      "  df_address_census_tract = df_address_census_tract.append({'Address':i,'Census_Tract':tc_text},ignore_index=True)\n"
     ]
    },
    {
     "name": "stdout",
     "output_type": "stream",
     "text": [
      "3901 W YORKSHIRE DR Stillwater OK 74074 0109.02\n"
     ]
    },
    {
     "name": "stderr",
     "output_type": "stream",
     "text": [
      "<ipython-input-135-c99a2411e0a3>:8: FutureWarning: The frame.append method is deprecated and will be removed from pandas in a future version. Use pandas.concat instead.\n",
      "  df_address_census_tract = df_address_census_tract.append({'Address':i,'Census_Tract':tc_text},ignore_index=True)\n"
     ]
    },
    {
     "name": "stdout",
     "output_type": "stream",
     "text": [
      "3903 E MCELROY RD Stillwater OK 74075 0111.01\n"
     ]
    },
    {
     "name": "stderr",
     "output_type": "stream",
     "text": [
      "<ipython-input-135-c99a2411e0a3>:8: FutureWarning: The frame.append method is deprecated and will be removed from pandas in a future version. Use pandas.concat instead.\n",
      "  df_address_census_tract = df_address_census_tract.append({'Address':i,'Census_Tract':tc_text},ignore_index=True)\n"
     ]
    },
    {
     "name": "stdout",
     "output_type": "stream",
     "text": [
      "3911 W RUTLEDGE DR Stillwater OK 74075 0110.01\n"
     ]
    },
    {
     "name": "stderr",
     "output_type": "stream",
     "text": [
      "<ipython-input-135-c99a2411e0a3>:8: FutureWarning: The frame.append method is deprecated and will be removed from pandas in a future version. Use pandas.concat instead.\n",
      "  df_address_census_tract = df_address_census_tract.append({'Address':i,'Census_Tract':tc_text},ignore_index=True)\n"
     ]
    },
    {
     "name": "stdout",
     "output_type": "stream",
     "text": [
      "3914 W AIRPORT RD Stillwater OK 74075 0110.01\n"
     ]
    },
    {
     "name": "stderr",
     "output_type": "stream",
     "text": [
      "<ipython-input-135-c99a2411e0a3>:8: FutureWarning: The frame.append method is deprecated and will be removed from pandas in a future version. Use pandas.concat instead.\n",
      "  df_address_census_tract = df_address_census_tract.append({'Address':i,'Census_Tract':tc_text},ignore_index=True)\n"
     ]
    },
    {
     "name": "stdout",
     "output_type": "stream",
     "text": [
      "3915 W 15TH AVE Stillwater OK 74074 0109.02\n"
     ]
    },
    {
     "name": "stderr",
     "output_type": "stream",
     "text": [
      "<ipython-input-135-c99a2411e0a3>:8: FutureWarning: The frame.append method is deprecated and will be removed from pandas in a future version. Use pandas.concat instead.\n",
      "  df_address_census_tract = df_address_census_tract.append({'Address':i,'Census_Tract':tc_text},ignore_index=True)\n"
     ]
    },
    {
     "name": "stdout",
     "output_type": "stream",
     "text": [
      "3915 W WESTBROOK DR Stillwater OK 74074 0109.02\n"
     ]
    },
    {
     "name": "stderr",
     "output_type": "stream",
     "text": [
      "<ipython-input-135-c99a2411e0a3>:8: FutureWarning: The frame.append method is deprecated and will be removed from pandas in a future version. Use pandas.concat instead.\n",
      "  df_address_census_tract = df_address_census_tract.append({'Address':i,'Census_Tract':tc_text},ignore_index=True)\n"
     ]
    },
    {
     "name": "stdout",
     "output_type": "stream",
     "text": [
      "3916 S TIMBERLINE DR Stillwater OK 74074 0110.02\n"
     ]
    },
    {
     "name": "stderr",
     "output_type": "stream",
     "text": [
      "<ipython-input-135-c99a2411e0a3>:8: FutureWarning: The frame.append method is deprecated and will be removed from pandas in a future version. Use pandas.concat instead.\n",
      "  df_address_census_tract = df_address_census_tract.append({'Address':i,'Census_Tract':tc_text},ignore_index=True)\n"
     ]
    },
    {
     "name": "stdout",
     "output_type": "stream",
     "text": [
      "4 CANYON RIM DR Stillwater OK 74074 \n"
     ]
    },
    {
     "name": "stderr",
     "output_type": "stream",
     "text": [
      "<ipython-input-135-c99a2411e0a3>:8: FutureWarning: The frame.append method is deprecated and will be removed from pandas in a future version. Use pandas.concat instead.\n",
      "  df_address_census_tract = df_address_census_tract.append({'Address':i,'Census_Tract':tc_text},ignore_index=True)\n"
     ]
    },
    {
     "name": "stdout",
     "output_type": "stream",
     "text": [
      "4 SUMMIT CIR Stillwater OK 74075 0106.00\n"
     ]
    },
    {
     "name": "stderr",
     "output_type": "stream",
     "text": [
      "<ipython-input-135-c99a2411e0a3>:8: FutureWarning: The frame.append method is deprecated and will be removed from pandas in a future version. Use pandas.concat instead.\n",
      "  df_address_census_tract = df_address_census_tract.append({'Address':i,'Census_Tract':tc_text},ignore_index=True)\n"
     ]
    },
    {
     "name": "stdout",
     "output_type": "stream",
     "text": [
      "400 S SQUIRES LANDING BLVD Stillwater OK 74074 0109.02\n"
     ]
    },
    {
     "name": "stderr",
     "output_type": "stream",
     "text": [
      "<ipython-input-135-c99a2411e0a3>:8: FutureWarning: The frame.append method is deprecated and will be removed from pandas in a future version. Use pandas.concat instead.\n",
      "  df_address_census_tract = df_address_census_tract.append({'Address':i,'Census_Tract':tc_text},ignore_index=True)\n"
     ]
    },
    {
     "name": "stdout",
     "output_type": "stream",
     "text": [
      "4001 E 19TH AVE Stillwater OK 74074 0111.01\n"
     ]
    },
    {
     "name": "stderr",
     "output_type": "stream",
     "text": [
      "<ipython-input-135-c99a2411e0a3>:8: FutureWarning: The frame.append method is deprecated and will be removed from pandas in a future version. Use pandas.concat instead.\n",
      "  df_address_census_tract = df_address_census_tract.append({'Address':i,'Census_Tract':tc_text},ignore_index=True)\n"
     ]
    },
    {
     "name": "stdout",
     "output_type": "stream",
     "text": [
      "4001 W GLENCOE RD Stillwater OK 74075 0110.01\n"
     ]
    },
    {
     "name": "stderr",
     "output_type": "stream",
     "text": [
      "<ipython-input-135-c99a2411e0a3>:8: FutureWarning: The frame.append method is deprecated and will be removed from pandas in a future version. Use pandas.concat instead.\n",
      "  df_address_census_tract = df_address_census_tract.append({'Address':i,'Census_Tract':tc_text},ignore_index=True)\n"
     ]
    },
    {
     "name": "stdout",
     "output_type": "stream",
     "text": [
      "4002 W HALL OF FAME AVE Stillwater OK 74075 0109.02\n"
     ]
    },
    {
     "name": "stderr",
     "output_type": "stream",
     "text": [
      "<ipython-input-135-c99a2411e0a3>:8: FutureWarning: The frame.append method is deprecated and will be removed from pandas in a future version. Use pandas.concat instead.\n",
      "  df_address_census_tract = df_address_census_tract.append({'Address':i,'Census_Tract':tc_text},ignore_index=True)\n"
     ]
    },
    {
     "name": "stdout",
     "output_type": "stream",
     "text": [
      "4002 W YORKSHIRE DR Stillwater OK 74074 0109.02\n"
     ]
    },
    {
     "name": "stderr",
     "output_type": "stream",
     "text": [
      "<ipython-input-135-c99a2411e0a3>:8: FutureWarning: The frame.append method is deprecated and will be removed from pandas in a future version. Use pandas.concat instead.\n",
      "  df_address_census_tract = df_address_census_tract.append({'Address':i,'Census_Tract':tc_text},ignore_index=True)\n"
     ]
    },
    {
     "name": "stdout",
     "output_type": "stream",
     "text": [
      "4008 W YORKSHIRE DR Stillwater OK 74074 0109.02\n"
     ]
    },
    {
     "name": "stderr",
     "output_type": "stream",
     "text": [
      "<ipython-input-135-c99a2411e0a3>:8: FutureWarning: The frame.append method is deprecated and will be removed from pandas in a future version. Use pandas.concat instead.\n",
      "  df_address_census_tract = df_address_census_tract.append({'Address':i,'Census_Tract':tc_text},ignore_index=True)\n"
     ]
    },
    {
     "name": "stdout",
     "output_type": "stream",
     "text": [
      "4009 W WESTBROOK DR Stillwater OK 74074 0109.02\n"
     ]
    },
    {
     "name": "stderr",
     "output_type": "stream",
     "text": [
      "<ipython-input-135-c99a2411e0a3>:8: FutureWarning: The frame.append method is deprecated and will be removed from pandas in a future version. Use pandas.concat instead.\n",
      "  df_address_census_tract = df_address_census_tract.append({'Address':i,'Census_Tract':tc_text},ignore_index=True)\n"
     ]
    },
    {
     "name": "stdout",
     "output_type": "stream",
     "text": [
      "401 S DUNCAN ST Stillwater OK 74074 0105.03\n"
     ]
    },
    {
     "name": "stderr",
     "output_type": "stream",
     "text": [
      "<ipython-input-135-c99a2411e0a3>:8: FutureWarning: The frame.append method is deprecated and will be removed from pandas in a future version. Use pandas.concat instead.\n",
      "  df_address_census_tract = df_address_census_tract.append({'Address':i,'Census_Tract':tc_text},ignore_index=True)\n"
     ]
    },
    {
     "name": "stdout",
     "output_type": "stream",
     "text": [
      "4015 W YORKSHIRE DR Stillwater OK 74074 0109.02\n"
     ]
    },
    {
     "name": "stderr",
     "output_type": "stream",
     "text": [
      "<ipython-input-135-c99a2411e0a3>:8: FutureWarning: The frame.append method is deprecated and will be removed from pandas in a future version. Use pandas.concat instead.\n",
      "  df_address_census_tract = df_address_census_tract.append({'Address':i,'Census_Tract':tc_text},ignore_index=True)\n"
     ]
    },
    {
     "name": "stdout",
     "output_type": "stream",
     "text": [
      "402 S DUNCAN ST Stillwater OK 74074 0105.03\n"
     ]
    },
    {
     "name": "stderr",
     "output_type": "stream",
     "text": [
      "<ipython-input-135-c99a2411e0a3>:8: FutureWarning: The frame.append method is deprecated and will be removed from pandas in a future version. Use pandas.concat instead.\n",
      "  df_address_census_tract = df_address_census_tract.append({'Address':i,'Census_Tract':tc_text},ignore_index=True)\n"
     ]
    },
    {
     "name": "stdout",
     "output_type": "stream",
     "text": [
      "402 S JEFFERSON ST Stillwater OK 74074 0103.00\n"
     ]
    },
    {
     "name": "stderr",
     "output_type": "stream",
     "text": [
      "<ipython-input-135-c99a2411e0a3>:8: FutureWarning: The frame.append method is deprecated and will be removed from pandas in a future version. Use pandas.concat instead.\n",
      "  df_address_census_tract = df_address_census_tract.append({'Address':i,'Census_Tract':tc_text},ignore_index=True)\n"
     ]
    },
    {
     "name": "stdout",
     "output_type": "stream",
     "text": [
      "402 S WEST ST Stillwater OK 74074 0105.03\n"
     ]
    },
    {
     "name": "stderr",
     "output_type": "stream",
     "text": [
      "<ipython-input-135-c99a2411e0a3>:8: FutureWarning: The frame.append method is deprecated and will be removed from pandas in a future version. Use pandas.concat instead.\n",
      "  df_address_census_tract = df_address_census_tract.append({'Address':i,'Census_Tract':tc_text},ignore_index=True)\n"
     ]
    },
    {
     "name": "stdout",
     "output_type": "stream",
     "text": [
      "402 W 9TH AVE Stillwater OK 74074 0107.00\n"
     ]
    },
    {
     "name": "stderr",
     "output_type": "stream",
     "text": [
      "<ipython-input-135-c99a2411e0a3>:8: FutureWarning: The frame.append method is deprecated and will be removed from pandas in a future version. Use pandas.concat instead.\n",
      "  df_address_census_tract = df_address_census_tract.append({'Address':i,'Census_Tract':tc_text},ignore_index=True)\n"
     ]
    },
    {
     "name": "stdout",
     "output_type": "stream",
     "text": [
      "4020 W WESTBROOK DR Stillwater OK 74074 0109.02\n"
     ]
    },
    {
     "name": "stderr",
     "output_type": "stream",
     "text": [
      "<ipython-input-135-c99a2411e0a3>:8: FutureWarning: The frame.append method is deprecated and will be removed from pandas in a future version. Use pandas.concat instead.\n",
      "  df_address_census_tract = df_address_census_tract.append({'Address':i,'Census_Tract':tc_text},ignore_index=True)\n"
     ]
    },
    {
     "name": "stdout",
     "output_type": "stream",
     "text": [
      "403 E MCELROY RD Stillwater OK 74074 0105.01\n"
     ]
    },
    {
     "name": "stderr",
     "output_type": "stream",
     "text": [
      "<ipython-input-135-c99a2411e0a3>:8: FutureWarning: The frame.append method is deprecated and will be removed from pandas in a future version. Use pandas.concat instead.\n",
      "  df_address_census_tract = df_address_census_tract.append({'Address':i,'Census_Tract':tc_text},ignore_index=True)\n"
     ]
    },
    {
     "name": "stdout",
     "output_type": "stream",
     "text": [
      "404 E TOPAZ AVE Stillwater OK 74075 0101.01\n"
     ]
    },
    {
     "name": "stderr",
     "output_type": "stream",
     "text": [
      "<ipython-input-135-c99a2411e0a3>:8: FutureWarning: The frame.append method is deprecated and will be removed from pandas in a future version. Use pandas.concat instead.\n",
      "  df_address_census_tract = df_address_census_tract.append({'Address':i,'Census_Tract':tc_text},ignore_index=True)\n"
     ]
    },
    {
     "name": "stdout",
     "output_type": "stream",
     "text": [
      "404 S DEBRA CT Stillwater OK 74074 \n"
     ]
    },
    {
     "name": "stderr",
     "output_type": "stream",
     "text": [
      "<ipython-input-135-c99a2411e0a3>:8: FutureWarning: The frame.append method is deprecated and will be removed from pandas in a future version. Use pandas.concat instead.\n",
      "  df_address_census_tract = df_address_census_tract.append({'Address':i,'Census_Tract':tc_text},ignore_index=True)\n"
     ]
    },
    {
     "name": "stdout",
     "output_type": "stream",
     "text": [
      "404 S OAK KNOLL CT Stillwater OK 74074 0110.01\n"
     ]
    },
    {
     "name": "stderr",
     "output_type": "stream",
     "text": [
      "<ipython-input-135-c99a2411e0a3>:8: FutureWarning: The frame.append method is deprecated and will be removed from pandas in a future version. Use pandas.concat instead.\n",
      "  df_address_census_tract = df_address_census_tract.append({'Address':i,'Census_Tract':tc_text},ignore_index=True)\n"
     ]
    },
    {
     "name": "stdout",
     "output_type": "stream",
     "text": [
      "405 N HUSBAND ST Stillwater OK 74075 0105.01\n"
     ]
    },
    {
     "name": "stderr",
     "output_type": "stream",
     "text": [
      "<ipython-input-135-c99a2411e0a3>:8: FutureWarning: The frame.append method is deprecated and will be removed from pandas in a future version. Use pandas.concat instead.\n",
      "  df_address_census_tract = df_address_census_tract.append({'Address':i,'Census_Tract':tc_text},ignore_index=True)\n"
     ]
    },
    {
     "name": "stdout",
     "output_type": "stream",
     "text": [
      "405 S BLAKELEY ST Stillwater OK 74074 0103.00\n"
     ]
    },
    {
     "name": "stderr",
     "output_type": "stream",
     "text": [
      "<ipython-input-135-c99a2411e0a3>:8: FutureWarning: The frame.append method is deprecated and will be removed from pandas in a future version. Use pandas.concat instead.\n",
      "  df_address_census_tract = df_address_census_tract.append({'Address':i,'Census_Tract':tc_text},ignore_index=True)\n"
     ]
    },
    {
     "name": "stdout",
     "output_type": "stream",
     "text": [
      "405 S DUNCAN ST Stillwater OK 74074 0105.03\n"
     ]
    },
    {
     "name": "stderr",
     "output_type": "stream",
     "text": [
      "<ipython-input-135-c99a2411e0a3>:8: FutureWarning: The frame.append method is deprecated and will be removed from pandas in a future version. Use pandas.concat instead.\n",
      "  df_address_census_tract = df_address_census_tract.append({'Address':i,'Census_Tract':tc_text},ignore_index=True)\n"
     ]
    },
    {
     "name": "stdout",
     "output_type": "stream",
     "text": [
      "405 S HESTER ST Stillwater OK 74074 0105.03\n"
     ]
    },
    {
     "name": "stderr",
     "output_type": "stream",
     "text": [
      "<ipython-input-135-c99a2411e0a3>:8: FutureWarning: The frame.append method is deprecated and will be removed from pandas in a future version. Use pandas.concat instead.\n",
      "  df_address_census_tract = df_address_census_tract.append({'Address':i,'Census_Tract':tc_text},ignore_index=True)\n"
     ]
    },
    {
     "name": "stdout",
     "output_type": "stream",
     "text": [
      "405 S HUSBAND ST Stillwater OK 74074 0105.03\n"
     ]
    },
    {
     "name": "stderr",
     "output_type": "stream",
     "text": [
      "<ipython-input-135-c99a2411e0a3>:8: FutureWarning: The frame.append method is deprecated and will be removed from pandas in a future version. Use pandas.concat instead.\n",
      "  df_address_census_tract = df_address_census_tract.append({'Address':i,'Census_Tract':tc_text},ignore_index=True)\n"
     ]
    },
    {
     "name": "stdout",
     "output_type": "stream",
     "text": [
      "405 S LISA CT Stillwater OK 74074 \n"
     ]
    },
    {
     "name": "stderr",
     "output_type": "stream",
     "text": [
      "<ipython-input-135-c99a2411e0a3>:8: FutureWarning: The frame.append method is deprecated and will be removed from pandas in a future version. Use pandas.concat instead.\n",
      "  df_address_census_tract = df_address_census_tract.append({'Address':i,'Census_Tract':tc_text},ignore_index=True)\n"
     ]
    },
    {
     "name": "stdout",
     "output_type": "stream",
     "text": [
      "405 S WEST ST Stillwater OK 74074 0105.03\n"
     ]
    },
    {
     "name": "stderr",
     "output_type": "stream",
     "text": [
      "<ipython-input-135-c99a2411e0a3>:8: FutureWarning: The frame.append method is deprecated and will be removed from pandas in a future version. Use pandas.concat instead.\n",
      "  df_address_census_tract = df_address_census_tract.append({'Address':i,'Census_Tract':tc_text},ignore_index=True)\n"
     ]
    },
    {
     "name": "stdout",
     "output_type": "stream",
     "text": [
      "405 W 9TH AVE Stillwater OK 74074 0107.00\n"
     ]
    },
    {
     "name": "stderr",
     "output_type": "stream",
     "text": [
      "<ipython-input-135-c99a2411e0a3>:8: FutureWarning: The frame.append method is deprecated and will be removed from pandas in a future version. Use pandas.concat instead.\n",
      "  df_address_census_tract = df_address_census_tract.append({'Address':i,'Census_Tract':tc_text},ignore_index=True)\n"
     ]
    },
    {
     "name": "stdout",
     "output_type": "stream",
     "text": [
      "406 N DUNCAN ST Stillwater OK 74074 0105.01\n"
     ]
    },
    {
     "name": "stderr",
     "output_type": "stream",
     "text": [
      "<ipython-input-135-c99a2411e0a3>:8: FutureWarning: The frame.append method is deprecated and will be removed from pandas in a future version. Use pandas.concat instead.\n",
      "  df_address_census_tract = df_address_census_tract.append({'Address':i,'Census_Tract':tc_text},ignore_index=True)\n"
     ]
    },
    {
     "name": "stdout",
     "output_type": "stream",
     "text": [
      "406 N DUNCAN ST Stillwater OK 74075 0105.01\n"
     ]
    },
    {
     "name": "stderr",
     "output_type": "stream",
     "text": [
      "<ipython-input-135-c99a2411e0a3>:8: FutureWarning: The frame.append method is deprecated and will be removed from pandas in a future version. Use pandas.concat instead.\n",
      "  df_address_census_tract = df_address_census_tract.append({'Address':i,'Census_Tract':tc_text},ignore_index=True)\n"
     ]
    },
    {
     "name": "stdout",
     "output_type": "stream",
     "text": [
      "406 N HUSBAND ST Stillwater OK 74075 0105.01\n"
     ]
    },
    {
     "name": "stderr",
     "output_type": "stream",
     "text": [
      "<ipython-input-135-c99a2411e0a3>:8: FutureWarning: The frame.append method is deprecated and will be removed from pandas in a future version. Use pandas.concat instead.\n",
      "  df_address_census_tract = df_address_census_tract.append({'Address':i,'Census_Tract':tc_text},ignore_index=True)\n"
     ]
    },
    {
     "name": "stdout",
     "output_type": "stream",
     "text": [
      "406 W 9TH AVE Stillwater OK 74074 0107.00\n"
     ]
    },
    {
     "name": "stderr",
     "output_type": "stream",
     "text": [
      "<ipython-input-135-c99a2411e0a3>:8: FutureWarning: The frame.append method is deprecated and will be removed from pandas in a future version. Use pandas.concat instead.\n",
      "  df_address_census_tract = df_address_census_tract.append({'Address':i,'Census_Tract':tc_text},ignore_index=True)\n"
     ]
    },
    {
     "name": "stdout",
     "output_type": "stream",
     "text": [
      "407 S DEBRA CT Stillwater OK 74074 \n"
     ]
    },
    {
     "name": "stderr",
     "output_type": "stream",
     "text": [
      "<ipython-input-135-c99a2411e0a3>:8: FutureWarning: The frame.append method is deprecated and will be removed from pandas in a future version. Use pandas.concat instead.\n",
      "  df_address_census_tract = df_address_census_tract.append({'Address':i,'Census_Tract':tc_text},ignore_index=True)\n"
     ]
    },
    {
     "name": "stdout",
     "output_type": "stream",
     "text": [
      "407 S KNOBLOCK ST Stillwater OK 74074 0105.03\n"
     ]
    },
    {
     "name": "stderr",
     "output_type": "stream",
     "text": [
      "<ipython-input-135-c99a2411e0a3>:8: FutureWarning: The frame.append method is deprecated and will be removed from pandas in a future version. Use pandas.concat instead.\n",
      "  df_address_census_tract = df_address_census_tract.append({'Address':i,'Census_Tract':tc_text},ignore_index=True)\n"
     ]
    },
    {
     "name": "stdout",
     "output_type": "stream",
     "text": [
      "408 N DUNCAN ST Stillwater OK 74075 0105.01\n"
     ]
    },
    {
     "name": "stderr",
     "output_type": "stream",
     "text": [
      "<ipython-input-135-c99a2411e0a3>:8: FutureWarning: The frame.append method is deprecated and will be removed from pandas in a future version. Use pandas.concat instead.\n",
      "  df_address_census_tract = df_address_census_tract.append({'Address':i,'Census_Tract':tc_text},ignore_index=True)\n"
     ]
    },
    {
     "name": "stdout",
     "output_type": "stream",
     "text": [
      "408 S BLAKELEY ST Stillwater OK 74074 0103.00\n"
     ]
    },
    {
     "name": "stderr",
     "output_type": "stream",
     "text": [
      "<ipython-input-135-c99a2411e0a3>:8: FutureWarning: The frame.append method is deprecated and will be removed from pandas in a future version. Use pandas.concat instead.\n",
      "  df_address_census_tract = df_address_census_tract.append({'Address':i,'Census_Tract':tc_text},ignore_index=True)\n"
     ]
    },
    {
     "name": "stdout",
     "output_type": "stream",
     "text": [
      "408 S DEBRA CT Stillwater OK 74074 \n"
     ]
    },
    {
     "name": "stderr",
     "output_type": "stream",
     "text": [
      "<ipython-input-135-c99a2411e0a3>:8: FutureWarning: The frame.append method is deprecated and will be removed from pandas in a future version. Use pandas.concat instead.\n",
      "  df_address_census_tract = df_address_census_tract.append({'Address':i,'Census_Tract':tc_text},ignore_index=True)\n"
     ]
    },
    {
     "name": "stdout",
     "output_type": "stream",
     "text": [
      "408 S DUNCAN ST Stillwater OK 74074 0105.03\n"
     ]
    },
    {
     "name": "stderr",
     "output_type": "stream",
     "text": [
      "<ipython-input-135-c99a2411e0a3>:8: FutureWarning: The frame.append method is deprecated and will be removed from pandas in a future version. Use pandas.concat instead.\n",
      "  df_address_census_tract = df_address_census_tract.append({'Address':i,'Census_Tract':tc_text},ignore_index=True)\n"
     ]
    },
    {
     "name": "stdout",
     "output_type": "stream",
     "text": [
      "408 S KNOBLOCK ST Stillwater OK 74074 0105.03\n"
     ]
    },
    {
     "name": "stderr",
     "output_type": "stream",
     "text": [
      "<ipython-input-135-c99a2411e0a3>:8: FutureWarning: The frame.append method is deprecated and will be removed from pandas in a future version. Use pandas.concat instead.\n",
      "  df_address_census_tract = df_address_census_tract.append({'Address':i,'Census_Tract':tc_text},ignore_index=True)\n"
     ]
    },
    {
     "name": "stdout",
     "output_type": "stream",
     "text": [
      "408 S LISA CT Stillwater OK 74074 \n"
     ]
    },
    {
     "name": "stderr",
     "output_type": "stream",
     "text": [
      "<ipython-input-135-c99a2411e0a3>:8: FutureWarning: The frame.append method is deprecated and will be removed from pandas in a future version. Use pandas.concat instead.\n",
      "  df_address_census_tract = df_address_census_tract.append({'Address':i,'Census_Tract':tc_text},ignore_index=True)\n"
     ]
    },
    {
     "name": "stdout",
     "output_type": "stream",
     "text": [
      "409 E BRITTON CT Stillwater OK 74074 0101.01\n"
     ]
    },
    {
     "name": "stderr",
     "output_type": "stream",
     "text": [
      "<ipython-input-135-c99a2411e0a3>:8: FutureWarning: The frame.append method is deprecated and will be removed from pandas in a future version. Use pandas.concat instead.\n",
      "  df_address_census_tract = df_address_census_tract.append({'Address':i,'Census_Tract':tc_text},ignore_index=True)\n"
     ]
    },
    {
     "name": "stdout",
     "output_type": "stream",
     "text": [
      "409 S DEBRA CT Stillwater OK 74074 \n"
     ]
    },
    {
     "name": "stderr",
     "output_type": "stream",
     "text": [
      "<ipython-input-135-c99a2411e0a3>:8: FutureWarning: The frame.append method is deprecated and will be removed from pandas in a future version. Use pandas.concat instead.\n",
      "  df_address_census_tract = df_address_census_tract.append({'Address':i,'Census_Tract':tc_text},ignore_index=True)\n"
     ]
    },
    {
     "name": "stdout",
     "output_type": "stream",
     "text": [
      "409 S DUNCAN ST Stillwater OK 74074 0105.03\n"
     ]
    },
    {
     "name": "stderr",
     "output_type": "stream",
     "text": [
      "<ipython-input-135-c99a2411e0a3>:8: FutureWarning: The frame.append method is deprecated and will be removed from pandas in a future version. Use pandas.concat instead.\n",
      "  df_address_census_tract = df_address_census_tract.append({'Address':i,'Census_Tract':tc_text},ignore_index=True)\n"
     ]
    },
    {
     "name": "stdout",
     "output_type": "stream",
     "text": [
      "409 S HESTER ST Stillwater OK 74074 0105.03\n"
     ]
    },
    {
     "name": "stderr",
     "output_type": "stream",
     "text": [
      "<ipython-input-135-c99a2411e0a3>:8: FutureWarning: The frame.append method is deprecated and will be removed from pandas in a future version. Use pandas.concat instead.\n",
      "  df_address_census_tract = df_address_census_tract.append({'Address':i,'Census_Tract':tc_text},ignore_index=True)\n"
     ]
    },
    {
     "name": "stdout",
     "output_type": "stream",
     "text": [
      "409 S LISA CT Stillwater OK 74074 \n"
     ]
    },
    {
     "name": "stderr",
     "output_type": "stream",
     "text": [
      "<ipython-input-135-c99a2411e0a3>:8: FutureWarning: The frame.append method is deprecated and will be removed from pandas in a future version. Use pandas.concat instead.\n",
      "  df_address_census_tract = df_address_census_tract.append({'Address':i,'Census_Tract':tc_text},ignore_index=True)\n"
     ]
    },
    {
     "name": "stdout",
     "output_type": "stream",
     "text": [
      "409 S OAKDALE DR Stillwater OK 74074 0109.01\n"
     ]
    },
    {
     "name": "stderr",
     "output_type": "stream",
     "text": [
      "<ipython-input-135-c99a2411e0a3>:8: FutureWarning: The frame.append method is deprecated and will be removed from pandas in a future version. Use pandas.concat instead.\n",
      "  df_address_census_tract = df_address_census_tract.append({'Address':i,'Census_Tract':tc_text},ignore_index=True)\n"
     ]
    },
    {
     "name": "stdout",
     "output_type": "stream",
     "text": [
      "409 S RIDGEWOOD RD Stillwater OK 74074 0110.01\n"
     ]
    },
    {
     "name": "stderr",
     "output_type": "stream",
     "text": [
      "<ipython-input-135-c99a2411e0a3>:8: FutureWarning: The frame.append method is deprecated and will be removed from pandas in a future version. Use pandas.concat instead.\n",
      "  df_address_census_tract = df_address_census_tract.append({'Address':i,'Census_Tract':tc_text},ignore_index=True)\n"
     ]
    },
    {
     "name": "stdout",
     "output_type": "stream",
     "text": [
      "409 S STANLEY ST Stillwater OK 74074 0103.00\n"
     ]
    },
    {
     "name": "stderr",
     "output_type": "stream",
     "text": [
      "<ipython-input-135-c99a2411e0a3>:8: FutureWarning: The frame.append method is deprecated and will be removed from pandas in a future version. Use pandas.concat instead.\n",
      "  df_address_census_tract = df_address_census_tract.append({'Address':i,'Census_Tract':tc_text},ignore_index=True)\n"
     ]
    },
    {
     "name": "stdout",
     "output_type": "stream",
     "text": [
      "409 S WEST ST Stillwater OK 74074 0105.03\n"
     ]
    },
    {
     "name": "stderr",
     "output_type": "stream",
     "text": [
      "<ipython-input-135-c99a2411e0a3>:8: FutureWarning: The frame.append method is deprecated and will be removed from pandas in a future version. Use pandas.concat instead.\n",
      "  df_address_census_tract = df_address_census_tract.append({'Address':i,'Census_Tract':tc_text},ignore_index=True)\n"
     ]
    },
    {
     "name": "stdout",
     "output_type": "stream",
     "text": [
      "409 W 9TH AVE Stillwater OK 74074 0107.00\n"
     ]
    },
    {
     "name": "stderr",
     "output_type": "stream",
     "text": [
      "<ipython-input-135-c99a2411e0a3>:8: FutureWarning: The frame.append method is deprecated and will be removed from pandas in a future version. Use pandas.concat instead.\n",
      "  df_address_census_tract = df_address_census_tract.append({'Address':i,'Census_Tract':tc_text},ignore_index=True)\n"
     ]
    },
    {
     "name": "stdout",
     "output_type": "stream",
     "text": [
      "410 E ROGERS DR Stillwater OK 74074 0101.01\n"
     ]
    },
    {
     "name": "stderr",
     "output_type": "stream",
     "text": [
      "<ipython-input-135-c99a2411e0a3>:8: FutureWarning: The frame.append method is deprecated and will be removed from pandas in a future version. Use pandas.concat instead.\n",
      "  df_address_census_tract = df_address_census_tract.append({'Address':i,'Census_Tract':tc_text},ignore_index=True)\n"
     ]
    },
    {
     "name": "stdout",
     "output_type": "stream",
     "text": [
      "410 S LINCOLN ST Stillwater OK 74074 0103.00\n"
     ]
    },
    {
     "name": "stderr",
     "output_type": "stream",
     "text": [
      "<ipython-input-135-c99a2411e0a3>:8: FutureWarning: The frame.append method is deprecated and will be removed from pandas in a future version. Use pandas.concat instead.\n",
      "  df_address_census_tract = df_address_census_tract.append({'Address':i,'Census_Tract':tc_text},ignore_index=True)\n"
     ]
    },
    {
     "name": "stdout",
     "output_type": "stream",
     "text": [
      "4100 W 19TH AVE Stillwater OK 74074 0109.02\n"
     ]
    },
    {
     "name": "stderr",
     "output_type": "stream",
     "text": [
      "<ipython-input-135-c99a2411e0a3>:8: FutureWarning: The frame.append method is deprecated and will be removed from pandas in a future version. Use pandas.concat instead.\n",
      "  df_address_census_tract = df_address_census_tract.append({'Address':i,'Census_Tract':tc_text},ignore_index=True)\n"
     ]
    },
    {
     "name": "stdout",
     "output_type": "stream",
     "text": [
      "4101 W WESTBROOK DR Stillwater OK 74074 0109.02\n"
     ]
    },
    {
     "name": "stderr",
     "output_type": "stream",
     "text": [
      "<ipython-input-135-c99a2411e0a3>:8: FutureWarning: The frame.append method is deprecated and will be removed from pandas in a future version. Use pandas.concat instead.\n",
      "  df_address_census_tract = df_address_census_tract.append({'Address':i,'Census_Tract':tc_text},ignore_index=True)\n"
     ]
    },
    {
     "name": "stdout",
     "output_type": "stream",
     "text": [
      "4103 W GLENCOE RD Stillwater OK 74075 0110.01\n"
     ]
    },
    {
     "name": "stderr",
     "output_type": "stream",
     "text": [
      "<ipython-input-135-c99a2411e0a3>:8: FutureWarning: The frame.append method is deprecated and will be removed from pandas in a future version. Use pandas.concat instead.\n",
      "  df_address_census_tract = df_address_census_tract.append({'Address':i,'Census_Tract':tc_text},ignore_index=True)\n"
     ]
    },
    {
     "name": "stdout",
     "output_type": "stream",
     "text": [
      "4104 E 19TH AVE Stillwater OK 74074 0111.01\n"
     ]
    },
    {
     "name": "stderr",
     "output_type": "stream",
     "text": [
      "<ipython-input-135-c99a2411e0a3>:8: FutureWarning: The frame.append method is deprecated and will be removed from pandas in a future version. Use pandas.concat instead.\n",
      "  df_address_census_tract = df_address_census_tract.append({'Address':i,'Census_Tract':tc_text},ignore_index=True)\n"
     ]
    },
    {
     "name": "stdout",
     "output_type": "stream",
     "text": [
      "4107 E SIERRA LN Stillwater OK 74074 0111.01\n"
     ]
    },
    {
     "name": "stderr",
     "output_type": "stream",
     "text": [
      "<ipython-input-135-c99a2411e0a3>:8: FutureWarning: The frame.append method is deprecated and will be removed from pandas in a future version. Use pandas.concat instead.\n",
      "  df_address_census_tract = df_address_census_tract.append({'Address':i,'Census_Tract':tc_text},ignore_index=True)\n"
     ]
    },
    {
     "name": "stdout",
     "output_type": "stream",
     "text": [
      "4107 W WESTBROOK DR Stillwater OK 74074 0109.02\n"
     ]
    },
    {
     "name": "stderr",
     "output_type": "stream",
     "text": [
      "<ipython-input-135-c99a2411e0a3>:8: FutureWarning: The frame.append method is deprecated and will be removed from pandas in a future version. Use pandas.concat instead.\n",
      "  df_address_census_tract = df_address_census_tract.append({'Address':i,'Census_Tract':tc_text},ignore_index=True)\n"
     ]
    },
    {
     "name": "stdout",
     "output_type": "stream",
     "text": [
      "411 S OAKDALE DR Stillwater OK 74074 0109.01\n"
     ]
    },
    {
     "name": "stderr",
     "output_type": "stream",
     "text": [
      "<ipython-input-135-c99a2411e0a3>:8: FutureWarning: The frame.append method is deprecated and will be removed from pandas in a future version. Use pandas.concat instead.\n",
      "  df_address_census_tract = df_address_census_tract.append({'Address':i,'Census_Tract':tc_text},ignore_index=True)\n"
     ]
    },
    {
     "name": "stdout",
     "output_type": "stream",
     "text": [
      "4111 W 18TH AVE Stillwater OK 74074 0109.02\n"
     ]
    },
    {
     "name": "stderr",
     "output_type": "stream",
     "text": [
      "<ipython-input-135-c99a2411e0a3>:8: FutureWarning: The frame.append method is deprecated and will be removed from pandas in a future version. Use pandas.concat instead.\n",
      "  df_address_census_tract = df_address_census_tract.append({'Address':i,'Census_Tract':tc_text},ignore_index=True)\n"
     ]
    },
    {
     "name": "stdout",
     "output_type": "stream",
     "text": [
      "4112 E 19TH AVE Stillwater OK 74074 0111.01\n"
     ]
    },
    {
     "name": "stderr",
     "output_type": "stream",
     "text": [
      "<ipython-input-135-c99a2411e0a3>:8: FutureWarning: The frame.append method is deprecated and will be removed from pandas in a future version. Use pandas.concat instead.\n",
      "  df_address_census_tract = df_address_census_tract.append({'Address':i,'Census_Tract':tc_text},ignore_index=True)\n"
     ]
    },
    {
     "name": "stdout",
     "output_type": "stream",
     "text": [
      "4116 E 19TH AVE Stillwater OK 74074 0111.01\n"
     ]
    },
    {
     "name": "stderr",
     "output_type": "stream",
     "text": [
      "<ipython-input-135-c99a2411e0a3>:8: FutureWarning: The frame.append method is deprecated and will be removed from pandas in a future version. Use pandas.concat instead.\n",
      "  df_address_census_tract = df_address_census_tract.append({'Address':i,'Census_Tract':tc_text},ignore_index=True)\n"
     ]
    },
    {
     "name": "stdout",
     "output_type": "stream",
     "text": [
      "412 E 13TH AVE Stillwater OK 74074 0107.00\n"
     ]
    },
    {
     "name": "stderr",
     "output_type": "stream",
     "text": [
      "<ipython-input-135-c99a2411e0a3>:8: FutureWarning: The frame.append method is deprecated and will be removed from pandas in a future version. Use pandas.concat instead.\n",
      "  df_address_census_tract = df_address_census_tract.append({'Address':i,'Census_Tract':tc_text},ignore_index=True)\n"
     ]
    },
    {
     "name": "stdout",
     "output_type": "stream",
     "text": [
      "412 E 58TH AVE Stillwater OK 74074 \n"
     ]
    },
    {
     "name": "stderr",
     "output_type": "stream",
     "text": [
      "<ipython-input-135-c99a2411e0a3>:8: FutureWarning: The frame.append method is deprecated and will be removed from pandas in a future version. Use pandas.concat instead.\n",
      "  df_address_census_tract = df_address_census_tract.append({'Address':i,'Census_Tract':tc_text},ignore_index=True)\n"
     ]
    },
    {
     "name": "stdout",
     "output_type": "stream",
     "text": [
      "412 S DUCK ST Stillwater OK 74074 0105.03\n"
     ]
    },
    {
     "name": "stderr",
     "output_type": "stream",
     "text": [
      "<ipython-input-135-c99a2411e0a3>:8: FutureWarning: The frame.append method is deprecated and will be removed from pandas in a future version. Use pandas.concat instead.\n",
      "  df_address_census_tract = df_address_census_tract.append({'Address':i,'Census_Tract':tc_text},ignore_index=True)\n"
     ]
    },
    {
     "name": "stdout",
     "output_type": "stream",
     "text": [
      "412 S LISA CT Stillwater OK 74074 \n"
     ]
    },
    {
     "name": "stderr",
     "output_type": "stream",
     "text": [
      "<ipython-input-135-c99a2411e0a3>:8: FutureWarning: The frame.append method is deprecated and will be removed from pandas in a future version. Use pandas.concat instead.\n",
      "  df_address_census_tract = df_address_census_tract.append({'Address':i,'Census_Tract':tc_text},ignore_index=True)\n"
     ]
    },
    {
     "name": "stdout",
     "output_type": "stream",
     "text": [
      "412 W 5TH AVE Stillwater OK 74074 0105.03\n"
     ]
    },
    {
     "name": "stderr",
     "output_type": "stream",
     "text": [
      "<ipython-input-135-c99a2411e0a3>:8: FutureWarning: The frame.append method is deprecated and will be removed from pandas in a future version. Use pandas.concat instead.\n",
      "  df_address_census_tract = df_address_census_tract.append({'Address':i,'Census_Tract':tc_text},ignore_index=True)\n"
     ]
    },
    {
     "name": "stdout",
     "output_type": "stream",
     "text": [
      "4124 E SIERRA LN Stillwater OK 74074 0111.01\n"
     ]
    },
    {
     "name": "stderr",
     "output_type": "stream",
     "text": [
      "<ipython-input-135-c99a2411e0a3>:8: FutureWarning: The frame.append method is deprecated and will be removed from pandas in a future version. Use pandas.concat instead.\n",
      "  df_address_census_tract = df_address_census_tract.append({'Address':i,'Census_Tract':tc_text},ignore_index=True)\n"
     ]
    },
    {
     "name": "stdout",
     "output_type": "stream",
     "text": [
      "4124 N WASHINGTON ST Stillwater OK 74075 0102.01\n"
     ]
    },
    {
     "name": "stderr",
     "output_type": "stream",
     "text": [
      "<ipython-input-135-c99a2411e0a3>:8: FutureWarning: The frame.append method is deprecated and will be removed from pandas in a future version. Use pandas.concat instead.\n",
      "  df_address_census_tract = df_address_census_tract.append({'Address':i,'Census_Tract':tc_text},ignore_index=True)\n"
     ]
    },
    {
     "name": "stdout",
     "output_type": "stream",
     "text": [
      "413 E 32ND AVE Stillwater OK 74074 0110.02\n"
     ]
    },
    {
     "name": "stderr",
     "output_type": "stream",
     "text": [
      "<ipython-input-135-c99a2411e0a3>:8: FutureWarning: The frame.append method is deprecated and will be removed from pandas in a future version. Use pandas.concat instead.\n",
      "  df_address_census_tract = df_address_census_tract.append({'Address':i,'Census_Tract':tc_text},ignore_index=True)\n"
     ]
    },
    {
     "name": "stdout",
     "output_type": "stream",
     "text": [
      "413 E COPPER CANYON AVE Stillwater OK 74075 0101.01\n"
     ]
    },
    {
     "name": "stderr",
     "output_type": "stream",
     "text": [
      "<ipython-input-135-c99a2411e0a3>:8: FutureWarning: The frame.append method is deprecated and will be removed from pandas in a future version. Use pandas.concat instead.\n",
      "  df_address_census_tract = df_address_census_tract.append({'Address':i,'Census_Tract':tc_text},ignore_index=True)\n"
     ]
    },
    {
     "name": "stdout",
     "output_type": "stream",
     "text": [
      "413 S KNOBLOCK ST Stillwater OK 74074 0105.03\n"
     ]
    },
    {
     "name": "stderr",
     "output_type": "stream",
     "text": [
      "<ipython-input-135-c99a2411e0a3>:8: FutureWarning: The frame.append method is deprecated and will be removed from pandas in a future version. Use pandas.concat instead.\n",
      "  df_address_census_tract = df_address_census_tract.append({'Address':i,'Census_Tract':tc_text},ignore_index=True)\n"
     ]
    },
    {
     "name": "stdout",
     "output_type": "stream",
     "text": [
      "413 S LISA CT Stillwater OK 74074 \n"
     ]
    },
    {
     "name": "stderr",
     "output_type": "stream",
     "text": [
      "<ipython-input-135-c99a2411e0a3>:8: FutureWarning: The frame.append method is deprecated and will be removed from pandas in a future version. Use pandas.concat instead.\n",
      "  df_address_census_tract = df_address_census_tract.append({'Address':i,'Census_Tract':tc_text},ignore_index=True)\n"
     ]
    },
    {
     "name": "stdout",
     "output_type": "stream",
     "text": [
      "413 S OAKDALE DR Stillwater OK 74074 0109.01\n"
     ]
    },
    {
     "name": "stderr",
     "output_type": "stream",
     "text": [
      "<ipython-input-135-c99a2411e0a3>:8: FutureWarning: The frame.append method is deprecated and will be removed from pandas in a future version. Use pandas.concat instead.\n",
      "  df_address_census_tract = df_address_census_tract.append({'Address':i,'Census_Tract':tc_text},ignore_index=True)\n"
     ]
    },
    {
     "name": "stdout",
     "output_type": "stream",
     "text": [
      "413 W MAPLE AVE Stillwater OK 74074 0105.03\n"
     ]
    },
    {
     "name": "stderr",
     "output_type": "stream",
     "text": [
      "<ipython-input-135-c99a2411e0a3>:8: FutureWarning: The frame.append method is deprecated and will be removed from pandas in a future version. Use pandas.concat instead.\n",
      "  df_address_census_tract = df_address_census_tract.append({'Address':i,'Census_Tract':tc_text},ignore_index=True)\n"
     ]
    },
    {
     "name": "stdout",
     "output_type": "stream",
     "text": [
      "4134 W 18TH AVE Stillwater OK 74074 0109.02\n"
     ]
    },
    {
     "name": "stderr",
     "output_type": "stream",
     "text": [
      "<ipython-input-135-c99a2411e0a3>:8: FutureWarning: The frame.append method is deprecated and will be removed from pandas in a future version. Use pandas.concat instead.\n",
      "  df_address_census_tract = df_address_census_tract.append({'Address':i,'Census_Tract':tc_text},ignore_index=True)\n"
     ]
    },
    {
     "name": "stdout",
     "output_type": "stream",
     "text": [
      "414 E BRITTON CT Stillwater OK 74074 0101.01\n"
     ]
    },
    {
     "name": "stderr",
     "output_type": "stream",
     "text": [
      "<ipython-input-135-c99a2411e0a3>:8: FutureWarning: The frame.append method is deprecated and will be removed from pandas in a future version. Use pandas.concat instead.\n",
      "  df_address_census_tract = df_address_census_tract.append({'Address':i,'Census_Tract':tc_text},ignore_index=True)\n"
     ]
    },
    {
     "name": "stdout",
     "output_type": "stream",
     "text": [
      "414 E COPPER CANYON AVE Stillwater OK 74075 0101.01\n"
     ]
    },
    {
     "name": "stderr",
     "output_type": "stream",
     "text": [
      "<ipython-input-135-c99a2411e0a3>:8: FutureWarning: The frame.append method is deprecated and will be removed from pandas in a future version. Use pandas.concat instead.\n",
      "  df_address_census_tract = df_address_census_tract.append({'Address':i,'Census_Tract':tc_text},ignore_index=True)\n"
     ]
    },
    {
     "name": "stdout",
     "output_type": "stream",
     "text": [
      "414 S DEBRA CT Stillwater OK 74074 \n"
     ]
    },
    {
     "name": "stderr",
     "output_type": "stream",
     "text": [
      "<ipython-input-135-c99a2411e0a3>:8: FutureWarning: The frame.append method is deprecated and will be removed from pandas in a future version. Use pandas.concat instead.\n",
      "  df_address_census_tract = df_address_census_tract.append({'Address':i,'Census_Tract':tc_text},ignore_index=True)\n"
     ]
    },
    {
     "name": "stdout",
     "output_type": "stream",
     "text": [
      "414 W 3RD AVE Stillwater OK 74074 0105.03\n"
     ]
    },
    {
     "name": "stderr",
     "output_type": "stream",
     "text": [
      "<ipython-input-135-c99a2411e0a3>:8: FutureWarning: The frame.append method is deprecated and will be removed from pandas in a future version. Use pandas.concat instead.\n",
      "  df_address_census_tract = df_address_census_tract.append({'Address':i,'Census_Tract':tc_text},ignore_index=True)\n"
     ]
    },
    {
     "name": "stdout",
     "output_type": "stream",
     "text": [
      "414 W 5TH AVE Stillwater OK 74074 0105.03\n"
     ]
    },
    {
     "name": "stderr",
     "output_type": "stream",
     "text": [
      "<ipython-input-135-c99a2411e0a3>:8: FutureWarning: The frame.append method is deprecated and will be removed from pandas in a future version. Use pandas.concat instead.\n",
      "  df_address_census_tract = df_address_census_tract.append({'Address':i,'Census_Tract':tc_text},ignore_index=True)\n"
     ]
    },
    {
     "name": "stdout",
     "output_type": "stream",
     "text": [
      "415 E BRITTON CT Stillwater OK 74075 0101.01\n"
     ]
    },
    {
     "name": "stderr",
     "output_type": "stream",
     "text": [
      "<ipython-input-135-c99a2411e0a3>:8: FutureWarning: The frame.append method is deprecated and will be removed from pandas in a future version. Use pandas.concat instead.\n",
      "  df_address_census_tract = df_address_census_tract.append({'Address':i,'Census_Tract':tc_text},ignore_index=True)\n"
     ]
    },
    {
     "name": "stdout",
     "output_type": "stream",
     "text": [
      "415 E LIBERTY AVE Stillwater OK 74074 0101.01\n"
     ]
    },
    {
     "name": "stderr",
     "output_type": "stream",
     "text": [
      "<ipython-input-135-c99a2411e0a3>:8: FutureWarning: The frame.append method is deprecated and will be removed from pandas in a future version. Use pandas.concat instead.\n",
      "  df_address_census_tract = df_address_census_tract.append({'Address':i,'Census_Tract':tc_text},ignore_index=True)\n"
     ]
    },
    {
     "name": "stdout",
     "output_type": "stream",
     "text": [
      "415 N WILDWOOD ACRES CIR Stillwater OK 74074 0111.01\n"
     ]
    },
    {
     "name": "stderr",
     "output_type": "stream",
     "text": [
      "<ipython-input-135-c99a2411e0a3>:8: FutureWarning: The frame.append method is deprecated and will be removed from pandas in a future version. Use pandas.concat instead.\n",
      "  df_address_census_tract = df_address_census_tract.append({'Address':i,'Census_Tract':tc_text},ignore_index=True)\n"
     ]
    },
    {
     "name": "stdout",
     "output_type": "stream",
     "text": [
      "415 S COLLINS CT Stillwater OK 74074 0106.00\n"
     ]
    },
    {
     "name": "stderr",
     "output_type": "stream",
     "text": [
      "<ipython-input-135-c99a2411e0a3>:8: FutureWarning: The frame.append method is deprecated and will be removed from pandas in a future version. Use pandas.concat instead.\n",
      "  df_address_census_tract = df_address_census_tract.append({'Address':i,'Census_Tract':tc_text},ignore_index=True)\n"
     ]
    },
    {
     "name": "stdout",
     "output_type": "stream",
     "text": [
      "415 S DUNCAN ST Stillwater OK 74074 0105.03\n"
     ]
    },
    {
     "name": "stderr",
     "output_type": "stream",
     "text": [
      "<ipython-input-135-c99a2411e0a3>:8: FutureWarning: The frame.append method is deprecated and will be removed from pandas in a future version. Use pandas.concat instead.\n",
      "  df_address_census_tract = df_address_census_tract.append({'Address':i,'Census_Tract':tc_text},ignore_index=True)\n"
     ]
    },
    {
     "name": "stdout",
     "output_type": "stream",
     "text": [
      "415 S HUSBAND ST Stillwater OK 74074 0105.03\n"
     ]
    },
    {
     "name": "stderr",
     "output_type": "stream",
     "text": [
      "<ipython-input-135-c99a2411e0a3>:8: FutureWarning: The frame.append method is deprecated and will be removed from pandas in a future version. Use pandas.concat instead.\n",
      "  df_address_census_tract = df_address_census_tract.append({'Address':i,'Census_Tract':tc_text},ignore_index=True)\n"
     ]
    },
    {
     "name": "stdout",
     "output_type": "stream",
     "text": [
      "415 W 11TH AVE Stillwater OK 74074 0107.00\n"
     ]
    },
    {
     "name": "stderr",
     "output_type": "stream",
     "text": [
      "<ipython-input-135-c99a2411e0a3>:8: FutureWarning: The frame.append method is deprecated and will be removed from pandas in a future version. Use pandas.concat instead.\n",
      "  df_address_census_tract = df_address_census_tract.append({'Address':i,'Census_Tract':tc_text},ignore_index=True)\n"
     ]
    },
    {
     "name": "stdout",
     "output_type": "stream",
     "text": [
      "415 W 5TH AVE Stillwater OK 74074 0105.03\n"
     ]
    },
    {
     "name": "stderr",
     "output_type": "stream",
     "text": [
      "<ipython-input-135-c99a2411e0a3>:8: FutureWarning: The frame.append method is deprecated and will be removed from pandas in a future version. Use pandas.concat instead.\n",
      "  df_address_census_tract = df_address_census_tract.append({'Address':i,'Census_Tract':tc_text},ignore_index=True)\n"
     ]
    },
    {
     "name": "stdout",
     "output_type": "stream",
     "text": [
      "415 W 8TH AVE Stillwater OK 74074 0107.00\n"
     ]
    },
    {
     "name": "stderr",
     "output_type": "stream",
     "text": [
      "<ipython-input-135-c99a2411e0a3>:8: FutureWarning: The frame.append method is deprecated and will be removed from pandas in a future version. Use pandas.concat instead.\n",
      "  df_address_census_tract = df_address_census_tract.append({'Address':i,'Census_Tract':tc_text},ignore_index=True)\n"
     ]
    },
    {
     "name": "stdout",
     "output_type": "stream",
     "text": [
      "415 W 9TH AVE Stillwater OK 74074 0107.00\n"
     ]
    },
    {
     "name": "stderr",
     "output_type": "stream",
     "text": [
      "<ipython-input-135-c99a2411e0a3>:8: FutureWarning: The frame.append method is deprecated and will be removed from pandas in a future version. Use pandas.concat instead.\n",
      "  df_address_census_tract = df_address_census_tract.append({'Address':i,'Census_Tract':tc_text},ignore_index=True)\n"
     ]
    },
    {
     "name": "stdout",
     "output_type": "stream",
     "text": [
      "415 W BURRIS RD Stillwater OK 74074 0101.01\n"
     ]
    },
    {
     "name": "stderr",
     "output_type": "stream",
     "text": [
      "<ipython-input-135-c99a2411e0a3>:8: FutureWarning: The frame.append method is deprecated and will be removed from pandas in a future version. Use pandas.concat instead.\n",
      "  df_address_census_tract = df_address_census_tract.append({'Address':i,'Census_Tract':tc_text},ignore_index=True)\n"
     ]
    },
    {
     "name": "stdout",
     "output_type": "stream",
     "text": [
      "416 E BRITTON CT Stillwater OK 74074 0101.01\n"
     ]
    },
    {
     "name": "stderr",
     "output_type": "stream",
     "text": [
      "<ipython-input-135-c99a2411e0a3>:8: FutureWarning: The frame.append method is deprecated and will be removed from pandas in a future version. Use pandas.concat instead.\n",
      "  df_address_census_tract = df_address_census_tract.append({'Address':i,'Census_Tract':tc_text},ignore_index=True)\n"
     ]
    },
    {
     "name": "stdout",
     "output_type": "stream",
     "text": [
      "416 E LIBERTY AVE Stillwater OK 74074 0101.01\n"
     ]
    },
    {
     "name": "stderr",
     "output_type": "stream",
     "text": [
      "<ipython-input-135-c99a2411e0a3>:8: FutureWarning: The frame.append method is deprecated and will be removed from pandas in a future version. Use pandas.concat instead.\n",
      "  df_address_census_tract = df_address_census_tract.append({'Address':i,'Census_Tract':tc_text},ignore_index=True)\n"
     ]
    },
    {
     "name": "stdout",
     "output_type": "stream",
     "text": [
      "416 S DUCK ST Stillwater OK 74074 0105.03\n"
     ]
    },
    {
     "name": "stderr",
     "output_type": "stream",
     "text": [
      "<ipython-input-135-c99a2411e0a3>:8: FutureWarning: The frame.append method is deprecated and will be removed from pandas in a future version. Use pandas.concat instead.\n",
      "  df_address_census_tract = df_address_census_tract.append({'Address':i,'Census_Tract':tc_text},ignore_index=True)\n"
     ]
    },
    {
     "name": "stdout",
     "output_type": "stream",
     "text": [
      "416 S DUNCAN ST Stillwater OK 74074 0105.03\n"
     ]
    },
    {
     "name": "stderr",
     "output_type": "stream",
     "text": [
      "<ipython-input-135-c99a2411e0a3>:8: FutureWarning: The frame.append method is deprecated and will be removed from pandas in a future version. Use pandas.concat instead.\n",
      "  df_address_census_tract = df_address_census_tract.append({'Address':i,'Census_Tract':tc_text},ignore_index=True)\n"
     ]
    },
    {
     "name": "stdout",
     "output_type": "stream",
     "text": [
      "416 S HUSBAND ST Stillwater OK 74074 0105.03\n"
     ]
    },
    {
     "name": "stderr",
     "output_type": "stream",
     "text": [
      "<ipython-input-135-c99a2411e0a3>:8: FutureWarning: The frame.append method is deprecated and will be removed from pandas in a future version. Use pandas.concat instead.\n",
      "  df_address_census_tract = df_address_census_tract.append({'Address':i,'Census_Tract':tc_text},ignore_index=True)\n"
     ]
    },
    {
     "name": "stdout",
     "output_type": "stream",
     "text": [
      "416 W 4TH AVE Stillwater OK 74074 0105.03\n"
     ]
    },
    {
     "name": "stderr",
     "output_type": "stream",
     "text": [
      "<ipython-input-135-c99a2411e0a3>:8: FutureWarning: The frame.append method is deprecated and will be removed from pandas in a future version. Use pandas.concat instead.\n",
      "  df_address_census_tract = df_address_census_tract.append({'Address':i,'Census_Tract':tc_text},ignore_index=True)\n"
     ]
    },
    {
     "name": "stdout",
     "output_type": "stream",
     "text": [
      "417 E LIBERTY AVE Stillwater OK 74074 0101.01\n"
     ]
    },
    {
     "name": "stderr",
     "output_type": "stream",
     "text": [
      "<ipython-input-135-c99a2411e0a3>:8: FutureWarning: The frame.append method is deprecated and will be removed from pandas in a future version. Use pandas.concat instead.\n",
      "  df_address_census_tract = df_address_census_tract.append({'Address':i,'Census_Tract':tc_text},ignore_index=True)\n"
     ]
    },
    {
     "name": "stdout",
     "output_type": "stream",
     "text": [
      "417 S BURDICK ST Stillwater OK 74074 0106.00\n"
     ]
    },
    {
     "name": "stderr",
     "output_type": "stream",
     "text": [
      "<ipython-input-135-c99a2411e0a3>:8: FutureWarning: The frame.append method is deprecated and will be removed from pandas in a future version. Use pandas.concat instead.\n",
      "  df_address_census_tract = df_address_census_tract.append({'Address':i,'Census_Tract':tc_text},ignore_index=True)\n"
     ]
    },
    {
     "name": "stdout",
     "output_type": "stream",
     "text": [
      "417 S DUNCAN ST Stillwater OK 74074 0105.03\n"
     ]
    },
    {
     "name": "stderr",
     "output_type": "stream",
     "text": [
      "<ipython-input-135-c99a2411e0a3>:8: FutureWarning: The frame.append method is deprecated and will be removed from pandas in a future version. Use pandas.concat instead.\n",
      "  df_address_census_tract = df_address_census_tract.append({'Address':i,'Census_Tract':tc_text},ignore_index=True)\n"
     ]
    },
    {
     "name": "stdout",
     "output_type": "stream",
     "text": [
      "417 S HESTER ST Stillwater OK 74074 0105.03\n"
     ]
    },
    {
     "name": "stderr",
     "output_type": "stream",
     "text": [
      "<ipython-input-135-c99a2411e0a3>:8: FutureWarning: The frame.append method is deprecated and will be removed from pandas in a future version. Use pandas.concat instead.\n",
      "  df_address_census_tract = df_address_census_tract.append({'Address':i,'Census_Tract':tc_text},ignore_index=True)\n"
     ]
    },
    {
     "name": "stdout",
     "output_type": "stream",
     "text": [
      "417 S HUSBAND ST Stillwater OK 74074 0105.03\n"
     ]
    },
    {
     "name": "stderr",
     "output_type": "stream",
     "text": [
      "<ipython-input-135-c99a2411e0a3>:8: FutureWarning: The frame.append method is deprecated and will be removed from pandas in a future version. Use pandas.concat instead.\n",
      "  df_address_census_tract = df_address_census_tract.append({'Address':i,'Census_Tract':tc_text},ignore_index=True)\n"
     ]
    },
    {
     "name": "stdout",
     "output_type": "stream",
     "text": [
      "417 S KNOBLOCK ST Stillwater OK 74074 0105.03\n"
     ]
    },
    {
     "name": "stderr",
     "output_type": "stream",
     "text": [
      "<ipython-input-135-c99a2411e0a3>:8: FutureWarning: The frame.append method is deprecated and will be removed from pandas in a future version. Use pandas.concat instead.\n",
      "  df_address_census_tract = df_address_census_tract.append({'Address':i,'Census_Tract':tc_text},ignore_index=True)\n"
     ]
    },
    {
     "name": "stdout",
     "output_type": "stream",
     "text": [
      "417 S PAYNE ST Stillwater OK 74074 0106.00\n"
     ]
    },
    {
     "name": "stderr",
     "output_type": "stream",
     "text": [
      "<ipython-input-135-c99a2411e0a3>:8: FutureWarning: The frame.append method is deprecated and will be removed from pandas in a future version. Use pandas.concat instead.\n",
      "  df_address_census_tract = df_address_census_tract.append({'Address':i,'Census_Tract':tc_text},ignore_index=True)\n"
     ]
    },
    {
     "name": "stdout",
     "output_type": "stream",
     "text": [
      "417 W 4TH AVE Stillwater OK 74074 0105.03\n"
     ]
    },
    {
     "name": "stderr",
     "output_type": "stream",
     "text": [
      "<ipython-input-135-c99a2411e0a3>:8: FutureWarning: The frame.append method is deprecated and will be removed from pandas in a future version. Use pandas.concat instead.\n",
      "  df_address_census_tract = df_address_census_tract.append({'Address':i,'Census_Tract':tc_text},ignore_index=True)\n"
     ]
    },
    {
     "name": "stdout",
     "output_type": "stream",
     "text": [
      "418 N MANNING ST Stillwater OK 74074 0106.00\n"
     ]
    },
    {
     "name": "stderr",
     "output_type": "stream",
     "text": [
      "<ipython-input-135-c99a2411e0a3>:8: FutureWarning: The frame.append method is deprecated and will be removed from pandas in a future version. Use pandas.concat instead.\n",
      "  df_address_census_tract = df_address_census_tract.append({'Address':i,'Census_Tract':tc_text},ignore_index=True)\n"
     ]
    },
    {
     "name": "stdout",
     "output_type": "stream",
     "text": [
      "418 DOBBS LN Stillwater OK 74075 0111.01\n"
     ]
    },
    {
     "name": "stderr",
     "output_type": "stream",
     "text": [
      "<ipython-input-135-c99a2411e0a3>:8: FutureWarning: The frame.append method is deprecated and will be removed from pandas in a future version. Use pandas.concat instead.\n",
      "  df_address_census_tract = df_address_census_tract.append({'Address':i,'Census_Tract':tc_text},ignore_index=True)\n"
     ]
    },
    {
     "name": "stdout",
     "output_type": "stream",
     "text": [
      "418 S GRAY ST Stillwater OK 74074 0103.00\n"
     ]
    },
    {
     "name": "stderr",
     "output_type": "stream",
     "text": [
      "<ipython-input-135-c99a2411e0a3>:8: FutureWarning: The frame.append method is deprecated and will be removed from pandas in a future version. Use pandas.concat instead.\n",
      "  df_address_census_tract = df_address_census_tract.append({'Address':i,'Census_Tract':tc_text},ignore_index=True)\n"
     ]
    },
    {
     "name": "stdout",
     "output_type": "stream",
     "text": [
      "418 S HUSBAND ST Stillwater OK 74074 0105.03\n"
     ]
    },
    {
     "name": "stderr",
     "output_type": "stream",
     "text": [
      "<ipython-input-135-c99a2411e0a3>:8: FutureWarning: The frame.append method is deprecated and will be removed from pandas in a future version. Use pandas.concat instead.\n",
      "  df_address_census_tract = df_address_census_tract.append({'Address':i,'Census_Tract':tc_text},ignore_index=True)\n"
     ]
    },
    {
     "name": "stdout",
     "output_type": "stream",
     "text": [
      "418 S WEST ST Stillwater OK 74074 0105.03\n"
     ]
    },
    {
     "name": "stderr",
     "output_type": "stream",
     "text": [
      "<ipython-input-135-c99a2411e0a3>:8: FutureWarning: The frame.append method is deprecated and will be removed from pandas in a future version. Use pandas.concat instead.\n",
      "  df_address_census_tract = df_address_census_tract.append({'Address':i,'Census_Tract':tc_text},ignore_index=True)\n"
     ]
    },
    {
     "name": "stdout",
     "output_type": "stream",
     "text": [
      "419 E BRITTON CT Stillwater OK 74075 0101.01\n"
     ]
    },
    {
     "name": "stderr",
     "output_type": "stream",
     "text": [
      "<ipython-input-135-c99a2411e0a3>:8: FutureWarning: The frame.append method is deprecated and will be removed from pandas in a future version. Use pandas.concat instead.\n",
      "  df_address_census_tract = df_address_census_tract.append({'Address':i,'Census_Tract':tc_text},ignore_index=True)\n"
     ]
    },
    {
     "name": "stdout",
     "output_type": "stream",
     "text": [
      "419 S DUNCAN ST Stillwater OK 74074 0105.03\n"
     ]
    },
    {
     "name": "stderr",
     "output_type": "stream",
     "text": [
      "<ipython-input-135-c99a2411e0a3>:8: FutureWarning: The frame.append method is deprecated and will be removed from pandas in a future version. Use pandas.concat instead.\n",
      "  df_address_census_tract = df_address_census_tract.append({'Address':i,'Census_Tract':tc_text},ignore_index=True)\n"
     ]
    },
    {
     "name": "stdout",
     "output_type": "stream",
     "text": [
      "419 S HESTER ST Stillwater OK 74074 0105.03\n"
     ]
    },
    {
     "name": "stderr",
     "output_type": "stream",
     "text": [
      "<ipython-input-135-c99a2411e0a3>:8: FutureWarning: The frame.append method is deprecated and will be removed from pandas in a future version. Use pandas.concat instead.\n",
      "  df_address_census_tract = df_address_census_tract.append({'Address':i,'Census_Tract':tc_text},ignore_index=True)\n"
     ]
    },
    {
     "name": "stdout",
     "output_type": "stream",
     "text": [
      "419 S LEWIS ST Stillwater OK 74074 0105.01\n"
     ]
    },
    {
     "name": "stderr",
     "output_type": "stream",
     "text": [
      "<ipython-input-135-c99a2411e0a3>:8: FutureWarning: The frame.append method is deprecated and will be removed from pandas in a future version. Use pandas.concat instead.\n",
      "  df_address_census_tract = df_address_census_tract.append({'Address':i,'Census_Tract':tc_text},ignore_index=True)\n"
     ]
    },
    {
     "name": "stdout",
     "output_type": "stream",
     "text": [
      "419 S OAKDALE DR Stillwater OK 74074 0109.01\n"
     ]
    },
    {
     "name": "stderr",
     "output_type": "stream",
     "text": [
      "<ipython-input-135-c99a2411e0a3>:8: FutureWarning: The frame.append method is deprecated and will be removed from pandas in a future version. Use pandas.concat instead.\n",
      "  df_address_census_tract = df_address_census_tract.append({'Address':i,'Census_Tract':tc_text},ignore_index=True)\n"
     ]
    },
    {
     "name": "stdout",
     "output_type": "stream",
     "text": [
      "419 S STANLEY ST Stillwater OK 74074 0103.00\n"
     ]
    },
    {
     "name": "stderr",
     "output_type": "stream",
     "text": [
      "<ipython-input-135-c99a2411e0a3>:8: FutureWarning: The frame.append method is deprecated and will be removed from pandas in a future version. Use pandas.concat instead.\n",
      "  df_address_census_tract = df_address_census_tract.append({'Address':i,'Census_Tract':tc_text},ignore_index=True)\n"
     ]
    },
    {
     "name": "stdout",
     "output_type": "stream",
     "text": [
      "419 W 5TH AVE Stillwater OK 74074 0105.03\n"
     ]
    },
    {
     "name": "stderr",
     "output_type": "stream",
     "text": [
      "<ipython-input-135-c99a2411e0a3>:8: FutureWarning: The frame.append method is deprecated and will be removed from pandas in a future version. Use pandas.concat instead.\n",
      "  df_address_census_tract = df_address_census_tract.append({'Address':i,'Census_Tract':tc_text},ignore_index=True)\n"
     ]
    },
    {
     "name": "stdout",
     "output_type": "stream",
     "text": [
      "42 YELLOW BRICK DR Stillwater OK 74074 0109.02\n"
     ]
    },
    {
     "name": "stderr",
     "output_type": "stream",
     "text": [
      "<ipython-input-135-c99a2411e0a3>:8: FutureWarning: The frame.append method is deprecated and will be removed from pandas in a future version. Use pandas.concat instead.\n",
      "  df_address_census_tract = df_address_census_tract.append({'Address':i,'Census_Tract':tc_text},ignore_index=True)\n"
     ]
    },
    {
     "name": "stdout",
     "output_type": "stream",
     "text": [
      "420 E BRITTON CT Stillwater OK 74075 0101.01\n"
     ]
    },
    {
     "name": "stderr",
     "output_type": "stream",
     "text": [
      "<ipython-input-135-c99a2411e0a3>:8: FutureWarning: The frame.append method is deprecated and will be removed from pandas in a future version. Use pandas.concat instead.\n",
      "  df_address_census_tract = df_address_census_tract.append({'Address':i,'Census_Tract':tc_text},ignore_index=True)\n"
     ]
    },
    {
     "name": "stdout",
     "output_type": "stream",
     "text": [
      "420 E TOPAZ AVE Stillwater OK 74075 0101.01\n"
     ]
    },
    {
     "name": "stderr",
     "output_type": "stream",
     "text": [
      "<ipython-input-135-c99a2411e0a3>:8: FutureWarning: The frame.append method is deprecated and will be removed from pandas in a future version. Use pandas.concat instead.\n",
      "  df_address_census_tract = df_address_census_tract.append({'Address':i,'Census_Tract':tc_text},ignore_index=True)\n"
     ]
    },
    {
     "name": "stdout",
     "output_type": "stream",
     "text": [
      "420 S LINCOLN ST Stillwater OK 74074 0103.00\n"
     ]
    },
    {
     "name": "stderr",
     "output_type": "stream",
     "text": [
      "<ipython-input-135-c99a2411e0a3>:8: FutureWarning: The frame.append method is deprecated and will be removed from pandas in a future version. Use pandas.concat instead.\n",
      "  df_address_census_tract = df_address_census_tract.append({'Address':i,'Census_Tract':tc_text},ignore_index=True)\n"
     ]
    },
    {
     "name": "stdout",
     "output_type": "stream",
     "text": [
      "420 S WALNUT ST Stillwater OK 74074 0103.00\n"
     ]
    },
    {
     "name": "stderr",
     "output_type": "stream",
     "text": [
      "<ipython-input-135-c99a2411e0a3>:8: FutureWarning: The frame.append method is deprecated and will be removed from pandas in a future version. Use pandas.concat instead.\n",
      "  df_address_census_tract = df_address_census_tract.append({'Address':i,'Census_Tract':tc_text},ignore_index=True)\n"
     ]
    },
    {
     "name": "stdout",
     "output_type": "stream",
     "text": [
      "4203 S WESTERN RD Stillwater OK 74074 0110.02\n"
     ]
    },
    {
     "name": "stderr",
     "output_type": "stream",
     "text": [
      "<ipython-input-135-c99a2411e0a3>:8: FutureWarning: The frame.append method is deprecated and will be removed from pandas in a future version. Use pandas.concat instead.\n",
      "  df_address_census_tract = df_address_census_tract.append({'Address':i,'Census_Tract':tc_text},ignore_index=True)\n"
     ]
    },
    {
     "name": "stdout",
     "output_type": "stream",
     "text": [
      "4208 W PRESCOT DR Stillwater OK 74074 0109.02\n"
     ]
    },
    {
     "name": "stderr",
     "output_type": "stream",
     "text": [
      "<ipython-input-135-c99a2411e0a3>:8: FutureWarning: The frame.append method is deprecated and will be removed from pandas in a future version. Use pandas.concat instead.\n",
      "  df_address_census_tract = df_address_census_tract.append({'Address':i,'Census_Tract':tc_text},ignore_index=True)\n"
     ]
    },
    {
     "name": "stdout",
     "output_type": "stream",
     "text": [
      "421 E BRITTON CT Stillwater OK 74075 0101.01\n"
     ]
    },
    {
     "name": "stderr",
     "output_type": "stream",
     "text": [
      "<ipython-input-135-c99a2411e0a3>:8: FutureWarning: The frame.append method is deprecated and will be removed from pandas in a future version. Use pandas.concat instead.\n",
      "  df_address_census_tract = df_address_census_tract.append({'Address':i,'Census_Tract':tc_text},ignore_index=True)\n"
     ]
    },
    {
     "name": "stdout",
     "output_type": "stream",
     "text": [
      "421 E RICHMOND RD Stillwater OK 74074 0101.01\n"
     ]
    },
    {
     "name": "stderr",
     "output_type": "stream",
     "text": [
      "<ipython-input-135-c99a2411e0a3>:8: FutureWarning: The frame.append method is deprecated and will be removed from pandas in a future version. Use pandas.concat instead.\n",
      "  df_address_census_tract = df_address_census_tract.append({'Address':i,'Census_Tract':tc_text},ignore_index=True)\n"
     ]
    },
    {
     "name": "stdout",
     "output_type": "stream",
     "text": [
      "421 W 12TH AVE Stillwater OK 74074 0107.00\n"
     ]
    },
    {
     "name": "stderr",
     "output_type": "stream",
     "text": [
      "<ipython-input-135-c99a2411e0a3>:8: FutureWarning: The frame.append method is deprecated and will be removed from pandas in a future version. Use pandas.concat instead.\n",
      "  df_address_census_tract = df_address_census_tract.append({'Address':i,'Census_Tract':tc_text},ignore_index=True)\n"
     ]
    },
    {
     "name": "stdout",
     "output_type": "stream",
     "text": [
      "421 W 3RD AVE Stillwater OK 74074 0105.03\n"
     ]
    },
    {
     "name": "stderr",
     "output_type": "stream",
     "text": [
      "<ipython-input-135-c99a2411e0a3>:8: FutureWarning: The frame.append method is deprecated and will be removed from pandas in a future version. Use pandas.concat instead.\n",
      "  df_address_census_tract = df_address_census_tract.append({'Address':i,'Census_Tract':tc_text},ignore_index=True)\n"
     ]
    },
    {
     "name": "stdout",
     "output_type": "stream",
     "text": [
      "421 W 5TH AVE Stillwater OK 74074 0105.03\n"
     ]
    },
    {
     "name": "stderr",
     "output_type": "stream",
     "text": [
      "<ipython-input-135-c99a2411e0a3>:8: FutureWarning: The frame.append method is deprecated and will be removed from pandas in a future version. Use pandas.concat instead.\n",
      "  df_address_census_tract = df_address_census_tract.append({'Address':i,'Census_Tract':tc_text},ignore_index=True)\n"
     ]
    },
    {
     "name": "stdout",
     "output_type": "stream",
     "text": [
      "4210 W AGGIE DR Stillwater OK 74074 0109.02\n"
     ]
    },
    {
     "name": "stderr",
     "output_type": "stream",
     "text": [
      "<ipython-input-135-c99a2411e0a3>:8: FutureWarning: The frame.append method is deprecated and will be removed from pandas in a future version. Use pandas.concat instead.\n",
      "  df_address_census_tract = df_address_census_tract.append({'Address':i,'Census_Tract':tc_text},ignore_index=True)\n"
     ]
    },
    {
     "name": "stdout",
     "output_type": "stream",
     "text": [
      "4215 N WASHINGTON ST Stillwater OK 74075 0102.01\n"
     ]
    },
    {
     "name": "stderr",
     "output_type": "stream",
     "text": [
      "<ipython-input-135-c99a2411e0a3>:8: FutureWarning: The frame.append method is deprecated and will be removed from pandas in a future version. Use pandas.concat instead.\n",
      "  df_address_census_tract = df_address_census_tract.append({'Address':i,'Census_Tract':tc_text},ignore_index=True)\n"
     ]
    },
    {
     "name": "stdout",
     "output_type": "stream",
     "text": [
      "4216 W PRESCOT DR Stillwater OK 74074 0109.02\n"
     ]
    },
    {
     "name": "stderr",
     "output_type": "stream",
     "text": [
      "<ipython-input-135-c99a2411e0a3>:8: FutureWarning: The frame.append method is deprecated and will be removed from pandas in a future version. Use pandas.concat instead.\n",
      "  df_address_census_tract = df_address_census_tract.append({'Address':i,'Census_Tract':tc_text},ignore_index=True)\n"
     ]
    },
    {
     "name": "stdout",
     "output_type": "stream",
     "text": [
      "4218 W AGGIE DR Stillwater OK 74074 0109.02\n"
     ]
    },
    {
     "name": "stderr",
     "output_type": "stream",
     "text": [
      "<ipython-input-135-c99a2411e0a3>:8: FutureWarning: The frame.append method is deprecated and will be removed from pandas in a future version. Use pandas.concat instead.\n",
      "  df_address_census_tract = df_address_census_tract.append({'Address':i,'Census_Tract':tc_text},ignore_index=True)\n"
     ]
    },
    {
     "name": "stdout",
     "output_type": "stream",
     "text": [
      "4224 W COUNTRY CLUB DR Stillwater OK 74074 0109.02\n"
     ]
    },
    {
     "name": "stderr",
     "output_type": "stream",
     "text": [
      "<ipython-input-135-c99a2411e0a3>:8: FutureWarning: The frame.append method is deprecated and will be removed from pandas in a future version. Use pandas.concat instead.\n",
      "  df_address_census_tract = df_address_census_tract.append({'Address':i,'Census_Tract':tc_text},ignore_index=True)\n"
     ]
    },
    {
     "name": "stdout",
     "output_type": "stream",
     "text": [
      "4226 W COUNTRY CLUB DR Stillwater OK 74074 0109.02\n"
     ]
    },
    {
     "name": "stderr",
     "output_type": "stream",
     "text": [
      "<ipython-input-135-c99a2411e0a3>:8: FutureWarning: The frame.append method is deprecated and will be removed from pandas in a future version. Use pandas.concat instead.\n",
      "  df_address_census_tract = df_address_census_tract.append({'Address':i,'Census_Tract':tc_text},ignore_index=True)\n"
     ]
    },
    {
     "name": "stdout",
     "output_type": "stream",
     "text": [
      "423 E BRITTON CT Stillwater OK 74075 0101.01\n"
     ]
    },
    {
     "name": "stderr",
     "output_type": "stream",
     "text": [
      "<ipython-input-135-c99a2411e0a3>:8: FutureWarning: The frame.append method is deprecated and will be removed from pandas in a future version. Use pandas.concat instead.\n",
      "  df_address_census_tract = df_address_census_tract.append({'Address':i,'Census_Tract':tc_text},ignore_index=True)\n"
     ]
    },
    {
     "name": "stdout",
     "output_type": "stream",
     "text": [
      "423 E LIBERTY AVE Stillwater OK 74074 0101.01\n"
     ]
    },
    {
     "name": "stderr",
     "output_type": "stream",
     "text": [
      "<ipython-input-135-c99a2411e0a3>:8: FutureWarning: The frame.append method is deprecated and will be removed from pandas in a future version. Use pandas.concat instead.\n",
      "  df_address_census_tract = df_address_census_tract.append({'Address':i,'Census_Tract':tc_text},ignore_index=True)\n"
     ]
    },
    {
     "name": "stdout",
     "output_type": "stream",
     "text": [
      "423 S DUCK ST Stillwater OK 74074 0105.03\n"
     ]
    },
    {
     "name": "stderr",
     "output_type": "stream",
     "text": [
      "<ipython-input-135-c99a2411e0a3>:8: FutureWarning: The frame.append method is deprecated and will be removed from pandas in a future version. Use pandas.concat instead.\n",
      "  df_address_census_tract = df_address_census_tract.append({'Address':i,'Census_Tract':tc_text},ignore_index=True)\n"
     ]
    },
    {
     "name": "stdout",
     "output_type": "stream",
     "text": [
      "423 S DUNCAN ST Stillwater OK 74074 0105.03\n"
     ]
    },
    {
     "name": "stderr",
     "output_type": "stream",
     "text": [
      "<ipython-input-135-c99a2411e0a3>:8: FutureWarning: The frame.append method is deprecated and will be removed from pandas in a future version. Use pandas.concat instead.\n",
      "  df_address_census_tract = df_address_census_tract.append({'Address':i,'Census_Tract':tc_text},ignore_index=True)\n"
     ]
    },
    {
     "name": "stdout",
     "output_type": "stream",
     "text": [
      "423 S GRAY ST Stillwater OK 74074 0103.00\n"
     ]
    },
    {
     "name": "stderr",
     "output_type": "stream",
     "text": [
      "<ipython-input-135-c99a2411e0a3>:8: FutureWarning: The frame.append method is deprecated and will be removed from pandas in a future version. Use pandas.concat instead.\n",
      "  df_address_census_tract = df_address_census_tract.append({'Address':i,'Census_Tract':tc_text},ignore_index=True)\n"
     ]
    },
    {
     "name": "stdout",
     "output_type": "stream",
     "text": [
      "423 S HESTER ST Stillwater OK 74074 0105.03\n"
     ]
    },
    {
     "name": "stderr",
     "output_type": "stream",
     "text": [
      "<ipython-input-135-c99a2411e0a3>:8: FutureWarning: The frame.append method is deprecated and will be removed from pandas in a future version. Use pandas.concat instead.\n",
      "  df_address_census_tract = df_address_census_tract.append({'Address':i,'Census_Tract':tc_text},ignore_index=True)\n"
     ]
    },
    {
     "name": "stdout",
     "output_type": "stream",
     "text": [
      "423 S KNOBLOCK ST Stillwater OK 74074 0105.03\n"
     ]
    },
    {
     "name": "stderr",
     "output_type": "stream",
     "text": [
      "<ipython-input-135-c99a2411e0a3>:8: FutureWarning: The frame.append method is deprecated and will be removed from pandas in a future version. Use pandas.concat instead.\n",
      "  df_address_census_tract = df_address_census_tract.append({'Address':i,'Census_Tract':tc_text},ignore_index=True)\n"
     ]
    },
    {
     "name": "stdout",
     "output_type": "stream",
     "text": [
      "423 S ORCHARD ST Stillwater OK 74074 0103.00\n"
     ]
    },
    {
     "name": "stderr",
     "output_type": "stream",
     "text": [
      "<ipython-input-135-c99a2411e0a3>:8: FutureWarning: The frame.append method is deprecated and will be removed from pandas in a future version. Use pandas.concat instead.\n",
      "  df_address_census_tract = df_address_census_tract.append({'Address':i,'Census_Tract':tc_text},ignore_index=True)\n"
     ]
    },
    {
     "name": "stdout",
     "output_type": "stream",
     "text": [
      "424 E ROGERS DR Stillwater OK 74074 0101.01\n"
     ]
    },
    {
     "name": "stderr",
     "output_type": "stream",
     "text": [
      "<ipython-input-135-c99a2411e0a3>:8: FutureWarning: The frame.append method is deprecated and will be removed from pandas in a future version. Use pandas.concat instead.\n",
      "  df_address_census_tract = df_address_census_tract.append({'Address':i,'Census_Tract':tc_text},ignore_index=True)\n"
     ]
    },
    {
     "name": "stdout",
     "output_type": "stream",
     "text": [
      "424 N HUSBAND ST Stillwater OK 74075 0105.01\n"
     ]
    },
    {
     "name": "stderr",
     "output_type": "stream",
     "text": [
      "<ipython-input-135-c99a2411e0a3>:8: FutureWarning: The frame.append method is deprecated and will be removed from pandas in a future version. Use pandas.concat instead.\n",
      "  df_address_census_tract = df_address_census_tract.append({'Address':i,'Census_Tract':tc_text},ignore_index=True)\n"
     ]
    },
    {
     "name": "stdout",
     "output_type": "stream",
     "text": [
      "424 S GRAY ST Stillwater OK 74074 0103.00\n"
     ]
    },
    {
     "name": "stderr",
     "output_type": "stream",
     "text": [
      "<ipython-input-135-c99a2411e0a3>:8: FutureWarning: The frame.append method is deprecated and will be removed from pandas in a future version. Use pandas.concat instead.\n",
      "  df_address_census_tract = df_address_census_tract.append({'Address':i,'Census_Tract':tc_text},ignore_index=True)\n"
     ]
    },
    {
     "name": "stdout",
     "output_type": "stream",
     "text": [
      "424 S WEST ST Stillwater OK 74074 0105.03\n"
     ]
    },
    {
     "name": "stderr",
     "output_type": "stream",
     "text": [
      "<ipython-input-135-c99a2411e0a3>:8: FutureWarning: The frame.append method is deprecated and will be removed from pandas in a future version. Use pandas.concat instead.\n",
      "  df_address_census_tract = df_address_census_tract.append({'Address':i,'Census_Tract':tc_text},ignore_index=True)\n"
     ]
    },
    {
     "name": "stdout",
     "output_type": "stream",
     "text": [
      "424 W 3RD AVE Stillwater OK 74074 0105.03\n"
     ]
    },
    {
     "name": "stderr",
     "output_type": "stream",
     "text": [
      "<ipython-input-135-c99a2411e0a3>:8: FutureWarning: The frame.append method is deprecated and will be removed from pandas in a future version. Use pandas.concat instead.\n",
      "  df_address_census_tract = df_address_census_tract.append({'Address':i,'Census_Tract':tc_text},ignore_index=True)\n"
     ]
    },
    {
     "name": "stdout",
     "output_type": "stream",
     "text": [
      "424 W 5TH AVE Stillwater OK 74074 0105.03\n"
     ]
    },
    {
     "name": "stderr",
     "output_type": "stream",
     "text": [
      "<ipython-input-135-c99a2411e0a3>:8: FutureWarning: The frame.append method is deprecated and will be removed from pandas in a future version. Use pandas.concat instead.\n",
      "  df_address_census_tract = df_address_census_tract.append({'Address':i,'Census_Tract':tc_text},ignore_index=True)\n"
     ]
    },
    {
     "name": "stdout",
     "output_type": "stream",
     "text": [
      "425 N JARDOT RD Stillwater OK 74074 0106.00\n"
     ]
    },
    {
     "name": "stderr",
     "output_type": "stream",
     "text": [
      "<ipython-input-135-c99a2411e0a3>:8: FutureWarning: The frame.append method is deprecated and will be removed from pandas in a future version. Use pandas.concat instead.\n",
      "  df_address_census_tract = df_address_census_tract.append({'Address':i,'Census_Tract':tc_text},ignore_index=True)\n"
     ]
    },
    {
     "name": "stdout",
     "output_type": "stream",
     "text": [
      "426 S WEST ST Stillwater OK 74074 0105.03\n"
     ]
    },
    {
     "name": "stderr",
     "output_type": "stream",
     "text": [
      "<ipython-input-135-c99a2411e0a3>:8: FutureWarning: The frame.append method is deprecated and will be removed from pandas in a future version. Use pandas.concat instead.\n",
      "  df_address_census_tract = df_address_census_tract.append({'Address':i,'Census_Tract':tc_text},ignore_index=True)\n"
     ]
    },
    {
     "name": "stdout",
     "output_type": "stream",
     "text": [
      "43 PINEWOOD CIR Stillwater OK 74074 0106.00\n"
     ]
    },
    {
     "name": "stderr",
     "output_type": "stream",
     "text": [
      "<ipython-input-135-c99a2411e0a3>:8: FutureWarning: The frame.append method is deprecated and will be removed from pandas in a future version. Use pandas.concat instead.\n",
      "  df_address_census_tract = df_address_census_tract.append({'Address':i,'Census_Tract':tc_text},ignore_index=True)\n"
     ]
    },
    {
     "name": "stdout",
     "output_type": "stream",
     "text": [
      "43 WINDSOR CIR Stillwater OK 74074 0109.01\n"
     ]
    },
    {
     "name": "stderr",
     "output_type": "stream",
     "text": [
      "<ipython-input-135-c99a2411e0a3>:8: FutureWarning: The frame.append method is deprecated and will be removed from pandas in a future version. Use pandas.concat instead.\n",
      "  df_address_census_tract = df_address_census_tract.append({'Address':i,'Census_Tract':tc_text},ignore_index=True)\n"
     ]
    },
    {
     "name": "stdout",
     "output_type": "stream",
     "text": [
      "4300 W AGGIE DR Stillwater OK 74074 0109.02\n"
     ]
    },
    {
     "name": "stderr",
     "output_type": "stream",
     "text": [
      "<ipython-input-135-c99a2411e0a3>:8: FutureWarning: The frame.append method is deprecated and will be removed from pandas in a future version. Use pandas.concat instead.\n",
      "  df_address_census_tract = df_address_census_tract.append({'Address':i,'Census_Tract':tc_text},ignore_index=True)\n"
     ]
    },
    {
     "name": "stdout",
     "output_type": "stream",
     "text": [
      "4303 W COUNTRY CLUB DR Stillwater OK 74074 0109.02\n"
     ]
    },
    {
     "name": "stderr",
     "output_type": "stream",
     "text": [
      "<ipython-input-135-c99a2411e0a3>:8: FutureWarning: The frame.append method is deprecated and will be removed from pandas in a future version. Use pandas.concat instead.\n",
      "  df_address_census_tract = df_address_census_tract.append({'Address':i,'Census_Tract':tc_text},ignore_index=True)\n"
     ]
    },
    {
     "name": "stdout",
     "output_type": "stream",
     "text": [
      "4304 W 44TH AVE Stillwater OK 74074 0109.02\n"
     ]
    },
    {
     "name": "stderr",
     "output_type": "stream",
     "text": [
      "<ipython-input-135-c99a2411e0a3>:8: FutureWarning: The frame.append method is deprecated and will be removed from pandas in a future version. Use pandas.concat instead.\n",
      "  df_address_census_tract = df_address_census_tract.append({'Address':i,'Census_Tract':tc_text},ignore_index=True)\n"
     ]
    },
    {
     "name": "stdout",
     "output_type": "stream",
     "text": [
      "4305 W AGGIE DR Stillwater OK 74074 0109.02\n"
     ]
    },
    {
     "name": "stderr",
     "output_type": "stream",
     "text": [
      "<ipython-input-135-c99a2411e0a3>:8: FutureWarning: The frame.append method is deprecated and will be removed from pandas in a future version. Use pandas.concat instead.\n",
      "  df_address_census_tract = df_address_census_tract.append({'Address':i,'Census_Tract':tc_text},ignore_index=True)\n"
     ]
    },
    {
     "name": "stdout",
     "output_type": "stream",
     "text": [
      "4307 W PRESCOT DR Stillwater OK 74074 0109.02\n"
     ]
    },
    {
     "name": "stderr",
     "output_type": "stream",
     "text": [
      "<ipython-input-135-c99a2411e0a3>:8: FutureWarning: The frame.append method is deprecated and will be removed from pandas in a future version. Use pandas.concat instead.\n",
      "  df_address_census_tract = df_address_census_tract.append({'Address':i,'Census_Tract':tc_text},ignore_index=True)\n"
     ]
    },
    {
     "name": "stdout",
     "output_type": "stream",
     "text": [
      "4308 E SIERRA LN Stillwater OK 74074 0111.01\n"
     ]
    },
    {
     "name": "stderr",
     "output_type": "stream",
     "text": [
      "<ipython-input-135-c99a2411e0a3>:8: FutureWarning: The frame.append method is deprecated and will be removed from pandas in a future version. Use pandas.concat instead.\n",
      "  df_address_census_tract = df_address_census_tract.append({'Address':i,'Census_Tract':tc_text},ignore_index=True)\n"
     ]
    },
    {
     "name": "stdout",
     "output_type": "stream",
     "text": [
      "4308 W PRESCOT DR Stillwater OK 74074 0109.02\n"
     ]
    },
    {
     "name": "stderr",
     "output_type": "stream",
     "text": [
      "<ipython-input-135-c99a2411e0a3>:8: FutureWarning: The frame.append method is deprecated and will be removed from pandas in a future version. Use pandas.concat instead.\n",
      "  df_address_census_tract = df_address_census_tract.append({'Address':i,'Census_Tract':tc_text},ignore_index=True)\n"
     ]
    },
    {
     "name": "stdout",
     "output_type": "stream",
     "text": [
      "4308 W WILLOW RUN Stillwater OK 74074 0109.02\n"
     ]
    },
    {
     "name": "stderr",
     "output_type": "stream",
     "text": [
      "<ipython-input-135-c99a2411e0a3>:8: FutureWarning: The frame.append method is deprecated and will be removed from pandas in a future version. Use pandas.concat instead.\n",
      "  df_address_census_tract = df_address_census_tract.append({'Address':i,'Census_Tract':tc_text},ignore_index=True)\n"
     ]
    },
    {
     "name": "stdout",
     "output_type": "stream",
     "text": [
      "4309 W AGGIE DR Stillwater OK 74074 0109.02\n"
     ]
    },
    {
     "name": "stderr",
     "output_type": "stream",
     "text": [
      "<ipython-input-135-c99a2411e0a3>:8: FutureWarning: The frame.append method is deprecated and will be removed from pandas in a future version. Use pandas.concat instead.\n",
      "  df_address_census_tract = df_address_census_tract.append({'Address':i,'Census_Tract':tc_text},ignore_index=True)\n"
     ]
    },
    {
     "name": "stdout",
     "output_type": "stream",
     "text": [
      "4312 W WILLOW RUN Stillwater OK 74074 0109.02\n"
     ]
    },
    {
     "name": "stderr",
     "output_type": "stream",
     "text": [
      "<ipython-input-135-c99a2411e0a3>:8: FutureWarning: The frame.append method is deprecated and will be removed from pandas in a future version. Use pandas.concat instead.\n",
      "  df_address_census_tract = df_address_census_tract.append({'Address':i,'Census_Tract':tc_text},ignore_index=True)\n"
     ]
    },
    {
     "name": "stdout",
     "output_type": "stream",
     "text": [
      "4313 W WILLOW RUN Stillwater OK 74074 0109.02\n"
     ]
    },
    {
     "name": "stderr",
     "output_type": "stream",
     "text": [
      "<ipython-input-135-c99a2411e0a3>:8: FutureWarning: The frame.append method is deprecated and will be removed from pandas in a future version. Use pandas.concat instead.\n",
      "  df_address_census_tract = df_address_census_tract.append({'Address':i,'Census_Tract':tc_text},ignore_index=True)\n"
     ]
    },
    {
     "name": "stdout",
     "output_type": "stream",
     "text": [
      "4316 E JENNA LN Stillwater OK 74074 0111.01\n"
     ]
    },
    {
     "name": "stderr",
     "output_type": "stream",
     "text": [
      "<ipython-input-135-c99a2411e0a3>:8: FutureWarning: The frame.append method is deprecated and will be removed from pandas in a future version. Use pandas.concat instead.\n",
      "  df_address_census_tract = df_address_census_tract.append({'Address':i,'Census_Tract':tc_text},ignore_index=True)\n"
     ]
    },
    {
     "name": "stdout",
     "output_type": "stream",
     "text": [
      "4316 W WILLOW RUN Stillwater OK 74074 0109.02\n"
     ]
    },
    {
     "name": "stderr",
     "output_type": "stream",
     "text": [
      "<ipython-input-135-c99a2411e0a3>:8: FutureWarning: The frame.append method is deprecated and will be removed from pandas in a future version. Use pandas.concat instead.\n",
      "  df_address_census_tract = df_address_census_tract.append({'Address':i,'Census_Tract':tc_text},ignore_index=True)\n"
     ]
    },
    {
     "name": "stdout",
     "output_type": "stream",
     "text": [
      "4317 W WILLOW RUN Stillwater OK 74074 0109.02\n"
     ]
    },
    {
     "name": "stderr",
     "output_type": "stream",
     "text": [
      "<ipython-input-135-c99a2411e0a3>:8: FutureWarning: The frame.append method is deprecated and will be removed from pandas in a future version. Use pandas.concat instead.\n",
      "  df_address_census_tract = df_address_census_tract.append({'Address':i,'Census_Tract':tc_text},ignore_index=True)\n"
     ]
    },
    {
     "name": "stdout",
     "output_type": "stream",
     "text": [
      "4319 W AGGIE DR Stillwater OK 74074 0109.02\n"
     ]
    },
    {
     "name": "stderr",
     "output_type": "stream",
     "text": [
      "<ipython-input-135-c99a2411e0a3>:8: FutureWarning: The frame.append method is deprecated and will be removed from pandas in a future version. Use pandas.concat instead.\n",
      "  df_address_census_tract = df_address_census_tract.append({'Address':i,'Census_Tract':tc_text},ignore_index=True)\n"
     ]
    },
    {
     "name": "stdout",
     "output_type": "stream",
     "text": [
      "4319 W COUNTRY CLUB DR Stillwater OK 74074 0109.02\n"
     ]
    },
    {
     "name": "stderr",
     "output_type": "stream",
     "text": [
      "<ipython-input-135-c99a2411e0a3>:8: FutureWarning: The frame.append method is deprecated and will be removed from pandas in a future version. Use pandas.concat instead.\n",
      "  df_address_census_tract = df_address_census_tract.append({'Address':i,'Census_Tract':tc_text},ignore_index=True)\n"
     ]
    },
    {
     "name": "stdout",
     "output_type": "stream",
     "text": [
      "4320 E BRAXTON LN Stillwater OK 74074 0111.01\n"
     ]
    },
    {
     "name": "stderr",
     "output_type": "stream",
     "text": [
      "<ipython-input-135-c99a2411e0a3>:8: FutureWarning: The frame.append method is deprecated and will be removed from pandas in a future version. Use pandas.concat instead.\n",
      "  df_address_census_tract = df_address_census_tract.append({'Address':i,'Census_Tract':tc_text},ignore_index=True)\n"
     ]
    },
    {
     "name": "stdout",
     "output_type": "stream",
     "text": [
      "4320 E ZACHARY LN Stillwater OK 74074 0111.01\n"
     ]
    },
    {
     "name": "stderr",
     "output_type": "stream",
     "text": [
      "<ipython-input-135-c99a2411e0a3>:8: FutureWarning: The frame.append method is deprecated and will be removed from pandas in a future version. Use pandas.concat instead.\n",
      "  df_address_census_tract = df_address_census_tract.append({'Address':i,'Census_Tract':tc_text},ignore_index=True)\n"
     ]
    },
    {
     "name": "stdout",
     "output_type": "stream",
     "text": [
      "4320 S NIGHTFALL LN Stillwater OK 74074 0110.02\n"
     ]
    },
    {
     "name": "stderr",
     "output_type": "stream",
     "text": [
      "<ipython-input-135-c99a2411e0a3>:8: FutureWarning: The frame.append method is deprecated and will be removed from pandas in a future version. Use pandas.concat instead.\n",
      "  df_address_census_tract = df_address_census_tract.append({'Address':i,'Census_Tract':tc_text},ignore_index=True)\n"
     ]
    },
    {
     "name": "stdout",
     "output_type": "stream",
     "text": [
      "4320 W WILLOW RUN Stillwater OK 74074 0109.02\n"
     ]
    },
    {
     "name": "stderr",
     "output_type": "stream",
     "text": [
      "<ipython-input-135-c99a2411e0a3>:8: FutureWarning: The frame.append method is deprecated and will be removed from pandas in a future version. Use pandas.concat instead.\n",
      "  df_address_census_tract = df_address_census_tract.append({'Address':i,'Census_Tract':tc_text},ignore_index=True)\n"
     ]
    },
    {
     "name": "stdout",
     "output_type": "stream",
     "text": [
      "4322 W COUNTRY CLUB DR Stillwater OK 74074 0109.02\n"
     ]
    },
    {
     "name": "stderr",
     "output_type": "stream",
     "text": [
      "<ipython-input-135-c99a2411e0a3>:8: FutureWarning: The frame.append method is deprecated and will be removed from pandas in a future version. Use pandas.concat instead.\n",
      "  df_address_census_tract = df_address_census_tract.append({'Address':i,'Census_Tract':tc_text},ignore_index=True)\n"
     ]
    },
    {
     "name": "stdout",
     "output_type": "stream",
     "text": [
      "4323 W COUNTRY CLUB DR Stillwater OK 74074 0109.02\n"
     ]
    },
    {
     "name": "stderr",
     "output_type": "stream",
     "text": [
      "<ipython-input-135-c99a2411e0a3>:8: FutureWarning: The frame.append method is deprecated and will be removed from pandas in a future version. Use pandas.concat instead.\n",
      "  df_address_census_tract = df_address_census_tract.append({'Address':i,'Census_Tract':tc_text},ignore_index=True)\n"
     ]
    },
    {
     "name": "stdout",
     "output_type": "stream",
     "text": [
      "4324 W PRESCOT DR Stillwater OK 74074 0109.02\n"
     ]
    },
    {
     "name": "stderr",
     "output_type": "stream",
     "text": [
      "<ipython-input-135-c99a2411e0a3>:8: FutureWarning: The frame.append method is deprecated and will be removed from pandas in a future version. Use pandas.concat instead.\n",
      "  df_address_census_tract = df_address_census_tract.append({'Address':i,'Census_Tract':tc_text},ignore_index=True)\n"
     ]
    },
    {
     "name": "stdout",
     "output_type": "stream",
     "text": [
      "4338 N WASHINGTON ST Stillwater OK 74075 0102.01\n"
     ]
    },
    {
     "name": "stderr",
     "output_type": "stream",
     "text": [
      "<ipython-input-135-c99a2411e0a3>:8: FutureWarning: The frame.append method is deprecated and will be removed from pandas in a future version. Use pandas.concat instead.\n",
      "  df_address_census_tract = df_address_census_tract.append({'Address':i,'Census_Tract':tc_text},ignore_index=True)\n"
     ]
    },
    {
     "name": "stdout",
     "output_type": "stream",
     "text": [
      "44 YELLOW BRICK DR Stillwater OK 74074 0109.02\n"
     ]
    },
    {
     "name": "stderr",
     "output_type": "stream",
     "text": [
      "<ipython-input-135-c99a2411e0a3>:8: FutureWarning: The frame.append method is deprecated and will be removed from pandas in a future version. Use pandas.concat instead.\n",
      "  df_address_census_tract = df_address_census_tract.append({'Address':i,'Census_Tract':tc_text},ignore_index=True)\n"
     ]
    },
    {
     "name": "stdout",
     "output_type": "stream",
     "text": [
      "4400 E ZACHARY LN Stillwater OK 74074 0111.01\n"
     ]
    },
    {
     "name": "stderr",
     "output_type": "stream",
     "text": [
      "<ipython-input-135-c99a2411e0a3>:8: FutureWarning: The frame.append method is deprecated and will be removed from pandas in a future version. Use pandas.concat instead.\n",
      "  df_address_census_tract = df_address_census_tract.append({'Address':i,'Census_Tract':tc_text},ignore_index=True)\n"
     ]
    },
    {
     "name": "stdout",
     "output_type": "stream",
     "text": [
      "4401 W PRESCOT DR Stillwater OK 74074 0109.02\n"
     ]
    },
    {
     "name": "stderr",
     "output_type": "stream",
     "text": [
      "<ipython-input-135-c99a2411e0a3>:8: FutureWarning: The frame.append method is deprecated and will be removed from pandas in a future version. Use pandas.concat instead.\n",
      "  df_address_census_tract = df_address_census_tract.append({'Address':i,'Census_Tract':tc_text},ignore_index=True)\n"
     ]
    },
    {
     "name": "stdout",
     "output_type": "stream",
     "text": [
      "4401 W WILLOW RUN Stillwater OK 74074 0109.02\n"
     ]
    },
    {
     "name": "stderr",
     "output_type": "stream",
     "text": [
      "<ipython-input-135-c99a2411e0a3>:8: FutureWarning: The frame.append method is deprecated and will be removed from pandas in a future version. Use pandas.concat instead.\n",
      "  df_address_census_tract = df_address_census_tract.append({'Address':i,'Census_Tract':tc_text},ignore_index=True)\n"
     ]
    },
    {
     "name": "stdout",
     "output_type": "stream",
     "text": [
      "4402 N PARKVIEW CT Stillwater OK 74074 0101.01\n"
     ]
    },
    {
     "name": "stderr",
     "output_type": "stream",
     "text": [
      "<ipython-input-135-c99a2411e0a3>:8: FutureWarning: The frame.append method is deprecated and will be removed from pandas in a future version. Use pandas.concat instead.\n",
      "  df_address_census_tract = df_address_census_tract.append({'Address':i,'Census_Tract':tc_text},ignore_index=True)\n"
     ]
    },
    {
     "name": "stdout",
     "output_type": "stream",
     "text": [
      "4402 W PRESCOT DR Stillwater OK 74074 0109.02\n"
     ]
    },
    {
     "name": "stderr",
     "output_type": "stream",
     "text": [
      "<ipython-input-135-c99a2411e0a3>:8: FutureWarning: The frame.append method is deprecated and will be removed from pandas in a future version. Use pandas.concat instead.\n",
      "  df_address_census_tract = df_address_census_tract.append({'Address':i,'Census_Tract':tc_text},ignore_index=True)\n"
     ]
    },
    {
     "name": "stdout",
     "output_type": "stream",
     "text": [
      "4404 E SIERRA LN Stillwater OK 74074 0111.01\n"
     ]
    },
    {
     "name": "stderr",
     "output_type": "stream",
     "text": [
      "<ipython-input-135-c99a2411e0a3>:8: FutureWarning: The frame.append method is deprecated and will be removed from pandas in a future version. Use pandas.concat instead.\n",
      "  df_address_census_tract = df_address_census_tract.append({'Address':i,'Census_Tract':tc_text},ignore_index=True)\n"
     ]
    },
    {
     "name": "stdout",
     "output_type": "stream",
     "text": [
      "4405 N WASHINGTON ST Stillwater OK 74075 0102.01\n"
     ]
    },
    {
     "name": "stderr",
     "output_type": "stream",
     "text": [
      "<ipython-input-135-c99a2411e0a3>:8: FutureWarning: The frame.append method is deprecated and will be removed from pandas in a future version. Use pandas.concat instead.\n",
      "  df_address_census_tract = df_address_census_tract.append({'Address':i,'Census_Tract':tc_text},ignore_index=True)\n"
     ]
    },
    {
     "name": "stdout",
     "output_type": "stream",
     "text": [
      "4408 E ZACHARY LN Stillwater OK 74074 0111.01\n"
     ]
    },
    {
     "name": "stderr",
     "output_type": "stream",
     "text": [
      "<ipython-input-135-c99a2411e0a3>:8: FutureWarning: The frame.append method is deprecated and will be removed from pandas in a future version. Use pandas.concat instead.\n",
      "  df_address_census_tract = df_address_census_tract.append({'Address':i,'Census_Tract':tc_text},ignore_index=True)\n"
     ]
    },
    {
     "name": "stdout",
     "output_type": "stream",
     "text": [
      "4409 W COUNTRY CLUB DR Stillwater OK 74074 0109.02\n"
     ]
    },
    {
     "name": "stderr",
     "output_type": "stream",
     "text": [
      "<ipython-input-135-c99a2411e0a3>:8: FutureWarning: The frame.append method is deprecated and will be removed from pandas in a future version. Use pandas.concat instead.\n",
      "  df_address_census_tract = df_address_census_tract.append({'Address':i,'Census_Tract':tc_text},ignore_index=True)\n"
     ]
    },
    {
     "name": "stdout",
     "output_type": "stream",
     "text": [
      "4412 E SIERRA LN Stillwater OK 74074 0111.01\n"
     ]
    },
    {
     "name": "stderr",
     "output_type": "stream",
     "text": [
      "<ipython-input-135-c99a2411e0a3>:8: FutureWarning: The frame.append method is deprecated and will be removed from pandas in a future version. Use pandas.concat instead.\n",
      "  df_address_census_tract = df_address_census_tract.append({'Address':i,'Census_Tract':tc_text},ignore_index=True)\n"
     ]
    },
    {
     "name": "stdout",
     "output_type": "stream",
     "text": [
      "4413 N PARKVIEW CT Stillwater OK 74074 0101.01\n"
     ]
    },
    {
     "name": "stderr",
     "output_type": "stream",
     "text": [
      "<ipython-input-135-c99a2411e0a3>:8: FutureWarning: The frame.append method is deprecated and will be removed from pandas in a future version. Use pandas.concat instead.\n",
      "  df_address_census_tract = df_address_census_tract.append({'Address':i,'Census_Tract':tc_text},ignore_index=True)\n"
     ]
    },
    {
     "name": "stdout",
     "output_type": "stream",
     "text": [
      "4414 W MCELROY RD Stillwater OK 74075 0110.01\n"
     ]
    },
    {
     "name": "stderr",
     "output_type": "stream",
     "text": [
      "<ipython-input-135-c99a2411e0a3>:8: FutureWarning: The frame.append method is deprecated and will be removed from pandas in a future version. Use pandas.concat instead.\n",
      "  df_address_census_tract = df_address_census_tract.append({'Address':i,'Census_Tract':tc_text},ignore_index=True)\n"
     ]
    },
    {
     "name": "stdout",
     "output_type": "stream",
     "text": [
      "4414 W PRESCOT DR Stillwater OK 74074 0109.02\n"
     ]
    },
    {
     "name": "stderr",
     "output_type": "stream",
     "text": [
      "<ipython-input-135-c99a2411e0a3>:8: FutureWarning: The frame.append method is deprecated and will be removed from pandas in a future version. Use pandas.concat instead.\n",
      "  df_address_census_tract = df_address_census_tract.append({'Address':i,'Census_Tract':tc_text},ignore_index=True)\n"
     ]
    },
    {
     "name": "stdout",
     "output_type": "stream",
     "text": [
      "4415 N WASHINGTON ST Stillwater OK 74075 0102.01\n"
     ]
    },
    {
     "name": "stderr",
     "output_type": "stream",
     "text": [
      "<ipython-input-135-c99a2411e0a3>:8: FutureWarning: The frame.append method is deprecated and will be removed from pandas in a future version. Use pandas.concat instead.\n",
      "  df_address_census_tract = df_address_census_tract.append({'Address':i,'Census_Tract':tc_text},ignore_index=True)\n"
     ]
    },
    {
     "name": "stdout",
     "output_type": "stream",
     "text": [
      "4420 W PRESCOT DR Stillwater OK 74074 0109.02\n"
     ]
    },
    {
     "name": "stderr",
     "output_type": "stream",
     "text": [
      "<ipython-input-135-c99a2411e0a3>:8: FutureWarning: The frame.append method is deprecated and will be removed from pandas in a future version. Use pandas.concat instead.\n",
      "  df_address_census_tract = df_address_census_tract.append({'Address':i,'Census_Tract':tc_text},ignore_index=True)\n"
     ]
    },
    {
     "name": "stdout",
     "output_type": "stream",
     "text": [
      "4421 W MCMURTRY RD Stillwater OK 74075 0110.01\n"
     ]
    },
    {
     "name": "stderr",
     "output_type": "stream",
     "text": [
      "<ipython-input-135-c99a2411e0a3>:8: FutureWarning: The frame.append method is deprecated and will be removed from pandas in a future version. Use pandas.concat instead.\n",
      "  df_address_census_tract = df_address_census_tract.append({'Address':i,'Census_Tract':tc_text},ignore_index=True)\n"
     ]
    },
    {
     "name": "stdout",
     "output_type": "stream",
     "text": [
      "4423 W AGGIE DR Stillwater OK 74074 0109.02\n"
     ]
    },
    {
     "name": "stderr",
     "output_type": "stream",
     "text": [
      "<ipython-input-135-c99a2411e0a3>:8: FutureWarning: The frame.append method is deprecated and will be removed from pandas in a future version. Use pandas.concat instead.\n",
      "  df_address_census_tract = df_address_census_tract.append({'Address':i,'Census_Tract':tc_text},ignore_index=True)\n"
     ]
    },
    {
     "name": "stdout",
     "output_type": "stream",
     "text": [
      "4425 N WASHINGTON ST Stillwater OK 74075 0102.01\n"
     ]
    },
    {
     "name": "stderr",
     "output_type": "stream",
     "text": [
      "<ipython-input-135-c99a2411e0a3>:8: FutureWarning: The frame.append method is deprecated and will be removed from pandas in a future version. Use pandas.concat instead.\n",
      "  df_address_census_tract = df_address_census_tract.append({'Address':i,'Census_Tract':tc_text},ignore_index=True)\n"
     ]
    },
    {
     "name": "stdout",
     "output_type": "stream",
     "text": [
      "4425 W PRESCOT DR Stillwater OK 74074 0109.02\n"
     ]
    },
    {
     "name": "stderr",
     "output_type": "stream",
     "text": [
      "<ipython-input-135-c99a2411e0a3>:8: FutureWarning: The frame.append method is deprecated and will be removed from pandas in a future version. Use pandas.concat instead.\n",
      "  df_address_census_tract = df_address_census_tract.append({'Address':i,'Census_Tract':tc_text},ignore_index=True)\n"
     ]
    },
    {
     "name": "stdout",
     "output_type": "stream",
     "text": [
      "4429 W PRESCOT DR Stillwater OK 74074 0109.02\n"
     ]
    },
    {
     "name": "stderr",
     "output_type": "stream",
     "text": [
      "<ipython-input-135-c99a2411e0a3>:8: FutureWarning: The frame.append method is deprecated and will be removed from pandas in a future version. Use pandas.concat instead.\n",
      "  df_address_census_tract = df_address_census_tract.append({'Address':i,'Census_Tract':tc_text},ignore_index=True)\n"
     ]
    },
    {
     "name": "stdout",
     "output_type": "stream",
     "text": [
      "4500 W AGGIE DR Stillwater OK 74074 0109.02\n"
     ]
    },
    {
     "name": "stderr",
     "output_type": "stream",
     "text": [
      "<ipython-input-135-c99a2411e0a3>:8: FutureWarning: The frame.append method is deprecated and will be removed from pandas in a future version. Use pandas.concat instead.\n",
      "  df_address_census_tract = df_address_census_tract.append({'Address':i,'Census_Tract':tc_text},ignore_index=True)\n"
     ]
    },
    {
     "name": "stdout",
     "output_type": "stream",
     "text": [
      "4500 W FURMAN DR Stillwater OK 74075 0110.01\n"
     ]
    },
    {
     "name": "stderr",
     "output_type": "stream",
     "text": [
      "<ipython-input-135-c99a2411e0a3>:8: FutureWarning: The frame.append method is deprecated and will be removed from pandas in a future version. Use pandas.concat instead.\n",
      "  df_address_census_tract = df_address_census_tract.append({'Address':i,'Census_Tract':tc_text},ignore_index=True)\n"
     ]
    },
    {
     "name": "stdout",
     "output_type": "stream",
     "text": [
      "4500 W YOST RD Stillwater OK 74075 0110.01\n"
     ]
    },
    {
     "name": "stderr",
     "output_type": "stream",
     "text": [
      "<ipython-input-135-c99a2411e0a3>:8: FutureWarning: The frame.append method is deprecated and will be removed from pandas in a future version. Use pandas.concat instead.\n",
      "  df_address_census_tract = df_address_census_tract.append({'Address':i,'Census_Tract':tc_text},ignore_index=True)\n"
     ]
    },
    {
     "name": "stdout",
     "output_type": "stream",
     "text": [
      "4501 W FURMAN DR Stillwater OK 74075 0110.01\n"
     ]
    },
    {
     "name": "stderr",
     "output_type": "stream",
     "text": [
      "<ipython-input-135-c99a2411e0a3>:8: FutureWarning: The frame.append method is deprecated and will be removed from pandas in a future version. Use pandas.concat instead.\n",
      "  df_address_census_tract = df_address_census_tract.append({'Address':i,'Census_Tract':tc_text},ignore_index=True)\n"
     ]
    },
    {
     "name": "stdout",
     "output_type": "stream",
     "text": [
      "4502 N DAVIS CT Stillwater OK 74074 0101.01\n"
     ]
    },
    {
     "name": "stderr",
     "output_type": "stream",
     "text": [
      "<ipython-input-135-c99a2411e0a3>:8: FutureWarning: The frame.append method is deprecated and will be removed from pandas in a future version. Use pandas.concat instead.\n",
      "  df_address_census_tract = df_address_census_tract.append({'Address':i,'Census_Tract':tc_text},ignore_index=True)\n"
     ]
    },
    {
     "name": "stdout",
     "output_type": "stream",
     "text": [
      "4502 W PRESCOT DR Stillwater OK 74074 0109.02\n"
     ]
    },
    {
     "name": "stderr",
     "output_type": "stream",
     "text": [
      "<ipython-input-135-c99a2411e0a3>:8: FutureWarning: The frame.append method is deprecated and will be removed from pandas in a future version. Use pandas.concat instead.\n",
      "  df_address_census_tract = df_address_census_tract.append({'Address':i,'Census_Tract':tc_text},ignore_index=True)\n"
     ]
    },
    {
     "name": "stdout",
     "output_type": "stream",
     "text": [
      "4504 W AGGIE DR Stillwater OK 74074 0109.02\n"
     ]
    },
    {
     "name": "stderr",
     "output_type": "stream",
     "text": [
      "<ipython-input-135-c99a2411e0a3>:8: FutureWarning: The frame.append method is deprecated and will be removed from pandas in a future version. Use pandas.concat instead.\n",
      "  df_address_census_tract = df_address_census_tract.append({'Address':i,'Census_Tract':tc_text},ignore_index=True)\n"
     ]
    },
    {
     "name": "stdout",
     "output_type": "stream",
     "text": [
      "4505 W TERRITORY LN Stillwater OK 74075 0110.01\n"
     ]
    },
    {
     "name": "stderr",
     "output_type": "stream",
     "text": [
      "<ipython-input-135-c99a2411e0a3>:8: FutureWarning: The frame.append method is deprecated and will be removed from pandas in a future version. Use pandas.concat instead.\n",
      "  df_address_census_tract = df_address_census_tract.append({'Address':i,'Census_Tract':tc_text},ignore_index=True)\n"
     ]
    },
    {
     "name": "stdout",
     "output_type": "stream",
     "text": [
      "4507 N WASHINGTON ST Stillwater OK 74075 0102.01\n"
     ]
    },
    {
     "name": "stderr",
     "output_type": "stream",
     "text": [
      "<ipython-input-135-c99a2411e0a3>:8: FutureWarning: The frame.append method is deprecated and will be removed from pandas in a future version. Use pandas.concat instead.\n",
      "  df_address_census_tract = df_address_census_tract.append({'Address':i,'Census_Tract':tc_text},ignore_index=True)\n"
     ]
    },
    {
     "name": "stdout",
     "output_type": "stream",
     "text": [
      "4508 S BRUSH CREEK RD Stillwater OK 74074 0111.03\n"
     ]
    },
    {
     "name": "stderr",
     "output_type": "stream",
     "text": [
      "<ipython-input-135-c99a2411e0a3>:8: FutureWarning: The frame.append method is deprecated and will be removed from pandas in a future version. Use pandas.concat instead.\n",
      "  df_address_census_tract = df_address_census_tract.append({'Address':i,'Census_Tract':tc_text},ignore_index=True)\n"
     ]
    },
    {
     "name": "stdout",
     "output_type": "stream",
     "text": [
      "4510 N GREENVALE CIR Stillwater OK 74074 0101.01\n"
     ]
    },
    {
     "name": "stderr",
     "output_type": "stream",
     "text": [
      "<ipython-input-135-c99a2411e0a3>:8: FutureWarning: The frame.append method is deprecated and will be removed from pandas in a future version. Use pandas.concat instead.\n",
      "  df_address_census_tract = df_address_census_tract.append({'Address':i,'Census_Tract':tc_text},ignore_index=True)\n"
     ]
    },
    {
     "name": "stdout",
     "output_type": "stream",
     "text": [
      "4511 N GREENVALE CIR Stillwater OK 74074 0101.01\n"
     ]
    },
    {
     "name": "stderr",
     "output_type": "stream",
     "text": [
      "<ipython-input-135-c99a2411e0a3>:8: FutureWarning: The frame.append method is deprecated and will be removed from pandas in a future version. Use pandas.concat instead.\n",
      "  df_address_census_tract = df_address_census_tract.append({'Address':i,'Census_Tract':tc_text},ignore_index=True)\n"
     ]
    },
    {
     "name": "stdout",
     "output_type": "stream",
     "text": [
      "4512 W AGGIE DR Stillwater OK 74074 0109.02\n"
     ]
    },
    {
     "name": "stderr",
     "output_type": "stream",
     "text": [
      "<ipython-input-135-c99a2411e0a3>:8: FutureWarning: The frame.append method is deprecated and will be removed from pandas in a future version. Use pandas.concat instead.\n",
      "  df_address_census_tract = df_address_census_tract.append({'Address':i,'Census_Tract':tc_text},ignore_index=True)\n"
     ]
    },
    {
     "name": "stdout",
     "output_type": "stream",
     "text": [
      "4514 W FURMAN DR Stillwater OK 74075 0110.01\n"
     ]
    },
    {
     "name": "stderr",
     "output_type": "stream",
     "text": [
      "<ipython-input-135-c99a2411e0a3>:8: FutureWarning: The frame.append method is deprecated and will be removed from pandas in a future version. Use pandas.concat instead.\n",
      "  df_address_census_tract = df_address_census_tract.append({'Address':i,'Census_Tract':tc_text},ignore_index=True)\n"
     ]
    },
    {
     "name": "stdout",
     "output_type": "stream",
     "text": [
      "4514 W PRESCOT DR Stillwater OK 74074 0109.02\n"
     ]
    },
    {
     "name": "stderr",
     "output_type": "stream",
     "text": [
      "<ipython-input-135-c99a2411e0a3>:8: FutureWarning: The frame.append method is deprecated and will be removed from pandas in a future version. Use pandas.concat instead.\n",
      "  df_address_census_tract = df_address_census_tract.append({'Address':i,'Census_Tract':tc_text},ignore_index=True)\n"
     ]
    },
    {
     "name": "stdout",
     "output_type": "stream",
     "text": [
      "4515 S HUSBAND ST Stillwater OK 74074 0110.02\n"
     ]
    },
    {
     "name": "stderr",
     "output_type": "stream",
     "text": [
      "<ipython-input-135-c99a2411e0a3>:8: FutureWarning: The frame.append method is deprecated and will be removed from pandas in a future version. Use pandas.concat instead.\n",
      "  df_address_census_tract = df_address_census_tract.append({'Address':i,'Census_Tract':tc_text},ignore_index=True)\n"
     ]
    },
    {
     "name": "stdout",
     "output_type": "stream",
     "text": [
      "4517 N WASHINGTON ST Stillwater OK 74075 0102.01\n"
     ]
    },
    {
     "name": "stderr",
     "output_type": "stream",
     "text": [
      "<ipython-input-135-c99a2411e0a3>:8: FutureWarning: The frame.append method is deprecated and will be removed from pandas in a future version. Use pandas.concat instead.\n",
      "  df_address_census_tract = df_address_census_tract.append({'Address':i,'Census_Tract':tc_text},ignore_index=True)\n"
     ]
    },
    {
     "name": "stdout",
     "output_type": "stream",
     "text": [
      "4519 W AGGIE DR Stillwater OK 74074 0109.02\n"
     ]
    },
    {
     "name": "stderr",
     "output_type": "stream",
     "text": [
      "<ipython-input-135-c99a2411e0a3>:8: FutureWarning: The frame.append method is deprecated and will be removed from pandas in a future version. Use pandas.concat instead.\n",
      "  df_address_census_tract = df_address_census_tract.append({'Address':i,'Census_Tract':tc_text},ignore_index=True)\n"
     ]
    },
    {
     "name": "stdout",
     "output_type": "stream",
     "text": [
      "4520 W AGGIE DR Stillwater OK 74074 0109.02\n"
     ]
    },
    {
     "name": "stderr",
     "output_type": "stream",
     "text": [
      "<ipython-input-135-c99a2411e0a3>:8: FutureWarning: The frame.append method is deprecated and will be removed from pandas in a future version. Use pandas.concat instead.\n",
      "  df_address_census_tract = df_address_census_tract.append({'Address':i,'Census_Tract':tc_text},ignore_index=True)\n"
     ]
    },
    {
     "name": "stdout",
     "output_type": "stream",
     "text": [
      "4526 N DAVIS CT Stillwater OK 74074 0101.01\n"
     ]
    },
    {
     "name": "stderr",
     "output_type": "stream",
     "text": [
      "<ipython-input-135-c99a2411e0a3>:8: FutureWarning: The frame.append method is deprecated and will be removed from pandas in a future version. Use pandas.concat instead.\n",
      "  df_address_census_tract = df_address_census_tract.append({'Address':i,'Census_Tract':tc_text},ignore_index=True)\n"
     ]
    },
    {
     "name": "stdout",
     "output_type": "stream",
     "text": [
      "4527 N WASHINGTON ST Stillwater OK 74075 0102.01\n"
     ]
    },
    {
     "name": "stderr",
     "output_type": "stream",
     "text": [
      "<ipython-input-135-c99a2411e0a3>:8: FutureWarning: The frame.append method is deprecated and will be removed from pandas in a future version. Use pandas.concat instead.\n",
      "  df_address_census_tract = df_address_census_tract.append({'Address':i,'Census_Tract':tc_text},ignore_index=True)\n"
     ]
    },
    {
     "name": "stdout",
     "output_type": "stream",
     "text": [
      "4599 N WASHINGTON ST Stillwater OK 74075 0102.01\n"
     ]
    },
    {
     "name": "stderr",
     "output_type": "stream",
     "text": [
      "<ipython-input-135-c99a2411e0a3>:8: FutureWarning: The frame.append method is deprecated and will be removed from pandas in a future version. Use pandas.concat instead.\n",
      "  df_address_census_tract = df_address_census_tract.append({'Address':i,'Census_Tract':tc_text},ignore_index=True)\n"
     ]
    },
    {
     "name": "stdout",
     "output_type": "stream",
     "text": [
      "46 ARBOR CIR Stillwater OK 74074 0109.02\n"
     ]
    },
    {
     "name": "stderr",
     "output_type": "stream",
     "text": [
      "<ipython-input-135-c99a2411e0a3>:8: FutureWarning: The frame.append method is deprecated and will be removed from pandas in a future version. Use pandas.concat instead.\n",
      "  df_address_census_tract = df_address_census_tract.append({'Address':i,'Census_Tract':tc_text},ignore_index=True)\n"
     ]
    },
    {
     "name": "stdout",
     "output_type": "stream",
     "text": [
      "4603 N WASHINGTON ST Stillwater OK 74075 0102.01\n"
     ]
    },
    {
     "name": "stderr",
     "output_type": "stream",
     "text": [
      "<ipython-input-135-c99a2411e0a3>:8: FutureWarning: The frame.append method is deprecated and will be removed from pandas in a future version. Use pandas.concat instead.\n",
      "  df_address_census_tract = df_address_census_tract.append({'Address':i,'Census_Tract':tc_text},ignore_index=True)\n"
     ]
    },
    {
     "name": "stdout",
     "output_type": "stream",
     "text": [
      "4603 W COUNTRY CLUB DR Stillwater OK 74074 0109.02\n"
     ]
    },
    {
     "name": "stderr",
     "output_type": "stream",
     "text": [
      "<ipython-input-135-c99a2411e0a3>:8: FutureWarning: The frame.append method is deprecated and will be removed from pandas in a future version. Use pandas.concat instead.\n",
      "  df_address_census_tract = df_address_census_tract.append({'Address':i,'Census_Tract':tc_text},ignore_index=True)\n"
     ]
    },
    {
     "name": "stdout",
     "output_type": "stream",
     "text": [
      "4604 W FURMAN DR Stillwater OK 74075 0110.01\n"
     ]
    },
    {
     "name": "stderr",
     "output_type": "stream",
     "text": [
      "<ipython-input-135-c99a2411e0a3>:8: FutureWarning: The frame.append method is deprecated and will be removed from pandas in a future version. Use pandas.concat instead.\n",
      "  df_address_census_tract = df_address_census_tract.append({'Address':i,'Census_Tract':tc_text},ignore_index=True)\n"
     ]
    },
    {
     "name": "stdout",
     "output_type": "stream",
     "text": [
      "4605 N WILLIAM CT Stillwater OK 74074 0101.01\n"
     ]
    },
    {
     "name": "stderr",
     "output_type": "stream",
     "text": [
      "<ipython-input-135-c99a2411e0a3>:8: FutureWarning: The frame.append method is deprecated and will be removed from pandas in a future version. Use pandas.concat instead.\n",
      "  df_address_census_tract = df_address_census_tract.append({'Address':i,'Census_Tract':tc_text},ignore_index=True)\n"
     ]
    },
    {
     "name": "stdout",
     "output_type": "stream",
     "text": [
      "4606 E PINTO DR Stillwater OK 74074 0111.01\n"
     ]
    },
    {
     "name": "stderr",
     "output_type": "stream",
     "text": [
      "<ipython-input-135-c99a2411e0a3>:8: FutureWarning: The frame.append method is deprecated and will be removed from pandas in a future version. Use pandas.concat instead.\n",
      "  df_address_census_tract = df_address_census_tract.append({'Address':i,'Census_Tract':tc_text},ignore_index=True)\n"
     ]
    },
    {
     "name": "stdout",
     "output_type": "stream",
     "text": [
      "4606 N BRITTON DR Stillwater OK 74074 0101.01\n"
     ]
    },
    {
     "name": "stderr",
     "output_type": "stream",
     "text": [
      "<ipython-input-135-c99a2411e0a3>:8: FutureWarning: The frame.append method is deprecated and will be removed from pandas in a future version. Use pandas.concat instead.\n",
      "  df_address_census_tract = df_address_census_tract.append({'Address':i,'Census_Tract':tc_text},ignore_index=True)\n"
     ]
    },
    {
     "name": "stdout",
     "output_type": "stream",
     "text": [
      "4607 E 19TH AVE Stillwater OK 74074 0111.01\n"
     ]
    },
    {
     "name": "stderr",
     "output_type": "stream",
     "text": [
      "<ipython-input-135-c99a2411e0a3>:8: FutureWarning: The frame.append method is deprecated and will be removed from pandas in a future version. Use pandas.concat instead.\n",
      "  df_address_census_tract = df_address_census_tract.append({'Address':i,'Census_Tract':tc_text},ignore_index=True)\n"
     ]
    },
    {
     "name": "stdout",
     "output_type": "stream",
     "text": [
      "4609 E 19TH AVE Stillwater OK 74074 0111.01\n"
     ]
    },
    {
     "name": "stderr",
     "output_type": "stream",
     "text": [
      "<ipython-input-135-c99a2411e0a3>:8: FutureWarning: The frame.append method is deprecated and will be removed from pandas in a future version. Use pandas.concat instead.\n",
      "  df_address_census_tract = df_address_census_tract.append({'Address':i,'Census_Tract':tc_text},ignore_index=True)\n"
     ]
    },
    {
     "name": "stdout",
     "output_type": "stream",
     "text": [
      "4611 N EVERGREEN ST Stillwater OK 74074 0101.01\n"
     ]
    },
    {
     "name": "stderr",
     "output_type": "stream",
     "text": [
      "<ipython-input-135-c99a2411e0a3>:8: FutureWarning: The frame.append method is deprecated and will be removed from pandas in a future version. Use pandas.concat instead.\n",
      "  df_address_census_tract = df_address_census_tract.append({'Address':i,'Census_Tract':tc_text},ignore_index=True)\n"
     ]
    },
    {
     "name": "stdout",
     "output_type": "stream",
     "text": [
      "4611 N WILLIAM CT Stillwater OK 74074 0101.01\n"
     ]
    },
    {
     "name": "stderr",
     "output_type": "stream",
     "text": [
      "<ipython-input-135-c99a2411e0a3>:8: FutureWarning: The frame.append method is deprecated and will be removed from pandas in a future version. Use pandas.concat instead.\n",
      "  df_address_census_tract = df_address_census_tract.append({'Address':i,'Census_Tract':tc_text},ignore_index=True)\n"
     ]
    },
    {
     "name": "stdout",
     "output_type": "stream",
     "text": [
      "4616 N WASHINGTON ST Stillwater OK 74075 0102.01\n"
     ]
    },
    {
     "name": "stderr",
     "output_type": "stream",
     "text": [
      "<ipython-input-135-c99a2411e0a3>:8: FutureWarning: The frame.append method is deprecated and will be removed from pandas in a future version. Use pandas.concat instead.\n",
      "  df_address_census_tract = df_address_census_tract.append({'Address':i,'Census_Tract':tc_text},ignore_index=True)\n"
     ]
    },
    {
     "name": "stdout",
     "output_type": "stream",
     "text": [
      "4617 N WASHINGTON ST Stillwater OK 74075 0102.01\n"
     ]
    },
    {
     "name": "stderr",
     "output_type": "stream",
     "text": [
      "<ipython-input-135-c99a2411e0a3>:8: FutureWarning: The frame.append method is deprecated and will be removed from pandas in a future version. Use pandas.concat instead.\n",
      "  df_address_census_tract = df_address_census_tract.append({'Address':i,'Census_Tract':tc_text},ignore_index=True)\n"
     ]
    },
    {
     "name": "stdout",
     "output_type": "stream",
     "text": [
      "4618 N WILLIAM CT Stillwater OK 74074 0101.01\n"
     ]
    },
    {
     "name": "stderr",
     "output_type": "stream",
     "text": [
      "<ipython-input-135-c99a2411e0a3>:8: FutureWarning: The frame.append method is deprecated and will be removed from pandas in a future version. Use pandas.concat instead.\n",
      "  df_address_census_tract = df_address_census_tract.append({'Address':i,'Census_Tract':tc_text},ignore_index=True)\n"
     ]
    },
    {
     "name": "stdout",
     "output_type": "stream",
     "text": [
      "4621 E HALEY LN Stillwater OK 74074 0111.01\n"
     ]
    },
    {
     "name": "stderr",
     "output_type": "stream",
     "text": [
      "<ipython-input-135-c99a2411e0a3>:8: FutureWarning: The frame.append method is deprecated and will be removed from pandas in a future version. Use pandas.concat instead.\n",
      "  df_address_census_tract = df_address_census_tract.append({'Address':i,'Census_Tract':tc_text},ignore_index=True)\n"
     ]
    },
    {
     "name": "stdout",
     "output_type": "stream",
     "text": [
      "4623 N WASHINGTON ST Stillwater OK 74075 0102.01\n"
     ]
    },
    {
     "name": "stderr",
     "output_type": "stream",
     "text": [
      "<ipython-input-135-c99a2411e0a3>:8: FutureWarning: The frame.append method is deprecated and will be removed from pandas in a future version. Use pandas.concat instead.\n",
      "  df_address_census_tract = df_address_census_tract.append({'Address':i,'Census_Tract':tc_text},ignore_index=True)\n"
     ]
    },
    {
     "name": "stdout",
     "output_type": "stream",
     "text": [
      "4624 W 18TH AVE Stillwater OK 74074 0109.02\n"
     ]
    },
    {
     "name": "stderr",
     "output_type": "stream",
     "text": [
      "<ipython-input-135-c99a2411e0a3>:8: FutureWarning: The frame.append method is deprecated and will be removed from pandas in a future version. Use pandas.concat instead.\n",
      "  df_address_census_tract = df_address_census_tract.append({'Address':i,'Census_Tract':tc_text},ignore_index=True)\n"
     ]
    },
    {
     "name": "stdout",
     "output_type": "stream",
     "text": [
      "4701 N WASHINGTON ST Stillwater OK 74075 0102.01\n"
     ]
    },
    {
     "name": "stderr",
     "output_type": "stream",
     "text": [
      "<ipython-input-135-c99a2411e0a3>:8: FutureWarning: The frame.append method is deprecated and will be removed from pandas in a future version. Use pandas.concat instead.\n",
      "  df_address_census_tract = df_address_census_tract.append({'Address':i,'Census_Tract':tc_text},ignore_index=True)\n"
     ]
    },
    {
     "name": "stdout",
     "output_type": "stream",
     "text": [
      "4701 W 18TH AVE Stillwater OK 74074 0109.02\n"
     ]
    },
    {
     "name": "stderr",
     "output_type": "stream",
     "text": [
      "<ipython-input-135-c99a2411e0a3>:8: FutureWarning: The frame.append method is deprecated and will be removed from pandas in a future version. Use pandas.concat instead.\n",
      "  df_address_census_tract = df_address_census_tract.append({'Address':i,'Census_Tract':tc_text},ignore_index=True)\n"
     ]
    },
    {
     "name": "stdout",
     "output_type": "stream",
     "text": [
      "4702 S COYLE RD Stillwater OK 74074 0110.01\n"
     ]
    },
    {
     "name": "stderr",
     "output_type": "stream",
     "text": [
      "<ipython-input-135-c99a2411e0a3>:8: FutureWarning: The frame.append method is deprecated and will be removed from pandas in a future version. Use pandas.concat instead.\n",
      "  df_address_census_tract = df_address_census_tract.append({'Address':i,'Census_Tract':tc_text},ignore_index=True)\n"
     ]
    },
    {
     "name": "stdout",
     "output_type": "stream",
     "text": [
      "4705 S ALOYSIUS CIR Stillwater OK 74074 0110.02\n"
     ]
    },
    {
     "name": "stderr",
     "output_type": "stream",
     "text": [
      "<ipython-input-135-c99a2411e0a3>:8: FutureWarning: The frame.append method is deprecated and will be removed from pandas in a future version. Use pandas.concat instead.\n",
      "  df_address_census_tract = df_address_census_tract.append({'Address':i,'Census_Tract':tc_text},ignore_index=True)\n"
     ]
    },
    {
     "name": "stdout",
     "output_type": "stream",
     "text": [
      "4705 W 18TH AVE Stillwater OK 74074 0109.02\n"
     ]
    },
    {
     "name": "stderr",
     "output_type": "stream",
     "text": [
      "<ipython-input-135-c99a2411e0a3>:8: FutureWarning: The frame.append method is deprecated and will be removed from pandas in a future version. Use pandas.concat instead.\n",
      "  df_address_census_tract = df_address_census_tract.append({'Address':i,'Census_Tract':tc_text},ignore_index=True)\n"
     ]
    },
    {
     "name": "stdout",
     "output_type": "stream",
     "text": [
      "4706 E PINTO DR Stillwater OK 74074 0111.01\n"
     ]
    },
    {
     "name": "stderr",
     "output_type": "stream",
     "text": [
      "<ipython-input-135-c99a2411e0a3>:8: FutureWarning: The frame.append method is deprecated and will be removed from pandas in a future version. Use pandas.concat instead.\n",
      "  df_address_census_tract = df_address_census_tract.append({'Address':i,'Census_Tract':tc_text},ignore_index=True)\n"
     ]
    },
    {
     "name": "stdout",
     "output_type": "stream",
     "text": [
      "4707 E 19TH AVE Stillwater OK 74074 0111.01\n"
     ]
    },
    {
     "name": "stderr",
     "output_type": "stream",
     "text": [
      "<ipython-input-135-c99a2411e0a3>:8: FutureWarning: The frame.append method is deprecated and will be removed from pandas in a future version. Use pandas.concat instead.\n",
      "  df_address_census_tract = df_address_census_tract.append({'Address':i,'Census_Tract':tc_text},ignore_index=True)\n"
     ]
    },
    {
     "name": "stdout",
     "output_type": "stream",
     "text": [
      "4709 N BRITTON DR Stillwater OK 74074 0101.01\n"
     ]
    },
    {
     "name": "stderr",
     "output_type": "stream",
     "text": [
      "<ipython-input-135-c99a2411e0a3>:8: FutureWarning: The frame.append method is deprecated and will be removed from pandas in a future version. Use pandas.concat instead.\n",
      "  df_address_census_tract = df_address_census_tract.append({'Address':i,'Census_Tract':tc_text},ignore_index=True)\n"
     ]
    },
    {
     "name": "stdout",
     "output_type": "stream",
     "text": [
      "4710 W 56TH AVE Stillwater OK 74074 0110.02\n"
     ]
    },
    {
     "name": "stderr",
     "output_type": "stream",
     "text": [
      "<ipython-input-135-c99a2411e0a3>:8: FutureWarning: The frame.append method is deprecated and will be removed from pandas in a future version. Use pandas.concat instead.\n",
      "  df_address_census_tract = df_address_census_tract.append({'Address':i,'Census_Tract':tc_text},ignore_index=True)\n"
     ]
    },
    {
     "name": "stdout",
     "output_type": "stream",
     "text": [
      "4710 W FURMAN DR Stillwater OK 74075 0110.01\n"
     ]
    },
    {
     "name": "stderr",
     "output_type": "stream",
     "text": [
      "<ipython-input-135-c99a2411e0a3>:8: FutureWarning: The frame.append method is deprecated and will be removed from pandas in a future version. Use pandas.concat instead.\n",
      "  df_address_census_tract = df_address_census_tract.append({'Address':i,'Census_Tract':tc_text},ignore_index=True)\n"
     ]
    },
    {
     "name": "stdout",
     "output_type": "stream",
     "text": [
      "4711 W 18TH AVE Stillwater OK 74074 0109.02\n"
     ]
    },
    {
     "name": "stderr",
     "output_type": "stream",
     "text": [
      "<ipython-input-135-c99a2411e0a3>:8: FutureWarning: The frame.append method is deprecated and will be removed from pandas in a future version. Use pandas.concat instead.\n",
      "  df_address_census_tract = df_address_census_tract.append({'Address':i,'Census_Tract':tc_text},ignore_index=True)\n"
     ]
    },
    {
     "name": "stdout",
     "output_type": "stream",
     "text": [
      "4713 W 18TH AVE Stillwater OK 74074 0109.02\n"
     ]
    },
    {
     "name": "stderr",
     "output_type": "stream",
     "text": [
      "<ipython-input-135-c99a2411e0a3>:8: FutureWarning: The frame.append method is deprecated and will be removed from pandas in a future version. Use pandas.concat instead.\n",
      "  df_address_census_tract = df_address_census_tract.append({'Address':i,'Census_Tract':tc_text},ignore_index=True)\n"
     ]
    },
    {
     "name": "stdout",
     "output_type": "stream",
     "text": [
      "4717 E WHITE OAK DR Stillwater OK 74074 0111.01\n"
     ]
    },
    {
     "name": "stderr",
     "output_type": "stream",
     "text": [
      "<ipython-input-135-c99a2411e0a3>:8: FutureWarning: The frame.append method is deprecated and will be removed from pandas in a future version. Use pandas.concat instead.\n",
      "  df_address_census_tract = df_address_census_tract.append({'Address':i,'Census_Tract':tc_text},ignore_index=True)\n"
     ]
    },
    {
     "name": "stdout",
     "output_type": "stream",
     "text": [
      "4717 N COUNTRY CLUB RD Stillwater OK 74075 0110.01\n"
     ]
    },
    {
     "name": "stderr",
     "output_type": "stream",
     "text": [
      "<ipython-input-135-c99a2411e0a3>:8: FutureWarning: The frame.append method is deprecated and will be removed from pandas in a future version. Use pandas.concat instead.\n",
      "  df_address_census_tract = df_address_census_tract.append({'Address':i,'Census_Tract':tc_text},ignore_index=True)\n"
     ]
    },
    {
     "name": "stdout",
     "output_type": "stream",
     "text": [
      "4719 N WASHINGTON ST Stillwater OK 74075 0102.01\n"
     ]
    },
    {
     "name": "stderr",
     "output_type": "stream",
     "text": [
      "<ipython-input-135-c99a2411e0a3>:8: FutureWarning: The frame.append method is deprecated and will be removed from pandas in a future version. Use pandas.concat instead.\n",
      "  df_address_census_tract = df_address_census_tract.append({'Address':i,'Census_Tract':tc_text},ignore_index=True)\n"
     ]
    },
    {
     "name": "stdout",
     "output_type": "stream",
     "text": [
      "4721 S WESTERN RD Stillwater OK 74074 0110.02\n"
     ]
    },
    {
     "name": "stderr",
     "output_type": "stream",
     "text": [
      "<ipython-input-135-c99a2411e0a3>:8: FutureWarning: The frame.append method is deprecated and will be removed from pandas in a future version. Use pandas.concat instead.\n",
      "  df_address_census_tract = df_address_census_tract.append({'Address':i,'Census_Tract':tc_text},ignore_index=True)\n"
     ]
    },
    {
     "name": "stdout",
     "output_type": "stream",
     "text": [
      "4721 W 18TH AVE Stillwater OK 74074 0109.02\n"
     ]
    },
    {
     "name": "stderr",
     "output_type": "stream",
     "text": [
      "<ipython-input-135-c99a2411e0a3>:8: FutureWarning: The frame.append method is deprecated and will be removed from pandas in a future version. Use pandas.concat instead.\n",
      "  df_address_census_tract = df_address_census_tract.append({'Address':i,'Census_Tract':tc_text},ignore_index=True)\n"
     ]
    },
    {
     "name": "stdout",
     "output_type": "stream",
     "text": [
      "4722 W SANTA FE CT Stillwater OK 74074 0109.02\n"
     ]
    },
    {
     "name": "stderr",
     "output_type": "stream",
     "text": [
      "<ipython-input-135-c99a2411e0a3>:8: FutureWarning: The frame.append method is deprecated and will be removed from pandas in a future version. Use pandas.concat instead.\n",
      "  df_address_census_tract = df_address_census_tract.append({'Address':i,'Census_Tract':tc_text},ignore_index=True)\n"
     ]
    },
    {
     "name": "stdout",
     "output_type": "stream",
     "text": [
      "4801 E PINTO DR Stillwater OK 74074 0111.01\n"
     ]
    },
    {
     "name": "stderr",
     "output_type": "stream",
     "text": [
      "<ipython-input-135-c99a2411e0a3>:8: FutureWarning: The frame.append method is deprecated and will be removed from pandas in a future version. Use pandas.concat instead.\n",
      "  df_address_census_tract = df_address_census_tract.append({'Address':i,'Census_Tract':tc_text},ignore_index=True)\n"
     ]
    },
    {
     "name": "stdout",
     "output_type": "stream",
     "text": [
      "4802 N BRITTON DR Stillwater OK 74074 0101.01\n"
     ]
    },
    {
     "name": "stderr",
     "output_type": "stream",
     "text": [
      "<ipython-input-135-c99a2411e0a3>:8: FutureWarning: The frame.append method is deprecated and will be removed from pandas in a future version. Use pandas.concat instead.\n",
      "  df_address_census_tract = df_address_census_tract.append({'Address':i,'Census_Tract':tc_text},ignore_index=True)\n"
     ]
    },
    {
     "name": "stdout",
     "output_type": "stream",
     "text": [
      "4802 W OAK CREST RD Stillwater OK 74075 0110.01\n"
     ]
    },
    {
     "name": "stderr",
     "output_type": "stream",
     "text": [
      "<ipython-input-135-c99a2411e0a3>:8: FutureWarning: The frame.append method is deprecated and will be removed from pandas in a future version. Use pandas.concat instead.\n",
      "  df_address_census_tract = df_address_census_tract.append({'Address':i,'Census_Tract':tc_text},ignore_index=True)\n"
     ]
    },
    {
     "name": "stdout",
     "output_type": "stream",
     "text": [
      "4804 W OAK CREST RD Stillwater OK 74075 0110.01\n"
     ]
    },
    {
     "name": "stderr",
     "output_type": "stream",
     "text": [
      "<ipython-input-135-c99a2411e0a3>:8: FutureWarning: The frame.append method is deprecated and will be removed from pandas in a future version. Use pandas.concat instead.\n",
      "  df_address_census_tract = df_address_census_tract.append({'Address':i,'Census_Tract':tc_text},ignore_index=True)\n"
     ]
    },
    {
     "name": "stdout",
     "output_type": "stream",
     "text": [
      "4806 N BRITTON DR Stillwater OK 74074 0101.01\n"
     ]
    },
    {
     "name": "stderr",
     "output_type": "stream",
     "text": [
      "<ipython-input-135-c99a2411e0a3>:8: FutureWarning: The frame.append method is deprecated and will be removed from pandas in a future version. Use pandas.concat instead.\n",
      "  df_address_census_tract = df_address_census_tract.append({'Address':i,'Census_Tract':tc_text},ignore_index=True)\n"
     ]
    },
    {
     "name": "stdout",
     "output_type": "stream",
     "text": [
      "4807 N BRITTON DR Stillwater OK 74074 0101.01\n"
     ]
    },
    {
     "name": "stderr",
     "output_type": "stream",
     "text": [
      "<ipython-input-135-c99a2411e0a3>:8: FutureWarning: The frame.append method is deprecated and will be removed from pandas in a future version. Use pandas.concat instead.\n",
      "  df_address_census_tract = df_address_census_tract.append({'Address':i,'Census_Tract':tc_text},ignore_index=True)\n"
     ]
    },
    {
     "name": "stdout",
     "output_type": "stream",
     "text": [
      "4809 N BRITTON DR Stillwater OK 74074 0101.01\n"
     ]
    },
    {
     "name": "stderr",
     "output_type": "stream",
     "text": [
      "<ipython-input-135-c99a2411e0a3>:8: FutureWarning: The frame.append method is deprecated and will be removed from pandas in a future version. Use pandas.concat instead.\n",
      "  df_address_census_tract = df_address_census_tract.append({'Address':i,'Census_Tract':tc_text},ignore_index=True)\n"
     ]
    },
    {
     "name": "stdout",
     "output_type": "stream",
     "text": [
      "4811 N BRITTON DR Stillwater OK 74074 0101.01\n"
     ]
    },
    {
     "name": "stderr",
     "output_type": "stream",
     "text": [
      "<ipython-input-135-c99a2411e0a3>:8: FutureWarning: The frame.append method is deprecated and will be removed from pandas in a future version. Use pandas.concat instead.\n",
      "  df_address_census_tract = df_address_census_tract.append({'Address':i,'Census_Tract':tc_text},ignore_index=True)\n"
     ]
    },
    {
     "name": "stdout",
     "output_type": "stream",
     "text": [
      "4811 W BRIARCREEK DR Stillwater OK 74074 0110.01\n"
     ]
    },
    {
     "name": "stderr",
     "output_type": "stream",
     "text": [
      "<ipython-input-135-c99a2411e0a3>:8: FutureWarning: The frame.append method is deprecated and will be removed from pandas in a future version. Use pandas.concat instead.\n",
      "  df_address_census_tract = df_address_census_tract.append({'Address':i,'Census_Tract':tc_text},ignore_index=True)\n"
     ]
    },
    {
     "name": "stdout",
     "output_type": "stream",
     "text": [
      "4812 S RANGE RD Stillwater OK 74074 0110.01\n"
     ]
    },
    {
     "name": "stderr",
     "output_type": "stream",
     "text": [
      "<ipython-input-135-c99a2411e0a3>:8: FutureWarning: The frame.append method is deprecated and will be removed from pandas in a future version. Use pandas.concat instead.\n",
      "  df_address_census_tract = df_address_census_tract.append({'Address':i,'Census_Tract':tc_text},ignore_index=True)\n"
     ]
    },
    {
     "name": "stdout",
     "output_type": "stream",
     "text": [
      "4813 N BRITTON DR Stillwater OK 74074 0101.01\n"
     ]
    },
    {
     "name": "stderr",
     "output_type": "stream",
     "text": [
      "<ipython-input-135-c99a2411e0a3>:8: FutureWarning: The frame.append method is deprecated and will be removed from pandas in a future version. Use pandas.concat instead.\n",
      "  df_address_census_tract = df_address_census_tract.append({'Address':i,'Census_Tract':tc_text},ignore_index=True)\n"
     ]
    },
    {
     "name": "stdout",
     "output_type": "stream",
     "text": [
      "4815 N BRITTON DR Stillwater OK 74074 0101.01\n"
     ]
    },
    {
     "name": "stderr",
     "output_type": "stream",
     "text": [
      "<ipython-input-135-c99a2411e0a3>:8: FutureWarning: The frame.append method is deprecated and will be removed from pandas in a future version. Use pandas.concat instead.\n",
      "  df_address_census_tract = df_address_census_tract.append({'Address':i,'Census_Tract':tc_text},ignore_index=True)\n"
     ]
    },
    {
     "name": "stdout",
     "output_type": "stream",
     "text": [
      "4817 N WASHINGTON ST Stillwater OK 74075 0102.01\n"
     ]
    },
    {
     "name": "stderr",
     "output_type": "stream",
     "text": [
      "<ipython-input-135-c99a2411e0a3>:8: FutureWarning: The frame.append method is deprecated and will be removed from pandas in a future version. Use pandas.concat instead.\n",
      "  df_address_census_tract = df_address_census_tract.append({'Address':i,'Census_Tract':tc_text},ignore_index=True)\n"
     ]
    },
    {
     "name": "stdout",
     "output_type": "stream",
     "text": [
      "4817 S ALOYSIUS CIR Stillwater OK 74074 0110.02\n"
     ]
    },
    {
     "name": "stderr",
     "output_type": "stream",
     "text": [
      "<ipython-input-135-c99a2411e0a3>:8: FutureWarning: The frame.append method is deprecated and will be removed from pandas in a future version. Use pandas.concat instead.\n",
      "  df_address_census_tract = df_address_census_tract.append({'Address':i,'Census_Tract':tc_text},ignore_index=True)\n"
     ]
    },
    {
     "name": "stdout",
     "output_type": "stream",
     "text": [
      "4820 S COUNTRY CLUB RD Stillwater OK 74074 0110.02\n"
     ]
    },
    {
     "name": "stderr",
     "output_type": "stream",
     "text": [
      "<ipython-input-135-c99a2411e0a3>:8: FutureWarning: The frame.append method is deprecated and will be removed from pandas in a future version. Use pandas.concat instead.\n",
      "  df_address_census_tract = df_address_census_tract.append({'Address':i,'Census_Tract':tc_text},ignore_index=True)\n"
     ]
    },
    {
     "name": "stdout",
     "output_type": "stream",
     "text": [
      "4821 W OAK CREST RD Stillwater OK 74075 0110.01\n"
     ]
    },
    {
     "name": "stderr",
     "output_type": "stream",
     "text": [
      "<ipython-input-135-c99a2411e0a3>:8: FutureWarning: The frame.append method is deprecated and will be removed from pandas in a future version. Use pandas.concat instead.\n",
      "  df_address_census_tract = df_address_census_tract.append({'Address':i,'Census_Tract':tc_text},ignore_index=True)\n"
     ]
    },
    {
     "name": "stdout",
     "output_type": "stream",
     "text": [
      "4821 W REESE LANDING Stillwater OK 74075 0110.01\n"
     ]
    },
    {
     "name": "stderr",
     "output_type": "stream",
     "text": [
      "<ipython-input-135-c99a2411e0a3>:8: FutureWarning: The frame.append method is deprecated and will be removed from pandas in a future version. Use pandas.concat instead.\n",
      "  df_address_census_tract = df_address_census_tract.append({'Address':i,'Census_Tract':tc_text},ignore_index=True)\n"
     ]
    },
    {
     "name": "stdout",
     "output_type": "stream",
     "text": [
      "4823 N BRITTON DR Stillwater OK 74074 0101.01\n"
     ]
    },
    {
     "name": "stderr",
     "output_type": "stream",
     "text": [
      "<ipython-input-135-c99a2411e0a3>:8: FutureWarning: The frame.append method is deprecated and will be removed from pandas in a future version. Use pandas.concat instead.\n",
      "  df_address_census_tract = df_address_census_tract.append({'Address':i,'Census_Tract':tc_text},ignore_index=True)\n"
     ]
    },
    {
     "name": "stdout",
     "output_type": "stream",
     "text": [
      "4823 W CRESTVIEW AVE Stillwater OK 74074 0109.01\n"
     ]
    },
    {
     "name": "stderr",
     "output_type": "stream",
     "text": [
      "<ipython-input-135-c99a2411e0a3>:8: FutureWarning: The frame.append method is deprecated and will be removed from pandas in a future version. Use pandas.concat instead.\n",
      "  df_address_census_tract = df_address_census_tract.append({'Address':i,'Census_Tract':tc_text},ignore_index=True)\n"
     ]
    },
    {
     "name": "stdout",
     "output_type": "stream",
     "text": [
      "4824 W CRESTVIEW AVE Stillwater OK 74074 0109.01\n"
     ]
    },
    {
     "name": "stderr",
     "output_type": "stream",
     "text": [
      "<ipython-input-135-c99a2411e0a3>:8: FutureWarning: The frame.append method is deprecated and will be removed from pandas in a future version. Use pandas.concat instead.\n",
      "  df_address_census_tract = df_address_census_tract.append({'Address':i,'Census_Tract':tc_text},ignore_index=True)\n"
     ]
    },
    {
     "name": "stdout",
     "output_type": "stream",
     "text": [
      "4825 N BRITTON DR Stillwater OK 74074 0101.01\n"
     ]
    },
    {
     "name": "stderr",
     "output_type": "stream",
     "text": [
      "<ipython-input-135-c99a2411e0a3>:8: FutureWarning: The frame.append method is deprecated and will be removed from pandas in a future version. Use pandas.concat instead.\n",
      "  df_address_census_tract = df_address_census_tract.append({'Address':i,'Census_Tract':tc_text},ignore_index=True)\n"
     ]
    },
    {
     "name": "stdout",
     "output_type": "stream",
     "text": [
      "4904 W REESE LANDING Stillwater OK 74075 0110.01\n"
     ]
    },
    {
     "name": "stderr",
     "output_type": "stream",
     "text": [
      "<ipython-input-135-c99a2411e0a3>:8: FutureWarning: The frame.append method is deprecated and will be removed from pandas in a future version. Use pandas.concat instead.\n",
      "  df_address_census_tract = df_address_census_tract.append({'Address':i,'Census_Tract':tc_text},ignore_index=True)\n"
     ]
    },
    {
     "name": "stdout",
     "output_type": "stream",
     "text": [
      "4904 W WINDMILL LN Stillwater OK 74074 \n"
     ]
    },
    {
     "name": "stderr",
     "output_type": "stream",
     "text": [
      "<ipython-input-135-c99a2411e0a3>:8: FutureWarning: The frame.append method is deprecated and will be removed from pandas in a future version. Use pandas.concat instead.\n",
      "  df_address_census_tract = df_address_census_tract.append({'Address':i,'Census_Tract':tc_text},ignore_index=True)\n"
     ]
    },
    {
     "name": "stdout",
     "output_type": "stream",
     "text": [
      "4905 S DEERFIELD DR Stillwater OK 74074 0110.02\n"
     ]
    },
    {
     "name": "stderr",
     "output_type": "stream",
     "text": [
      "<ipython-input-135-c99a2411e0a3>:8: FutureWarning: The frame.append method is deprecated and will be removed from pandas in a future version. Use pandas.concat instead.\n",
      "  df_address_census_tract = df_address_census_tract.append({'Address':i,'Census_Tract':tc_text},ignore_index=True)\n"
     ]
    },
    {
     "name": "stdout",
     "output_type": "stream",
     "text": [
      "4906 W VENA LN Stillwater OK 74074 \n"
     ]
    },
    {
     "name": "stderr",
     "output_type": "stream",
     "text": [
      "<ipython-input-135-c99a2411e0a3>:8: FutureWarning: The frame.append method is deprecated and will be removed from pandas in a future version. Use pandas.concat instead.\n",
      "  df_address_census_tract = df_address_census_tract.append({'Address':i,'Census_Tract':tc_text},ignore_index=True)\n"
     ]
    },
    {
     "name": "stdout",
     "output_type": "stream",
     "text": [
      "4907 W VENA LN Stillwater OK 74074 \n"
     ]
    },
    {
     "name": "stderr",
     "output_type": "stream",
     "text": [
      "<ipython-input-135-c99a2411e0a3>:8: FutureWarning: The frame.append method is deprecated and will be removed from pandas in a future version. Use pandas.concat instead.\n",
      "  df_address_census_tract = df_address_census_tract.append({'Address':i,'Census_Tract':tc_text},ignore_index=True)\n"
     ]
    },
    {
     "name": "stdout",
     "output_type": "stream",
     "text": [
      "4908 N BRITTON DR Stillwater OK 74074 0101.01\n"
     ]
    },
    {
     "name": "stderr",
     "output_type": "stream",
     "text": [
      "<ipython-input-135-c99a2411e0a3>:8: FutureWarning: The frame.append method is deprecated and will be removed from pandas in a future version. Use pandas.concat instead.\n",
      "  df_address_census_tract = df_address_census_tract.append({'Address':i,'Census_Tract':tc_text},ignore_index=True)\n"
     ]
    },
    {
     "name": "stdout",
     "output_type": "stream",
     "text": [
      "4910 N BARRETT CT Stillwater OK 74075 0102.01\n"
     ]
    },
    {
     "name": "stderr",
     "output_type": "stream",
     "text": [
      "<ipython-input-135-c99a2411e0a3>:8: FutureWarning: The frame.append method is deprecated and will be removed from pandas in a future version. Use pandas.concat instead.\n",
      "  df_address_census_tract = df_address_census_tract.append({'Address':i,'Census_Tract':tc_text},ignore_index=True)\n"
     ]
    },
    {
     "name": "stdout",
     "output_type": "stream",
     "text": [
      "4910 W JA LINDA LOU CT Stillwater OK 74074 0109.01\n"
     ]
    },
    {
     "name": "stderr",
     "output_type": "stream",
     "text": [
      "<ipython-input-135-c99a2411e0a3>:8: FutureWarning: The frame.append method is deprecated and will be removed from pandas in a future version. Use pandas.concat instead.\n",
      "  df_address_census_tract = df_address_census_tract.append({'Address':i,'Census_Tract':tc_text},ignore_index=True)\n"
     ]
    },
    {
     "name": "stdout",
     "output_type": "stream",
     "text": [
      "4911 W REESE LANDING Stillwater OK 74075 0110.01\n"
     ]
    },
    {
     "name": "stderr",
     "output_type": "stream",
     "text": [
      "<ipython-input-135-c99a2411e0a3>:8: FutureWarning: The frame.append method is deprecated and will be removed from pandas in a future version. Use pandas.concat instead.\n",
      "  df_address_census_tract = df_address_census_tract.append({'Address':i,'Census_Tract':tc_text},ignore_index=True)\n"
     ]
    },
    {
     "name": "stdout",
     "output_type": "stream",
     "text": [
      "4913 W WINDMILL LN Stillwater OK 74074 \n"
     ]
    },
    {
     "name": "stderr",
     "output_type": "stream",
     "text": [
      "<ipython-input-135-c99a2411e0a3>:8: FutureWarning: The frame.append method is deprecated and will be removed from pandas in a future version. Use pandas.concat instead.\n",
      "  df_address_census_tract = df_address_census_tract.append({'Address':i,'Census_Tract':tc_text},ignore_index=True)\n"
     ]
    },
    {
     "name": "stdout",
     "output_type": "stream",
     "text": [
      "4916 W VENA LN Stillwater OK 74075 0110.01\n"
     ]
    },
    {
     "name": "stderr",
     "output_type": "stream",
     "text": [
      "<ipython-input-135-c99a2411e0a3>:8: FutureWarning: The frame.append method is deprecated and will be removed from pandas in a future version. Use pandas.concat instead.\n",
      "  df_address_census_tract = df_address_census_tract.append({'Address':i,'Census_Tract':tc_text},ignore_index=True)\n"
     ]
    },
    {
     "name": "stdout",
     "output_type": "stream",
     "text": [
      "4916 W WINDMILL LN Stillwater OK 74074 \n"
     ]
    },
    {
     "name": "stderr",
     "output_type": "stream",
     "text": [
      "<ipython-input-135-c99a2411e0a3>:8: FutureWarning: The frame.append method is deprecated and will be removed from pandas in a future version. Use pandas.concat instead.\n",
      "  df_address_census_tract = df_address_census_tract.append({'Address':i,'Census_Tract':tc_text},ignore_index=True)\n"
     ]
    },
    {
     "name": "stdout",
     "output_type": "stream",
     "text": [
      "4917 N BARRETT CT Stillwater OK 74075 0102.01\n"
     ]
    },
    {
     "name": "stderr",
     "output_type": "stream",
     "text": [
      "<ipython-input-135-c99a2411e0a3>:8: FutureWarning: The frame.append method is deprecated and will be removed from pandas in a future version. Use pandas.concat instead.\n",
      "  df_address_census_tract = df_address_census_tract.append({'Address':i,'Census_Tract':tc_text},ignore_index=True)\n"
     ]
    },
    {
     "name": "stdout",
     "output_type": "stream",
     "text": [
      "4917 W WINDMILL LN Stillwater OK 74074 \n"
     ]
    },
    {
     "name": "stderr",
     "output_type": "stream",
     "text": [
      "<ipython-input-135-c99a2411e0a3>:8: FutureWarning: The frame.append method is deprecated and will be removed from pandas in a future version. Use pandas.concat instead.\n",
      "  df_address_census_tract = df_address_census_tract.append({'Address':i,'Census_Tract':tc_text},ignore_index=True)\n"
     ]
    },
    {
     "name": "stdout",
     "output_type": "stream",
     "text": [
      "4918 E HALEY LN Stillwater OK 74075 0111.01\n"
     ]
    },
    {
     "name": "stderr",
     "output_type": "stream",
     "text": [
      "<ipython-input-135-c99a2411e0a3>:8: FutureWarning: The frame.append method is deprecated and will be removed from pandas in a future version. Use pandas.concat instead.\n",
      "  df_address_census_tract = df_address_census_tract.append({'Address':i,'Census_Tract':tc_text},ignore_index=True)\n"
     ]
    },
    {
     "name": "stdout",
     "output_type": "stream",
     "text": [
      "4918 W MERCEDES LN Stillwater OK 74075 0110.01\n"
     ]
    },
    {
     "name": "stderr",
     "output_type": "stream",
     "text": [
      "<ipython-input-135-c99a2411e0a3>:8: FutureWarning: The frame.append method is deprecated and will be removed from pandas in a future version. Use pandas.concat instead.\n",
      "  df_address_census_tract = df_address_census_tract.append({'Address':i,'Census_Tract':tc_text},ignore_index=True)\n"
     ]
    },
    {
     "name": "stdout",
     "output_type": "stream",
     "text": [
      "4919 N BRITTON DR Stillwater OK 74074 0101.01\n"
     ]
    },
    {
     "name": "stderr",
     "output_type": "stream",
     "text": [
      "<ipython-input-135-c99a2411e0a3>:8: FutureWarning: The frame.append method is deprecated and will be removed from pandas in a future version. Use pandas.concat instead.\n",
      "  df_address_census_tract = df_address_census_tract.append({'Address':i,'Census_Tract':tc_text},ignore_index=True)\n"
     ]
    },
    {
     "name": "stdout",
     "output_type": "stream",
     "text": [
      "4920 E KARA DR Stillwater OK 74074 0111.01\n"
     ]
    },
    {
     "name": "stderr",
     "output_type": "stream",
     "text": [
      "<ipython-input-135-c99a2411e0a3>:8: FutureWarning: The frame.append method is deprecated and will be removed from pandas in a future version. Use pandas.concat instead.\n",
      "  df_address_census_tract = df_address_census_tract.append({'Address':i,'Census_Tract':tc_text},ignore_index=True)\n"
     ]
    },
    {
     "name": "stdout",
     "output_type": "stream",
     "text": [
      "4922 N BARRETT CT Stillwater OK 74075 0102.01\n"
     ]
    },
    {
     "name": "stderr",
     "output_type": "stream",
     "text": [
      "<ipython-input-135-c99a2411e0a3>:8: FutureWarning: The frame.append method is deprecated and will be removed from pandas in a future version. Use pandas.concat instead.\n",
      "  df_address_census_tract = df_address_census_tract.append({'Address':i,'Census_Tract':tc_text},ignore_index=True)\n"
     ]
    },
    {
     "name": "stdout",
     "output_type": "stream",
     "text": [
      "4922 W OAK CREST RD Stillwater OK 74075 0110.01\n"
     ]
    },
    {
     "name": "stderr",
     "output_type": "stream",
     "text": [
      "<ipython-input-135-c99a2411e0a3>:8: FutureWarning: The frame.append method is deprecated and will be removed from pandas in a future version. Use pandas.concat instead.\n",
      "  df_address_census_tract = df_address_census_tract.append({'Address':i,'Census_Tract':tc_text},ignore_index=True)\n"
     ]
    },
    {
     "name": "stdout",
     "output_type": "stream",
     "text": [
      "4927 N BRITTON DR Stillwater OK 74074 0101.01\n"
     ]
    },
    {
     "name": "stderr",
     "output_type": "stream",
     "text": [
      "<ipython-input-135-c99a2411e0a3>:8: FutureWarning: The frame.append method is deprecated and will be removed from pandas in a future version. Use pandas.concat instead.\n",
      "  df_address_census_tract = df_address_census_tract.append({'Address':i,'Census_Tract':tc_text},ignore_index=True)\n"
     ]
    },
    {
     "name": "stdout",
     "output_type": "stream",
     "text": [
      "4931 N BRITTON DR Stillwater OK 74074 0101.01\n"
     ]
    },
    {
     "name": "stderr",
     "output_type": "stream",
     "text": [
      "<ipython-input-135-c99a2411e0a3>:8: FutureWarning: The frame.append method is deprecated and will be removed from pandas in a future version. Use pandas.concat instead.\n",
      "  df_address_census_tract = df_address_census_tract.append({'Address':i,'Census_Tract':tc_text},ignore_index=True)\n"
     ]
    },
    {
     "name": "stdout",
     "output_type": "stream",
     "text": [
      "4933 N BRITTON DR Stillwater OK 74075 0101.01\n"
     ]
    },
    {
     "name": "stderr",
     "output_type": "stream",
     "text": [
      "<ipython-input-135-c99a2411e0a3>:8: FutureWarning: The frame.append method is deprecated and will be removed from pandas in a future version. Use pandas.concat instead.\n",
      "  df_address_census_tract = df_address_census_tract.append({'Address':i,'Census_Tract':tc_text},ignore_index=True)\n"
     ]
    },
    {
     "name": "stdout",
     "output_type": "stream",
     "text": [
      "498 E VIRGINIA AVE Stillwater OK 74075 0105.01\n"
     ]
    },
    {
     "name": "stderr",
     "output_type": "stream",
     "text": [
      "<ipython-input-135-c99a2411e0a3>:8: FutureWarning: The frame.append method is deprecated and will be removed from pandas in a future version. Use pandas.concat instead.\n",
      "  df_address_census_tract = df_address_census_tract.append({'Address':i,'Census_Tract':tc_text},ignore_index=True)\n"
     ]
    },
    {
     "name": "stdout",
     "output_type": "stream",
     "text": [
      "5 ROKA RIDGE RD Stillwater OK 74075 0110.01\n"
     ]
    },
    {
     "name": "stderr",
     "output_type": "stream",
     "text": [
      "<ipython-input-135-c99a2411e0a3>:8: FutureWarning: The frame.append method is deprecated and will be removed from pandas in a future version. Use pandas.concat instead.\n",
      "  df_address_census_tract = df_address_census_tract.append({'Address':i,'Census_Tract':tc_text},ignore_index=True)\n"
     ]
    },
    {
     "name": "stdout",
     "output_type": "stream",
     "text": [
      "5 SUNNY LN Stillwater OK 74075 0110.01\n"
     ]
    },
    {
     "name": "stderr",
     "output_type": "stream",
     "text": [
      "<ipython-input-135-c99a2411e0a3>:8: FutureWarning: The frame.append method is deprecated and will be removed from pandas in a future version. Use pandas.concat instead.\n",
      "  df_address_census_tract = df_address_census_tract.append({'Address':i,'Census_Tract':tc_text},ignore_index=True)\n"
     ]
    },
    {
     "name": "stdout",
     "output_type": "stream",
     "text": [
      "500 N SANGRE BEND Stillwater OK 74075 0109.02\n"
     ]
    },
    {
     "name": "stderr",
     "output_type": "stream",
     "text": [
      "<ipython-input-135-c99a2411e0a3>:8: FutureWarning: The frame.append method is deprecated and will be removed from pandas in a future version. Use pandas.concat instead.\n",
      "  df_address_census_tract = df_address_census_tract.append({'Address':i,'Census_Tract':tc_text},ignore_index=True)\n"
     ]
    },
    {
     "name": "stdout",
     "output_type": "stream",
     "text": [
      "500 S BLAKELEY ST Stillwater OK 74074 0103.00\n"
     ]
    },
    {
     "name": "stderr",
     "output_type": "stream",
     "text": [
      "<ipython-input-135-c99a2411e0a3>:8: FutureWarning: The frame.append method is deprecated and will be removed from pandas in a future version. Use pandas.concat instead.\n",
      "  df_address_census_tract = df_address_census_tract.append({'Address':i,'Census_Tract':tc_text},ignore_index=True)\n"
     ]
    },
    {
     "name": "stdout",
     "output_type": "stream",
     "text": [
      "5000 N NANCY LEE DR Stillwater OK 74075 0110.01\n"
     ]
    },
    {
     "name": "stderr",
     "output_type": "stream",
     "text": [
      "<ipython-input-135-c99a2411e0a3>:8: FutureWarning: The frame.append method is deprecated and will be removed from pandas in a future version. Use pandas.concat instead.\n",
      "  df_address_census_tract = df_address_census_tract.append({'Address':i,'Census_Tract':tc_text},ignore_index=True)\n"
     ]
    },
    {
     "name": "stdout",
     "output_type": "stream",
     "text": [
      "5001 N NANCY LEE DR Stillwater OK 74075 0110.01\n"
     ]
    },
    {
     "name": "stderr",
     "output_type": "stream",
     "text": [
      "<ipython-input-135-c99a2411e0a3>:8: FutureWarning: The frame.append method is deprecated and will be removed from pandas in a future version. Use pandas.concat instead.\n",
      "  df_address_census_tract = df_address_census_tract.append({'Address':i,'Census_Tract':tc_text},ignore_index=True)\n"
     ]
    }
   ],
   "source": [
    "for i in unique_address:\n",
    "    address_search = driver.find_element_by_xpath('//*[@id=\"searchDiv-input\"]')\n",
    "    address_search.send_keys(i + Keys.ENTER)\n",
    "    time.sleep(2)\n",
    "    tract_code = driver.find_element_by_xpath('//*[@id=\"TractCode\"]')\n",
    "    tc_text = tract_code.text\n",
    "    print(i,tc_text)\n",
    "    df_address_census_tract = df_address_census_tract.append({'Address':i,'Census_Tract':tc_text},ignore_index=True)\n",
    "    df_address_census_tract\n",
    "    address_search.clear()"
   ]
  },
  {
   "cell_type": "code",
   "execution_count": 136,
   "metadata": {},
   "outputs": [
    {
     "data": {
      "text/html": [
       "<div>\n",
       "<style scoped>\n",
       "    .dataframe tbody tr th:only-of-type {\n",
       "        vertical-align: middle;\n",
       "    }\n",
       "\n",
       "    .dataframe tbody tr th {\n",
       "        vertical-align: top;\n",
       "    }\n",
       "\n",
       "    .dataframe thead th {\n",
       "        text-align: right;\n",
       "    }\n",
       "</style>\n",
       "<table border=\"1\" class=\"dataframe\">\n",
       "  <thead>\n",
       "    <tr style=\"text-align: right;\">\n",
       "      <th></th>\n",
       "      <th>Address</th>\n",
       "      <th>Census_Tract</th>\n",
       "    </tr>\n",
       "  </thead>\n",
       "  <tbody>\n",
       "    <tr>\n",
       "      <th>0</th>\n",
       "      <td>2409 POSSE TRAIL Stillwater OK 74074</td>\n",
       "      <td></td>\n",
       "    </tr>\n",
       "    <tr>\n",
       "      <th>1</th>\n",
       "      <td>2410 N NORTH STAR DR Stillwater OK 74074</td>\n",
       "      <td></td>\n",
       "    </tr>\n",
       "    <tr>\n",
       "      <th>2</th>\n",
       "      <td>2410 N PARK DR Stillwater OK 74074</td>\n",
       "      <td>0101.01</td>\n",
       "    </tr>\n",
       "    <tr>\n",
       "      <th>3</th>\n",
       "      <td>2410 S TEAL ST Stillwater OK 74074</td>\n",
       "      <td>0109.02</td>\n",
       "    </tr>\n",
       "    <tr>\n",
       "      <th>4</th>\n",
       "      <td>2411 N GLENWOOD DR Stillwater OK 74075</td>\n",
       "      <td>0101.01</td>\n",
       "    </tr>\n",
       "    <tr>\n",
       "      <th>...</th>\n",
       "      <td>...</td>\n",
       "      <td>...</td>\n",
       "    </tr>\n",
       "    <tr>\n",
       "      <th>994</th>\n",
       "      <td>5 SUNNY LN Stillwater OK 74075</td>\n",
       "      <td>0110.01</td>\n",
       "    </tr>\n",
       "    <tr>\n",
       "      <th>995</th>\n",
       "      <td>500 N SANGRE BEND Stillwater OK 74075</td>\n",
       "      <td>0109.02</td>\n",
       "    </tr>\n",
       "    <tr>\n",
       "      <th>996</th>\n",
       "      <td>500 S BLAKELEY ST Stillwater OK 74074</td>\n",
       "      <td>0103.00</td>\n",
       "    </tr>\n",
       "    <tr>\n",
       "      <th>997</th>\n",
       "      <td>5000 N NANCY LEE DR Stillwater OK 74075</td>\n",
       "      <td>0110.01</td>\n",
       "    </tr>\n",
       "    <tr>\n",
       "      <th>998</th>\n",
       "      <td>5001 N NANCY LEE DR Stillwater OK 74075</td>\n",
       "      <td>0110.01</td>\n",
       "    </tr>\n",
       "  </tbody>\n",
       "</table>\n",
       "<p>999 rows × 2 columns</p>\n",
       "</div>"
      ],
      "text/plain": [
       "                                      Address Census_Tract\n",
       "0        2409 POSSE TRAIL Stillwater OK 74074             \n",
       "1    2410 N NORTH STAR DR Stillwater OK 74074             \n",
       "2          2410 N PARK DR Stillwater OK 74074      0101.01\n",
       "3          2410 S TEAL ST Stillwater OK 74074      0109.02\n",
       "4      2411 N GLENWOOD DR Stillwater OK 74075      0101.01\n",
       "..                                        ...          ...\n",
       "994            5 SUNNY LN Stillwater OK 74075      0110.01\n",
       "995     500 N SANGRE BEND Stillwater OK 74075      0109.02\n",
       "996     500 S BLAKELEY ST Stillwater OK 74074      0103.00\n",
       "997   5000 N NANCY LEE DR Stillwater OK 74075      0110.01\n",
       "998   5001 N NANCY LEE DR Stillwater OK 74075      0110.01\n",
       "\n",
       "[999 rows x 2 columns]"
      ]
     },
     "execution_count": 136,
     "metadata": {},
     "output_type": "execute_result"
    }
   ],
   "source": [
    "df_address_census_tract"
   ]
  },
  {
   "cell_type": "code",
   "execution_count": 137,
   "metadata": {},
   "outputs": [],
   "source": [
    "df_address_census_tract.to_excel('Shreyan_1000.xlsx')"
   ]
  },
  {
   "cell_type": "code",
   "execution_count": null,
   "metadata": {},
   "outputs": [],
   "source": []
  }
 ],
 "metadata": {
  "kernelspec": {
   "display_name": "Python 3",
   "language": "python",
   "name": "python3"
  },
  "language_info": {
   "codemirror_mode": {
    "name": "ipython",
    "version": 3
   },
   "file_extension": ".py",
   "mimetype": "text/x-python",
   "name": "python",
   "nbconvert_exporter": "python",
   "pygments_lexer": "ipython3",
   "version": "3.8.5"
  }
 },
 "nbformat": 4,
 "nbformat_minor": 4
}
