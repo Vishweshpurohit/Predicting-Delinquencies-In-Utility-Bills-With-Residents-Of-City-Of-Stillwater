{
 "cells": [
  {
   "cell_type": "code",
   "execution_count": 1,
   "metadata": {},
   "outputs": [],
   "source": [
    "import pandas as pd"
   ]
  },
  {
   "cell_type": "code",
   "execution_count": 2,
   "metadata": {
    "scrolled": true
   },
   "outputs": [
    {
     "data": {
      "text/html": [
       "<div>\n",
       "<style scoped>\n",
       "    .dataframe tbody tr th:only-of-type {\n",
       "        vertical-align: middle;\n",
       "    }\n",
       "\n",
       "    .dataframe tbody tr th {\n",
       "        vertical-align: top;\n",
       "    }\n",
       "\n",
       "    .dataframe thead th {\n",
       "        text-align: right;\n",
       "    }\n",
       "</style>\n",
       "<table border=\"1\" class=\"dataframe\">\n",
       "  <thead>\n",
       "    <tr style=\"text-align: right;\">\n",
       "      <th></th>\n",
       "      <th>Unnamed: 0</th>\n",
       "      <th>utcsid</th>\n",
       "      <th>utlcid</th>\n",
       "      <th>cust_id</th>\n",
       "      <th>credit_date</th>\n",
       "      <th>credit_offense_amount</th>\n",
       "      <th>full_address</th>\n",
       "      <th>census_tract</th>\n",
       "      <th>avg_age</th>\n",
       "      <th>population</th>\n",
       "      <th>male</th>\n",
       "      <th>female</th>\n",
       "      <th>median_income</th>\n",
       "      <th>owners</th>\n",
       "      <th>renters</th>\n",
       "      <th>total_housing</th>\n",
       "      <th>underserved</th>\n",
       "      <th>income_level</th>\n",
       "    </tr>\n",
       "  </thead>\n",
       "  <tbody>\n",
       "    <tr>\n",
       "      <th>0</th>\n",
       "      <td>0</td>\n",
       "      <td>274221</td>\n",
       "      <td>63558</td>\n",
       "      <td>274221-63558</td>\n",
       "      <td>11/1/2019</td>\n",
       "      <td>3707.93</td>\n",
       "      <td>11401 W STATE HIGHWAY 51 Stillwater OK 74074</td>\n",
       "      <td>111.01</td>\n",
       "      <td>37.0</td>\n",
       "      <td>5682.0</td>\n",
       "      <td>2661.0</td>\n",
       "      <td>3021.0</td>\n",
       "      <td>82318.0</td>\n",
       "      <td>1715.0</td>\n",
       "      <td>337.0</td>\n",
       "      <td>2437.0</td>\n",
       "      <td>0.0</td>\n",
       "      <td>Upper</td>\n",
       "    </tr>\n",
       "    <tr>\n",
       "      <th>1</th>\n",
       "      <td>1</td>\n",
       "      <td>337991</td>\n",
       "      <td>4490</td>\n",
       "      <td>337991-4490</td>\n",
       "      <td>7/6/2021</td>\n",
       "      <td>3695.03</td>\n",
       "      <td>923 S DUNCAN ST Stillwater OK 74074</td>\n",
       "      <td>107.00</td>\n",
       "      <td>27.3</td>\n",
       "      <td>2830.0</td>\n",
       "      <td>1493.0</td>\n",
       "      <td>1337.0</td>\n",
       "      <td>64700.0</td>\n",
       "      <td>356.0</td>\n",
       "      <td>986.0</td>\n",
       "      <td>1551.0</td>\n",
       "      <td>0.0</td>\n",
       "      <td>Moderate</td>\n",
       "    </tr>\n",
       "    <tr>\n",
       "      <th>2</th>\n",
       "      <td>2</td>\n",
       "      <td>327015</td>\n",
       "      <td>27942</td>\n",
       "      <td>327015-27942</td>\n",
       "      <td>8/3/2020</td>\n",
       "      <td>3564.55</td>\n",
       "      <td>817 W 9TH AVE Stillwater OK 74074</td>\n",
       "      <td>107.00</td>\n",
       "      <td>27.3</td>\n",
       "      <td>2830.0</td>\n",
       "      <td>1493.0</td>\n",
       "      <td>1337.0</td>\n",
       "      <td>64700.0</td>\n",
       "      <td>356.0</td>\n",
       "      <td>986.0</td>\n",
       "      <td>1551.0</td>\n",
       "      <td>0.0</td>\n",
       "      <td>Moderate</td>\n",
       "    </tr>\n",
       "    <tr>\n",
       "      <th>3</th>\n",
       "      <td>3</td>\n",
       "      <td>347413</td>\n",
       "      <td>61456</td>\n",
       "      <td>347413-61456</td>\n",
       "      <td>10/4/2021</td>\n",
       "      <td>3384.22</td>\n",
       "      <td>2807 N RUNNING BEAR ST Stillwater OK 74075</td>\n",
       "      <td>101.01</td>\n",
       "      <td>30.5</td>\n",
       "      <td>5653.0</td>\n",
       "      <td>2870.0</td>\n",
       "      <td>2783.0</td>\n",
       "      <td>61860.0</td>\n",
       "      <td>1487.0</td>\n",
       "      <td>933.0</td>\n",
       "      <td>2721.0</td>\n",
       "      <td>1.0</td>\n",
       "      <td>Middle</td>\n",
       "    </tr>\n",
       "    <tr>\n",
       "      <th>4</th>\n",
       "      <td>4</td>\n",
       "      <td>328327</td>\n",
       "      <td>62008</td>\n",
       "      <td>328327-62008</td>\n",
       "      <td>11/2/2021</td>\n",
       "      <td>3254.15</td>\n",
       "      <td>3006 S EAGLE SUMMIT DR Stillwater OK 74074</td>\n",
       "      <td>109.02</td>\n",
       "      <td>32.2</td>\n",
       "      <td>6927.0</td>\n",
       "      <td>3657.0</td>\n",
       "      <td>3270.0</td>\n",
       "      <td>113820.0</td>\n",
       "      <td>1682.0</td>\n",
       "      <td>1190.0</td>\n",
       "      <td>2991.0</td>\n",
       "      <td>0.0</td>\n",
       "      <td>Upper</td>\n",
       "    </tr>\n",
       "    <tr>\n",
       "      <th>...</th>\n",
       "      <td>...</td>\n",
       "      <td>...</td>\n",
       "      <td>...</td>\n",
       "      <td>...</td>\n",
       "      <td>...</td>\n",
       "      <td>...</td>\n",
       "      <td>...</td>\n",
       "      <td>...</td>\n",
       "      <td>...</td>\n",
       "      <td>...</td>\n",
       "      <td>...</td>\n",
       "      <td>...</td>\n",
       "      <td>...</td>\n",
       "      <td>...</td>\n",
       "      <td>...</td>\n",
       "      <td>...</td>\n",
       "      <td>...</td>\n",
       "      <td>...</td>\n",
       "    </tr>\n",
       "    <tr>\n",
       "      <th>16510</th>\n",
       "      <td>16510</td>\n",
       "      <td>344505</td>\n",
       "      <td>21544</td>\n",
       "      <td>344505-21544</td>\n",
       "      <td>2/24/2021</td>\n",
       "      <td>0.01</td>\n",
       "      <td>3602 N WASHINGTON ST Stillwater OK 74075</td>\n",
       "      <td>102.01</td>\n",
       "      <td>28.3</td>\n",
       "      <td>3564.0</td>\n",
       "      <td>1557.0</td>\n",
       "      <td>2007.0</td>\n",
       "      <td>56347.0</td>\n",
       "      <td>833.0</td>\n",
       "      <td>983.0</td>\n",
       "      <td>1993.0</td>\n",
       "      <td>1.0</td>\n",
       "      <td>Middle</td>\n",
       "    </tr>\n",
       "    <tr>\n",
       "      <th>16511</th>\n",
       "      <td>16511</td>\n",
       "      <td>348813</td>\n",
       "      <td>256</td>\n",
       "      <td>348813-256</td>\n",
       "      <td>4/11/2022</td>\n",
       "      <td>0.01</td>\n",
       "      <td>2142 W ADMIRAL AVE Stillwater OK 74074</td>\n",
       "      <td>105.03</td>\n",
       "      <td>NaN</td>\n",
       "      <td>NaN</td>\n",
       "      <td>NaN</td>\n",
       "      <td>NaN</td>\n",
       "      <td>NaN</td>\n",
       "      <td>NaN</td>\n",
       "      <td>NaN</td>\n",
       "      <td>NaN</td>\n",
       "      <td>NaN</td>\n",
       "      <td>NaN</td>\n",
       "    </tr>\n",
       "    <tr>\n",
       "      <th>16512</th>\n",
       "      <td>16512</td>\n",
       "      <td>88011</td>\n",
       "      <td>13556</td>\n",
       "      <td>88011-13556</td>\n",
       "      <td>8/24/2018</td>\n",
       "      <td>0.01</td>\n",
       "      <td>103 S ORCHARD ST Stillwater OK 74074</td>\n",
       "      <td>103.00</td>\n",
       "      <td>21.3</td>\n",
       "      <td>3683.0</td>\n",
       "      <td>2010.0</td>\n",
       "      <td>1673.0</td>\n",
       "      <td>NaN</td>\n",
       "      <td>127.0</td>\n",
       "      <td>608.0</td>\n",
       "      <td>871.0</td>\n",
       "      <td>0.0</td>\n",
       "      <td>NaN</td>\n",
       "    </tr>\n",
       "    <tr>\n",
       "      <th>16513</th>\n",
       "      <td>16513</td>\n",
       "      <td>99507</td>\n",
       "      <td>13450</td>\n",
       "      <td>99507-13450</td>\n",
       "      <td>1/6/2020</td>\n",
       "      <td>0.01</td>\n",
       "      <td>102 W NORTHGATE DR Stillwater OK 74074</td>\n",
       "      <td>101.01</td>\n",
       "      <td>30.5</td>\n",
       "      <td>5653.0</td>\n",
       "      <td>2870.0</td>\n",
       "      <td>2783.0</td>\n",
       "      <td>61860.0</td>\n",
       "      <td>1487.0</td>\n",
       "      <td>933.0</td>\n",
       "      <td>2721.0</td>\n",
       "      <td>1.0</td>\n",
       "      <td>Middle</td>\n",
       "    </tr>\n",
       "    <tr>\n",
       "      <th>16514</th>\n",
       "      <td>16514</td>\n",
       "      <td>279949</td>\n",
       "      <td>7692</td>\n",
       "      <td>279949-7692</td>\n",
       "      <td>1/16/2018</td>\n",
       "      <td>0.00</td>\n",
       "      <td>417 S HUSBAND ST Stillwater OK 74074</td>\n",
       "      <td>105.03</td>\n",
       "      <td>NaN</td>\n",
       "      <td>NaN</td>\n",
       "      <td>NaN</td>\n",
       "      <td>NaN</td>\n",
       "      <td>NaN</td>\n",
       "      <td>NaN</td>\n",
       "      <td>NaN</td>\n",
       "      <td>NaN</td>\n",
       "      <td>NaN</td>\n",
       "      <td>NaN</td>\n",
       "    </tr>\n",
       "  </tbody>\n",
       "</table>\n",
       "<p>16515 rows × 18 columns</p>\n",
       "</div>"
      ],
      "text/plain": [
       "       Unnamed: 0  utcsid  utlcid       cust_id credit_date  \\\n",
       "0               0  274221   63558  274221-63558   11/1/2019   \n",
       "1               1  337991    4490   337991-4490    7/6/2021   \n",
       "2               2  327015   27942  327015-27942    8/3/2020   \n",
       "3               3  347413   61456  347413-61456   10/4/2021   \n",
       "4               4  328327   62008  328327-62008   11/2/2021   \n",
       "...           ...     ...     ...           ...         ...   \n",
       "16510       16510  344505   21544  344505-21544   2/24/2021   \n",
       "16511       16511  348813     256    348813-256   4/11/2022   \n",
       "16512       16512   88011   13556   88011-13556   8/24/2018   \n",
       "16513       16513   99507   13450   99507-13450    1/6/2020   \n",
       "16514       16514  279949    7692   279949-7692   1/16/2018   \n",
       "\n",
       "       credit_offense_amount                                  full_address  \\\n",
       "0                    3707.93  11401 W STATE HIGHWAY 51 Stillwater OK 74074   \n",
       "1                    3695.03           923 S DUNCAN ST Stillwater OK 74074   \n",
       "2                    3564.55             817 W 9TH AVE Stillwater OK 74074   \n",
       "3                    3384.22    2807 N RUNNING BEAR ST Stillwater OK 74075   \n",
       "4                    3254.15    3006 S EAGLE SUMMIT DR Stillwater OK 74074   \n",
       "...                      ...                                           ...   \n",
       "16510                   0.01      3602 N WASHINGTON ST Stillwater OK 74075   \n",
       "16511                   0.01        2142 W ADMIRAL AVE Stillwater OK 74074   \n",
       "16512                   0.01          103 S ORCHARD ST Stillwater OK 74074   \n",
       "16513                   0.01        102 W NORTHGATE DR Stillwater OK 74074   \n",
       "16514                   0.00          417 S HUSBAND ST Stillwater OK 74074   \n",
       "\n",
       "       census_tract  avg_age  population    male  female  median_income  \\\n",
       "0            111.01     37.0      5682.0  2661.0  3021.0        82318.0   \n",
       "1            107.00     27.3      2830.0  1493.0  1337.0        64700.0   \n",
       "2            107.00     27.3      2830.0  1493.0  1337.0        64700.0   \n",
       "3            101.01     30.5      5653.0  2870.0  2783.0        61860.0   \n",
       "4            109.02     32.2      6927.0  3657.0  3270.0       113820.0   \n",
       "...             ...      ...         ...     ...     ...            ...   \n",
       "16510        102.01     28.3      3564.0  1557.0  2007.0        56347.0   \n",
       "16511        105.03      NaN         NaN     NaN     NaN            NaN   \n",
       "16512        103.00     21.3      3683.0  2010.0  1673.0            NaN   \n",
       "16513        101.01     30.5      5653.0  2870.0  2783.0        61860.0   \n",
       "16514        105.03      NaN         NaN     NaN     NaN            NaN   \n",
       "\n",
       "       owners  renters  total_housing  underserved income_level  \n",
       "0      1715.0    337.0         2437.0          0.0        Upper  \n",
       "1       356.0    986.0         1551.0          0.0     Moderate  \n",
       "2       356.0    986.0         1551.0          0.0     Moderate  \n",
       "3      1487.0    933.0         2721.0          1.0       Middle  \n",
       "4      1682.0   1190.0         2991.0          0.0        Upper  \n",
       "...       ...      ...            ...          ...          ...  \n",
       "16510   833.0    983.0         1993.0          1.0       Middle  \n",
       "16511     NaN      NaN            NaN          NaN          NaN  \n",
       "16512   127.0    608.0          871.0          0.0          NaN  \n",
       "16513  1487.0    933.0         2721.0          1.0       Middle  \n",
       "16514     NaN      NaN            NaN          NaN          NaN  \n",
       "\n",
       "[16515 rows x 18 columns]"
      ]
     },
     "execution_count": 2,
     "metadata": {},
     "output_type": "execute_result"
    }
   ],
   "source": [
    "df = pd.read_csv('final_dataset_for_model.csv')\n",
    "df"
   ]
  },
  {
   "cell_type": "code",
   "execution_count": 33,
   "metadata": {},
   "outputs": [
    {
     "data": {
      "text/plain": [
       "Index(['Unnamed: 0', 'utcsid', 'utlcid', 'cust_id', 'credit_date',\n",
       "       'credit_offense_amount', 'full_address', 'census_tract', 'avg_age',\n",
       "       'population', 'male', 'female', 'median_income', 'owners', 'renters',\n",
       "       'total_housing', 'underserved', 'income_level'],\n",
       "      dtype='object')"
      ]
     },
     "execution_count": 33,
     "metadata": {},
     "output_type": "execute_result"
    }
   ],
   "source": [
    "df.columns"
   ]
  },
  {
   "cell_type": "code",
   "execution_count": 40,
   "metadata": {},
   "outputs": [
    {
     "data": {
      "text/html": [
       "<div>\n",
       "<style scoped>\n",
       "    .dataframe tbody tr th:only-of-type {\n",
       "        vertical-align: middle;\n",
       "    }\n",
       "\n",
       "    .dataframe tbody tr th {\n",
       "        vertical-align: top;\n",
       "    }\n",
       "\n",
       "    .dataframe thead th {\n",
       "        text-align: right;\n",
       "    }\n",
       "</style>\n",
       "<table border=\"1\" class=\"dataframe\">\n",
       "  <thead>\n",
       "    <tr style=\"text-align: right;\">\n",
       "      <th></th>\n",
       "      <th>Unnamed: 0</th>\n",
       "      <th>utcsid</th>\n",
       "      <th>utlcid</th>\n",
       "      <th>cust_id</th>\n",
       "      <th>credit_date</th>\n",
       "      <th>credit_offense_amount</th>\n",
       "      <th>full_address</th>\n",
       "      <th>census_tract</th>\n",
       "      <th>avg_age</th>\n",
       "      <th>population</th>\n",
       "      <th>male</th>\n",
       "      <th>female</th>\n",
       "      <th>median_income</th>\n",
       "      <th>owners</th>\n",
       "      <th>renters</th>\n",
       "      <th>total_housing</th>\n",
       "      <th>underserved</th>\n",
       "      <th>income_level</th>\n",
       "    </tr>\n",
       "  </thead>\n",
       "  <tbody>\n",
       "    <tr>\n",
       "      <th>16510</th>\n",
       "      <td>16510</td>\n",
       "      <td>344505</td>\n",
       "      <td>21544</td>\n",
       "      <td>344505-21544</td>\n",
       "      <td>2/24/2021</td>\n",
       "      <td>0.01</td>\n",
       "      <td>3602 N WASHINGTON ST Stillwater OK 74075</td>\n",
       "      <td>102.01</td>\n",
       "      <td>28.3</td>\n",
       "      <td>3564.0</td>\n",
       "      <td>1557.0</td>\n",
       "      <td>2007.0</td>\n",
       "      <td>56347.0</td>\n",
       "      <td>833.0</td>\n",
       "      <td>983.0</td>\n",
       "      <td>1993.0</td>\n",
       "      <td>1.0</td>\n",
       "      <td>Middle</td>\n",
       "    </tr>\n",
       "    <tr>\n",
       "      <th>16511</th>\n",
       "      <td>16511</td>\n",
       "      <td>348813</td>\n",
       "      <td>256</td>\n",
       "      <td>348813-256</td>\n",
       "      <td>4/11/2022</td>\n",
       "      <td>0.01</td>\n",
       "      <td>2142 W ADMIRAL AVE Stillwater OK 74074</td>\n",
       "      <td>105.03</td>\n",
       "      <td>NaN</td>\n",
       "      <td>NaN</td>\n",
       "      <td>NaN</td>\n",
       "      <td>NaN</td>\n",
       "      <td>NaN</td>\n",
       "      <td>NaN</td>\n",
       "      <td>NaN</td>\n",
       "      <td>NaN</td>\n",
       "      <td>NaN</td>\n",
       "      <td>NaN</td>\n",
       "    </tr>\n",
       "    <tr>\n",
       "      <th>16512</th>\n",
       "      <td>16512</td>\n",
       "      <td>88011</td>\n",
       "      <td>13556</td>\n",
       "      <td>88011-13556</td>\n",
       "      <td>8/24/2018</td>\n",
       "      <td>0.01</td>\n",
       "      <td>103 S ORCHARD ST Stillwater OK 74074</td>\n",
       "      <td>103.00</td>\n",
       "      <td>21.3</td>\n",
       "      <td>3683.0</td>\n",
       "      <td>2010.0</td>\n",
       "      <td>1673.0</td>\n",
       "      <td>NaN</td>\n",
       "      <td>127.0</td>\n",
       "      <td>608.0</td>\n",
       "      <td>871.0</td>\n",
       "      <td>0.0</td>\n",
       "      <td>NaN</td>\n",
       "    </tr>\n",
       "    <tr>\n",
       "      <th>16513</th>\n",
       "      <td>16513</td>\n",
       "      <td>99507</td>\n",
       "      <td>13450</td>\n",
       "      <td>99507-13450</td>\n",
       "      <td>1/6/2020</td>\n",
       "      <td>0.01</td>\n",
       "      <td>102 W NORTHGATE DR Stillwater OK 74074</td>\n",
       "      <td>101.01</td>\n",
       "      <td>30.5</td>\n",
       "      <td>5653.0</td>\n",
       "      <td>2870.0</td>\n",
       "      <td>2783.0</td>\n",
       "      <td>61860.0</td>\n",
       "      <td>1487.0</td>\n",
       "      <td>933.0</td>\n",
       "      <td>2721.0</td>\n",
       "      <td>1.0</td>\n",
       "      <td>Middle</td>\n",
       "    </tr>\n",
       "    <tr>\n",
       "      <th>16514</th>\n",
       "      <td>16514</td>\n",
       "      <td>279949</td>\n",
       "      <td>7692</td>\n",
       "      <td>279949-7692</td>\n",
       "      <td>1/16/2018</td>\n",
       "      <td>0.00</td>\n",
       "      <td>417 S HUSBAND ST Stillwater OK 74074</td>\n",
       "      <td>105.03</td>\n",
       "      <td>NaN</td>\n",
       "      <td>NaN</td>\n",
       "      <td>NaN</td>\n",
       "      <td>NaN</td>\n",
       "      <td>NaN</td>\n",
       "      <td>NaN</td>\n",
       "      <td>NaN</td>\n",
       "      <td>NaN</td>\n",
       "      <td>NaN</td>\n",
       "      <td>NaN</td>\n",
       "    </tr>\n",
       "  </tbody>\n",
       "</table>\n",
       "</div>"
      ],
      "text/plain": [
       "       Unnamed: 0  utcsid  utlcid       cust_id credit_date  \\\n",
       "16510       16510  344505   21544  344505-21544   2/24/2021   \n",
       "16511       16511  348813     256    348813-256   4/11/2022   \n",
       "16512       16512   88011   13556   88011-13556   8/24/2018   \n",
       "16513       16513   99507   13450   99507-13450    1/6/2020   \n",
       "16514       16514  279949    7692   279949-7692   1/16/2018   \n",
       "\n",
       "       credit_offense_amount                              full_address  \\\n",
       "16510                   0.01  3602 N WASHINGTON ST Stillwater OK 74075   \n",
       "16511                   0.01    2142 W ADMIRAL AVE Stillwater OK 74074   \n",
       "16512                   0.01      103 S ORCHARD ST Stillwater OK 74074   \n",
       "16513                   0.01    102 W NORTHGATE DR Stillwater OK 74074   \n",
       "16514                   0.00      417 S HUSBAND ST Stillwater OK 74074   \n",
       "\n",
       "       census_tract  avg_age  population    male  female  median_income  \\\n",
       "16510        102.01     28.3      3564.0  1557.0  2007.0        56347.0   \n",
       "16511        105.03      NaN         NaN     NaN     NaN            NaN   \n",
       "16512        103.00     21.3      3683.0  2010.0  1673.0            NaN   \n",
       "16513        101.01     30.5      5653.0  2870.0  2783.0        61860.0   \n",
       "16514        105.03      NaN         NaN     NaN     NaN            NaN   \n",
       "\n",
       "       owners  renters  total_housing  underserved income_level  \n",
       "16510   833.0    983.0         1993.0          1.0       Middle  \n",
       "16511     NaN      NaN            NaN          NaN          NaN  \n",
       "16512   127.0    608.0          871.0          0.0          NaN  \n",
       "16513  1487.0    933.0         2721.0          1.0       Middle  \n",
       "16514     NaN      NaN            NaN          NaN          NaN  "
      ]
     },
     "execution_count": 40,
     "metadata": {},
     "output_type": "execute_result"
    }
   ],
   "source": [
    "df.tail()"
   ]
  },
  {
   "cell_type": "code",
   "execution_count": 41,
   "metadata": {},
   "outputs": [
    {
     "data": {
      "text/plain": [
       "18"
      ]
     },
     "execution_count": 41,
     "metadata": {},
     "output_type": "execute_result"
    }
   ],
   "source": [
    "len(df.columns)"
   ]
  },
  {
   "cell_type": "code",
   "execution_count": 38,
   "metadata": {},
   "outputs": [
    {
     "data": {
      "text/plain": [
       "3711"
      ]
     },
     "execution_count": 38,
     "metadata": {},
     "output_type": "execute_result"
    }
   ],
   "source": [
    "df.full_address.nunique()"
   ]
  },
  {
   "cell_type": "code",
   "execution_count": 39,
   "metadata": {},
   "outputs": [
    {
     "data": {
      "text/plain": [
       "6951"
      ]
     },
     "execution_count": 39,
     "metadata": {},
     "output_type": "execute_result"
    }
   ],
   "source": [
    "df.utlcid.nunique()"
   ]
  },
  {
   "cell_type": "code",
   "execution_count": 34,
   "metadata": {},
   "outputs": [
    {
     "data": {
      "text/plain": [
       "Middle      5426\n",
       "Moderate    5208\n",
       "Upper       2394\n",
       "Name: income_level, dtype: int64"
      ]
     },
     "execution_count": 34,
     "metadata": {},
     "output_type": "execute_result"
    }
   ],
   "source": [
    "df['income_level'].value_counts()"
   ]
  },
  {
   "cell_type": "code",
   "execution_count": 3,
   "metadata": {},
   "outputs": [
    {
     "data": {
      "text/plain": [
       "Unnamed: 0                  0\n",
       "utcsid                      0\n",
       "utlcid                      0\n",
       "cust_id                     0\n",
       "credit_date                 0\n",
       "credit_offense_amount       0\n",
       "full_address                0\n",
       "census_tract              290\n",
       "avg_age                  2102\n",
       "population               2102\n",
       "male                     2102\n",
       "female                   2102\n",
       "median_income            3487\n",
       "owners                   2102\n",
       "renters                  2102\n",
       "total_housing            2102\n",
       "underserved              2102\n",
       "income_level             3487\n",
       "dtype: int64"
      ]
     },
     "execution_count": 3,
     "metadata": {},
     "output_type": "execute_result"
    }
   ],
   "source": [
    "df.isnull().sum()"
   ]
  },
  {
   "cell_type": "code",
   "execution_count": 4,
   "metadata": {
    "scrolled": true
   },
   "outputs": [
    {
     "data": {
      "text/html": [
       "<div>\n",
       "<style scoped>\n",
       "    .dataframe tbody tr th:only-of-type {\n",
       "        vertical-align: middle;\n",
       "    }\n",
       "\n",
       "    .dataframe tbody tr th {\n",
       "        vertical-align: top;\n",
       "    }\n",
       "\n",
       "    .dataframe thead th {\n",
       "        text-align: right;\n",
       "    }\n",
       "</style>\n",
       "<table border=\"1\" class=\"dataframe\">\n",
       "  <thead>\n",
       "    <tr style=\"text-align: right;\">\n",
       "      <th></th>\n",
       "      <th>Unnamed: 0</th>\n",
       "      <th>utcsid</th>\n",
       "      <th>utlcid</th>\n",
       "      <th>cust_id</th>\n",
       "      <th>credit_date</th>\n",
       "      <th>credit_offense_amount</th>\n",
       "      <th>full_address</th>\n",
       "      <th>census_tract</th>\n",
       "      <th>avg_age</th>\n",
       "      <th>population</th>\n",
       "      <th>male</th>\n",
       "      <th>female</th>\n",
       "      <th>median_income</th>\n",
       "      <th>owners</th>\n",
       "      <th>renters</th>\n",
       "      <th>total_housing</th>\n",
       "      <th>underserved</th>\n",
       "      <th>income_level</th>\n",
       "    </tr>\n",
       "  </thead>\n",
       "  <tbody>\n",
       "    <tr>\n",
       "      <th>0</th>\n",
       "      <td>0</td>\n",
       "      <td>274221</td>\n",
       "      <td>63558</td>\n",
       "      <td>274221-63558</td>\n",
       "      <td>11/1/2019</td>\n",
       "      <td>3707.93</td>\n",
       "      <td>11401 W STATE HIGHWAY 51 Stillwater OK 74074</td>\n",
       "      <td>111.01</td>\n",
       "      <td>37.0</td>\n",
       "      <td>5682.0</td>\n",
       "      <td>2661.0</td>\n",
       "      <td>3021.0</td>\n",
       "      <td>82318.0</td>\n",
       "      <td>1715.0</td>\n",
       "      <td>337.0</td>\n",
       "      <td>2437.0</td>\n",
       "      <td>0.0</td>\n",
       "      <td>Upper</td>\n",
       "    </tr>\n",
       "    <tr>\n",
       "      <th>1</th>\n",
       "      <td>1</td>\n",
       "      <td>337991</td>\n",
       "      <td>4490</td>\n",
       "      <td>337991-4490</td>\n",
       "      <td>7/6/2021</td>\n",
       "      <td>3695.03</td>\n",
       "      <td>923 S DUNCAN ST Stillwater OK 74074</td>\n",
       "      <td>107.00</td>\n",
       "      <td>27.3</td>\n",
       "      <td>2830.0</td>\n",
       "      <td>1493.0</td>\n",
       "      <td>1337.0</td>\n",
       "      <td>64700.0</td>\n",
       "      <td>356.0</td>\n",
       "      <td>986.0</td>\n",
       "      <td>1551.0</td>\n",
       "      <td>0.0</td>\n",
       "      <td>Moderate</td>\n",
       "    </tr>\n",
       "    <tr>\n",
       "      <th>2</th>\n",
       "      <td>2</td>\n",
       "      <td>327015</td>\n",
       "      <td>27942</td>\n",
       "      <td>327015-27942</td>\n",
       "      <td>8/3/2020</td>\n",
       "      <td>3564.55</td>\n",
       "      <td>817 W 9TH AVE Stillwater OK 74074</td>\n",
       "      <td>107.00</td>\n",
       "      <td>27.3</td>\n",
       "      <td>2830.0</td>\n",
       "      <td>1493.0</td>\n",
       "      <td>1337.0</td>\n",
       "      <td>64700.0</td>\n",
       "      <td>356.0</td>\n",
       "      <td>986.0</td>\n",
       "      <td>1551.0</td>\n",
       "      <td>0.0</td>\n",
       "      <td>Moderate</td>\n",
       "    </tr>\n",
       "    <tr>\n",
       "      <th>3</th>\n",
       "      <td>3</td>\n",
       "      <td>347413</td>\n",
       "      <td>61456</td>\n",
       "      <td>347413-61456</td>\n",
       "      <td>10/4/2021</td>\n",
       "      <td>3384.22</td>\n",
       "      <td>2807 N RUNNING BEAR ST Stillwater OK 74075</td>\n",
       "      <td>101.01</td>\n",
       "      <td>30.5</td>\n",
       "      <td>5653.0</td>\n",
       "      <td>2870.0</td>\n",
       "      <td>2783.0</td>\n",
       "      <td>61860.0</td>\n",
       "      <td>1487.0</td>\n",
       "      <td>933.0</td>\n",
       "      <td>2721.0</td>\n",
       "      <td>1.0</td>\n",
       "      <td>Middle</td>\n",
       "    </tr>\n",
       "    <tr>\n",
       "      <th>4</th>\n",
       "      <td>4</td>\n",
       "      <td>328327</td>\n",
       "      <td>62008</td>\n",
       "      <td>328327-62008</td>\n",
       "      <td>11/2/2021</td>\n",
       "      <td>3254.15</td>\n",
       "      <td>3006 S EAGLE SUMMIT DR Stillwater OK 74074</td>\n",
       "      <td>109.02</td>\n",
       "      <td>32.2</td>\n",
       "      <td>6927.0</td>\n",
       "      <td>3657.0</td>\n",
       "      <td>3270.0</td>\n",
       "      <td>113820.0</td>\n",
       "      <td>1682.0</td>\n",
       "      <td>1190.0</td>\n",
       "      <td>2991.0</td>\n",
       "      <td>0.0</td>\n",
       "      <td>Upper</td>\n",
       "    </tr>\n",
       "    <tr>\n",
       "      <th>...</th>\n",
       "      <td>...</td>\n",
       "      <td>...</td>\n",
       "      <td>...</td>\n",
       "      <td>...</td>\n",
       "      <td>...</td>\n",
       "      <td>...</td>\n",
       "      <td>...</td>\n",
       "      <td>...</td>\n",
       "      <td>...</td>\n",
       "      <td>...</td>\n",
       "      <td>...</td>\n",
       "      <td>...</td>\n",
       "      <td>...</td>\n",
       "      <td>...</td>\n",
       "      <td>...</td>\n",
       "      <td>...</td>\n",
       "      <td>...</td>\n",
       "      <td>...</td>\n",
       "    </tr>\n",
       "    <tr>\n",
       "      <th>16504</th>\n",
       "      <td>16504</td>\n",
       "      <td>328817</td>\n",
       "      <td>5304</td>\n",
       "      <td>328817-5304</td>\n",
       "      <td>4/18/2019</td>\n",
       "      <td>0.01</td>\n",
       "      <td>910 E FRANKLIN AVE Stillwater OK 74074</td>\n",
       "      <td>101.02</td>\n",
       "      <td>25.4</td>\n",
       "      <td>4144.0</td>\n",
       "      <td>1951.0</td>\n",
       "      <td>2193.0</td>\n",
       "      <td>41447.0</td>\n",
       "      <td>619.0</td>\n",
       "      <td>1478.0</td>\n",
       "      <td>2459.0</td>\n",
       "      <td>0.0</td>\n",
       "      <td>Moderate</td>\n",
       "    </tr>\n",
       "    <tr>\n",
       "      <th>16505</th>\n",
       "      <td>16505</td>\n",
       "      <td>328971</td>\n",
       "      <td>7392</td>\n",
       "      <td>328971-7392</td>\n",
       "      <td>8/10/2020</td>\n",
       "      <td>0.01</td>\n",
       "      <td>818 N HUSBAND ST Stillwater OK 74075</td>\n",
       "      <td>102.02</td>\n",
       "      <td>24.1</td>\n",
       "      <td>3200.0</td>\n",
       "      <td>1862.0</td>\n",
       "      <td>1338.0</td>\n",
       "      <td>51475.0</td>\n",
       "      <td>331.0</td>\n",
       "      <td>1197.0</td>\n",
       "      <td>1744.0</td>\n",
       "      <td>0.0</td>\n",
       "      <td>Moderate</td>\n",
       "    </tr>\n",
       "    <tr>\n",
       "      <th>16506</th>\n",
       "      <td>16506</td>\n",
       "      <td>330165</td>\n",
       "      <td>24832</td>\n",
       "      <td>330165-24832</td>\n",
       "      <td>6/2/2020</td>\n",
       "      <td>0.01</td>\n",
       "      <td>4100 W 19TH AVE Stillwater OK 74074</td>\n",
       "      <td>109.02</td>\n",
       "      <td>32.2</td>\n",
       "      <td>6927.0</td>\n",
       "      <td>3657.0</td>\n",
       "      <td>3270.0</td>\n",
       "      <td>113820.0</td>\n",
       "      <td>1682.0</td>\n",
       "      <td>1190.0</td>\n",
       "      <td>2991.0</td>\n",
       "      <td>0.0</td>\n",
       "      <td>Upper</td>\n",
       "    </tr>\n",
       "    <tr>\n",
       "      <th>16510</th>\n",
       "      <td>16510</td>\n",
       "      <td>344505</td>\n",
       "      <td>21544</td>\n",
       "      <td>344505-21544</td>\n",
       "      <td>2/24/2021</td>\n",
       "      <td>0.01</td>\n",
       "      <td>3602 N WASHINGTON ST Stillwater OK 74075</td>\n",
       "      <td>102.01</td>\n",
       "      <td>28.3</td>\n",
       "      <td>3564.0</td>\n",
       "      <td>1557.0</td>\n",
       "      <td>2007.0</td>\n",
       "      <td>56347.0</td>\n",
       "      <td>833.0</td>\n",
       "      <td>983.0</td>\n",
       "      <td>1993.0</td>\n",
       "      <td>1.0</td>\n",
       "      <td>Middle</td>\n",
       "    </tr>\n",
       "    <tr>\n",
       "      <th>16513</th>\n",
       "      <td>16513</td>\n",
       "      <td>99507</td>\n",
       "      <td>13450</td>\n",
       "      <td>99507-13450</td>\n",
       "      <td>1/6/2020</td>\n",
       "      <td>0.01</td>\n",
       "      <td>102 W NORTHGATE DR Stillwater OK 74074</td>\n",
       "      <td>101.01</td>\n",
       "      <td>30.5</td>\n",
       "      <td>5653.0</td>\n",
       "      <td>2870.0</td>\n",
       "      <td>2783.0</td>\n",
       "      <td>61860.0</td>\n",
       "      <td>1487.0</td>\n",
       "      <td>933.0</td>\n",
       "      <td>2721.0</td>\n",
       "      <td>1.0</td>\n",
       "      <td>Middle</td>\n",
       "    </tr>\n",
       "  </tbody>\n",
       "</table>\n",
       "<p>13028 rows × 18 columns</p>\n",
       "</div>"
      ],
      "text/plain": [
       "       Unnamed: 0  utcsid  utlcid       cust_id credit_date  \\\n",
       "0               0  274221   63558  274221-63558   11/1/2019   \n",
       "1               1  337991    4490   337991-4490    7/6/2021   \n",
       "2               2  327015   27942  327015-27942    8/3/2020   \n",
       "3               3  347413   61456  347413-61456   10/4/2021   \n",
       "4               4  328327   62008  328327-62008   11/2/2021   \n",
       "...           ...     ...     ...           ...         ...   \n",
       "16504       16504  328817    5304   328817-5304   4/18/2019   \n",
       "16505       16505  328971    7392   328971-7392   8/10/2020   \n",
       "16506       16506  330165   24832  330165-24832    6/2/2020   \n",
       "16510       16510  344505   21544  344505-21544   2/24/2021   \n",
       "16513       16513   99507   13450   99507-13450    1/6/2020   \n",
       "\n",
       "       credit_offense_amount                                  full_address  \\\n",
       "0                    3707.93  11401 W STATE HIGHWAY 51 Stillwater OK 74074   \n",
       "1                    3695.03           923 S DUNCAN ST Stillwater OK 74074   \n",
       "2                    3564.55             817 W 9TH AVE Stillwater OK 74074   \n",
       "3                    3384.22    2807 N RUNNING BEAR ST Stillwater OK 74075   \n",
       "4                    3254.15    3006 S EAGLE SUMMIT DR Stillwater OK 74074   \n",
       "...                      ...                                           ...   \n",
       "16504                   0.01        910 E FRANKLIN AVE Stillwater OK 74074   \n",
       "16505                   0.01          818 N HUSBAND ST Stillwater OK 74075   \n",
       "16506                   0.01           4100 W 19TH AVE Stillwater OK 74074   \n",
       "16510                   0.01      3602 N WASHINGTON ST Stillwater OK 74075   \n",
       "16513                   0.01        102 W NORTHGATE DR Stillwater OK 74074   \n",
       "\n",
       "       census_tract  avg_age  population    male  female  median_income  \\\n",
       "0            111.01     37.0      5682.0  2661.0  3021.0        82318.0   \n",
       "1            107.00     27.3      2830.0  1493.0  1337.0        64700.0   \n",
       "2            107.00     27.3      2830.0  1493.0  1337.0        64700.0   \n",
       "3            101.01     30.5      5653.0  2870.0  2783.0        61860.0   \n",
       "4            109.02     32.2      6927.0  3657.0  3270.0       113820.0   \n",
       "...             ...      ...         ...     ...     ...            ...   \n",
       "16504        101.02     25.4      4144.0  1951.0  2193.0        41447.0   \n",
       "16505        102.02     24.1      3200.0  1862.0  1338.0        51475.0   \n",
       "16506        109.02     32.2      6927.0  3657.0  3270.0       113820.0   \n",
       "16510        102.01     28.3      3564.0  1557.0  2007.0        56347.0   \n",
       "16513        101.01     30.5      5653.0  2870.0  2783.0        61860.0   \n",
       "\n",
       "       owners  renters  total_housing  underserved income_level  \n",
       "0      1715.0    337.0         2437.0          0.0        Upper  \n",
       "1       356.0    986.0         1551.0          0.0     Moderate  \n",
       "2       356.0    986.0         1551.0          0.0     Moderate  \n",
       "3      1487.0    933.0         2721.0          1.0       Middle  \n",
       "4      1682.0   1190.0         2991.0          0.0        Upper  \n",
       "...       ...      ...            ...          ...          ...  \n",
       "16504   619.0   1478.0         2459.0          0.0     Moderate  \n",
       "16505   331.0   1197.0         1744.0          0.0     Moderate  \n",
       "16506  1682.0   1190.0         2991.0          0.0        Upper  \n",
       "16510   833.0    983.0         1993.0          1.0       Middle  \n",
       "16513  1487.0    933.0         2721.0          1.0       Middle  \n",
       "\n",
       "[13028 rows x 18 columns]"
      ]
     },
     "execution_count": 4,
     "metadata": {},
     "output_type": "execute_result"
    }
   ],
   "source": [
    "df_nona = df.dropna()\n",
    "df_nona"
   ]
  },
  {
   "cell_type": "code",
   "execution_count": null,
   "metadata": {},
   "outputs": [],
   "source": [
    "df_nona[]"
   ]
  },
  {
   "cell_type": "code",
   "execution_count": 5,
   "metadata": {},
   "outputs": [],
   "source": [
    "from sklearn.tree import DecisionTreeRegressor"
   ]
  },
  {
   "cell_type": "code",
   "execution_count": 6,
   "metadata": {},
   "outputs": [],
   "source": [
    "DTR = DecisionTreeRegressor(max_depth=3)"
   ]
  },
  {
   "cell_type": "code",
   "execution_count": 7,
   "metadata": {},
   "outputs": [],
   "source": [
    "model_dtr = DTR.fit(X=df_nona[['avg_age','population','median_income','renters','underserved']],y=df_nona['credit_offense_amount'])"
   ]
  },
  {
   "cell_type": "code",
   "execution_count": 8,
   "metadata": {},
   "outputs": [
    {
     "data": {
      "text/plain": [
       "0.009582767927628466"
      ]
     },
     "execution_count": 8,
     "metadata": {},
     "output_type": "execute_result"
    }
   ],
   "source": [
    "model_dtr.score(X=df_nona[['avg_age','population','median_income','renters','underserved']],y=df_nona['credit_offense_amount'])"
   ]
  },
  {
   "cell_type": "code",
   "execution_count": 9,
   "metadata": {},
   "outputs": [],
   "source": [
    "from sklearn import metrics"
   ]
  },
  {
   "cell_type": "code",
   "execution_count": 10,
   "metadata": {},
   "outputs": [
    {
     "data": {
      "text/plain": [
       "223.19508848882566"
      ]
     },
     "execution_count": 10,
     "metadata": {},
     "output_type": "execute_result"
    }
   ],
   "source": [
    "metrics.mean_squared_error(y_true=model_dtr.predict(df_nona[['avg_age','population','median_income','renters','underserved']]),\n",
    "                           y_pred=df_nona['credit_offense_amount'],squared=False)"
   ]
  },
  {
   "cell_type": "code",
   "execution_count": 23,
   "metadata": {},
   "outputs": [],
   "source": [
    "from sklearn.linear_model import LinearRegression\n",
    "LR = LinearRegression()"
   ]
  },
  {
   "cell_type": "code",
   "execution_count": 24,
   "metadata": {},
   "outputs": [
    {
     "data": {
      "text/plain": [
       "0.0028259579397338364"
      ]
     },
     "execution_count": 24,
     "metadata": {},
     "output_type": "execute_result"
    }
   ],
   "source": [
    "model_lr = LR.fit(X=df_nona[['avg_age','population','median_income','renters','underserved']],y=df_nona['credit_offense_amount'])\n",
    "model_lr.score(X=df_nona[['avg_age','population','median_income','renters','underserved']],y=df_nona['credit_offense_amount'])"
   ]
  },
  {
   "cell_type": "code",
   "execution_count": 25,
   "metadata": {},
   "outputs": [
    {
     "data": {
      "text/plain": [
       "223.95513353798884"
      ]
     },
     "execution_count": 25,
     "metadata": {},
     "output_type": "execute_result"
    }
   ],
   "source": [
    "metrics.mean_squared_error(y_true=model_lr.predict(df_nona[['avg_age','population','median_income','renters','underserved']]),\n",
    "                           y_pred=df_nona['credit_offense_amount'],squared=False)"
   ]
  },
  {
   "cell_type": "code",
   "execution_count": 26,
   "metadata": {},
   "outputs": [],
   "source": [
    "from sklearn.ensemble import RandomForestRegressor"
   ]
  },
  {
   "cell_type": "code",
   "execution_count": 27,
   "metadata": {},
   "outputs": [],
   "source": [
    "RFR = RandomForestRegressor(max_depth=3)"
   ]
  },
  {
   "cell_type": "code",
   "execution_count": 28,
   "metadata": {},
   "outputs": [
    {
     "data": {
      "text/plain": [
       "0.01040953281260859"
      ]
     },
     "execution_count": 28,
     "metadata": {},
     "output_type": "execute_result"
    }
   ],
   "source": [
    "model_rfr = RFR.fit(X=df_nona[['avg_age','population','median_income','renters','underserved']],y=df_nona['credit_offense_amount'])\n",
    "model_rfr.score(X=df_nona[['avg_age','population','median_income','renters','underserved']],y=df_nona['credit_offense_amount'])"
   ]
  },
  {
   "cell_type": "code",
   "execution_count": 29,
   "metadata": {},
   "outputs": [
    {
     "data": {
      "text/plain": [
       "223.10191140067548"
      ]
     },
     "execution_count": 29,
     "metadata": {},
     "output_type": "execute_result"
    }
   ],
   "source": [
    "metrics.mean_squared_error(y_true=model_rfr.predict(df_nona[['avg_age','population','median_income','renters','underserved']]),\n",
    "                           y_pred=df_nona['credit_offense_amount'],squared=False)"
   ]
  },
  {
   "cell_type": "code",
   "execution_count": 31,
   "metadata": {},
   "outputs": [],
   "source": [
    "from sklearn.ensemble import BaggingRegressor\n",
    "from sklearn.svm import SVR"
   ]
  },
  {
   "cell_type": "code",
   "execution_count": 38,
   "metadata": {},
   "outputs": [],
   "source": [
    "BGR = BaggingRegressor()"
   ]
  },
  {
   "cell_type": "code",
   "execution_count": 39,
   "metadata": {},
   "outputs": [
    {
     "data": {
      "text/plain": [
       "0.010538350674155539"
      ]
     },
     "execution_count": 39,
     "metadata": {},
     "output_type": "execute_result"
    }
   ],
   "source": [
    "model_bgr = BGR.fit(X=df_nona[['avg_age','population','median_income','renters','underserved']],y=df_nona['credit_offense_amount'])\n",
    "model_bgr.score(X=df_nona[['avg_age','population','median_income','renters','underserved']],y=df_nona['credit_offense_amount'])"
   ]
  },
  {
   "cell_type": "code",
   "execution_count": 40,
   "metadata": {},
   "outputs": [
    {
     "data": {
      "text/plain": [
       "223.08739001661615"
      ]
     },
     "execution_count": 40,
     "metadata": {},
     "output_type": "execute_result"
    }
   ],
   "source": [
    "metrics.mean_squared_error(y_true=model_bgr.predict(df_nona[['avg_age','population','median_income','renters','underserved']]),\n",
    "                           y_pred=df_nona['credit_offense_amount'],squared=False)"
   ]
  },
  {
   "cell_type": "code",
   "execution_count": 54,
   "metadata": {},
   "outputs": [],
   "source": [
    "from sklearn.ensemble import GradientBoostingRegressor"
   ]
  },
  {
   "cell_type": "code",
   "execution_count": 55,
   "metadata": {},
   "outputs": [],
   "source": [
    "GBR = GradientBoostingRegressor(max_depth=3)"
   ]
  },
  {
   "cell_type": "code",
   "execution_count": 56,
   "metadata": {},
   "outputs": [
    {
     "data": {
      "text/plain": [
       "0.010640454235176788"
      ]
     },
     "execution_count": 56,
     "metadata": {},
     "output_type": "execute_result"
    }
   ],
   "source": [
    "model_gbr = GBR.fit(X=df_nona[['avg_age','population','median_income','renters','underserved']],y=df_nona['credit_offense_amount'])\n",
    "model_gbr.score(X=df_nona[['avg_age','population','median_income','renters','underserved']],y=df_nona['credit_offense_amount'])"
   ]
  },
  {
   "cell_type": "code",
   "execution_count": 57,
   "metadata": {},
   "outputs": [
    {
     "data": {
      "text/plain": [
       "223.0758794115274"
      ]
     },
     "execution_count": 57,
     "metadata": {},
     "output_type": "execute_result"
    }
   ],
   "source": [
    "metrics.mean_squared_error(y_true=model_gbr.predict(df_nona[['avg_age','population','median_income','renters','underserved']]),\n",
    "                           y_pred=df_nona['credit_offense_amount'],squared=False)"
   ]
  },
  {
   "cell_type": "code",
   "execution_count": 42,
   "metadata": {},
   "outputs": [
    {
     "data": {
      "text/html": [
       "<div>\n",
       "<style scoped>\n",
       "    .dataframe tbody tr th:only-of-type {\n",
       "        vertical-align: middle;\n",
       "    }\n",
       "\n",
       "    .dataframe tbody tr th {\n",
       "        vertical-align: top;\n",
       "    }\n",
       "\n",
       "    .dataframe thead th {\n",
       "        text-align: right;\n",
       "    }\n",
       "</style>\n",
       "<table border=\"1\" class=\"dataframe\">\n",
       "  <thead>\n",
       "    <tr style=\"text-align: right;\">\n",
       "      <th></th>\n",
       "      <th>Unnamed: 0</th>\n",
       "      <th>utcsid</th>\n",
       "      <th>utlcid</th>\n",
       "      <th>credit_offense_amount</th>\n",
       "      <th>census_tract</th>\n",
       "      <th>avg_age</th>\n",
       "      <th>population</th>\n",
       "      <th>male</th>\n",
       "      <th>female</th>\n",
       "      <th>median_income</th>\n",
       "      <th>owners</th>\n",
       "      <th>renters</th>\n",
       "      <th>total_housing</th>\n",
       "      <th>underserved</th>\n",
       "    </tr>\n",
       "  </thead>\n",
       "  <tbody>\n",
       "    <tr>\n",
       "      <th>count</th>\n",
       "      <td>13028.000000</td>\n",
       "      <td>13028.000000</td>\n",
       "      <td>13028.000000</td>\n",
       "      <td>13028.000000</td>\n",
       "      <td>13028.000000</td>\n",
       "      <td>13028.000000</td>\n",
       "      <td>13028.000000</td>\n",
       "      <td>13028.000000</td>\n",
       "      <td>13028.000000</td>\n",
       "      <td>13028.000000</td>\n",
       "      <td>13028.000000</td>\n",
       "      <td>13028.000000</td>\n",
       "      <td>13028.000000</td>\n",
       "      <td>13028.000000</td>\n",
       "    </tr>\n",
       "    <tr>\n",
       "      <th>mean</th>\n",
       "      <td>8134.452180</td>\n",
       "      <td>298625.701566</td>\n",
       "      <td>38281.924087</td>\n",
       "      <td>128.551332</td>\n",
       "      <td>104.194782</td>\n",
       "      <td>28.313425</td>\n",
       "      <td>4289.975514</td>\n",
       "      <td>2118.619589</td>\n",
       "      <td>2171.355926</td>\n",
       "      <td>65986.524255</td>\n",
       "      <td>867.788839</td>\n",
       "      <td>1104.469681</td>\n",
       "      <td>2228.083896</td>\n",
       "      <td>0.416488</td>\n",
       "    </tr>\n",
       "    <tr>\n",
       "      <th>std</th>\n",
       "      <td>4798.865225</td>\n",
       "      <td>69472.812626</td>\n",
       "      <td>22666.084910</td>\n",
       "      <td>224.280858</td>\n",
       "      <td>3.374125</td>\n",
       "      <td>4.451385</td>\n",
       "      <td>1288.031810</td>\n",
       "      <td>708.095754</td>\n",
       "      <td>611.247369</td>\n",
       "      <td>26390.991838</td>\n",
       "      <td>453.867653</td>\n",
       "      <td>305.274763</td>\n",
       "      <td>529.971098</td>\n",
       "      <td>0.492995</td>\n",
       "    </tr>\n",
       "    <tr>\n",
       "      <th>min</th>\n",
       "      <td>0.000000</td>\n",
       "      <td>121.000000</td>\n",
       "      <td>24.000000</td>\n",
       "      <td>0.010000</td>\n",
       "      <td>101.010000</td>\n",
       "      <td>24.100000</td>\n",
       "      <td>2357.000000</td>\n",
       "      <td>1164.000000</td>\n",
       "      <td>1193.000000</td>\n",
       "      <td>41447.000000</td>\n",
       "      <td>276.000000</td>\n",
       "      <td>122.000000</td>\n",
       "      <td>1214.000000</td>\n",
       "      <td>0.000000</td>\n",
       "    </tr>\n",
       "    <tr>\n",
       "      <th>25%</th>\n",
       "      <td>3939.750000</td>\n",
       "      <td>294187.000000</td>\n",
       "      <td>15670.000000</td>\n",
       "      <td>12.020000</td>\n",
       "      <td>101.020000</td>\n",
       "      <td>25.400000</td>\n",
       "      <td>3564.000000</td>\n",
       "      <td>1557.000000</td>\n",
       "      <td>1751.000000</td>\n",
       "      <td>41447.000000</td>\n",
       "      <td>619.000000</td>\n",
       "      <td>983.000000</td>\n",
       "      <td>1744.000000</td>\n",
       "      <td>0.000000</td>\n",
       "    </tr>\n",
       "    <tr>\n",
       "      <th>50%</th>\n",
       "      <td>8058.000000</td>\n",
       "      <td>322694.000000</td>\n",
       "      <td>40376.000000</td>\n",
       "      <td>41.200000</td>\n",
       "      <td>102.020000</td>\n",
       "      <td>26.200000</td>\n",
       "      <td>4144.000000</td>\n",
       "      <td>1951.000000</td>\n",
       "      <td>2193.000000</td>\n",
       "      <td>56347.000000</td>\n",
       "      <td>833.000000</td>\n",
       "      <td>1129.000000</td>\n",
       "      <td>2448.000000</td>\n",
       "      <td>0.000000</td>\n",
       "    </tr>\n",
       "    <tr>\n",
       "      <th>75%</th>\n",
       "      <td>12291.250000</td>\n",
       "      <td>337696.500000</td>\n",
       "      <td>59882.000000</td>\n",
       "      <td>159.820000</td>\n",
       "      <td>108.000000</td>\n",
       "      <td>30.500000</td>\n",
       "      <td>4500.000000</td>\n",
       "      <td>2113.000000</td>\n",
       "      <td>2387.000000</td>\n",
       "      <td>72128.000000</td>\n",
       "      <td>1070.000000</td>\n",
       "      <td>1478.000000</td>\n",
       "      <td>2459.000000</td>\n",
       "      <td>1.000000</td>\n",
       "    </tr>\n",
       "    <tr>\n",
       "      <th>max</th>\n",
       "      <td>16513.000000</td>\n",
       "      <td>359447.000000</td>\n",
       "      <td>75614.000000</td>\n",
       "      <td>3707.930000</td>\n",
       "      <td>111.010000</td>\n",
       "      <td>47.400000</td>\n",
       "      <td>6927.000000</td>\n",
       "      <td>3657.000000</td>\n",
       "      <td>3270.000000</td>\n",
       "      <td>152084.000000</td>\n",
       "      <td>1715.000000</td>\n",
       "      <td>1478.000000</td>\n",
       "      <td>2991.000000</td>\n",
       "      <td>1.000000</td>\n",
       "    </tr>\n",
       "  </tbody>\n",
       "</table>\n",
       "</div>"
      ],
      "text/plain": [
       "         Unnamed: 0         utcsid        utlcid  credit_offense_amount  \\\n",
       "count  13028.000000   13028.000000  13028.000000           13028.000000   \n",
       "mean    8134.452180  298625.701566  38281.924087             128.551332   \n",
       "std     4798.865225   69472.812626  22666.084910             224.280858   \n",
       "min        0.000000     121.000000     24.000000               0.010000   \n",
       "25%     3939.750000  294187.000000  15670.000000              12.020000   \n",
       "50%     8058.000000  322694.000000  40376.000000              41.200000   \n",
       "75%    12291.250000  337696.500000  59882.000000             159.820000   \n",
       "max    16513.000000  359447.000000  75614.000000            3707.930000   \n",
       "\n",
       "       census_tract       avg_age    population          male        female  \\\n",
       "count  13028.000000  13028.000000  13028.000000  13028.000000  13028.000000   \n",
       "mean     104.194782     28.313425   4289.975514   2118.619589   2171.355926   \n",
       "std        3.374125      4.451385   1288.031810    708.095754    611.247369   \n",
       "min      101.010000     24.100000   2357.000000   1164.000000   1193.000000   \n",
       "25%      101.020000     25.400000   3564.000000   1557.000000   1751.000000   \n",
       "50%      102.020000     26.200000   4144.000000   1951.000000   2193.000000   \n",
       "75%      108.000000     30.500000   4500.000000   2113.000000   2387.000000   \n",
       "max      111.010000     47.400000   6927.000000   3657.000000   3270.000000   \n",
       "\n",
       "       median_income        owners       renters  total_housing   underserved  \n",
       "count   13028.000000  13028.000000  13028.000000   13028.000000  13028.000000  \n",
       "mean    65986.524255    867.788839   1104.469681    2228.083896      0.416488  \n",
       "std     26390.991838    453.867653    305.274763     529.971098      0.492995  \n",
       "min     41447.000000    276.000000    122.000000    1214.000000      0.000000  \n",
       "25%     41447.000000    619.000000    983.000000    1744.000000      0.000000  \n",
       "50%     56347.000000    833.000000   1129.000000    2448.000000      0.000000  \n",
       "75%     72128.000000   1070.000000   1478.000000    2459.000000      1.000000  \n",
       "max    152084.000000   1715.000000   1478.000000    2991.000000      1.000000  "
      ]
     },
     "execution_count": 42,
     "metadata": {},
     "output_type": "execute_result"
    }
   ],
   "source": [
    "df_nona.describe()"
   ]
  },
  {
   "cell_type": "code",
   "execution_count": 53,
   "metadata": {},
   "outputs": [
    {
     "data": {
      "image/png": "[encoded data removed]",
      "text/plain": [
       "<Figure size 864x504 with 2 Axes>"
      ]
     },
     "metadata": {
      "needs_background": "light"
     },
     "output_type": "display_data"
    }
   ],
   "source": [
    "from matplotlib import pyplot as plt\n",
    "import seaborn as sns\n",
    "plt.figure(figsize=(12,7))\n",
    "sns.heatmap(df_nona.drop(['Unnamed: 0','utcsid','utlcid','census_tract'],axis=1).corr(),annot=True);"
   ]
  },
  {
   "cell_type": "code",
   "execution_count": 48,
   "metadata": {},
   "outputs": [
    {
     "data": {
      "text/html": [
       "<div>\n",
       "<style scoped>\n",
       "    .dataframe tbody tr th:only-of-type {\n",
       "        vertical-align: middle;\n",
       "    }\n",
       "\n",
       "    .dataframe tbody tr th {\n",
       "        vertical-align: top;\n",
       "    }\n",
       "\n",
       "    .dataframe thead th {\n",
       "        text-align: right;\n",
       "    }\n",
       "</style>\n",
       "<table border=\"1\" class=\"dataframe\">\n",
       "  <thead>\n",
       "    <tr style=\"text-align: right;\">\n",
       "      <th></th>\n",
       "      <th>credit_offense_amount</th>\n",
       "      <th>avg_age</th>\n",
       "      <th>population</th>\n",
       "      <th>male</th>\n",
       "      <th>female</th>\n",
       "      <th>median_income</th>\n",
       "      <th>owners</th>\n",
       "      <th>renters</th>\n",
       "      <th>total_housing</th>\n",
       "      <th>underserved</th>\n",
       "    </tr>\n",
       "  </thead>\n",
       "  <tbody>\n",
       "    <tr>\n",
       "      <th>count</th>\n",
       "      <td>13028.000000</td>\n",
       "      <td>13028.000000</td>\n",
       "      <td>13028.000000</td>\n",
       "      <td>13028.000000</td>\n",
       "      <td>13028.000000</td>\n",
       "      <td>13028.000000</td>\n",
       "      <td>13028.000000</td>\n",
       "      <td>13028.000000</td>\n",
       "      <td>13028.000000</td>\n",
       "      <td>13028.000000</td>\n",
       "    </tr>\n",
       "    <tr>\n",
       "      <th>mean</th>\n",
       "      <td>128.551332</td>\n",
       "      <td>28.313425</td>\n",
       "      <td>4289.975514</td>\n",
       "      <td>2118.619589</td>\n",
       "      <td>2171.355926</td>\n",
       "      <td>65986.524255</td>\n",
       "      <td>867.788839</td>\n",
       "      <td>1104.469681</td>\n",
       "      <td>2228.083896</td>\n",
       "      <td>0.416488</td>\n",
       "    </tr>\n",
       "    <tr>\n",
       "      <th>std</th>\n",
       "      <td>224.280858</td>\n",
       "      <td>4.451385</td>\n",
       "      <td>1288.031810</td>\n",
       "      <td>708.095754</td>\n",
       "      <td>611.247369</td>\n",
       "      <td>26390.991838</td>\n",
       "      <td>453.867653</td>\n",
       "      <td>305.274763</td>\n",
       "      <td>529.971098</td>\n",
       "      <td>0.492995</td>\n",
       "    </tr>\n",
       "    <tr>\n",
       "      <th>min</th>\n",
       "      <td>0.010000</td>\n",
       "      <td>24.100000</td>\n",
       "      <td>2357.000000</td>\n",
       "      <td>1164.000000</td>\n",
       "      <td>1193.000000</td>\n",
       "      <td>41447.000000</td>\n",
       "      <td>276.000000</td>\n",
       "      <td>122.000000</td>\n",
       "      <td>1214.000000</td>\n",
       "      <td>0.000000</td>\n",
       "    </tr>\n",
       "    <tr>\n",
       "      <th>25%</th>\n",
       "      <td>12.020000</td>\n",
       "      <td>25.400000</td>\n",
       "      <td>3564.000000</td>\n",
       "      <td>1557.000000</td>\n",
       "      <td>1751.000000</td>\n",
       "      <td>41447.000000</td>\n",
       "      <td>619.000000</td>\n",
       "      <td>983.000000</td>\n",
       "      <td>1744.000000</td>\n",
       "      <td>0.000000</td>\n",
       "    </tr>\n",
       "    <tr>\n",
       "      <th>50%</th>\n",
       "      <td>41.200000</td>\n",
       "      <td>26.200000</td>\n",
       "      <td>4144.000000</td>\n",
       "      <td>1951.000000</td>\n",
       "      <td>2193.000000</td>\n",
       "      <td>56347.000000</td>\n",
       "      <td>833.000000</td>\n",
       "      <td>1129.000000</td>\n",
       "      <td>2448.000000</td>\n",
       "      <td>0.000000</td>\n",
       "    </tr>\n",
       "    <tr>\n",
       "      <th>75%</th>\n",
       "      <td>159.820000</td>\n",
       "      <td>30.500000</td>\n",
       "      <td>4500.000000</td>\n",
       "      <td>2113.000000</td>\n",
       "      <td>2387.000000</td>\n",
       "      <td>72128.000000</td>\n",
       "      <td>1070.000000</td>\n",
       "      <td>1478.000000</td>\n",
       "      <td>2459.000000</td>\n",
       "      <td>1.000000</td>\n",
       "    </tr>\n",
       "    <tr>\n",
       "      <th>max</th>\n",
       "      <td>3707.930000</td>\n",
       "      <td>47.400000</td>\n",
       "      <td>6927.000000</td>\n",
       "      <td>3657.000000</td>\n",
       "      <td>3270.000000</td>\n",
       "      <td>152084.000000</td>\n",
       "      <td>1715.000000</td>\n",
       "      <td>1478.000000</td>\n",
       "      <td>2991.000000</td>\n",
       "      <td>1.000000</td>\n",
       "    </tr>\n",
       "  </tbody>\n",
       "</table>\n",
       "</div>"
      ],
      "text/plain": [
       "       credit_offense_amount       avg_age    population          male  \\\n",
       "count           13028.000000  13028.000000  13028.000000  13028.000000   \n",
       "mean              128.551332     28.313425   4289.975514   2118.619589   \n",
       "std               224.280858      4.451385   1288.031810    708.095754   \n",
       "min                 0.010000     24.100000   2357.000000   1164.000000   \n",
       "25%                12.020000     25.400000   3564.000000   1557.000000   \n",
       "50%                41.200000     26.200000   4144.000000   1951.000000   \n",
       "75%               159.820000     30.500000   4500.000000   2113.000000   \n",
       "max              3707.930000     47.400000   6927.000000   3657.000000   \n",
       "\n",
       "             female  median_income        owners       renters  total_housing  \\\n",
       "count  13028.000000   13028.000000  13028.000000  13028.000000   13028.000000   \n",
       "mean    2171.355926   65986.524255    867.788839   1104.469681    2228.083896   \n",
       "std      611.247369   26390.991838    453.867653    305.274763     529.971098   \n",
       "min     1193.000000   41447.000000    276.000000    122.000000    1214.000000   \n",
       "25%     1751.000000   41447.000000    619.000000    983.000000    1744.000000   \n",
       "50%     2193.000000   56347.000000    833.000000   1129.000000    2448.000000   \n",
       "75%     2387.000000   72128.000000   1070.000000   1478.000000    2459.000000   \n",
       "max     3270.000000  152084.000000   1715.000000   1478.000000    2991.000000   \n",
       "\n",
       "        underserved  \n",
       "count  13028.000000  \n",
       "mean       0.416488  \n",
       "std        0.492995  \n",
       "min        0.000000  \n",
       "25%        0.000000  \n",
       "50%        0.000000  \n",
       "75%        1.000000  \n",
       "max        1.000000  "
      ]
     },
     "execution_count": 48,
     "metadata": {},
     "output_type": "execute_result"
    }
   ],
   "source": [
    "df_nona.drop(['Unnamed: 0','utcsid','utlcid','census_tract'],axis=1).describe()"
   ]
  },
  {
   "cell_type": "code",
   "execution_count": 54,
   "metadata": {},
   "outputs": [
    {
     "data": {
      "text/plain": [
       "12"
      ]
     },
     "execution_count": 54,
     "metadata": {},
     "output_type": "execute_result"
    }
   ],
   "source": [
    "df_nona['census_tract'].nunique()"
   ]
  },
  {
   "cell_type": "code",
   "execution_count": 42,
   "metadata": {},
   "outputs": [
    {
     "ename": "AttributeError",
     "evalue": "'Series' object has no attribute 'range'",
     "output_type": "error",
     "traceback": [
      "\u001b[0;31m---------------------------------------------------------------------------\u001b[0m",
      "\u001b[0;31mAttributeError\u001b[0m                            Traceback (most recent call last)",
      "\u001b[0;32m<ipython-input-42-b00e69817714>\u001b[0m in \u001b[0;36m<module>\u001b[0;34m\u001b[0m\n\u001b[0;32m----> 1\u001b[0;31m \u001b[0mdf_nona\u001b[0m\u001b[0;34m[\u001b[0m\u001b[0;34m'credit_offense_amount'\u001b[0m\u001b[0;34m]\u001b[0m\u001b[0;34m.\u001b[0m\u001b[0mrange\u001b[0m\u001b[0;34m(\u001b[0m\u001b[0;34m)\u001b[0m\u001b[0;34m\u001b[0m\u001b[0;34m\u001b[0m\u001b[0m\n\u001b[0m",
      "\u001b[0;32m/opt/anaconda3/lib/python3.8/site-packages/pandas/core/generic.py\u001b[0m in \u001b[0;36m__getattr__\u001b[0;34m(self, name)\u001b[0m\n\u001b[1;32m   5573\u001b[0m         ):\n\u001b[1;32m   5574\u001b[0m             \u001b[0;32mreturn\u001b[0m \u001b[0mself\u001b[0m\u001b[0;34m[\u001b[0m\u001b[0mname\u001b[0m\u001b[0;34m]\u001b[0m\u001b[0;34m\u001b[0m\u001b[0;34m\u001b[0m\u001b[0m\n\u001b[0;32m-> 5575\u001b[0;31m         \u001b[0;32mreturn\u001b[0m \u001b[0mobject\u001b[0m\u001b[0;34m.\u001b[0m\u001b[0m__getattribute__\u001b[0m\u001b[0;34m(\u001b[0m\u001b[0mself\u001b[0m\u001b[0;34m,\u001b[0m \u001b[0mname\u001b[0m\u001b[0;34m)\u001b[0m\u001b[0;34m\u001b[0m\u001b[0;34m\u001b[0m\u001b[0m\n\u001b[0m\u001b[1;32m   5576\u001b[0m \u001b[0;34m\u001b[0m\u001b[0m\n\u001b[1;32m   5577\u001b[0m     \u001b[0;32mdef\u001b[0m \u001b[0m__setattr__\u001b[0m\u001b[0;34m(\u001b[0m\u001b[0mself\u001b[0m\u001b[0;34m,\u001b[0m \u001b[0mname\u001b[0m\u001b[0;34m:\u001b[0m \u001b[0mstr\u001b[0m\u001b[0;34m,\u001b[0m \u001b[0mvalue\u001b[0m\u001b[0;34m)\u001b[0m \u001b[0;34m->\u001b[0m \u001b[0;32mNone\u001b[0m\u001b[0;34m:\u001b[0m\u001b[0;34m\u001b[0m\u001b[0;34m\u001b[0m\u001b[0m\n",
      "\u001b[0;31mAttributeError\u001b[0m: 'Series' object has no attribute 'range'"
     ]
    }
   ],
   "source": [
    "df_"
   ]
  },
  {
   "cell_type": "code",
   "execution_count": 23,
   "metadata": {},
   "outputs": [],
   "source": [
    "import seaborn as sns\n",
    "from matplotlib import pyplot as plt"
   ]
  },
  {
   "cell_type": "code",
   "execution_count": 32,
   "metadata": {},
   "outputs": [
    {
     "data": {
      "image/png": "[encoded data removed]",
      "text/plain": [
       "<Figure size 1511.25x360 with 4 Axes>"
      ]
     },
     "metadata": {
      "needs_background": "light"
     },
     "output_type": "display_data"
    }
   ],
   "source": [
    "\n",
    "sns.pairplot(x_vars =['avg_age','population','median_income','renters'],\n",
    "             hue='underserved',y_vars='credit_offense_amount',data=df_nona,diag_kind = None,height=5);"
   ]
  },
  {
   "cell_type": "code",
   "execution_count": 15,
   "metadata": {},
   "outputs": [
    {
     "data": {
      "text/plain": [
       "<AxesSubplot:xlabel='avg_age', ylabel='credit_offense_amount'>"
      ]
     },
     "execution_count": 15,
     "metadata": {},
     "output_type": "execute_result"
    },
    {
     "data": {
      "image/png": "[encoded data removed]",
      "text/plain": [
       "<Figure size 432x288 with 1 Axes>"
      ]
     },
     "metadata": {
      "needs_background": "light"
     },
     "output_type": "display_data"
    }
   ],
   "source": [
    "sns.scatterplot(x='avg_age',y='credit_offense_amount',data=df_nona)"
   ]
  },
  {
   "cell_type": "code",
   "execution_count": null,
   "metadata": {},
   "outputs": [],
   "source": []
  }
 ],
 "metadata": {
  "kernelspec": {
   "display_name": "Python 3",
   "language": "python",
   "name": "python3"
  },
  "language_info": {
   "codemirror_mode": {
    "name": "ipython",
    "version": 3
   },
   "file_extension": ".py",
   "mimetype": "text/x-python",
   "name": "python",
   "nbconvert_exporter": "python",
   "pygments_lexer": "ipython3",
   "version": "3.8.5"
  }
 },
 "nbformat": 4,
 "nbformat_minor": 4
}
